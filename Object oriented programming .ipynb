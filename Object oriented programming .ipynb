{
 "cells": [
  {
   "cell_type": "markdown",
   "id": "4d11cdf0",
   "metadata": {},
   "source": [
    "# Object oriented Programming P.1\n"
   ]
  },
  {
   "cell_type": "markdown",
   "id": "1ba1519d",
   "metadata": {},
   "source": [
    "## Class keywords and attributes"
   ]
  },
  {
   "cell_type": "markdown",
   "id": "b34e5e98",
   "metadata": {},
   "source": [
    "##### all of the below are predefined build-in object"
   ]
  },
  {
   "cell_type": "code",
   "execution_count": 1,
   "id": "fc4ef2b9",
   "metadata": {},
   "outputs": [],
   "source": [
    "mylist = [1,2,3]"
   ]
  },
  {
   "cell_type": "code",
   "execution_count": 4,
   "id": "56c53b07",
   "metadata": {},
   "outputs": [],
   "source": [
    "myset = set()"
   ]
  },
  {
   "cell_type": "code",
   "execution_count": 3,
   "id": "e5bf3abd",
   "metadata": {},
   "outputs": [],
   "source": [
    "# mylist.#press shift tab to view all atributes and methods available "
   ]
  },
  {
   "cell_type": "code",
   "execution_count": 6,
   "id": "8ab01255",
   "metadata": {},
   "outputs": [
    {
     "data": {
      "text/plain": [
       "list"
      ]
     },
     "execution_count": 6,
     "metadata": {},
     "output_type": "execute_result"
    }
   ],
   "source": [
    "type(mylist)\n",
    "\n",
    "# the defined obejct for my list is class"
   ]
  },
  {
   "cell_type": "code",
   "execution_count": 28,
   "id": "3ccc7941",
   "metadata": {},
   "outputs": [
    {
     "data": {
      "text/plain": [
       "set"
      ]
     },
     "execution_count": 28,
     "metadata": {},
     "output_type": "execute_result"
    }
   ],
   "source": [
    "type(myset)\n",
    "\n",
    "# the defined object for myset is string \n"
   ]
  },
  {
   "cell_type": "markdown",
   "id": "e8d6f581",
   "metadata": {},
   "source": [
    "## Class"
   ]
  },
  {
   "cell_type": "code",
   "execution_count": 58,
   "id": "304715c9",
   "metadata": {},
   "outputs": [],
   "source": [
    "# blueprint of a future defines a neture of future obejct\n",
    "# is a keyword for user defined object\n",
    "\n",
    "# from classes we may create an instance of an object\n",
    "# istance is a specific object created from a particular class\n",
    "\n",
    "# for classes we use camel casing - every word starts with a capital letter\n",
    "\n",
    "\n",
    "class Sample():\n",
    "    #inside a class we have atributes\n",
    "    pass\n"
   ]
  },
  {
   "cell_type": "code",
   "execution_count": 57,
   "id": "a6899053",
   "metadata": {},
   "outputs": [],
   "source": [
    "# instance of a class\n",
    "\n",
    "my_sample = Sample()"
   ]
  },
  {
   "cell_type": "code",
   "execution_count": 56,
   "id": "40e3e2ac",
   "metadata": {},
   "outputs": [
    {
     "data": {
      "text/plain": [
       "__main__.Sample"
      ]
     },
     "execution_count": 56,
     "metadata": {},
     "output_type": "execute_result"
    }
   ],
   "source": [
    "# the type of that instance is now user defined object  \n",
    "# in \"samle\" class\n",
    "\n",
    "type(my_sample)"
   ]
  },
  {
   "cell_type": "markdown",
   "id": "17229abe",
   "metadata": {},
   "source": [
    "## Attributes"
   ]
  },
  {
   "cell_type": "code",
   "execution_count": 62,
   "id": "a4801948",
   "metadata": {},
   "outputs": [],
   "source": [
    "class Dog():\n",
    "    \n",
    "    # refer below to as method \n",
    "    # always start method as a function and __init__\n",
    "    # this method will be called upon as we create an instance of a class\n",
    "    \n",
    "    \n",
    "    # start with \"self\" which connects the method to the instance  \n",
    "    # self is a reference to a class\n",
    "    # next we pass any atributes we wont to define (ex:breed\")\n",
    "    \n",
    "    def __init__(self, breed): #breed is the paramenter name for the argument \n",
    "        \n",
    "        # attributes\n",
    "        # self - represent the instance of a class (may be any name)\n",
    "        # take the argument \n",
    "        # assign it using self.attribute_name\n",
    "        \n",
    "        self.breed = breed\n",
    "        \n",
    "        \n",
    "        "
   ]
  },
  {
   "cell_type": "code",
   "execution_count": 63,
   "id": "a12d152f",
   "metadata": {},
   "outputs": [],
   "source": [
    "# create a varibale my_dog\n",
    "# my_dog is an instance of a class - Dog\n",
    "\n",
    "# pass in a parameter \"breed\" for the instance\n",
    "# breed is the attribute\n",
    "\n",
    "my_dog = Dog(breed=\"Huskie\")"
   ]
  },
  {
   "cell_type": "code",
   "execution_count": 26,
   "id": "c1af5f89",
   "metadata": {},
   "outputs": [
    {
     "data": {
      "text/plain": [
       "__main__.Dog"
      ]
     },
     "execution_count": 26,
     "metadata": {},
     "output_type": "execute_result"
    }
   ],
   "source": [
    "type(my_dog)"
   ]
  },
  {
   "cell_type": "code",
   "execution_count": 34,
   "id": "fdd7aec1",
   "metadata": {},
   "outputs": [
    {
     "data": {
      "text/plain": [
       "'Huskie'"
      ]
     },
     "execution_count": 34,
     "metadata": {},
     "output_type": "execute_result"
    }
   ],
   "source": [
    "my_dog.breed"
   ]
  },
  {
   "cell_type": "markdown",
   "id": "4ccb9cf3",
   "metadata": {},
   "source": [
    "#### rename the attributes to make it clear (use the same names)"
   ]
  },
  {
   "cell_type": "code",
   "execution_count": 47,
   "id": "e6b829f9",
   "metadata": {},
   "outputs": [],
   "source": [
    "class Dog():\n",
    "    \n",
    "    def __init__(self, breed): \n",
    "        \n",
    "        self.my_attribute = breed"
   ]
  },
  {
   "cell_type": "code",
   "execution_count": 46,
   "id": "fe92324c",
   "metadata": {},
   "outputs": [],
   "source": [
    "#insatnce of the class \n",
    "\n",
    "my_dog = Dog(breed=\"Lab\")"
   ]
  },
  {
   "cell_type": "code",
   "execution_count": 41,
   "id": "48592b44",
   "metadata": {},
   "outputs": [
    {
     "data": {
      "text/plain": [
       "__main__.Dog"
      ]
     },
     "execution_count": 41,
     "metadata": {},
     "output_type": "execute_result"
    }
   ],
   "source": [
    "type(my_dog)"
   ]
  },
  {
   "cell_type": "code",
   "execution_count": 44,
   "id": "46cde4ba",
   "metadata": {},
   "outputs": [
    {
     "data": {
      "text/plain": [
       "'Lab'"
      ]
     },
     "execution_count": 44,
     "metadata": {},
     "output_type": "execute_result"
    }
   ],
   "source": [
    "my_dog.my_attribute"
   ]
  },
  {
   "cell_type": "markdown",
   "id": "2a6d5029",
   "metadata": {},
   "source": [
    "#### More attributes in above axample "
   ]
  },
  {
   "cell_type": "code",
   "execution_count": 65,
   "id": "533c0f39",
   "metadata": {},
   "outputs": [],
   "source": [
    "class Dog():\n",
    "    \n",
    "    def __init__(self, breed, name, spots): #parameters: breed, name, spots\n",
    "        \n",
    "        # below are atributes\n",
    "        # expect strings\n",
    "        self.breed = breed \n",
    "        self.name = name\n",
    "        \n",
    "        # expect boolean\n",
    "        self.spots = spots\n",
    "        "
   ]
  },
  {
   "cell_type": "code",
   "execution_count": 66,
   "id": "abac3186",
   "metadata": {},
   "outputs": [],
   "source": [
    "my_dog = Dog(breed = \"lab\", name = \"Sam\", spots = False)"
   ]
  },
  {
   "cell_type": "code",
   "execution_count": 96,
   "id": "2c1aa630",
   "metadata": {},
   "outputs": [
    {
     "data": {
      "text/plain": [
       "'Lab'"
      ]
     },
     "execution_count": 96,
     "metadata": {},
     "output_type": "execute_result"
    }
   ],
   "source": [
    "my_dog.breed"
   ]
  },
  {
   "cell_type": "code",
   "execution_count": 51,
   "id": "89c8bbca",
   "metadata": {},
   "outputs": [
    {
     "data": {
      "text/plain": [
       "'Sam'"
      ]
     },
     "execution_count": 51,
     "metadata": {},
     "output_type": "execute_result"
    }
   ],
   "source": [
    "my_dog.name"
   ]
  },
  {
   "cell_type": "code",
   "execution_count": 52,
   "id": "6ee3b81f",
   "metadata": {},
   "outputs": [
    {
     "data": {
      "text/plain": [
       "False"
      ]
     },
     "execution_count": 52,
     "metadata": {},
     "output_type": "execute_result"
    }
   ],
   "source": [
    "my_dog.spots"
   ]
  },
  {
   "cell_type": "markdown",
   "id": "111a5ae7",
   "metadata": {},
   "source": [
    "# Obejct oriented programming P.2"
   ]
  },
  {
   "cell_type": "markdown",
   "id": "7dfc4829",
   "metadata": {},
   "source": [
    "###  class obejct attributes that are the same  for any instance of that class"
   ]
  },
  {
   "cell_type": "code",
   "execution_count": 69,
   "id": "5196667a",
   "metadata": {},
   "outputs": [],
   "source": [
    "class Dog():\n",
    "    \n",
    "    # class object attribute\n",
    "    # the same for  any instance of a class\n",
    "    \n",
    "    species = \"mammal\"\n",
    "    \n",
    "    def __init__(self, breed, name, spots): #parameters: breed, name, spots\n",
    "        \n",
    "        # below are atributes\n",
    "        self.breed = breed \n",
    "        self.name = name\n",
    "        self.spots = spots\n",
    "        "
   ]
  },
  {
   "cell_type": "code",
   "execution_count": 73,
   "id": "23ba41b1",
   "metadata": {},
   "outputs": [],
   "source": [
    "# no need to define the class object attributes in instance\n",
    "# will be the same no matter the instance since not conected to \"self\"\n",
    "\n",
    "my_dog = Dog(breed = \"lab\", name = \"Sam\", spots = False)"
   ]
  },
  {
   "cell_type": "code",
   "execution_count": 72,
   "id": "549208a8",
   "metadata": {},
   "outputs": [
    {
     "data": {
      "text/plain": [
       "'mammal'"
      ]
     },
     "execution_count": 72,
     "metadata": {},
     "output_type": "execute_result"
    }
   ],
   "source": [
    "my_dog.species"
   ]
  },
  {
   "cell_type": "markdown",
   "id": "6437db0b",
   "metadata": {},
   "source": [
    "## Methods"
   ]
  },
  {
   "cell_type": "markdown",
   "id": "1c92ddc6",
   "metadata": {},
   "source": [
    "are function defined in the body of the class\n",
    "\n",
    "are used to preform oberations\n",
    "\n",
    "think of methods as function acting on an object that \n",
    "take the object itself into account through the use \n",
    "of the self argument or self keyword"
   ]
  },
  {
   "cell_type": "code",
   "execution_count": 89,
   "id": "74631981",
   "metadata": {},
   "outputs": [],
   "source": [
    "class Dog():\n",
    "    \n",
    "    # class object attribute\n",
    "    # the same for  any instance of a class\n",
    "    species = \"mammal\"\n",
    "    \n",
    "    def __init__(self, breed, name): #parameters: breed, name, spots\n",
    "        \n",
    "        # below are atributes\n",
    "        self.breed = breed \n",
    "        self.name = name\n",
    "        \n",
    "        \n",
    "        \n",
    "    # Operations / Acrion ---> Methods\n",
    "    # function inside of a class\n",
    "    \n",
    "    def bark(self):\n",
    "        print (f\"WOOF! My name is {self.name} WOOF! WOOF!\")\n",
    "                                #use self. to mention variables from the function\n",
    "          "
   ]
  },
  {
   "cell_type": "code",
   "execution_count": 90,
   "id": "8200b06f",
   "metadata": {},
   "outputs": [],
   "source": [
    "my_dog = Dog(\"Lab\", \"Bobby\")"
   ]
  },
  {
   "cell_type": "code",
   "execution_count": 78,
   "id": "dc9f59bd",
   "metadata": {},
   "outputs": [
    {
     "data": {
      "text/plain": [
       "__main__.Dog"
      ]
     },
     "execution_count": 78,
     "metadata": {},
     "output_type": "execute_result"
    }
   ],
   "source": [
    "type(my_dog)"
   ]
  },
  {
   "cell_type": "code",
   "execution_count": 79,
   "id": "495f7a7c",
   "metadata": {},
   "outputs": [
    {
     "data": {
      "text/plain": [
       "'mammal'"
      ]
     },
     "execution_count": 79,
     "metadata": {},
     "output_type": "execute_result"
    }
   ],
   "source": [
    "my_dog.species"
   ]
  },
  {
   "cell_type": "code",
   "execution_count": 81,
   "id": "f1b0ca53",
   "metadata": {},
   "outputs": [
    {
     "data": {
      "text/plain": [
       "'Bobby'"
      ]
     },
     "execution_count": 81,
     "metadata": {},
     "output_type": "execute_result"
    }
   ],
   "source": [
    "my_dog.name"
   ]
  },
  {
   "cell_type": "code",
   "execution_count": 82,
   "id": "0fe7a63c",
   "metadata": {},
   "outputs": [
    {
     "data": {
      "text/plain": [
       "'Lab'"
      ]
     },
     "execution_count": 82,
     "metadata": {},
     "output_type": "execute_result"
    }
   ],
   "source": [
    "my_dog.breed"
   ]
  },
  {
   "cell_type": "code",
   "execution_count": 91,
   "id": "516bbbc8",
   "metadata": {},
   "outputs": [
    {
     "name": "stdout",
     "output_type": "stream",
     "text": [
      "WOOF! My name is Bobby WOOF! WOOF!\n"
     ]
    }
   ],
   "source": [
    "my_dog.bark()"
   ]
  },
  {
   "cell_type": "code",
   "execution_count": 95,
   "id": "d8df336a",
   "metadata": {},
   "outputs": [],
   "source": [
    "class Dog():\n",
    "    \n",
    "    # class object attribute\n",
    "    species = \"mammal\"\n",
    "    \n",
    "    def __init__(self, breed, name): #parameters: breed, name, spots\n",
    "        \n",
    "        # below are atributes\n",
    "        self.breed = breed \n",
    "        self.name = name\n",
    "\n",
    "    # Operations / Acrion ---> Methods\n",
    "    \n",
    "# may take the outside argumens\n",
    "    def bark(self, number):\n",
    "        print (f\"WOOF! My name is {self.name} and my number is {number} WOOF! WOOF!\")\n",
    "        \n",
    "        # if variable is from outside the function leave it be \n",
    "        # no need to reference self since it is not connected to function \n",
    "        # attributes, but the user will provide the information \n",
    "        # see below \n",
    "            "
   ]
  },
  {
   "cell_type": "code",
   "execution_count": 93,
   "id": "d6b6a3e4",
   "metadata": {},
   "outputs": [],
   "source": [
    "my_dog = Dog(\"Lab\", \"Bobby\")"
   ]
  },
  {
   "cell_type": "code",
   "execution_count": 98,
   "id": "2f822223",
   "metadata": {},
   "outputs": [
    {
     "name": "stdout",
     "output_type": "stream",
     "text": [
      "WOOF! My name is Bobby and my number is 50 WOOF! WOOF!\n"
     ]
    }
   ],
   "source": [
    "my_dog.bark(50)\n",
    "\n",
    "#specify the outside varibale \"number\" in the brakets of the function"
   ]
  },
  {
   "cell_type": "markdown",
   "id": "ea4552aa",
   "metadata": {},
   "source": [
    "#### new example"
   ]
  },
  {
   "cell_type": "code",
   "execution_count": 99,
   "id": "753423c8",
   "metadata": {},
   "outputs": [],
   "source": [
    "class Circle():\n",
    "    \n",
    "    # class obejct attribute \n",
    "    pi = 3.14\n",
    "            \n",
    "    # below is the defoult value for a radius if we miss anything \n",
    "    # this means that we wont have to define the radius in instance\n",
    "    \n",
    "    def __init__(self, radius=1):\n",
    "        \n",
    "        self.radius = radius\n",
    "        \n",
    "    # method\n",
    "    \n",
    "    def get_circumference(self):\n",
    "        # use self to connect even to class object attributes \n",
    "        # since it is in the class attributes\n",
    "        \n",
    "        return self.radius * 2 * self.pi"
   ]
  },
  {
   "cell_type": "code",
   "execution_count": 100,
   "id": "9f02a15d",
   "metadata": {},
   "outputs": [],
   "source": [
    "my_circle = Circle()"
   ]
  },
  {
   "cell_type": "code",
   "execution_count": 102,
   "id": "859add47",
   "metadata": {},
   "outputs": [
    {
     "data": {
      "text/plain": [
       "6.28"
      ]
     },
     "execution_count": 102,
     "metadata": {},
     "output_type": "execute_result"
    }
   ],
   "source": [
    "my_circle.get_circumference()"
   ]
  },
  {
   "cell_type": "code",
   "execution_count": 103,
   "id": "09cda218",
   "metadata": {},
   "outputs": [
    {
     "data": {
      "text/plain": [
       "3.14"
      ]
     },
     "execution_count": 103,
     "metadata": {},
     "output_type": "execute_result"
    }
   ],
   "source": [
    "my_circle.pi"
   ]
  },
  {
   "cell_type": "code",
   "execution_count": 105,
   "id": "c138d011",
   "metadata": {},
   "outputs": [
    {
     "data": {
      "text/plain": [
       "1"
      ]
     },
     "execution_count": 105,
     "metadata": {},
     "output_type": "execute_result"
    }
   ],
   "source": [
    "my_circle.radius\n",
    "\n",
    "# as you see no mention of pi in instance of the class "
   ]
  },
  {
   "cell_type": "code",
   "execution_count": 106,
   "id": "53225cc2",
   "metadata": {},
   "outputs": [],
   "source": [
    "# now i will specify the instance of radius\n",
    "# instead of my_circle = Circle(radius = 30)\n",
    "\n",
    "my_circle = Circle(30)"
   ]
  },
  {
   "cell_type": "code",
   "execution_count": 107,
   "id": "d78ffaf6",
   "metadata": {},
   "outputs": [
    {
     "data": {
      "text/plain": [
       "30"
      ]
     },
     "execution_count": 107,
     "metadata": {},
     "output_type": "execute_result"
    }
   ],
   "source": [
    "my_circle.radius"
   ]
  },
  {
   "cell_type": "code",
   "execution_count": 108,
   "id": "d51a5356",
   "metadata": {},
   "outputs": [
    {
     "data": {
      "text/plain": [
       "188.4"
      ]
     },
     "execution_count": 108,
     "metadata": {},
     "output_type": "execute_result"
    }
   ],
   "source": [
    "my_circle.get_circumference()"
   ]
  },
  {
   "cell_type": "code",
   "execution_count": 109,
   "id": "775f96e2",
   "metadata": {},
   "outputs": [],
   "source": [
    "class Circle():\n",
    "    \n",
    "    # class obejct attribute \n",
    "    pi = 3.14\n",
    "   \n",
    "    def __init__(self, radius=1):\n",
    "        \n",
    "        self.radius = radius\n",
    "        # it is possiblt to create the attribute without parameters\n",
    "        # we have to define radius in instance \n",
    "        # we dont have to define area in instance \n",
    "        \n",
    "        self.area = radius**2*Circle.pi\n",
    "        \n",
    "        # may also reference class obejct attributes as Name of class +.object\n",
    "        # same can be done with self. \n",
    "        \n",
    "        \n",
    "    # methods\n",
    "    \n",
    "    def get_circumference(self):\n",
    "        return self.radius * 2 * self.pi"
   ]
  },
  {
   "cell_type": "code",
   "execution_count": 112,
   "id": "ef9f0b0c",
   "metadata": {},
   "outputs": [],
   "source": [
    "my_circle = Circle(20)"
   ]
  },
  {
   "cell_type": "code",
   "execution_count": 114,
   "id": "53a1024a",
   "metadata": {},
   "outputs": [
    {
     "data": {
      "text/plain": [
       "1256.0"
      ]
     },
     "execution_count": 114,
     "metadata": {},
     "output_type": "execute_result"
    }
   ],
   "source": [
    "my_circle.area\n",
    "\n",
    "# it will calculate the circle area in attributes without \n",
    "# having to incirt anythin in parameters "
   ]
  },
  {
   "cell_type": "markdown",
   "id": "9cf6d550",
   "metadata": {},
   "source": [
    "# Obejct oriented programming P.3"
   ]
  },
  {
   "cell_type": "markdown",
   "id": "2ff8de90",
   "metadata": {},
   "source": [
    "## Inheritance"
   ]
  },
  {
   "cell_type": "markdown",
   "id": "c4f668f2",
   "metadata": {},
   "source": [
    "Ingeritance \n",
    "\n",
    "Is a way of corming new classes using classes that already be defined "
   ]
  },
  {
   "cell_type": "code",
   "execution_count": 127,
   "id": "24480b8c",
   "metadata": {},
   "outputs": [],
   "source": [
    "\n",
    "####  BASE CLASS\n",
    "\n",
    "class Animal():\n",
    "    \n",
    "    # attribute\n",
    "    def __init__(self):\n",
    "        print (\"animal created\")\n",
    "        \n",
    "    # method_1    \n",
    "    def who_am_i(self):\n",
    "        print (\"I am an animal\")\n",
    "        \n",
    "    # method_2\n",
    "    def eat(self):\n",
    "        print(\"I'am eating\")"
   ]
  },
  {
   "cell_type": "code",
   "execution_count": 128,
   "id": "9a34eda7",
   "metadata": {},
   "outputs": [
    {
     "name": "stdout",
     "output_type": "stream",
     "text": [
      "animal created\n"
     ]
    }
   ],
   "source": [
    "myanimal = Animal()"
   ]
  },
  {
   "cell_type": "code",
   "execution_count": 129,
   "id": "afcbfe0c",
   "metadata": {},
   "outputs": [
    {
     "name": "stdout",
     "output_type": "stream",
     "text": [
      "I am an animal\n"
     ]
    }
   ],
   "source": [
    "myanimal.who_am_i()"
   ]
  },
  {
   "cell_type": "code",
   "execution_count": 130,
   "id": "5790fc6a",
   "metadata": {},
   "outputs": [
    {
     "name": "stdout",
     "output_type": "stream",
     "text": [
      "I'am eating\n"
     ]
    }
   ],
   "source": [
    "myanimal.eat()"
   ]
  },
  {
   "cell_type": "markdown",
   "id": "f664adb3",
   "metadata": {},
   "source": [
    "newly form clases may use some methods defined in a base class (inherit)"
   ]
  },
  {
   "cell_type": "code",
   "execution_count": 139,
   "id": "1b52a7db",
   "metadata": {},
   "outputs": [],
   "source": [
    "####   NEW CLASS\n",
    "\n",
    "# mention a base class in the in brackets\n",
    "# note that before we didn't do it\n",
    "\n",
    "# now i will inherit from the base class or derive \n",
    "# some of the feature from Animal\n",
    "\n",
    "class Cat(Animal):\n",
    "    \n",
    "    \n",
    "    #create an instance of an Animal class in new Cat class\n",
    "    def __init__(self):\n",
    "        Animal.__init__(self)\n",
    "        print (\"Cat created\")\n",
    "    \n",
    "    "
   ]
  },
  {
   "cell_type": "code",
   "execution_count": 140,
   "id": "2e3e9024",
   "metadata": {},
   "outputs": [
    {
     "name": "stdout",
     "output_type": "stream",
     "text": [
      "animal created\n",
      "Cat created\n"
     ]
    }
   ],
   "source": [
    "mycat = Cat()\n",
    "\n",
    "# the result: \n",
    "# we run __init__ in cat that runs the __init__ attribute of Animal\n",
    "# reffering to attributes in Animal\n",
    "\n",
    "# we print attribute from animal first \n",
    "# we print attribute from cat"
   ]
  },
  {
   "cell_type": "code",
   "execution_count": 145,
   "id": "6a03be7c",
   "metadata": {},
   "outputs": [
    {
     "name": "stdout",
     "output_type": "stream",
     "text": [
      "I'am eating\n"
     ]
    }
   ],
   "source": [
    "mycat.eat()\n",
    "# now i am able to use methods from base class\n",
    "# in my new class\n",
    "# since I have mentioned them in the beggining of class Name(base_class)"
   ]
  },
  {
   "cell_type": "code",
   "execution_count": 143,
   "id": "e955b97c",
   "metadata": {},
   "outputs": [
    {
     "name": "stdout",
     "output_type": "stream",
     "text": [
      "I am an animal\n"
     ]
    }
   ],
   "source": [
    "mycat.who_am_i()"
   ]
  },
  {
   "cell_type": "code",
   "execution_count": 146,
   "id": "40d3b7f2",
   "metadata": {},
   "outputs": [],
   "source": [
    "### To overwrite a method mention a base methods name ###\n",
    "\n",
    "class Cat(Animal):\n",
    "    \n",
    "    def __init__(self):\n",
    "        Animal.__init__(self)\n",
    "        print (\"Cat created\")\n",
    "    \n",
    "    #simlpy mention a base method name and make changes\n",
    "    def who_am_i(self):\n",
    "        print(\"I am a cat\")\n",
    "    \n",
    "    \n"
   ]
  },
  {
   "cell_type": "code",
   "execution_count": 147,
   "id": "017ed9de",
   "metadata": {},
   "outputs": [
    {
     "name": "stdout",
     "output_type": "stream",
     "text": [
      "animal created\n",
      "Cat created\n"
     ]
    }
   ],
   "source": [
    "mycat = Cat()"
   ]
  },
  {
   "cell_type": "code",
   "execution_count": 149,
   "id": "41097368",
   "metadata": {},
   "outputs": [
    {
     "name": "stdout",
     "output_type": "stream",
     "text": [
      "I am a cat\n"
     ]
    }
   ],
   "source": [
    "mycat.who_am_i()"
   ]
  },
  {
   "cell_type": "code",
   "execution_count": 150,
   "id": "6f5797c9",
   "metadata": {},
   "outputs": [],
   "source": [
    "### Add on methods\n",
    "\n",
    "class Cat(Animal):\n",
    "    \n",
    "    def __init__(self):\n",
    "        Animal.__init__(self)\n",
    "        print (\"Cat created\")\n",
    "        \n",
    "    def who_am_i(self):\n",
    "        print(\"I am a cat\")\n",
    "        \n",
    "    # simply add new method \n",
    "    \n",
    "    def eat(self):\n",
    "        print(\"I'am a cat and I am eating\")\n",
    "        \n",
    "    def mew(self):\n",
    "        print (\"MEW !\")"
   ]
  },
  {
   "cell_type": "code",
   "execution_count": 151,
   "id": "ffca81f0",
   "metadata": {},
   "outputs": [
    {
     "name": "stdout",
     "output_type": "stream",
     "text": [
      "animal created\n",
      "Cat created\n"
     ]
    }
   ],
   "source": [
    "mycat = Cat()"
   ]
  },
  {
   "cell_type": "code",
   "execution_count": 153,
   "id": "1f991225",
   "metadata": {},
   "outputs": [
    {
     "name": "stdout",
     "output_type": "stream",
     "text": [
      "I'am a cat and I am eating\n"
     ]
    }
   ],
   "source": [
    "mycat.eat()"
   ]
  },
  {
   "cell_type": "code",
   "execution_count": 154,
   "id": "89ac89f5",
   "metadata": {},
   "outputs": [
    {
     "name": "stdout",
     "output_type": "stream",
     "text": [
      "MEW !\n"
     ]
    }
   ],
   "source": [
    "mycat.mew()"
   ]
  },
  {
   "cell_type": "code",
   "execution_count": 155,
   "id": "ebf9e8e5",
   "metadata": {},
   "outputs": [
    {
     "name": "stdout",
     "output_type": "stream",
     "text": [
      "I am a cat\n"
     ]
    }
   ],
   "source": [
    "mycat.who_am_i()"
   ]
  },
  {
   "cell_type": "markdown",
   "id": "3e005cf6",
   "metadata": {},
   "source": [
    "main idea is to mention the base class (inherite) to gain access to all previous commands with the ability to ovwerwrite them"
   ]
  },
  {
   "cell_type": "markdown",
   "id": "b639a815",
   "metadata": {},
   "source": [
    "## Polymorphism"
   ]
  },
  {
   "cell_type": "markdown",
   "id": "bcff9a7f",
   "metadata": {},
   "source": [
    "different object classes can share the same method name, those methods can be called from the same place, even though a variaty of different object might be past in\n",
    "\n",
    "\n"
   ]
  },
  {
   "cell_type": "code",
   "execution_count": 8,
   "id": "70388c6c",
   "metadata": {},
   "outputs": [],
   "source": [
    "class Dog():\n",
    "    \n",
    "    def __init__(self, name):\n",
    "        \n",
    "        self.name = name\n",
    "    \n",
    "    def speak(self):\n",
    "        return self.name + \" WOOF!\""
   ]
  },
  {
   "cell_type": "code",
   "execution_count": 11,
   "id": "4781f292",
   "metadata": {},
   "outputs": [],
   "source": [
    "class Cat():\n",
    "    \n",
    "    def __init__(self, name):\n",
    "        \n",
    "        self.name = name\n",
    "    \n",
    "    def speak(self):\n",
    "        return self.name + \" MEOW!\""
   ]
  },
  {
   "cell_type": "code",
   "execution_count": 9,
   "id": "17b98a74",
   "metadata": {},
   "outputs": [],
   "source": [
    "niko = Dog (\"Niko\")"
   ]
  },
  {
   "cell_type": "code",
   "execution_count": 12,
   "id": "9ce45f32",
   "metadata": {},
   "outputs": [],
   "source": [
    "rigic = Cat (\"Rigic\")"
   ]
  },
  {
   "cell_type": "code",
   "execution_count": 10,
   "id": "b5242533",
   "metadata": {},
   "outputs": [
    {
     "name": "stdout",
     "output_type": "stream",
     "text": [
      "Niko WOOF!\n"
     ]
    }
   ],
   "source": [
    "print (niko.speak())"
   ]
  },
  {
   "cell_type": "code",
   "execution_count": 14,
   "id": "c7dc67e2",
   "metadata": {},
   "outputs": [
    {
     "name": "stdout",
     "output_type": "stream",
     "text": [
      "Rigic MEOW!\n"
     ]
    }
   ],
   "source": [
    "print (rigic.speak())\n",
    "\n",
    "# both speak methods are unique for cat and god classes"
   ]
  },
  {
   "cell_type": "code",
   "execution_count": 29,
   "id": "0df60c5b",
   "metadata": {},
   "outputs": [
    {
     "name": "stdout",
     "output_type": "stream",
     "text": [
      "<class '__main__.Dog'>\n",
      "Niko WOOF!\n",
      "<class '__main__.Cat'>\n",
      "Rigic MEOW!\n"
     ]
    }
   ],
   "source": [
    "### Polymorphism example:\n",
    "# through a iteration\n",
    "\n",
    "for pet in [niko, rigic]:\n",
    "# the command will iterate \"pet\" through the list of niko and felix\n",
    "    \n",
    "    print (type(pet))\n",
    "    print (pet.speak())\n",
    "    \n",
    "# they both share the same methods name but\n",
    "# they are located in a different classes\n",
    "\n",
    "\n"
   ]
  },
  {
   "cell_type": "code",
   "execution_count": 34,
   "id": "201120a0",
   "metadata": {},
   "outputs": [],
   "source": [
    "### Polymorphism example:\n",
    "# through a finction \n",
    "\n",
    "def pet_speak(pet):\n",
    "    print(pet.speak())"
   ]
  },
  {
   "cell_type": "code",
   "execution_count": 35,
   "id": "7b43a450",
   "metadata": {},
   "outputs": [
    {
     "name": "stdout",
     "output_type": "stream",
     "text": [
      "Niko WOOF!\n"
     ]
    }
   ],
   "source": [
    "pet_speak(niko)"
   ]
  },
  {
   "cell_type": "code",
   "execution_count": 36,
   "id": "8916f06d",
   "metadata": {},
   "outputs": [],
   "source": [
    "# use abstract clases with NO instances to\n",
    "# serve as a base class\n",
    "\n",
    "class Animal ():\n",
    "    \n",
    "    def __init__ (self, name):\n",
    "        self.name = name\n",
    "    \n",
    "    # we define this function in case we make a instance \n",
    "    # to note that it was a mistake \n",
    "    def speak(self):\n",
    "        raise NotImplementedError(\"subclass must implemet this abstract method\")"
   ]
  },
  {
   "cell_type": "code",
   "execution_count": 37,
   "id": "7bf7489f",
   "metadata": {},
   "outputs": [],
   "source": [
    "# now if we make a class \n",
    "# a mistake will pop-up\n",
    "\n",
    "myanimal = Animal(\"Fred\")"
   ]
  },
  {
   "cell_type": "code",
   "execution_count": 40,
   "id": "c8b92caf",
   "metadata": {},
   "outputs": [
    {
     "data": {
      "text/plain": [
       "'Fred'"
      ]
     },
     "execution_count": 40,
     "metadata": {},
     "output_type": "execute_result"
    }
   ],
   "source": [
    "myanimal.name"
   ]
  },
  {
   "cell_type": "code",
   "execution_count": 43,
   "id": "f59daf05",
   "metadata": {},
   "outputs": [
    {
     "ename": "NotImplementedError",
     "evalue": "subclass must implemet this abstract method",
     "output_type": "error",
     "traceback": [
      "\u001b[0;31m---------------------------------------------------------------------------\u001b[0m",
      "\u001b[0;31mNotImplementedError\u001b[0m                       Traceback (most recent call last)",
      "Input \u001b[0;32mIn [43]\u001b[0m, in \u001b[0;36m<cell line: 1>\u001b[0;34m()\u001b[0m\n\u001b[0;32m----> 1\u001b[0m \u001b[43mmyanimal\u001b[49m\u001b[38;5;241;43m.\u001b[39;49m\u001b[43mspeak\u001b[49m\u001b[43m(\u001b[49m\u001b[43m)\u001b[49m\n",
      "Input \u001b[0;32mIn [36]\u001b[0m, in \u001b[0;36mAnimal.speak\u001b[0;34m(self)\u001b[0m\n\u001b[1;32m      9\u001b[0m \u001b[38;5;28;01mdef\u001b[39;00m \u001b[38;5;21mspeak\u001b[39m(\u001b[38;5;28mself\u001b[39m):\n\u001b[0;32m---> 10\u001b[0m     \u001b[38;5;28;01mraise\u001b[39;00m \u001b[38;5;167;01mNotImplementedError\u001b[39;00m(\u001b[38;5;124m\"\u001b[39m\u001b[38;5;124msubclass must implemet this abstract method\u001b[39m\u001b[38;5;124m\"\u001b[39m)\n",
      "\u001b[0;31mNotImplementedError\u001b[0m: subclass must implemet this abstract method"
     ]
    }
   ],
   "source": [
    "myanimal.speak()\n",
    "\n",
    "# it expect to take the Animal class and inherite it\n",
    "# then overwrite the speak method"
   ]
  },
  {
   "cell_type": "code",
   "execution_count": 48,
   "id": "0a770c8e",
   "metadata": {},
   "outputs": [],
   "source": [
    "class Dog (Animal):\n",
    "    \n",
    "    # as you see you don't define self.name \n",
    "    # since you inherite it from Animal class\n",
    "    \n",
    "    def speak(self):\n",
    "        return self.name + \" says WOW!\""
   ]
  },
  {
   "cell_type": "code",
   "execution_count": 49,
   "id": "d4bee947",
   "metadata": {},
   "outputs": [],
   "source": [
    "fido = Dog(\"Fido\")"
   ]
  },
  {
   "cell_type": "code",
   "execution_count": 50,
   "id": "c012797a",
   "metadata": {},
   "outputs": [
    {
     "data": {
      "text/plain": [
       "'Fido says WOW!'"
      ]
     },
     "execution_count": 50,
     "metadata": {},
     "output_type": "execute_result"
    }
   ],
   "source": [
    "fido.speak()"
   ]
  },
  {
   "cell_type": "markdown",
   "id": "40de00c5",
   "metadata": {},
   "source": [
    "# Obejct oriented programming P.4"
   ]
  },
  {
   "cell_type": "markdown",
   "id": "8e00d7a1",
   "metadata": {},
   "source": [
    "## Special methods"
   ]
  },
  {
   "cell_type": "code",
   "execution_count": 51,
   "id": "c128c84b",
   "metadata": {},
   "outputs": [],
   "source": [
    "mylist = [1,2,3]"
   ]
  },
  {
   "cell_type": "code",
   "execution_count": 52,
   "id": "81830bce",
   "metadata": {},
   "outputs": [
    {
     "data": {
      "text/plain": [
       "3"
      ]
     },
     "execution_count": 52,
     "metadata": {},
     "output_type": "execute_result"
    }
   ],
   "source": [
    "len(mylist)"
   ]
  },
  {
   "cell_type": "code",
   "execution_count": 53,
   "id": "84141eda",
   "metadata": {},
   "outputs": [],
   "source": [
    "class Sample():\n",
    "    pass"
   ]
  },
  {
   "cell_type": "code",
   "execution_count": 54,
   "id": "df411a00",
   "metadata": {},
   "outputs": [],
   "source": [
    "mysample = Sample()"
   ]
  },
  {
   "cell_type": "code",
   "execution_count": 55,
   "id": "502c096e",
   "metadata": {},
   "outputs": [
    {
     "ename": "TypeError",
     "evalue": "object of type 'Sample' has no len()",
     "output_type": "error",
     "traceback": [
      "\u001b[0;31m---------------------------------------------------------------------------\u001b[0m",
      "\u001b[0;31mTypeError\u001b[0m                                 Traceback (most recent call last)",
      "Input \u001b[0;32mIn [55]\u001b[0m, in \u001b[0;36m<cell line: 1>\u001b[0;34m()\u001b[0m\n\u001b[0;32m----> 1\u001b[0m \u001b[38;5;28;43mlen\u001b[39;49m\u001b[43m(\u001b[49m\u001b[43mmysample\u001b[49m\u001b[43m)\u001b[49m\n",
      "\u001b[0;31mTypeError\u001b[0m: object of type 'Sample' has no len()"
     ]
    }
   ],
   "source": [
    "len(mysample)"
   ]
  },
  {
   "cell_type": "markdown",
   "id": "f23de174",
   "metadata": {},
   "source": [
    "how to use python build-in functions with user-defined objects?\n",
    "\n",
    "we use special methods (a.k.a. magic/dunder methods)"
   ]
  },
  {
   "cell_type": "code",
   "execution_count": 56,
   "id": "cb3ff85b",
   "metadata": {},
   "outputs": [],
   "source": [
    "class Book():\n",
    "    \n",
    "    def __init__(self, title, author, pages):\n",
    "        \n",
    "        self.title = title\n",
    "        self.author = author\n",
    "        self.pages = pages"
   ]
  },
  {
   "cell_type": "code",
   "execution_count": 57,
   "id": "3cb9efe1",
   "metadata": {},
   "outputs": [],
   "source": [
    "b = Book(\"Python on rocks\", \"Vazgen the 3rd jn.\", 250)"
   ]
  },
  {
   "cell_type": "code",
   "execution_count": 59,
   "id": "41e34a06",
   "metadata": {},
   "outputs": [
    {
     "name": "stdout",
     "output_type": "stream",
     "text": [
      "<__main__.Book object at 0x7fa679da10a0>\n"
     ]
    }
   ],
   "source": [
    "print (b)\n",
    "\n",
    "# this will just show where on my computer\n",
    "# the python has saved this object in memory"
   ]
  },
  {
   "cell_type": "code",
   "execution_count": null,
   "id": "65693b1d",
   "metadata": {},
   "outputs": [],
   "source": [
    "# to correctly return strings out of a user defined ojects use methods\n",
    "# inside a class"
   ]
  },
  {
   "cell_type": "code",
   "execution_count": 72,
   "id": "0e3cb640",
   "metadata": {},
   "outputs": [],
   "source": [
    "class Book():\n",
    "    \n",
    "    def __init__(self, title, author, pages):\n",
    "        \n",
    "        self.title = title\n",
    "        self.author = author\n",
    "        self.pages = pages\n",
    "    \n",
    "    def __str__(self):\n",
    "        return f\"{self.title} by {self.author}\""
   ]
  },
  {
   "cell_type": "markdown",
   "id": "276bfa90",
   "metadata": {},
   "source": [
    "When later a call a print function it will ask the class Book do you have a string representation of yourself to which the Book object will return a __str__ method to return a string "
   ]
  },
  {
   "cell_type": "code",
   "execution_count": 73,
   "id": "1a8a3cad",
   "metadata": {},
   "outputs": [],
   "source": [
    "b = Book(\"Python on rocks\", \"Vazgen the 3rd jn.\", 250)"
   ]
  },
  {
   "cell_type": "code",
   "execution_count": 74,
   "id": "b1a75ac5",
   "metadata": {},
   "outputs": [
    {
     "name": "stdout",
     "output_type": "stream",
     "text": [
      "Python on rocks by Vazgen the 3rd jn.\n"
     ]
    }
   ],
   "source": [
    "print (b)"
   ]
  },
  {
   "cell_type": "code",
   "execution_count": 75,
   "id": "3fd4c302",
   "metadata": {},
   "outputs": [
    {
     "data": {
      "text/plain": [
       "'Python on rocks by Vazgen the 3rd jn.'"
      ]
     },
     "execution_count": 75,
     "metadata": {},
     "output_type": "execute_result"
    }
   ],
   "source": [
    "str(b)"
   ]
  },
  {
   "cell_type": "code",
   "execution_count": 76,
   "id": "28f1bac1",
   "metadata": {},
   "outputs": [
    {
     "ename": "TypeError",
     "evalue": "object of type 'Book' has no len()",
     "output_type": "error",
     "traceback": [
      "\u001b[0;31m---------------------------------------------------------------------------\u001b[0m",
      "\u001b[0;31mTypeError\u001b[0m                                 Traceback (most recent call last)",
      "Input \u001b[0;32mIn [76]\u001b[0m, in \u001b[0;36m<cell line: 4>\u001b[0;34m()\u001b[0m\n\u001b[1;32m      1\u001b[0m \u001b[38;5;66;03m# if we need the lenth of the book we will have to define a len \u001b[39;00m\n\u001b[1;32m      2\u001b[0m \u001b[38;5;66;03m# inside the class\u001b[39;00m\n\u001b[0;32m----> 4\u001b[0m \u001b[38;5;28;43mlen\u001b[39;49m\u001b[43m(\u001b[49m\u001b[43mb\u001b[49m\u001b[43m)\u001b[49m\n",
      "\u001b[0;31mTypeError\u001b[0m: object of type 'Book' has no len()"
     ]
    }
   ],
   "source": [
    "# if we need the lenth of the book we will have to define a len \n",
    "# inside the class\n",
    "\n",
    "len(b)"
   ]
  },
  {
   "cell_type": "code",
   "execution_count": 77,
   "id": "77c2293b",
   "metadata": {},
   "outputs": [],
   "source": [
    "class Book():\n",
    "    \n",
    "    def __init__(self, title, author, pages):\n",
    "        \n",
    "        self.title = title\n",
    "        self.author = author\n",
    "        self.pages = pages\n",
    "    \n",
    "    # to work woth print ()\n",
    "    def __str__(self):\n",
    "        return f\"{self.title} by {self.author} with {self.pages} pages\"\n",
    "    \n",
    "    # to work with len()\n",
    "    def __len__(self):\n",
    "        return self.pages"
   ]
  },
  {
   "cell_type": "code",
   "execution_count": 78,
   "id": "396139eb",
   "metadata": {},
   "outputs": [],
   "source": [
    "b = Book(\"Python on rocks\", \"Vazgen the 3rd jn.\", 250)"
   ]
  },
  {
   "cell_type": "code",
   "execution_count": 79,
   "id": "7329a101",
   "metadata": {},
   "outputs": [
    {
     "data": {
      "text/plain": [
       "250"
      ]
     },
     "execution_count": 79,
     "metadata": {},
     "output_type": "execute_result"
    }
   ],
   "source": [
    "len(b)"
   ]
  },
  {
   "cell_type": "code",
   "execution_count": 80,
   "id": "1f6bfd11",
   "metadata": {},
   "outputs": [],
   "source": [
    "# below is a function to delete the obejct from your computer memmory\n",
    "\n",
    "del b\n",
    "\n",
    "# we use it to delete an instance of a class"
   ]
  },
  {
   "cell_type": "code",
   "execution_count": 81,
   "id": "7bfbb49d",
   "metadata": {},
   "outputs": [
    {
     "ename": "NameError",
     "evalue": "name 'b' is not defined",
     "output_type": "error",
     "traceback": [
      "\u001b[0;31m---------------------------------------------------------------------------\u001b[0m",
      "\u001b[0;31mNameError\u001b[0m                                 Traceback (most recent call last)",
      "Input \u001b[0;32mIn [81]\u001b[0m, in \u001b[0;36m<cell line: 1>\u001b[0;34m()\u001b[0m\n\u001b[0;32m----> 1\u001b[0m \u001b[43mb\u001b[49m\n",
      "\u001b[0;31mNameError\u001b[0m: name 'b' is not defined"
     ]
    }
   ],
   "source": [
    "b\n",
    "# as you see the instance is delited "
   ]
  },
  {
   "cell_type": "code",
   "execution_count": 119,
   "id": "f4d3607c",
   "metadata": {},
   "outputs": [],
   "source": [
    "class Book():\n",
    "    \n",
    "    def __init__(self, title, author, pages):\n",
    "        \n",
    "        self.title = title\n",
    "        self.author = author\n",
    "        self.pages = pages\n",
    "    \n",
    "    # to work woth print ()\n",
    "    def __str__(self):\n",
    "        return f\"{self.title} by {self.author} with {self.pages} pages\"\n",
    "    \n",
    "    # to work with len()\n",
    "    def __len__(self):\n",
    "        return self.pages\n",
    "    \n",
    "    # to work with del()\n",
    "    def __del__(self):\n",
    "        print (\"a book object has been deleted\")"
   ]
  },
  {
   "cell_type": "code",
   "execution_count": 120,
   "id": "8f4b325f",
   "metadata": {},
   "outputs": [],
   "source": [
    "b = Book(\"Python on rocks\", \"Vazgen the 3rd jn.\", 250)"
   ]
  },
  {
   "cell_type": "code",
   "execution_count": 121,
   "id": "999d64df",
   "metadata": {},
   "outputs": [
    {
     "name": "stdout",
     "output_type": "stream",
     "text": [
      "Python on rocks by Vazgen the 3rd jn. with 250 pages\n"
     ]
    }
   ],
   "source": [
    "print (b)"
   ]
  },
  {
   "cell_type": "code",
   "execution_count": 122,
   "id": "41431920",
   "metadata": {},
   "outputs": [
    {
     "name": "stdout",
     "output_type": "stream",
     "text": [
      "a book object has been deleted\n"
     ]
    }
   ],
   "source": [
    "del b\n",
    "\n",
    "# we have an extra statment to tell what happend "
   ]
  }
 ],
 "metadata": {
  "kernelspec": {
   "display_name": "Python 3 (ipykernel)",
   "language": "python",
   "name": "python3"
  },
  "language_info": {
   "codemirror_mode": {
    "name": "ipython",
    "version": 3
   },
   "file_extension": ".py",
   "mimetype": "text/x-python",
   "name": "python",
   "nbconvert_exporter": "python",
   "pygments_lexer": "ipython3",
   "version": "3.9.12"
  }
 },
 "nbformat": 4,
 "nbformat_minor": 5
}
