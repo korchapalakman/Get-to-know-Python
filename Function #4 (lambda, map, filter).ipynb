{
 "cells": [
  {
   "cell_type": "markdown",
   "id": "97759c0a",
   "metadata": {},
   "source": [
    "## lambda finction \n",
    "are functions that you use one time, never go back to them"
   ]
  },
  {
   "cell_type": "markdown",
   "id": "13a1e83a",
   "metadata": {},
   "source": [
    "## MAP function"
   ]
  },
  {
   "cell_type": "code",
   "execution_count": 1,
   "id": "9518588e",
   "metadata": {},
   "outputs": [],
   "source": [
    "def square (num):\n",
    "    return num**2"
   ]
  },
  {
   "cell_type": "code",
   "execution_count": 3,
   "id": "5cf4d52b",
   "metadata": {},
   "outputs": [],
   "source": [
    "my_nums = [1,2,3,4,5]"
   ]
  },
  {
   "cell_type": "markdown",
   "id": "94f088a8",
   "metadata": {},
   "source": [
    "map function helps to map every single \n",
    "item in a predefined function with the list"
   ]
  },
  {
   "cell_type": "code",
   "execution_count": 4,
   "id": "ffb9fe92",
   "metadata": {},
   "outputs": [
    {
     "name": "stdout",
     "output_type": "stream",
     "text": [
      "1\n",
      "4\n",
      "9\n",
      "16\n",
      "25\n"
     ]
    }
   ],
   "source": [
    "for item in map(square, my_nums):\n",
    "    print (item)"
   ]
  },
  {
   "cell_type": "code",
   "execution_count": 5,
   "id": "c59082df",
   "metadata": {},
   "outputs": [
    {
     "data": {
      "text/plain": [
       "[1, 4, 9, 16, 25]"
      ]
     },
     "execution_count": 5,
     "metadata": {},
     "output_type": "execute_result"
    }
   ],
   "source": [
    "list(map(square, my_nums))"
   ]
  },
  {
   "cell_type": "code",
   "execution_count": 6,
   "id": "ce764e7b",
   "metadata": {},
   "outputs": [],
   "source": [
    "def splicer(mystring):\n",
    "    if len(mystring)%2 == 0:\n",
    "        return \"even\"\n",
    "    else:\n",
    "        return mystring[0]\n"
   ]
  },
  {
   "cell_type": "code",
   "execution_count": 7,
   "id": "8fd16eb7",
   "metadata": {},
   "outputs": [],
   "source": [
    "names = [\"vazgen\", \"lera\", \"ana\"]\n",
    "\n"
   ]
  },
  {
   "cell_type": "code",
   "execution_count": 8,
   "id": "7728968a",
   "metadata": {},
   "outputs": [
    {
     "data": {
      "text/plain": [
       "['even', 'even', 'a']"
      ]
     },
     "execution_count": 8,
     "metadata": {},
     "output_type": "execute_result"
    }
   ],
   "source": [
    "list(map(splicer, names))"
   ]
  },
  {
   "cell_type": "markdown",
   "id": "71c72e49",
   "metadata": {},
   "source": [
    "## Filter function"
   ]
  },
  {
   "cell_type": "code",
   "execution_count": 9,
   "id": "1aa7c308",
   "metadata": {},
   "outputs": [],
   "source": [
    "def check_even(num):\n",
    "    return num%2==0"
   ]
  },
  {
   "cell_type": "code",
   "execution_count": 10,
   "id": "dd5470f0",
   "metadata": {},
   "outputs": [],
   "source": [
    "my_numbers = [1,2,3,4,5,6]"
   ]
  },
  {
   "cell_type": "code",
   "execution_count": 12,
   "id": "4b28cfcb",
   "metadata": {},
   "outputs": [
    {
     "data": {
      "text/plain": [
       "[2, 4, 6]"
      ]
     },
     "execution_count": 12,
     "metadata": {},
     "output_type": "execute_result"
    }
   ],
   "source": [
    "list(filter(check_even, my_numbers))"
   ]
  },
  {
   "cell_type": "code",
   "execution_count": 13,
   "id": "0a44c8fe",
   "metadata": {},
   "outputs": [
    {
     "name": "stdout",
     "output_type": "stream",
     "text": [
      "2\n",
      "4\n",
      "6\n"
     ]
    }
   ],
   "source": [
    "for n in filter(check_even, my_numbers):\n",
    "    print (n)"
   ]
  },
  {
   "cell_type": "markdown",
   "id": "33dbc173",
   "metadata": {},
   "source": [
    "filter through data by a predefined condition in a fucntion that returns True or Flase"
   ]
  },
  {
   "cell_type": "markdown",
   "id": "e85bb86d",
   "metadata": {},
   "source": [
    "## lambda expressions \n",
    "aka anonumus function (used only ones)"
   ]
  },
  {
   "cell_type": "markdown",
   "id": "79a720db",
   "metadata": {},
   "source": [
    "labmda expressions only apply once, dont care how it is named \n",
    "or when to use it again"
   ]
  },
  {
   "cell_type": "code",
   "execution_count": 16,
   "id": "051d0959",
   "metadata": {},
   "outputs": [],
   "source": [
    "#instead of\n",
    "\n",
    "## def square (num):\n",
    "##     return num**2\n",
    "#         /\n",
    "#        /\n",
    "#       /\n",
    "# def square (num):eturn num**2 ---> (may write it on one line)\n",
    "#         /\n",
    "#        /\n",
    "#       /\n",
    "#lambda num: num ** 2\n",
    "\n",
    "\n",
    "square = lambda num: num ** 2\n",
    "\n",
    "#we have assigned \"squre\" to lambda expession function\n",
    "#to use it again "
   ]
  },
  {
   "cell_type": "code",
   "execution_count": 17,
   "id": "04dea93a",
   "metadata": {},
   "outputs": [
    {
     "data": {
      "text/plain": [
       "9"
      ]
     },
     "execution_count": 17,
     "metadata": {},
     "output_type": "execute_result"
    }
   ],
   "source": [
    "square(3)"
   ]
  },
  {
   "cell_type": "markdown",
   "id": "50f6ae2f",
   "metadata": {},
   "source": [
    "#### how to use with map and filter"
   ]
  },
  {
   "cell_type": "code",
   "execution_count": 19,
   "id": "9deeed6e",
   "metadata": {},
   "outputs": [
    {
     "data": {
      "text/plain": [
       "[1, 4, 9, 16, 25, 36]"
      ]
     },
     "execution_count": 19,
     "metadata": {},
     "output_type": "execute_result"
    }
   ],
   "source": [
    "list (map (lambda num: num ** 2, my_numbers))\n",
    "#if you need to call it once"
   ]
  },
  {
   "cell_type": "code",
   "execution_count": 22,
   "id": "57733e50",
   "metadata": {},
   "outputs": [
    {
     "data": {
      "text/plain": [
       "[2, 4, 6]"
      ]
     },
     "execution_count": 22,
     "metadata": {},
     "output_type": "execute_result"
    }
   ],
   "source": [
    "#convert check even to lambda expression\n",
    "#def check_even(num):\n",
    "#    return num%2==0\n",
    "\n",
    "\n",
    "#lambda num: num%2==0\n",
    "\n",
    "\n",
    "list(filter(lambda num: num%2==0, my_numbers))\n"
   ]
  },
  {
   "cell_type": "code",
   "execution_count": 24,
   "id": "411b07b1",
   "metadata": {},
   "outputs": [
    {
     "data": {
      "text/plain": [
       "['vazgen', 'lera', 'ana']"
      ]
     },
     "execution_count": 24,
     "metadata": {},
     "output_type": "execute_result"
    }
   ],
   "source": [
    "names"
   ]
  },
  {
   "cell_type": "code",
   "execution_count": 26,
   "id": "47db494f",
   "metadata": {},
   "outputs": [
    {
     "data": {
      "text/plain": [
       "['v', 'l', 'a']"
      ]
     },
     "execution_count": 26,
     "metadata": {},
     "output_type": "execute_result"
    }
   ],
   "source": [
    "list(map (lambda name: name[0], names))"
   ]
  },
  {
   "cell_type": "code",
   "execution_count": 27,
   "id": "663c5f39",
   "metadata": {},
   "outputs": [
    {
     "data": {
      "text/plain": [
       "['negzav', 'arel', 'ana']"
      ]
     },
     "execution_count": 27,
     "metadata": {},
     "output_type": "execute_result"
    }
   ],
   "source": [
    "list(map (lambda name: name[::-1], names))"
   ]
  },
  {
   "cell_type": "markdown",
   "id": "3acd6a1a",
   "metadata": {},
   "source": [
    "use it when you can easily read them unless they waiste your time"
   ]
  },
  {
   "cell_type": "code",
   "execution_count": null,
   "id": "30284a72",
   "metadata": {},
   "outputs": [],
   "source": []
  }
 ],
 "metadata": {
  "kernelspec": {
   "display_name": "Python 3 (ipykernel)",
   "language": "python",
   "name": "python3"
  },
  "language_info": {
   "codemirror_mode": {
    "name": "ipython",
    "version": 3
   },
   "file_extension": ".py",
   "mimetype": "text/x-python",
   "name": "python",
   "nbconvert_exporter": "python",
   "pygments_lexer": "ipython3",
   "version": "3.9.12"
  }
 },
 "nbformat": 4,
 "nbformat_minor": 5
}
