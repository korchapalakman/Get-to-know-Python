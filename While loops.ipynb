{
 "cells": [
  {
   "cell_type": "markdown",
   "id": "241e69dd",
   "metadata": {},
   "source": [
    "## While loop"
   ]
  },
  {
   "cell_type": "code",
   "execution_count": 1,
   "id": "cb67c70a",
   "metadata": {},
   "outputs": [
    {
     "name": "stdout",
     "output_type": "stream",
     "text": [
      "the curent value of 0\n",
      "the curent value of 1\n",
      "the curent value of 2\n",
      "the curent value of 3\n",
      "the curent value of 4\n"
     ]
    }
   ],
   "source": [
    "x = 0\n",
    "\n",
    "while x < 5:\n",
    "    print (f\"the curent value of {x}\")\n",
    "    x = x+1"
   ]
  },
  {
   "cell_type": "code",
   "execution_count": 2,
   "id": "9b7a95cc",
   "metadata": {},
   "outputs": [
    {
     "name": "stdout",
     "output_type": "stream",
     "text": [
      "the curent value of 0\n",
      "the curent value of 1\n",
      "the curent value of 2\n",
      "the curent value of 3\n",
      "the curent value of 4\n"
     ]
    }
   ],
   "source": [
    "x = 0\n",
    "\n",
    "while x < 5:\n",
    "    print (f\"the curent value of {x}\")\n",
    "    x += 1"
   ]
  },
  {
   "cell_type": "code",
   "execution_count": 3,
   "id": "44776af8",
   "metadata": {},
   "outputs": [
    {
     "name": "stdout",
     "output_type": "stream",
     "text": [
      "the curent value of 0\n",
      "the curent value of 1\n",
      "the curent value of 2\n",
      "the curent value of 3\n",
      "the curent value of 4\n",
      "X is not less than 5\n"
     ]
    }
   ],
   "source": [
    "x = 0\n",
    "\n",
    "while x < 5:\n",
    "    print (f\"the curent value of {x}\")\n",
    "    x += 1\n",
    "else:\n",
    "    print (\"X is not less than 5\")"
   ]
  },
  {
   "cell_type": "code",
   "execution_count": 4,
   "id": "6faa34be",
   "metadata": {},
   "outputs": [
    {
     "name": "stdout",
     "output_type": "stream",
     "text": [
      "X is not less than 5\n"
     ]
    }
   ],
   "source": [
    "x = 50\n",
    "\n",
    "while x < 5:\n",
    "    print (f\"the curent value of {x}\")\n",
    "    x += 1\n",
    "else:\n",
    "    print (\"X is not less than 5\")"
   ]
  },
  {
   "cell_type": "markdown",
   "id": "0694ee5f",
   "metadata": {},
   "source": [
    "## Break / Continue / Pass"
   ]
  },
  {
   "cell_type": "code",
   "execution_count": 9,
   "id": "4b24d60e",
   "metadata": {},
   "outputs": [
    {
     "name": "stdout",
     "output_type": "stream",
     "text": [
      "end of my script\n"
     ]
    }
   ],
   "source": [
    "x = [1,2,3]\n",
    "#do nothing at all and leave it as a placeholder\n",
    "\n",
    "for item in x:\n",
    "    pass\n",
    "\n",
    "#i can now continue coding without errors \n",
    "#python extects you to fill the script the started by :\n",
    "#if no need now just place pass\n",
    "\n",
    "print (\"end of my script\")"
   ]
  },
  {
   "cell_type": "code",
   "execution_count": 13,
   "id": "762c315e",
   "metadata": {},
   "outputs": [],
   "source": [
    "my_string = \"Vazgen\""
   ]
  },
  {
   "cell_type": "code",
   "execution_count": 12,
   "id": "6b4cd7c6",
   "metadata": {},
   "outputs": [
    {
     "name": "stdout",
     "output_type": "stream",
     "text": [
      "V\n",
      "z\n",
      "g\n",
      "e\n",
      "n\n"
     ]
    }
   ],
   "source": [
    "for letter in my_string:\n",
    "    if letter == \"a\":\n",
    "        continue\n",
    "#goes to the top of closest enclosing loop\n",
    "#basically skip the code inside a loop for a current iteraction \n",
    "#since condition \"a\" is met the loop is skipted there\n",
    "    print (letter)"
   ]
  },
  {
   "cell_type": "code",
   "execution_count": 14,
   "id": "89a3ddd0",
   "metadata": {},
   "outputs": [
    {
     "name": "stdout",
     "output_type": "stream",
     "text": [
      "V\n",
      "a\n",
      "z\n"
     ]
    }
   ],
   "source": [
    "for letter in my_string:\n",
    "    if letter == \"g\":\n",
    "        break\n",
    "#breaks the loop as soon as condoition \"g\" is met\n",
    "    print (letter)"
   ]
  },
  {
   "cell_type": "code",
   "execution_count": 18,
   "id": "09239bfb",
   "metadata": {},
   "outputs": [
    {
     "name": "stdout",
     "output_type": "stream",
     "text": [
      "0\n",
      "1\n",
      "2\n",
      "3\n",
      "4\n"
     ]
    }
   ],
   "source": [
    "x=0\n",
    "\n",
    "while x < 15:\n",
    "    if x == 5:\n",
    "        break\n",
    "    print(x)\n",
    "    x +=1"
   ]
  },
  {
   "cell_type": "code",
   "execution_count": null,
   "id": "0b0b6e47",
   "metadata": {},
   "outputs": [],
   "source": []
  }
 ],
 "metadata": {
  "kernelspec": {
   "display_name": "Python 3 (ipykernel)",
   "language": "python",
   "name": "python3"
  },
  "language_info": {
   "codemirror_mode": {
    "name": "ipython",
    "version": 3
   },
   "file_extension": ".py",
   "mimetype": "text/x-python",
   "name": "python",
   "nbconvert_exporter": "python",
   "pygments_lexer": "ipython3",
   "version": "3.9.12"
  }
 },
 "nbformat": 4,
 "nbformat_minor": 5
}
