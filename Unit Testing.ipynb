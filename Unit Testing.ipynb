{
 "cells": [
  {
   "cell_type": "markdown",
   "id": "fe796c5c",
   "metadata": {},
   "source": [
    "# Unit Testing"
   ]
  },
  {
   "cell_type": "markdown",
   "id": "feca4f88",
   "metadata": {},
   "source": [
    "if you are working in a big team you have to check if any adjustment to your previous code  use unit testing to make sure the old code run without mistakes \n",
    "\n"
   ]
  },
  {
   "cell_type": "markdown",
   "id": "bf19e48a",
   "metadata": {},
   "source": [
    "## pylint "
   ]
  },
  {
   "cell_type": "markdown",
   "id": "3fe2ae0d",
   "metadata": {},
   "source": [
    "look at your code and reports back possible issues"
   ]
  },
  {
   "cell_type": "markdown",
   "id": "90c7b656",
   "metadata": {},
   "source": [
    "## unittest"
   ]
  },
  {
   "cell_type": "markdown",
   "id": "be718d00",
   "metadata": {},
   "source": [
    "this is a built-in library will allow to test your own programs and check you are getting desired outputs"
   ]
  }
 ],
 "metadata": {
  "kernelspec": {
   "display_name": "Python 3 (ipykernel)",
   "language": "python",
   "name": "python3"
  },
  "language_info": {
   "codemirror_mode": {
    "name": "ipython",
    "version": 3
   },
   "file_extension": ".py",
   "mimetype": "text/x-python",
   "name": "python",
   "nbconvert_exporter": "python",
   "pygments_lexer": "ipython3",
   "version": "3.9.12"
  }
 },
 "nbformat": 4,
 "nbformat_minor": 5
}
