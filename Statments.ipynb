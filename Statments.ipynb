{
 "cells": [
  {
   "cell_type": "markdown",
   "id": "e0c40470",
   "metadata": {},
   "source": [
    "## IF ELIF ELSE (control flow)"
   ]
  },
  {
   "cell_type": "markdown",
   "id": "fcdbca42",
   "metadata": {},
   "source": [
    "### if statment "
   ]
  },
  {
   "cell_type": "code",
   "execution_count": 3,
   "id": "9fefdd3a",
   "metadata": {},
   "outputs": [
    {
     "name": "stdout",
     "output_type": "stream",
     "text": [
      "It's True\n"
     ]
    }
   ],
   "source": [
    "if True:\n",
    "    print (\"It's True\")"
   ]
  },
  {
   "cell_type": "code",
   "execution_count": 4,
   "id": "9a569a50",
   "metadata": {},
   "outputs": [
    {
     "name": "stdout",
     "output_type": "stream",
     "text": [
      "It's True\n"
     ]
    }
   ],
   "source": [
    "if 3>2:\n",
    "    print (\"It's True\")"
   ]
  },
  {
   "cell_type": "code",
   "execution_count": 5,
   "id": "a632db18",
   "metadata": {},
   "outputs": [
    {
     "name": "stdout",
     "output_type": "stream",
     "text": [
      "feed me please\n"
     ]
    }
   ],
   "source": [
    "hungry = True\n",
    "#the variable hungry is already by itself is a boolean\n",
    "if hungry:\n",
    "    print(\"feed me please\")"
   ]
  },
  {
   "cell_type": "code",
   "execution_count": 6,
   "id": "7eb9eb6b",
   "metadata": {},
   "outputs": [],
   "source": [
    "hungry = False\n",
    "\n",
    "if hungry:\n",
    "    print(\"feed me please\")"
   ]
  },
  {
   "cell_type": "markdown",
   "id": "f41976cb",
   "metadata": {},
   "source": [
    "### if and else statments "
   ]
  },
  {
   "cell_type": "code",
   "execution_count": 7,
   "id": "8c34809e",
   "metadata": {},
   "outputs": [
    {
     "name": "stdout",
     "output_type": "stream",
     "text": [
      "I'm good, thanks\n"
     ]
    }
   ],
   "source": [
    "hungry = False\n",
    "\n",
    "if hungry:\n",
    "    print(\"Feed me please\")\n",
    "else:\n",
    "    print(\"I'm good, thanks\")"
   ]
  },
  {
   "cell_type": "code",
   "execution_count": 8,
   "id": "205dc209",
   "metadata": {},
   "outputs": [
    {
     "name": "stdout",
     "output_type": "stream",
     "text": [
      "Feed me please\n"
     ]
    }
   ],
   "source": [
    "hungry = True\n",
    "\n",
    "if hungry:\n",
    "    print(\"Feed me please\")\n",
    "else:\n",
    "    print(\"I'm good, thanks\")"
   ]
  },
  {
   "cell_type": "markdown",
   "id": "2efc6a5b",
   "metadata": {},
   "source": [
    "### if, elif and else statments "
   ]
  },
  {
   "cell_type": "code",
   "execution_count": 13,
   "id": "7a4faad9",
   "metadata": {},
   "outputs": [
    {
     "name": "stdout",
     "output_type": "stream",
     "text": [
      "money is cool\n"
     ]
    }
   ],
   "source": [
    "loc = 'Bank'\n",
    "\n",
    "if loc == \"Auto Shop\":\n",
    "    print(\"cars are cool\")\n",
    "#may have as many elif as you need\n",
    "elif loc == \"Bank\":\n",
    "    print(\"money is cool\")\n",
    "else:\n",
    "    print(\"I don't know\")"
   ]
  },
  {
   "cell_type": "code",
   "execution_count": 14,
   "id": "d2f88747",
   "metadata": {},
   "outputs": [
    {
     "name": "stdout",
     "output_type": "stream",
     "text": [
      "shopping is cool\n"
     ]
    }
   ],
   "source": [
    "loc = 'Store'\n",
    "\n",
    "if loc == \"Auto Shop\":\n",
    "    print(\"cars are cool\")\n",
    "elif loc == \"Store\":\n",
    "    print (\"shopping is cool\")\n",
    "elif loc == \"Bank\":\n",
    "    print(\"money is cool\")\n",
    "else:\n",
    "    print(\"I don't know\")"
   ]
  },
  {
   "cell_type": "code",
   "execution_count": null,
   "id": "e05e97e4",
   "metadata": {},
   "outputs": [],
   "source": [
    "name = \"Vazgen\"\n",
    "\n",
    "if name == \"Vartan\":\n",
    "    print (\"Hello Vartan\")\n",
    "elif name == \"Vazgen\":\n",
    "    print (\"Hello Vazgen\")\n",
    "else"
   ]
  }
 ],
 "metadata": {
  "kernelspec": {
   "display_name": "Python 3 (ipykernel)",
   "language": "python",
   "name": "python3"
  },
  "language_info": {
   "codemirror_mode": {
    "name": "ipython",
    "version": 3
   },
   "file_extension": ".py",
   "mimetype": "text/x-python",
   "name": "python",
   "nbconvert_exporter": "python",
   "pygments_lexer": "ipython3",
   "version": "3.9.12"
  }
 },
 "nbformat": 4,
 "nbformat_minor": 5
}
