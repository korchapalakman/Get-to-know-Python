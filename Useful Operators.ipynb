{
 "cells": [
  {
   "cell_type": "markdown",
   "id": "6f017872",
   "metadata": {},
   "source": [
    "### range function"
   ]
  },
  {
   "cell_type": "code",
   "execution_count": 1,
   "id": "45a2e187",
   "metadata": {},
   "outputs": [],
   "source": [
    "#range function generates information insted of saving it\n",
    "\n",
    "mylist = [1,2,3,4]"
   ]
  },
  {
   "cell_type": "code",
   "execution_count": 4,
   "id": "2f4e7097",
   "metadata": {},
   "outputs": [
    {
     "name": "stdout",
     "output_type": "stream",
     "text": [
      "10\n",
      "12\n",
      "14\n",
      "16\n",
      "18\n"
     ]
    }
   ],
   "source": [
    "#use shift + tab\n",
    "for num in range(10, 20, 2):\n",
    "    print(num)"
   ]
  },
  {
   "cell_type": "code",
   "execution_count": 5,
   "id": "0c9cbeea",
   "metadata": {},
   "outputs": [
    {
     "name": "stdout",
     "output_type": "stream",
     "text": [
      "3\n",
      "4\n",
      "5\n",
      "6\n",
      "7\n",
      "8\n",
      "9\n"
     ]
    }
   ],
   "source": [
    "for num in range(3,10):\n",
    "    print(num)"
   ]
  },
  {
   "cell_type": "code",
   "execution_count": 6,
   "id": "2602a122",
   "metadata": {},
   "outputs": [
    {
     "name": "stdout",
     "output_type": "stream",
     "text": [
      "0\n",
      "1\n",
      "2\n",
      "3\n",
      "4\n",
      "5\n",
      "6\n",
      "7\n",
      "8\n",
      "9\n"
     ]
    }
   ],
   "source": [
    "for num in range(10):\n",
    "    print(num)"
   ]
  },
  {
   "cell_type": "code",
   "execution_count": 7,
   "id": "ff498ee6",
   "metadata": {},
   "outputs": [
    {
     "data": {
      "text/plain": [
       "[0, 1, 2, 3, 4, 5, 6, 7, 8, 9]"
      ]
     },
     "execution_count": 7,
     "metadata": {},
     "output_type": "execute_result"
    }
   ],
   "source": [
    "list(range(10))"
   ]
  },
  {
   "cell_type": "markdown",
   "id": "8961e4cc",
   "metadata": {},
   "source": [
    "### enumerate() function "
   ]
  },
  {
   "cell_type": "code",
   "execution_count": 14,
   "id": "9ec845b6",
   "metadata": {},
   "outputs": [
    {
     "name": "stdout",
     "output_type": "stream",
     "text": [
      "at index 0 the letter is a\n",
      "at index 1 the letter is b\n",
      "at index 2 the letter is c\n",
      "at index 3 the letter is d\n",
      "at index 4 the letter is e\n"
     ]
    }
   ],
   "source": [
    "#the enumerate function replecates the result of the\n",
    "#below equasion \n",
    "\n",
    "index_count = 0\n",
    "\n",
    "for letter in \"abcde\":\n",
    "    print (f\"at index {index_count} the letter is {letter}\")\n",
    "    index_count += 1"
   ]
  },
  {
   "cell_type": "code",
   "execution_count": 18,
   "id": "6563f3d4",
   "metadata": {},
   "outputs": [
    {
     "name": "stdout",
     "output_type": "stream",
     "text": [
      "a\n",
      "b\n",
      "c\n",
      "d\n",
      "e\n"
     ]
    }
   ],
   "source": [
    "#other type of operation\n",
    "\n",
    "index_count = 0\n",
    "word = \"abcde\"\n",
    "\n",
    "for letter in word:\n",
    "    print(word[index_count])\n",
    "    index_count += 1"
   ]
  },
  {
   "cell_type": "code",
   "execution_count": 19,
   "id": "9fb67b1d",
   "metadata": {},
   "outputs": [
    {
     "name": "stdout",
     "output_type": "stream",
     "text": [
      "(0, 'a')\n",
      "(1, 'b')\n",
      "(2, 'c')\n",
      "(3, 'd')\n",
      "(4, 'e')\n"
     ]
    }
   ],
   "source": [
    "# the way it sould be done \n",
    "\n",
    "word = \"abcde\"\n",
    "\n",
    "for item in enumerate(word):\n",
    "    print (item)"
   ]
  },
  {
   "cell_type": "code",
   "execution_count": 24,
   "id": "49bef3ee",
   "metadata": {},
   "outputs": [
    {
     "name": "stdout",
     "output_type": "stream",
     "text": [
      "0\n",
      "a\n",
      "\n",
      "\n",
      "1\n",
      "b\n",
      "\n",
      "\n",
      "2\n",
      "c\n",
      "\n",
      "\n",
      "3\n",
      "d\n",
      "\n",
      "\n",
      "4\n",
      "e\n",
      "\n",
      "\n"
     ]
    }
   ],
   "source": [
    "#since it is a tuple may specify the extraction\n",
    "\n",
    "word = \"abcde\"\n",
    "\n",
    "for key, value in enumerate(word):\n",
    "    print (key)\n",
    "    print (value)\n",
    "    print (\"\\n\") #escate siquence creating a new line "
   ]
  },
  {
   "cell_type": "markdown",
   "id": "bc0ea430",
   "metadata": {},
   "source": [
    "## zip function"
   ]
  },
  {
   "cell_type": "code",
   "execution_count": 25,
   "id": "968afa52",
   "metadata": {},
   "outputs": [],
   "source": [
    "mylist1 = [1,2,3,4,5]\n",
    "mylist2 = [\"a\", \"b\", \"c\", \"d\", \"e\"]"
   ]
  },
  {
   "cell_type": "code",
   "execution_count": 26,
   "id": "927f2861",
   "metadata": {},
   "outputs": [
    {
     "data": {
      "text/plain": [
       "<zip at 0x7f95d81755c0>"
      ]
     },
     "execution_count": 26,
     "metadata": {},
     "output_type": "execute_result"
    }
   ],
   "source": [
    "zip (mylist1, mylist2)"
   ]
  },
  {
   "cell_type": "code",
   "execution_count": 27,
   "id": "5e019ad3",
   "metadata": {},
   "outputs": [
    {
     "name": "stdout",
     "output_type": "stream",
     "text": [
      "(1, 'a')\n",
      "(2, 'b')\n",
      "(3, 'c')\n",
      "(4, 'd')\n",
      "(5, 'e')\n"
     ]
    }
   ],
   "source": [
    "for item in zip (mylist1, mylist2):\n",
    "    print (item)"
   ]
  },
  {
   "cell_type": "code",
   "execution_count": 28,
   "id": "e1d5b428",
   "metadata": {},
   "outputs": [
    {
     "name": "stdout",
     "output_type": "stream",
     "text": [
      "1\n",
      "a\n",
      "\n",
      "\n",
      "2\n",
      "b\n",
      "\n",
      "\n",
      "3\n",
      "c\n",
      "\n",
      "\n",
      "4\n",
      "d\n",
      "\n",
      "\n",
      "5\n",
      "e\n",
      "\n",
      "\n"
     ]
    }
   ],
   "source": [
    "for x,y in zip (mylist1, mylist2):\n",
    "    print (x)\n",
    "    print (y)\n",
    "    print (\"\\n\")"
   ]
  },
  {
   "cell_type": "code",
   "execution_count": 29,
   "id": "ae1c417a",
   "metadata": {},
   "outputs": [
    {
     "data": {
      "text/plain": [
       "[(1, 'a'), (2, 'b'), (3, 'c'), (4, 'd'), (5, 'e')]"
      ]
     },
     "execution_count": 29,
     "metadata": {},
     "output_type": "execute_result"
    }
   ],
   "source": [
    "list(zip(mylist1, mylist2))"
   ]
  },
  {
   "cell_type": "code",
   "execution_count": 31,
   "id": "2b4ffbb6",
   "metadata": {},
   "outputs": [
    {
     "name": "stdout",
     "output_type": "stream",
     "text": [
      "(11, 1, 'a')\n",
      "(21, 2, 'b')\n",
      "(31, 3, 'c')\n",
      "(41, 4, 'd')\n",
      "(51, 5, 'e')\n"
     ]
    }
   ],
   "source": [
    "#zip will join together all the lists by the shortest of them\n",
    "\n",
    "mylist3 = [11, 21, 31, 41, 51, 61, 71, 81]\n",
    "for x in zip(mylist3,mylist1,mylist2):\n",
    "    print (x)"
   ]
  },
  {
   "cell_type": "code",
   "execution_count": 35,
   "id": "b1bdcf38",
   "metadata": {},
   "outputs": [
    {
     "name": "stdout",
     "output_type": "stream",
     "text": [
      "11 1 a\n",
      "21 2 b\n",
      "31 3 c\n",
      "41 4 d\n",
      "51 5 e\n"
     ]
    }
   ],
   "source": [
    "for a,b,c in zip(mylist3,mylist1,mylist2):\n",
    "    print (a,b,c)"
   ]
  },
  {
   "cell_type": "code",
   "execution_count": null,
   "id": "71756020",
   "metadata": {},
   "outputs": [],
   "source": [
    " "
   ]
  },
  {
   "cell_type": "markdown",
   "id": "5008f8ad",
   "metadata": {},
   "source": [
    "### IN operator "
   ]
  },
  {
   "cell_type": "code",
   "execution_count": 36,
   "id": "3f84d364",
   "metadata": {},
   "outputs": [],
   "source": [
    "#is used to check wheather the object is in the list"
   ]
  },
  {
   "cell_type": "code",
   "execution_count": 37,
   "id": "47ceafee",
   "metadata": {},
   "outputs": [
    {
     "data": {
      "text/plain": [
       "False"
      ]
     },
     "execution_count": 37,
     "metadata": {},
     "output_type": "execute_result"
    }
   ],
   "source": [
    "\"x\" in [1,2,3]"
   ]
  },
  {
   "cell_type": "code",
   "execution_count": 38,
   "id": "e629361b",
   "metadata": {},
   "outputs": [
    {
     "data": {
      "text/plain": [
       "True"
      ]
     },
     "execution_count": 38,
     "metadata": {},
     "output_type": "execute_result"
    }
   ],
   "source": [
    "\"x\" in [\"x\", \"y\", \"z\"]"
   ]
  },
  {
   "cell_type": "code",
   "execution_count": 39,
   "id": "460a4c3e",
   "metadata": {},
   "outputs": [
    {
     "data": {
      "text/plain": [
       "True"
      ]
     },
     "execution_count": 39,
     "metadata": {},
     "output_type": "execute_result"
    }
   ],
   "source": [
    "2 in [1,2,3]"
   ]
  },
  {
   "cell_type": "code",
   "execution_count": 42,
   "id": "22984f42",
   "metadata": {},
   "outputs": [
    {
     "data": {
      "text/plain": [
       "True"
      ]
     },
     "execution_count": 42,
     "metadata": {},
     "output_type": "execute_result"
    }
   ],
   "source": [
    "#may also use to check if the obejst is in a string \n",
    "\"a\" in \"a world\""
   ]
  },
  {
   "cell_type": "code",
   "execution_count": 43,
   "id": "5be64377",
   "metadata": {},
   "outputs": [
    {
     "data": {
      "text/plain": [
       "True"
      ]
     },
     "execution_count": 43,
     "metadata": {},
     "output_type": "execute_result"
    }
   ],
   "source": [
    "#use to check if the obejst is in a dict\n",
    "\"mykey\" in {\"mykey\":345}"
   ]
  },
  {
   "cell_type": "code",
   "execution_count": 49,
   "id": "f86e25ca",
   "metadata": {},
   "outputs": [
    {
     "data": {
      "text/plain": [
       "True"
      ]
     },
     "execution_count": 49,
     "metadata": {},
     "output_type": "execute_result"
    }
   ],
   "source": [
    "d = {\"mykey\":345}\n",
    "\n",
    "345 in d.values()"
   ]
  },
  {
   "cell_type": "code",
   "execution_count": 50,
   "id": "f3282c3a",
   "metadata": {},
   "outputs": [
    {
     "data": {
      "text/plain": [
       "False"
      ]
     },
     "execution_count": 50,
     "metadata": {},
     "output_type": "execute_result"
    }
   ],
   "source": [
    "345 in d.keys()"
   ]
  },
  {
   "cell_type": "markdown",
   "id": "99fe6416",
   "metadata": {},
   "source": [
    "### MIN / MAX"
   ]
  },
  {
   "cell_type": "code",
   "execution_count": 51,
   "id": "65dd45c8",
   "metadata": {},
   "outputs": [],
   "source": [
    "listos = [10, 20, 30, 40, 50, 60]"
   ]
  },
  {
   "cell_type": "code",
   "execution_count": 52,
   "id": "6d0d77ef",
   "metadata": {},
   "outputs": [
    {
     "data": {
      "text/plain": [
       "10"
      ]
     },
     "execution_count": 52,
     "metadata": {},
     "output_type": "execute_result"
    }
   ],
   "source": [
    "min (listos)"
   ]
  },
  {
   "cell_type": "code",
   "execution_count": 53,
   "id": "f7d27fd4",
   "metadata": {},
   "outputs": [
    {
     "data": {
      "text/plain": [
       "60"
      ]
     },
     "execution_count": 53,
     "metadata": {},
     "output_type": "execute_result"
    }
   ],
   "source": [
    "max (listos)"
   ]
  },
  {
   "cell_type": "markdown",
   "id": "6ba3f373",
   "metadata": {},
   "source": [
    "## Ramdom library"
   ]
  },
  {
   "cell_type": "code",
   "execution_count": 54,
   "id": "143f7d24",
   "metadata": {},
   "outputs": [],
   "source": [
    "from random import shuffle\n",
    "#shufle function\n",
    "#randomly shafles a list"
   ]
  },
  {
   "cell_type": "code",
   "execution_count": 55,
   "id": "4ff4b939",
   "metadata": {},
   "outputs": [],
   "source": [
    "mylis = [1,2,3,4,5,6,7,8,9,10]"
   ]
  },
  {
   "cell_type": "code",
   "execution_count": 56,
   "id": "4812d59e",
   "metadata": {},
   "outputs": [],
   "source": [
    "shuffle (mylis)"
   ]
  },
  {
   "cell_type": "code",
   "execution_count": 57,
   "id": "59676d5d",
   "metadata": {},
   "outputs": [
    {
     "data": {
      "text/plain": [
       "[1, 3, 5, 7, 2, 6, 10, 8, 4, 9]"
      ]
     },
     "execution_count": 57,
     "metadata": {},
     "output_type": "execute_result"
    }
   ],
   "source": [
    "mylis"
   ]
  },
  {
   "cell_type": "code",
   "execution_count": 58,
   "id": "af6b2322",
   "metadata": {},
   "outputs": [],
   "source": [
    "#in place function\n",
    "shuffle (mylis)"
   ]
  },
  {
   "cell_type": "code",
   "execution_count": 59,
   "id": "fbc0bd56",
   "metadata": {},
   "outputs": [
    {
     "data": {
      "text/plain": [
       "[2, 3, 9, 1, 8, 5, 4, 7, 6, 10]"
      ]
     },
     "execution_count": 59,
     "metadata": {},
     "output_type": "execute_result"
    }
   ],
   "source": [
    "mylis"
   ]
  },
  {
   "cell_type": "markdown",
   "id": "099ba314",
   "metadata": {},
   "source": [
    "### Random int"
   ]
  },
  {
   "cell_type": "code",
   "execution_count": 60,
   "id": "e40faa69",
   "metadata": {},
   "outputs": [],
   "source": [
    "#grab a random integer "
   ]
  },
  {
   "cell_type": "code",
   "execution_count": 61,
   "id": "edcf50ed",
   "metadata": {},
   "outputs": [],
   "source": [
    "from random import randint"
   ]
  },
  {
   "cell_type": "code",
   "execution_count": 65,
   "id": "d63e1db3",
   "metadata": {},
   "outputs": [
    {
     "data": {
      "text/plain": [
       "10"
      ]
     },
     "execution_count": 65,
     "metadata": {},
     "output_type": "execute_result"
    }
   ],
   "source": [
    "#returns a random integer from 0 to 100\n",
    "\n",
    "randint(0,100)"
   ]
  },
  {
   "cell_type": "code",
   "execution_count": 64,
   "id": "e48a22bd",
   "metadata": {},
   "outputs": [
    {
     "data": {
      "text/plain": [
       "3116"
      ]
     },
     "execution_count": 64,
     "metadata": {},
     "output_type": "execute_result"
    }
   ],
   "source": [
    "randint (0, 10000)"
   ]
  },
  {
   "cell_type": "code",
   "execution_count": 66,
   "id": "a572c510",
   "metadata": {},
   "outputs": [],
   "source": [
    "myrand = randint (0, 500)"
   ]
  },
  {
   "cell_type": "code",
   "execution_count": 67,
   "id": "d53683e0",
   "metadata": {},
   "outputs": [
    {
     "data": {
      "text/plain": [
       "385"
      ]
     },
     "execution_count": 67,
     "metadata": {},
     "output_type": "execute_result"
    }
   ],
   "source": [
    "myrand"
   ]
  },
  {
   "cell_type": "markdown",
   "id": "8514e29f",
   "metadata": {},
   "source": [
    "## Input function "
   ]
  },
  {
   "cell_type": "code",
   "execution_count": 14,
   "id": "3788ef04",
   "metadata": {},
   "outputs": [
    {
     "name": "stdout",
     "output_type": "stream",
     "text": [
      "enter a number here: 20\n"
     ]
    }
   ],
   "source": [
    "#remember alvaws input information as a strings \n",
    "result =  input(\"enter a number here: \")"
   ]
  },
  {
   "cell_type": "code",
   "execution_count": 2,
   "id": "75976327",
   "metadata": {},
   "outputs": [
    {
     "name": "stdout",
     "output_type": "stream",
     "text": [
      "reenter a number: 15\n"
     ]
    }
   ],
   "source": [
    "result2 = input(\"reenter a number: \")"
   ]
  },
  {
   "cell_type": "code",
   "execution_count": 5,
   "id": "af718652",
   "metadata": {},
   "outputs": [
    {
     "name": "stdout",
     "output_type": "stream",
     "text": [
      "what is your name? Vazgen\n"
     ]
    }
   ],
   "source": [
    "name = input (\"what is your name? \")"
   ]
  },
  {
   "cell_type": "code",
   "execution_count": 6,
   "id": "688dcfa3",
   "metadata": {},
   "outputs": [
    {
     "data": {
      "text/plain": [
       "'Vazgen'"
      ]
     },
     "execution_count": 6,
     "metadata": {},
     "output_type": "execute_result"
    }
   ],
   "source": [
    "name"
   ]
  },
  {
   "cell_type": "code",
   "execution_count": 8,
   "id": "cfda1f9f",
   "metadata": {},
   "outputs": [
    {
     "data": {
      "text/plain": [
       "str"
      ]
     },
     "execution_count": 8,
     "metadata": {},
     "output_type": "execute_result"
    }
   ],
   "source": [
    "#be aware of str and integer results \n",
    "type(result2)"
   ]
  },
  {
   "cell_type": "code",
   "execution_count": 11,
   "id": "8f81d31d",
   "metadata": {},
   "outputs": [],
   "source": [
    "int2 = int(result2)"
   ]
  },
  {
   "cell_type": "code",
   "execution_count": 12,
   "id": "b0c69247",
   "metadata": {},
   "outputs": [
    {
     "data": {
      "text/plain": [
       "int"
      ]
     },
     "execution_count": 12,
     "metadata": {},
     "output_type": "execute_result"
    }
   ],
   "source": [
    "type(int2)"
   ]
  },
  {
   "cell_type": "code",
   "execution_count": 15,
   "id": "09575ec7",
   "metadata": {},
   "outputs": [
    {
     "name": "stdout",
     "output_type": "stream",
     "text": [
      "guess a number: 25\n"
     ]
    }
   ],
   "source": [
    "#you may do like below to input a integer automatically\n",
    "\n",
    "int_input = int (input(\"guess a number: \"))\n"
   ]
  },
  {
   "cell_type": "code",
   "execution_count": 16,
   "id": "ff01fcd5",
   "metadata": {},
   "outputs": [
    {
     "data": {
      "text/plain": [
       "int"
      ]
     },
     "execution_count": 16,
     "metadata": {},
     "output_type": "execute_result"
    }
   ],
   "source": [
    "type(int_input)"
   ]
  },
  {
   "cell_type": "code",
   "execution_count": null,
   "id": "b673ce65",
   "metadata": {},
   "outputs": [],
   "source": []
  },
  {
   "cell_type": "code",
   "execution_count": null,
   "id": "f04aead0",
   "metadata": {},
   "outputs": [],
   "source": []
  }
 ],
 "metadata": {
  "kernelspec": {
   "display_name": "Python 3 (ipykernel)",
   "language": "python",
   "name": "python3"
  },
  "language_info": {
   "codemirror_mode": {
    "name": "ipython",
    "version": 3
   },
   "file_extension": ".py",
   "mimetype": "text/x-python",
   "name": "python",
   "nbconvert_exporter": "python",
   "pygments_lexer": "ipython3",
   "version": "3.9.12"
  }
 },
 "nbformat": 4,
 "nbformat_minor": 5
}
