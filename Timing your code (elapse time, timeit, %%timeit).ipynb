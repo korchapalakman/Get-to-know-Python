{
 "cells": [
  {
   "cell_type": "code",
   "execution_count": 23,
   "id": "4a4a9cec",
   "metadata": {},
   "outputs": [],
   "source": [
    "def func_one (n):\n",
    "    return [str(num) for num in range (n)]\n",
    "\n",
    "# def func_one (n):\n",
    "#     lista = []\n",
    "#     for num in range(n):\n",
    "#          lista.append(str(num))\n",
    "#     return lista\n",
    "\n",
    "\n",
    "\n",
    "# can make generator yield"
   ]
  },
  {
   "cell_type": "code",
   "execution_count": 24,
   "id": "722989f5",
   "metadata": {},
   "outputs": [
    {
     "data": {
      "text/plain": [
       "['0', '1', '2', '3', '4', '5', '6', '7', '8', '9']"
      ]
     },
     "execution_count": 24,
     "metadata": {},
     "output_type": "execute_result"
    }
   ],
   "source": [
    "func_one(10)"
   ]
  },
  {
   "cell_type": "code",
   "execution_count": 13,
   "id": "79d8c149",
   "metadata": {},
   "outputs": [],
   "source": [
    "def func_two(n):\n",
    "    return list(map(str, range(n)))"
   ]
  },
  {
   "cell_type": "code",
   "execution_count": 14,
   "id": "fc7cb451",
   "metadata": {},
   "outputs": [
    {
     "data": {
      "text/plain": [
       "['0', '1', '2', '3', '4', '5', '6', '7', '8', '9']"
      ]
     },
     "execution_count": 14,
     "metadata": {},
     "output_type": "execute_result"
    }
   ],
   "source": [
    "func_two(10)"
   ]
  },
  {
   "cell_type": "code",
   "execution_count": 15,
   "id": "228e31eb",
   "metadata": {},
   "outputs": [],
   "source": [
    "# they are both doing the same thing\n",
    "# which is more effecient \n",
    "# time your code"
   ]
  },
  {
   "cell_type": "code",
   "execution_count": 16,
   "id": "5b4188bf",
   "metadata": {},
   "outputs": [],
   "source": [
    "import time"
   ]
  },
  {
   "cell_type": "markdown",
   "id": "97377db6",
   "metadata": {},
   "source": [
    "## Method #1 Elapse time"
   ]
  },
  {
   "cell_type": "markdown",
   "id": "5d36ac7a",
   "metadata": {},
   "source": [
    "The limitation is observed in the code below\n",
    "\n",
    "Where both of the operations run so fast, you can not tell the difference at one since the numbers are so small"
   ]
  },
  {
   "cell_type": "code",
   "execution_count": 31,
   "id": "1e6c3b4c",
   "metadata": {},
   "outputs": [
    {
     "name": "stdout",
     "output_type": "stream",
     "text": [
      "0.005911111831665039\n"
     ]
    }
   ],
   "source": [
    "### function 1\n",
    "\n",
    "# current time before code\n",
    "start_time = time.time()\n",
    "\n",
    "# run code\n",
    "result = func_one(10000)\n",
    "\n",
    "# current time after code\n",
    "end_time = time.time()\n",
    "\n",
    "# calculate the difference (elapse time)\n",
    "elapse_time = end_time - start_time\n",
    "\n",
    "print (elapse_time) # is in seconds"
   ]
  },
  {
   "cell_type": "code",
   "execution_count": 32,
   "id": "e8250da7",
   "metadata": {},
   "outputs": [
    {
     "name": "stdout",
     "output_type": "stream",
     "text": [
      "0.0035698413848876953\n"
     ]
    }
   ],
   "source": [
    "### function 2\n",
    "\n",
    "# current time before code\n",
    "start_time = time.time()\n",
    "\n",
    "# run code\n",
    "result = func_two(10000)\n",
    "\n",
    "# current time after code\n",
    "end_time = time.time()\n",
    "\n",
    "# calculate the difference (elapse time)\n",
    "elapse_time = end_time - start_time\n",
    "\n",
    "print (elapse_time) # is in seconds"
   ]
  },
  {
   "cell_type": "markdown",
   "id": "cba55f0f",
   "metadata": {},
   "source": [
    "## Method #2 Timeit module"
   ]
  },
  {
   "cell_type": "code",
   "execution_count": 33,
   "id": "c6128e8c",
   "metadata": {},
   "outputs": [],
   "source": [
    "import timeit"
   ]
  },
  {
   "cell_type": "code",
   "execution_count": 50,
   "id": "bc6aabcb",
   "metadata": {},
   "outputs": [],
   "source": [
    "stmt = \"\"\"\n",
    "func_one(100)\n",
    "\"\"\"\n",
    "\n",
    "# this statmnet is going to be run the numer of times you specify\n",
    "# the statmnet is calling function that will be defined in setup\n",
    "# all in string"
   ]
  },
  {
   "cell_type": "code",
   "execution_count": 51,
   "id": "a679421a",
   "metadata": {},
   "outputs": [],
   "source": [
    "setup = \"\"\"\n",
    "def func_one (n):\n",
    "    return [str(num) for num in range (n)]\n",
    "\"\"\"\n",
    "\n",
    "# what code needs to be run before statment \n",
    "# you set up statmnet"
   ]
  },
  {
   "cell_type": "code",
   "execution_count": 60,
   "id": "56051a50",
   "metadata": {},
   "outputs": [
    {
     "data": {
      "text/plain": [
       "12.888584415999958"
      ]
     },
     "execution_count": 60,
     "metadata": {},
     "output_type": "execute_result"
    }
   ],
   "source": [
    "func1_time = timeit.timeit(stmt,setup, number=1000000)\n",
    "func1_time\n",
    "\n",
    "# in seconds \n",
    "# took to run the function 1 000 000 times"
   ]
  },
  {
   "cell_type": "code",
   "execution_count": 61,
   "id": "2974bfd9",
   "metadata": {},
   "outputs": [],
   "source": [
    "stmt2 = \"\"\"\n",
    "func_two(100)\n",
    "\"\"\""
   ]
  },
  {
   "cell_type": "code",
   "execution_count": 62,
   "id": "9b985510",
   "metadata": {},
   "outputs": [],
   "source": [
    "setup2 = \"\"\"\n",
    "def func_two(n):\n",
    "    return list(map(str, range(n)))\n",
    "\"\"\""
   ]
  },
  {
   "cell_type": "code",
   "execution_count": 65,
   "id": "8109c2b1",
   "metadata": {},
   "outputs": [
    {
     "data": {
      "text/plain": [
       "10.796223332999944"
      ]
     },
     "execution_count": 65,
     "metadata": {},
     "output_type": "execute_result"
    }
   ],
   "source": [
    "funct2_time = timeit.timeit(stmt2,setup2, number=1000000)\n",
    "funct2_time\n",
    "\n",
    "# took to run the function 1 000 000 times"
   ]
  },
  {
   "cell_type": "code",
   "execution_count": 64,
   "id": "f01d2eb1",
   "metadata": {},
   "outputs": [
    {
     "data": {
      "text/plain": [
       "True"
      ]
     },
     "execution_count": 64,
     "metadata": {},
     "output_type": "execute_result"
    }
   ],
   "source": [
    "funct2_time<func1_time\n",
    "\n",
    "# fair comparison "
   ]
  },
  {
   "cell_type": "markdown",
   "id": "2a35921f",
   "metadata": {},
   "source": [
    "## Method #3 %%timeit (only in Jupiter notebook)"
   ]
  },
  {
   "cell_type": "code",
   "execution_count": 70,
   "id": "1c6ad6cc",
   "metadata": {},
   "outputs": [
    {
     "name": "stdout",
     "output_type": "stream",
     "text": [
      "13.3 µs ± 70.6 ns per loop (mean ± std. dev. of 7 runs, 100,000 loops each)\n"
     ]
    }
   ],
   "source": [
    "%%timeit\n",
    "func_one(100)\n",
    "\n",
    "# will run the code through 100 000 loops \n",
    "# and will calculate the mean and std per each loop"
   ]
  },
  {
   "cell_type": "code",
   "execution_count": 68,
   "id": "4c831712",
   "metadata": {},
   "outputs": [
    {
     "name": "stdout",
     "output_type": "stream",
     "text": [
      "10.9 µs ± 47.1 ns per loop (mean ± std. dev. of 7 runs, 100,000 loops each)\n"
     ]
    }
   ],
   "source": [
    "%%timeit\n",
    "func_two(100)"
   ]
  },
  {
   "cell_type": "code",
   "execution_count": null,
   "id": "629c8c79",
   "metadata": {},
   "outputs": [],
   "source": []
  }
 ],
 "metadata": {
  "kernelspec": {
   "display_name": "Python 3 (ipykernel)",
   "language": "python",
   "name": "python3"
  },
  "language_info": {
   "codemirror_mode": {
    "name": "ipython",
    "version": 3
   },
   "file_extension": ".py",
   "mimetype": "text/x-python",
   "name": "python",
   "nbconvert_exporter": "python",
   "pygments_lexer": "ipython3",
   "version": "3.9.12"
  }
 },
 "nbformat": 4,
 "nbformat_minor": 5
}
