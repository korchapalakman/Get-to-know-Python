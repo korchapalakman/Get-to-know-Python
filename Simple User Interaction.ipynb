{
 "cells": [
  {
   "cell_type": "markdown",
   "id": "d25bdd0a",
   "metadata": {},
   "source": [
    "## Simple Interaction "
   ]
  },
  {
   "cell_type": "markdown",
   "id": "291cda6c",
   "metadata": {},
   "source": [
    "the followig program will:\n",
    "    1 - display the list\n",
    "    2 - have a user chooice \n",
    "    3 - replace value at index possiton with user choice \n"
   ]
  },
  {
   "cell_type": "markdown",
   "id": "069bbe27",
   "metadata": {},
   "source": [
    "1 - need a function to display the game               \n",
    "2 - where user chooses the position             \n",
    "3 - replacment choice function             \n",
    "4 - game on (keep on playein )"
   ]
  },
  {
   "cell_type": "code",
   "execution_count": null,
   "id": "b842b36a",
   "metadata": {},
   "outputs": [],
   "source": []
  },
  {
   "cell_type": "code",
   "execution_count": 4,
   "id": "9e4a1f60",
   "metadata": {},
   "outputs": [],
   "source": [
    "game_list = [0,1,2]"
   ]
  },
  {
   "cell_type": "code",
   "execution_count": 6,
   "id": "b6893546",
   "metadata": {},
   "outputs": [],
   "source": [
    "#display function \n",
    "\n",
    "def display_game(game_list):\n",
    "    print (\"here is a current list\")\n",
    "    print (game_list)"
   ]
  },
  {
   "cell_type": "code",
   "execution_count": 7,
   "id": "ce47742b",
   "metadata": {},
   "outputs": [
    {
     "name": "stdout",
     "output_type": "stream",
     "text": [
      "here is a current list\n",
      "[0, 1, 2]\n"
     ]
    }
   ],
   "source": [
    "#test\n",
    "display_game(game_list)"
   ]
  },
  {
   "cell_type": "code",
   "execution_count": 19,
   "id": "917a6903",
   "metadata": {},
   "outputs": [],
   "source": [
    "#choice and validation of choice function\n",
    "\n",
    "def possition_choice():\n",
    "    \n",
    "    #variables\n",
    "    choice = \"WHRONG\"\n",
    "    possible_list = [\"1\", \"2\", \"3\"]\n",
    "    \n",
    "    \n",
    "    while choice not in possible_list:\n",
    "        \n",
    "        choice = input (\"Pick a possiiton (0,1,2): \")\n",
    "        \n",
    "        if choice not in possible_list:\n",
    "    \n",
    "            print (\"Sorry, invalid choice\")\n",
    "            \n",
    "            \n",
    "            \n",
    "    return int(choice)"
   ]
  },
  {
   "cell_type": "code",
   "execution_count": 20,
   "id": "d5942dba",
   "metadata": {},
   "outputs": [
    {
     "name": "stdout",
     "output_type": "stream",
     "text": [
      "Pick a possiiton (0,1,2): two\n",
      "Sorry, invalid choice\n",
      "Pick a possiiton (0,1,2): 2\n"
     ]
    },
    {
     "data": {
      "text/plain": [
       "2"
      ]
     },
     "execution_count": 20,
     "metadata": {},
     "output_type": "execute_result"
    }
   ],
   "source": [
    "#test\n",
    "possition_choice()"
   ]
  },
  {
   "cell_type": "code",
   "execution_count": 31,
   "id": "ac988115",
   "metadata": {},
   "outputs": [],
   "source": [
    "#replacment function\n",
    "\n",
    "game_list = [0,1,2]\n",
    "\n",
    "def replacement_choice (game_list, possition):\n",
    "    \n",
    "    \n",
    "    user_placement = input (\"tupe a string to place at possition: \")\n",
    "    \n",
    "    game_list[possition] = user_placement \n",
    "    \n",
    "    return game_list"
   ]
  },
  {
   "cell_type": "code",
   "execution_count": 32,
   "id": "ce67cfbb",
   "metadata": {},
   "outputs": [
    {
     "name": "stdout",
     "output_type": "stream",
     "text": [
      "tupe a string to place at possition: 2\n"
     ]
    },
    {
     "data": {
      "text/plain": [
       "[0, '2', 2]"
      ]
     },
     "execution_count": 32,
     "metadata": {},
     "output_type": "execute_result"
    }
   ],
   "source": [
    "#test\n",
    "replacement (game_list,1)"
   ]
  },
  {
   "cell_type": "code",
   "execution_count": 29,
   "id": "0f98f0f1",
   "metadata": {},
   "outputs": [],
   "source": [
    "#game on function\n",
    "\n",
    "def gameon_choice():\n",
    "    \n",
    "    #variables\n",
    "    choice = \"WHRONG\"\n",
    "    possible_list = [\"N\", \"Y\"]\n",
    "    \n",
    "    \n",
    "    while choice not in possible_list:\n",
    "        \n",
    "        choice = input (\"Keep plying? [Y or N]: \")\n",
    "        \n",
    "        if choice not in possible_list:\n",
    "    \n",
    "            print (\"Sorry, dont understand, choose N or Y\")\n",
    "            \n",
    "    \n",
    "    if choice == \"Y\":\n",
    "        return True\n",
    "            \n",
    "    else:\n",
    "        return False"
   ]
  },
  {
   "cell_type": "code",
   "execution_count": 30,
   "id": "3c16cf96",
   "metadata": {},
   "outputs": [
    {
     "name": "stdout",
     "output_type": "stream",
     "text": [
      "Keep plying? [Y or N]: 21\n",
      "Sorry, dont understand, choose N or Y\n",
      "Keep plying? [Y or N]: no\n",
      "Sorry, dont understand, choose N or Y\n",
      "Keep plying? [Y or N]: Y\n"
     ]
    },
    {
     "data": {
      "text/plain": [
       "True"
      ]
     },
     "execution_count": 30,
     "metadata": {},
     "output_type": "execute_result"
    }
   ],
   "source": [
    "#Test\n",
    "gameon_choice()"
   ]
  },
  {
   "cell_type": "code",
   "execution_count": 34,
   "id": "d1606a06",
   "metadata": {},
   "outputs": [
    {
     "name": "stdout",
     "output_type": "stream",
     "text": [
      "here is a current list\n",
      "[0, 1, 2]\n",
      "Pick a possiiton (0,1,2): no\n",
      "Sorry, invalid choice\n",
      "Pick a possiiton (0,1,2): 2\n",
      "tupe a string to place at possition: MY\n",
      "here is a current list\n",
      "[0, 1, 'MY']\n",
      "Keep plying? [Y or N]: y\n",
      "Sorry, dont understand, choose N or Y\n",
      "Keep plying? [Y or N]: Y\n",
      "here is a current list\n",
      "[0, 1, 'MY']\n",
      "Pick a possiiton (0,1,2): test\n",
      "Sorry, invalid choice\n",
      "Pick a possiiton (0,1,2): 1\n",
      "tupe a string to place at possition: test\n",
      "here is a current list\n",
      "[0, 'test', 'MY']\n",
      "Keep plying? [Y or N]: N\n"
     ]
    }
   ],
   "source": [
    "#the FINAL GAME\n",
    "\n",
    "game_on = True\n",
    "game_list = [0,1,2]\n",
    "\n",
    "\n",
    "while game_on == True:\n",
    "    \n",
    "    display_game(game_list)\n",
    "    \n",
    "    possition = possition_choice()\n",
    "    \n",
    "    game_list = replacement_choice(game_list, possition)\n",
    "    \n",
    "    display_game(game_list)\n",
    "    \n",
    "    game_on = gameon_choice()\n",
    "    \n",
    "    "
   ]
  },
  {
   "cell_type": "code",
   "execution_count": 38,
   "id": "8f2f14ae",
   "metadata": {},
   "outputs": [
    {
     "name": "stdout",
     "output_type": "stream",
     "text": [
      "x\n"
     ]
    }
   ],
   "source": [
    "x = \"10\"\n",
    "print (\"x\")"
   ]
  },
  {
   "cell_type": "code",
   "execution_count": null,
   "id": "f51f8f7a",
   "metadata": {},
   "outputs": [],
   "source": []
  }
 ],
 "metadata": {
  "kernelspec": {
   "display_name": "Python 3 (ipykernel)",
   "language": "python",
   "name": "python3"
  },
  "language_info": {
   "codemirror_mode": {
    "name": "ipython",
    "version": 3
   },
   "file_extension": ".py",
   "mimetype": "text/x-python",
   "name": "python",
   "nbconvert_exporter": "python",
   "pygments_lexer": "ipython3",
   "version": "3.9.12"
  }
 },
 "nbformat": 4,
 "nbformat_minor": 5
}
