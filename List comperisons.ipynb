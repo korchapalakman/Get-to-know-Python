{
 "cells": [
  {
   "cell_type": "code",
   "execution_count": 1,
   "id": "9ecaa3bb",
   "metadata": {},
   "outputs": [],
   "source": [
    "mystring = \"hello\""
   ]
  },
  {
   "cell_type": "code",
   "execution_count": 3,
   "id": "9d0bd2d5",
   "metadata": {},
   "outputs": [
    {
     "name": "stdout",
     "output_type": "stream",
     "text": [
      "['h', 'e', 'l', 'l', 'o']\n"
     ]
    }
   ],
   "source": [
    "mylist = []\n",
    "\n",
    "for letter in mystring:\n",
    "    mylist.append(letter)\n",
    "print (mylist)"
   ]
  },
  {
   "cell_type": "code",
   "execution_count": 4,
   "id": "bbfb7866",
   "metadata": {},
   "outputs": [],
   "source": [
    "#to do the same use list comprehensions"
   ]
  },
  {
   "cell_type": "code",
   "execution_count": 7,
   "id": "00a94e41",
   "metadata": {},
   "outputs": [
    {
     "data": {
      "text/plain": [
       "['h', 'e', 'l', 'l', 'o']"
      ]
     },
     "execution_count": 7,
     "metadata": {},
     "output_type": "execute_result"
    }
   ],
   "source": [
    "mylist = [letter for letter in mystring]\n",
    "mylist"
   ]
  },
  {
   "cell_type": "code",
   "execution_count": 10,
   "id": "b2bd53ca",
   "metadata": {},
   "outputs": [
    {
     "data": {
      "text/plain": [
       "['w', 'o', 'r', 'd']"
      ]
     },
     "execution_count": 10,
     "metadata": {},
     "output_type": "execute_result"
    }
   ],
   "source": [
    "list_a = [z for z in \"word\"]\n",
    "list_a"
   ]
  },
  {
   "cell_type": "code",
   "execution_count": 17,
   "id": "47b265a9",
   "metadata": {},
   "outputs": [],
   "source": [
    "my_list = [x**2 for x in range(0,11)]"
   ]
  },
  {
   "cell_type": "code",
   "execution_count": 18,
   "id": "e3515902",
   "metadata": {},
   "outputs": [
    {
     "data": {
      "text/plain": [
       "[0, 1, 4, 9, 16, 25, 36, 49, 64, 81, 100]"
      ]
     },
     "execution_count": 18,
     "metadata": {},
     "output_type": "execute_result"
    }
   ],
   "source": [
    "my_list"
   ]
  },
  {
   "cell_type": "code",
   "execution_count": 20,
   "id": "15c3e538",
   "metadata": {},
   "outputs": [
    {
     "data": {
      "text/plain": [
       "[0, 1, 4, 9, 16, 25, 36, 49, 64, 81, 100]"
      ]
     },
     "execution_count": 20,
     "metadata": {},
     "output_type": "execute_result"
    }
   ],
   "source": [
    "#without list comprehensions a lot longer\n",
    "my2 = []\n",
    "\n",
    "for x in range (0,11):\n",
    "    my2.append(x**2)\n",
    "my2"
   ]
  },
  {
   "cell_type": "markdown",
   "id": "4c2b465a",
   "metadata": {},
   "source": [
    "## using if statments "
   ]
  },
  {
   "cell_type": "code",
   "execution_count": 22,
   "id": "7309b146",
   "metadata": {},
   "outputs": [
    {
     "data": {
      "text/plain": [
       "[0, 2, 4, 6, 8, 10]"
      ]
     },
     "execution_count": 22,
     "metadata": {},
     "output_type": "execute_result"
    }
   ],
   "source": [
    "#only even numbers\n",
    "myl = [x for x in range (0,11) if x%2 == 0]\n",
    "myl"
   ]
  },
  {
   "cell_type": "code",
   "execution_count": 24,
   "id": "b3a43817",
   "metadata": {},
   "outputs": [
    {
     "data": {
      "text/plain": [
       "[32.0, 50.0, 68.0, 94.1]"
      ]
     },
     "execution_count": 24,
     "metadata": {},
     "output_type": "execute_result"
    }
   ],
   "source": [
    "celcius = [0, 10, 20, 34.5]\n",
    "\n",
    "farenheit = [((9/5)*temp + 32) for temp in celcius]\n",
    "farenheit"
   ]
  },
  {
   "cell_type": "code",
   "execution_count": 32,
   "id": "30e2db28",
   "metadata": {},
   "outputs": [
    {
     "data": {
      "text/plain": [
       "[32.0, 50.0, 68.0, 94.1]"
      ]
     },
     "execution_count": 32,
     "metadata": {},
     "output_type": "execute_result"
    }
   ],
   "source": [
    "far_con = []\n",
    "\n",
    "for x in celcius:\n",
    "    far_con.append(x*(9/5)+32)\n",
    "far_con"
   ]
  },
  {
   "cell_type": "markdown",
   "id": "181caea9",
   "metadata": {},
   "source": [
    "### other example"
   ]
  },
  {
   "cell_type": "code",
   "execution_count": 33,
   "id": "a598239c",
   "metadata": {},
   "outputs": [],
   "source": [
    "#list comprehension\n",
    "\n",
    "celsius = [0, 15, 34, 50]"
   ]
  },
  {
   "cell_type": "code",
   "execution_count": 36,
   "id": "b20ff034",
   "metadata": {},
   "outputs": [
    {
     "data": {
      "text/plain": [
       "[32.0, 59.0, 93.2, 122.0]"
      ]
     },
     "execution_count": 36,
     "metadata": {},
     "output_type": "execute_result"
    }
   ],
   "source": [
    "fareng = [((9/5)*x+32) for x in celsius]\n",
    "fareng"
   ]
  },
  {
   "cell_type": "code",
   "execution_count": 38,
   "id": "b6fb3d58",
   "metadata": {},
   "outputs": [
    {
     "data": {
      "text/plain": [
       "[32.0, 59.0, 93.2, 122.0]"
      ]
     },
     "execution_count": 38,
     "metadata": {},
     "output_type": "execute_result"
    }
   ],
   "source": [
    "#for loop\n",
    "fareng = []\n",
    "\n",
    "for x in celsius:\n",
    "    fareng.append((9/5)*x+32)\n",
    "fareng"
   ]
  },
  {
   "cell_type": "markdown",
   "id": "c901d8f8",
   "metadata": {},
   "source": [
    "## if elif statments"
   ]
  },
  {
   "cell_type": "code",
   "execution_count": null,
   "id": "e4c3ed26",
   "metadata": {},
   "outputs": [],
   "source": [
    "#remember to make the code redable \n",
    "#dont do if unreadable "
   ]
  },
  {
   "cell_type": "code",
   "execution_count": 43,
   "id": "4b3bce9c",
   "metadata": {},
   "outputs": [
    {
     "data": {
      "text/plain": [
       "[0, 'ODD', 2, 'ODD', 4, 'ODD', 6, 'ODD', 8, 'ODD', 10]"
      ]
     },
     "execution_count": 43,
     "metadata": {},
     "output_type": "execute_result"
    }
   ],
   "source": [
    "results = [x if x%2 == 0 else \"ODD\" for x in range (0,11)]\n",
    "results"
   ]
  },
  {
   "cell_type": "markdown",
   "id": "bdfe02b6",
   "metadata": {},
   "source": [
    "## Nested loops "
   ]
  },
  {
   "cell_type": "code",
   "execution_count": 48,
   "id": "8a5ca000",
   "metadata": {},
   "outputs": [
    {
     "name": "stdout",
     "output_type": "stream",
     "text": [
      "[2, 20, 200, 4, 40, 400, 6, 60, 600]\n"
     ]
    }
   ],
   "source": [
    "mlist = []\n",
    "\n",
    "for x in [2, 4, 6]:\n",
    "         for y in [1, 10, 100]:\n",
    "            mlist.append(x*y)\n",
    "print (mlist)"
   ]
  },
  {
   "cell_type": "code",
   "execution_count": 47,
   "id": "651e2eb1",
   "metadata": {},
   "outputs": [
    {
     "data": {
      "text/plain": [
       "[2, 20, 200, 4, 40, 400, 6, 60, 600]"
      ]
     },
     "execution_count": 47,
     "metadata": {},
     "output_type": "execute_result"
    }
   ],
   "source": [
    "#list comprehension example\n",
    "\n",
    "mylist = [x*y for x in [2,4,6] for y in [1,10,100]]\n",
    "mylist"
   ]
  },
  {
   "cell_type": "code",
   "execution_count": null,
   "id": "086325c7",
   "metadata": {},
   "outputs": [],
   "source": []
  }
 ],
 "metadata": {
  "kernelspec": {
   "display_name": "Python 3 (ipykernel)",
   "language": "python",
   "name": "python3"
  },
  "language_info": {
   "codemirror_mode": {
    "name": "ipython",
    "version": 3
   },
   "file_extension": ".py",
   "mimetype": "text/x-python",
   "name": "python",
   "nbconvert_exporter": "python",
   "pygments_lexer": "ipython3",
   "version": "3.9.12"
  }
 },
 "nbformat": 4,
 "nbformat_minor": 5
}
