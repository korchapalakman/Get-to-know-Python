{
 "cells": [
  {
   "cell_type": "markdown",
   "id": "f0681508",
   "metadata": {},
   "source": [
    "# PyPI and Pip Install"
   ]
  },
  {
   "cell_type": "markdown",
   "id": "cb491407",
   "metadata": {},
   "source": [
    "PyPI is a repository for open-source thrird-party Python packages\n",
    "\n",
    "So far we have been working with libraries that come internally with Python\n",
    "\n",
    "There are many other libriaries avaliable that people have open-sourced and shared on PyPI\n",
    "\n",
    "We can use pip instal at the command line to instal these packages"
   ]
  },
  {
   "cell_type": "markdown",
   "id": "04c71081",
   "metadata": {},
   "source": [
    "use command in terninal \n",
    "\n",
    "pip instal name_of_selected libtiarry \n",
    "\n",
    "it will automatically download it from your brouser\n"
   ]
  },
  {
   "cell_type": "markdown",
   "id": "4b4aeabd",
   "metadata": {},
   "source": [
    "# Writing own modules and packages"
   ]
  },
  {
   "cell_type": "markdown",
   "id": "aca321b8",
   "metadata": {},
   "source": [
    "Modules are .py stripts that you call in another .py script\n",
    "\n",
    "Packages are collection of modules\n",
    "\n",
    "\n",
    "we use sublime text edditor for that "
   ]
  },
  {
   "cell_type": "code",
   "execution_count": null,
   "id": "a7c9bee0",
   "metadata": {},
   "outputs": [],
   "source": []
  }
 ],
 "metadata": {
  "kernelspec": {
   "display_name": "Python 3 (ipykernel)",
   "language": "python",
   "name": "python3"
  },
  "language_info": {
   "codemirror_mode": {
    "name": "ipython",
    "version": 3
   },
   "file_extension": ".py",
   "mimetype": "text/x-python",
   "name": "python",
   "nbconvert_exporter": "python",
   "pygments_lexer": "ipython3",
   "version": "3.9.12"
  }
 },
 "nbformat": 4,
 "nbformat_minor": 5
}
