{
 "cells": [
  {
   "cell_type": "code",
   "execution_count": 1,
   "id": "3b0d414a",
   "metadata": {},
   "outputs": [],
   "source": [
    "# create an individual file\n",
    "\n",
    "f = open (\"fileone.txt\", \"w+\")\n",
    "f.write(\"One file\")\n",
    "f.close()"
   ]
  },
  {
   "cell_type": "code",
   "execution_count": 2,
   "id": "79972e27",
   "metadata": {},
   "outputs": [],
   "source": [
    "f = open (\"filetwo.txt\", \"w+\")\n",
    "f.write(\"Two file\")\n",
    "f.close()"
   ]
  },
  {
   "cell_type": "code",
   "execution_count": 3,
   "id": "27edda79",
   "metadata": {},
   "outputs": [],
   "source": [
    "import zipfile\n",
    "\n",
    "# works with single files"
   ]
  },
  {
   "cell_type": "code",
   "execution_count": 5,
   "id": "4017fc18",
   "metadata": {},
   "outputs": [],
   "source": [
    "# we will now create a compressed file \n",
    "# a place holder for our future files\n",
    "\n",
    "comp_file = zipfile.ZipFile(\"comp_file.zip\", \"w\")"
   ]
  },
  {
   "cell_type": "code",
   "execution_count": 7,
   "id": "1bc989d5",
   "metadata": {},
   "outputs": [
    {
     "name": "stderr",
     "output_type": "stream",
     "text": [
      "/Users/vazgenosipov/opt/anaconda3/lib/python3.9/zipfile.py:1514: UserWarning: Duplicate name: 'fileone.txt'\n",
      "  return self._open_to_write(zinfo, force_zip64=force_zip64)\n"
     ]
    }
   ],
   "source": [
    "comp_file.write(\"fileone.txt\", compress_type = zipfile.ZIP_DEFLATED)\n",
    "\n",
    "# grabed the text file \"fileone\" \n",
    "# compressed it to ZIP_DEFLATED\n",
    "# and writen it to the zip file \"comp_file\"\n",
    "# comp_file is still open"
   ]
  },
  {
   "cell_type": "code",
   "execution_count": 8,
   "id": "df9b1004",
   "metadata": {},
   "outputs": [],
   "source": [
    "comp_file.write(\"filetwo.txt\", compress_type = zipfile.ZIP_DEFLATED)\n",
    "\n",
    "# compresses one file"
   ]
  },
  {
   "cell_type": "code",
   "execution_count": 9,
   "id": "a9c570d3",
   "metadata": {},
   "outputs": [],
   "source": [
    "comp_file.close()"
   ]
  },
  {
   "cell_type": "code",
   "execution_count": 10,
   "id": "9122c131",
   "metadata": {},
   "outputs": [],
   "source": [
    "# extract the files from zip\n",
    "\n",
    "zip_obj = zipfile.ZipFile(\"comp_file.zip\", \"r\")"
   ]
  },
  {
   "cell_type": "code",
   "execution_count": 11,
   "id": "6c3c5973",
   "metadata": {},
   "outputs": [],
   "source": [
    "# zip_obj.extract to extract a single file\n",
    "\n",
    "zip_obj.extractall(\"extracted_content\")\n",
    "\n",
    "# extracted all files in a created in parantesis folder"
   ]
  },
  {
   "cell_type": "code",
   "execution_count": 12,
   "id": "65c8f4db",
   "metadata": {},
   "outputs": [],
   "source": [
    "import shutil\n",
    "\n",
    "# works with entire folder"
   ]
  },
  {
   "cell_type": "code",
   "execution_count": 14,
   "id": "4e72c807",
   "metadata": {},
   "outputs": [
    {
     "data": {
      "text/plain": [
       "'/Users/vazgenosipov/Desktop/Python/work sheets'"
      ]
     },
     "execution_count": 14,
     "metadata": {},
     "output_type": "execute_result"
    }
   ],
   "source": [
    "pwd"
   ]
  },
  {
   "cell_type": "code",
   "execution_count": 15,
   "id": "4b1147a3",
   "metadata": {},
   "outputs": [],
   "source": [
    "### now we will compress the entire folder \"extracted_content\"\n",
    "\n",
    "dir_to_zip = '/Users/vazgenosipov/Desktop/Python/work sheets/extracted_content'\n"
   ]
  },
  {
   "cell_type": "code",
   "execution_count": 16,
   "id": "7b8f5668",
   "metadata": {},
   "outputs": [],
   "source": [
    "output_filename = \"example\""
   ]
  },
  {
   "cell_type": "code",
   "execution_count": 17,
   "id": "c0ccdfc8",
   "metadata": {},
   "outputs": [
    {
     "data": {
      "text/plain": [
       "'/Users/vazgenosipov/Desktop/Python/work sheets/example.zip'"
      ]
     },
     "execution_count": 17,
     "metadata": {},
     "output_type": "execute_result"
    }
   ],
   "source": [
    "shutil.make_archive(output_filename, \"zip\",dir_to_zip)\n",
    "\n",
    "# the file mast apper in the dr folder"
   ]
  },
  {
   "cell_type": "code",
   "execution_count": 18,
   "id": "a08dd452",
   "metadata": {},
   "outputs": [],
   "source": [
    "### extrect the conten \n",
    "\n",
    "shutil.unpack_archive(\"example.zip\", \"final_unzip\", \"zip\")"
   ]
  },
  {
   "cell_type": "code",
   "execution_count": null,
   "id": "ea27ef33",
   "metadata": {},
   "outputs": [],
   "source": []
  }
 ],
 "metadata": {
  "kernelspec": {
   "display_name": "Python 3 (ipykernel)",
   "language": "python",
   "name": "python3"
  },
  "language_info": {
   "codemirror_mode": {
    "name": "ipython",
    "version": 3
   },
   "file_extension": ".py",
   "mimetype": "text/x-python",
   "name": "python",
   "nbconvert_exporter": "python",
   "pygments_lexer": "ipython3",
   "version": "3.9.12"
  }
 },
 "nbformat": 4,
 "nbformat_minor": 5
}
