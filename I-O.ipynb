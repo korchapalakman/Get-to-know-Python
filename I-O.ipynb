{
 "cells": [
  {
   "cell_type": "code",
   "execution_count": 3,
   "id": "ffe27e55",
   "metadata": {},
   "outputs": [],
   "source": [
    "#how to create a text file"
   ]
  },
  {
   "cell_type": "code",
   "execution_count": 2,
   "id": "3e6626e3",
   "metadata": {},
   "outputs": [
    {
     "name": "stdout",
     "output_type": "stream",
     "text": [
      "Writing myfile.txt\n"
     ]
    }
   ],
   "source": [
    "%%writefile myfile.txt\n",
    "Hello this is a text file\n",
    "this is a second line \n",
    "this is a third line "
   ]
  },
  {
   "cell_type": "code",
   "execution_count": 4,
   "id": "25600e40",
   "metadata": {},
   "outputs": [
    {
     "data": {
      "text/plain": [
       "'/Users/vazgenosipov/Desktop/Python/work sheets'"
      ]
     },
     "execution_count": 4,
     "metadata": {},
     "output_type": "execute_result"
    }
   ],
   "source": [
    "pwd\n",
    "\n",
    "#have to create a txt folder in the same place as jupiter notebook"
   ]
  },
  {
   "cell_type": "code",
   "execution_count": 6,
   "id": "d30ddb32",
   "metadata": {},
   "outputs": [],
   "source": [
    "myfile = open(\"myfile.txt\")"
   ]
  },
  {
   "cell_type": "code",
   "execution_count": null,
   "id": "da512485",
   "metadata": {},
   "outputs": [],
   "source": [
    "#above line represents the code to check wether you have your txt file in the same folder"
   ]
  },
  {
   "cell_type": "code",
   "execution_count": 8,
   "id": "c62b09ee",
   "metadata": {},
   "outputs": [
    {
     "data": {
      "text/plain": [
       "'Hello this is a text file\\nthis is a second line \\nthis is a third line \\n'"
      ]
     },
     "execution_count": 8,
     "metadata": {},
     "output_type": "execute_result"
    }
   ],
   "source": [
    " myfile.read()"
   ]
  },
  {
   "cell_type": "code",
   "execution_count": 10,
   "id": "1eb97673",
   "metadata": {},
   "outputs": [
    {
     "data": {
      "text/plain": [
       "''"
      ]
     },
     "execution_count": 10,
     "metadata": {},
     "output_type": "execute_result"
    }
   ],
   "source": [
    "myfile.read()\n",
    "#you will get none because you have to reset the curser to start by command below"
   ]
  },
  {
   "cell_type": "code",
   "execution_count": 11,
   "id": "172f6d14",
   "metadata": {},
   "outputs": [
    {
     "data": {
      "text/plain": [
       "0"
      ]
     },
     "execution_count": 11,
     "metadata": {},
     "output_type": "execute_result"
    }
   ],
   "source": [
    "myfile.seek(0)"
   ]
  },
  {
   "cell_type": "code",
   "execution_count": 13,
   "id": "5e8c7417",
   "metadata": {},
   "outputs": [
    {
     "data": {
      "text/plain": [
       "'Hello this is a text file\\nthis is a second line \\nthis is a third line \\n'"
      ]
     },
     "execution_count": 13,
     "metadata": {},
     "output_type": "execute_result"
    }
   ],
   "source": [
    "myfile.read()"
   ]
  },
  {
   "cell_type": "code",
   "execution_count": 14,
   "id": "9e525a14",
   "metadata": {},
   "outputs": [
    {
     "data": {
      "text/plain": [
       "0"
      ]
     },
     "execution_count": 14,
     "metadata": {},
     "output_type": "execute_result"
    }
   ],
   "source": [
    "myfile.seek(0)"
   ]
  },
  {
   "cell_type": "code",
   "execution_count": 15,
   "id": "b36ddbbe",
   "metadata": {},
   "outputs": [],
   "source": [
    "content = myfile.read()"
   ]
  },
  {
   "cell_type": "code",
   "execution_count": 16,
   "id": "f5725f09",
   "metadata": {},
   "outputs": [
    {
     "data": {
      "text/plain": [
       "'Hello this is a text file\\nthis is a second line \\nthis is a third line \\n'"
      ]
     },
     "execution_count": 16,
     "metadata": {},
     "output_type": "execute_result"
    }
   ],
   "source": [
    "content\n"
   ]
  },
  {
   "cell_type": "code",
   "execution_count": 17,
   "id": "7a93c9b1",
   "metadata": {},
   "outputs": [
    {
     "data": {
      "text/plain": [
       "'Hello this is a text file\\nthis is a second line \\nthis is a third line \\n'"
      ]
     },
     "execution_count": 17,
     "metadata": {},
     "output_type": "execute_result"
    }
   ],
   "source": [
    "content"
   ]
  },
  {
   "cell_type": "code",
   "execution_count": 18,
   "id": "c682e4b6",
   "metadata": {},
   "outputs": [
    {
     "data": {
      "text/plain": [
       "0"
      ]
     },
     "execution_count": 18,
     "metadata": {},
     "output_type": "execute_result"
    }
   ],
   "source": [
    "myfile.seek(0)"
   ]
  },
  {
   "cell_type": "code",
   "execution_count": 19,
   "id": "f7219b0c",
   "metadata": {},
   "outputs": [
    {
     "data": {
      "text/plain": [
       "['Hello this is a text file\\n',\n",
       " 'this is a second line \\n',\n",
       " 'this is a third line \\n']"
      ]
     },
     "execution_count": 19,
     "metadata": {},
     "output_type": "execute_result"
    }
   ],
   "source": [
    "myfile.readlines()"
   ]
  },
  {
   "cell_type": "code",
   "execution_count": 20,
   "id": "efca4027",
   "metadata": {},
   "outputs": [
    {
     "data": {
      "text/plain": [
       "[]"
      ]
     },
     "execution_count": 20,
     "metadata": {},
     "output_type": "execute_result"
    }
   ],
   "source": [
    "myfile.readlines()"
   ]
  },
  {
   "cell_type": "code",
   "execution_count": 21,
   "id": "24de27b1",
   "metadata": {},
   "outputs": [],
   "source": [
    "#file locations below\n"
   ]
  },
  {
   "cell_type": "code",
   "execution_count": 24,
   "id": "5ae347e9",
   "metadata": {},
   "outputs": [],
   "source": [
    "myfile = open(\"/Users/vazgenosipov/Desktop/Python/work sheets/myfile.txt\")"
   ]
  },
  {
   "cell_type": "code",
   "execution_count": 25,
   "id": "7263a1da",
   "metadata": {},
   "outputs": [
    {
     "data": {
      "text/plain": [
       "'/Users/vazgenosipov/Desktop/Python/work sheets'"
      ]
     },
     "execution_count": 25,
     "metadata": {},
     "output_type": "execute_result"
    }
   ],
   "source": [
    "pwd"
   ]
  },
  {
   "cell_type": "code",
   "execution_count": 26,
   "id": "d5067d1b",
   "metadata": {},
   "outputs": [],
   "source": [
    "myfile.close()"
   ]
  },
  {
   "cell_type": "code",
   "execution_count": 29,
   "id": "59398f97",
   "metadata": {},
   "outputs": [],
   "source": [
    "with open (\"myfile.txt\") as my_new_file:\n",
    "    content = my_new_file.read()\n",
    "#to work with a file and not care if it is closed "
   ]
  },
  {
   "cell_type": "code",
   "execution_count": 30,
   "id": "19f3f0c0",
   "metadata": {},
   "outputs": [
    {
     "data": {
      "text/plain": [
       "'Hello this is a text file\\nthis is a second line \\nthis is a third line \\n'"
      ]
     },
     "execution_count": 30,
     "metadata": {},
     "output_type": "execute_result"
    }
   ],
   "source": [
    "content"
   ]
  },
  {
   "cell_type": "code",
   "execution_count": 31,
   "id": "337d9d3c",
   "metadata": {},
   "outputs": [],
   "source": [
    "with open (\"myfile.txt\",mode='r') as new_file:\n",
    "    content = new_file.read()"
   ]
  },
  {
   "cell_type": "code",
   "execution_count": 32,
   "id": "b022dc5d",
   "metadata": {},
   "outputs": [
    {
     "name": "stdout",
     "output_type": "stream",
     "text": [
      "Writing my_file.txt\n"
     ]
    }
   ],
   "source": [
    "%%writefile my_file.txt\n",
    "one in the room\n",
    "two in the house \n",
    "three in the club \n",
    "five in the car"
   ]
  },
  {
   "cell_type": "code",
   "execution_count": 33,
   "id": "e872dd81",
   "metadata": {},
   "outputs": [
    {
     "name": "stdout",
     "output_type": "stream",
     "text": [
      "one in the room\n",
      "two in the house \n",
      "three in the club \n",
      "five in the car\n",
      "\n"
     ]
    }
   ],
   "source": [
    "#this mode will only allow to read the txt file\n",
    "with open('my_file.txt', mode = \"r\") as f:\n",
    "    print (f.read())"
   ]
  },
  {
   "cell_type": "code",
   "execution_count": 35,
   "id": "a1c46560",
   "metadata": {},
   "outputs": [],
   "source": [
    "#with will only allow to append additional info \n",
    "with open (\"my_file.txt\", mode = \"a\") as d:\n",
    "    d.write(\"six on street\")"
   ]
  },
  {
   "cell_type": "code",
   "execution_count": 37,
   "id": "d09b7419",
   "metadata": {},
   "outputs": [
    {
     "name": "stdout",
     "output_type": "stream",
     "text": [
      "one in the room\n",
      "two in the house \n",
      "three in the club \n",
      "five in the car\n",
      "six on street\n"
     ]
    }
   ],
   "source": [
    "#to see the change a need to read it again\n",
    "with open (\"my_file.txt\", mode = \"r\") as d:\n",
    "    print(d.read())\n"
   ]
  },
  {
   "cell_type": "code",
   "execution_count": 42,
   "id": "76bcc441",
   "metadata": {},
   "outputs": [],
   "source": [
    "#with mode=w you can create a new file if none exists\n",
    "#and insert a text in it \n",
    "with open (\"myNEWfile.txt\", mode = \"w\") as n:\n",
    "    n.write (\"i created a new file\\nthe file will contain some info\\nthe forth line will contain a name\\nthe name is Vazgen\")"
   ]
  },
  {
   "cell_type": "code",
   "execution_count": 43,
   "id": "6d831cea",
   "metadata": {},
   "outputs": [
    {
     "name": "stdout",
     "output_type": "stream",
     "text": [
      "i created a new file\n",
      "the file will contain some info\n",
      "the forth line will contain a name\n",
      "the name is Vazgen\n"
     ]
    }
   ],
   "source": [
    "with open (\"myNEWfile.txt\", mode = \"r\") as n:\n",
    "    print(n.read())"
   ]
  },
  {
   "cell_type": "code",
   "execution_count": null,
   "id": "f3ef3467",
   "metadata": {},
   "outputs": [],
   "source": []
  }
 ],
 "metadata": {
  "kernelspec": {
   "display_name": "Python 3 (ipykernel)",
   "language": "python",
   "name": "python3"
  },
  "language_info": {
   "codemirror_mode": {
    "name": "ipython",
    "version": 3
   },
   "file_extension": ".py",
   "mimetype": "text/x-python",
   "name": "python",
   "nbconvert_exporter": "python",
   "pygments_lexer": "ipython3",
   "version": "3.9.12"
  }
 },
 "nbformat": 4,
 "nbformat_minor": 5
}
