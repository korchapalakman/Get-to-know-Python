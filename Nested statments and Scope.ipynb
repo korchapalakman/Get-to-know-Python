{
 "cells": [
  {
   "cell_type": "code",
   "execution_count": 1,
   "id": "00e9403d",
   "metadata": {},
   "outputs": [],
   "source": [
    "x = 25\n",
    "\n",
    "def printer ():\n",
    "    x = 50\n",
    "    return x"
   ]
  },
  {
   "cell_type": "code",
   "execution_count": 2,
   "id": "58aa48a7",
   "metadata": {},
   "outputs": [
    {
     "name": "stdout",
     "output_type": "stream",
     "text": [
      "25\n"
     ]
    }
   ],
   "source": [
    "print (x)"
   ]
  },
  {
   "cell_type": "code",
   "execution_count": 3,
   "id": "ac7beff7",
   "metadata": {},
   "outputs": [
    {
     "name": "stdout",
     "output_type": "stream",
     "text": [
      "50\n"
     ]
    }
   ],
   "source": [
    "print (printer())"
   ]
  },
  {
   "cell_type": "markdown",
   "id": "38a798d3",
   "metadata": {},
   "source": [
    "### LEGB rule oreder by whitch the python will search for the variables"
   ]
  },
  {
   "cell_type": "code",
   "execution_count": 8,
   "id": "38464318",
   "metadata": {},
   "outputs": [],
   "source": [
    "#build in functions are 4th (like len or max ot min)\n",
    "\n",
    "#Global circle is 3rd\n",
    "name = \"Global\"\n",
    "\n",
    "def greet():\n",
    "    #Enclosing circle of search 2nd in the search\n",
    "    name = \"Enclosing\"\n",
    "    \n",
    "    def hello():\n",
    "        #local circle is the 1st in the search\n",
    "        \n",
    "        name = \"Local\"\n",
    "        print (\"hello \" + name)\n",
    "    hello()"
   ]
  },
  {
   "cell_type": "code",
   "execution_count": 7,
   "id": "87364785",
   "metadata": {},
   "outputs": [
    {
     "name": "stdout",
     "output_type": "stream",
     "text": [
      "hello Local\n"
     ]
    }
   ],
   "source": [
    "greet()"
   ]
  },
  {
   "cell_type": "code",
   "execution_count": 9,
   "id": "cabc8b10",
   "metadata": {},
   "outputs": [],
   "source": [
    "#global assigment \n",
    "x = 500\n",
    "\n",
    "\n",
    "def func(x):\n",
    "    print (f\"x is {x}\")"
   ]
  },
  {
   "cell_type": "code",
   "execution_count": 10,
   "id": "02690365",
   "metadata": {},
   "outputs": [
    {
     "name": "stdout",
     "output_type": "stream",
     "text": [
      "x is 50\n"
     ]
    }
   ],
   "source": [
    "func(x)"
   ]
  },
  {
   "cell_type": "code",
   "execution_count": 20,
   "id": "a93d6b16",
   "metadata": {},
   "outputs": [],
   "source": [
    "#global (3rd level) assigment \n",
    "x = 50\n",
    "\n",
    "\n",
    "def func(x):\n",
    "    print (f\"x was --> {x}\")\n",
    "    #local reassigment \n",
    "    x = 250\n",
    "    print (f\"x became 250 because we localy reasigmed it see ---> {x}\")"
   ]
  },
  {
   "cell_type": "code",
   "execution_count": 21,
   "id": "18cc7db1",
   "metadata": {},
   "outputs": [
    {
     "name": "stdout",
     "output_type": "stream",
     "text": [
      "x was --> 50\n",
      "x became 250 because we localy reasigmed it see ---> 250\n"
     ]
    }
   ],
   "source": [
    "func(x)"
   ]
  },
  {
   "cell_type": "code",
   "execution_count": 13,
   "id": "65038656",
   "metadata": {},
   "outputs": [
    {
     "name": "stdout",
     "output_type": "stream",
     "text": [
      "50\n"
     ]
    }
   ],
   "source": [
    "print (x)\n",
    "\n",
    "#because local 1st level happeing inside a function\n",
    "#not affeciting anything at a higher scope"
   ]
  },
  {
   "cell_type": "markdown",
   "id": "71bcd05b",
   "metadata": {},
   "source": [
    "#### to affect global variables in local functions use the global comand "
   ]
  },
  {
   "cell_type": "code",
   "execution_count": 39,
   "id": "7bd38dc5",
   "metadata": {},
   "outputs": [],
   "source": [
    "#global (3rd level)\n",
    "x = 50\n",
    "\n",
    "#instead of passing the x in the parantethis \n",
    "#leave them empty \n",
    "#go to global level and grab x varibale\n",
    "#anything happening in the assigment in function \n",
    "#will affect global x\n",
    "\n",
    "def func():\n",
    "\n",
    "    global x\n",
    "    #before change below\n",
    "    print (f\"X used to be -> {x}\")\n",
    "    \n",
    "    \n",
    "    #local reasigment \n",
    "    x = \"I am local\"\n",
    "    print (f\"x is now --> {x}\")"
   ]
  },
  {
   "cell_type": "code",
   "execution_count": 40,
   "id": "c683a141",
   "metadata": {},
   "outputs": [
    {
     "name": "stdout",
     "output_type": "stream",
     "text": [
      "X used to be -> 50\n",
      "x is now --> I am local\n"
     ]
    }
   ],
   "source": [
    "func ()"
   ]
  },
  {
   "cell_type": "code",
   "execution_count": 41,
   "id": "a40b7e3c",
   "metadata": {},
   "outputs": [
    {
     "name": "stdout",
     "output_type": "stream",
     "text": [
      "I am local\n"
     ]
    }
   ],
   "source": [
    "print(x)"
   ]
  },
  {
   "cell_type": "code",
   "execution_count": 42,
   "id": "6ba9a196",
   "metadata": {},
   "outputs": [],
   "source": [
    "#try not to do, better if you do it simplier\n",
    "#much safer!!!\n",
    "\n",
    "#global (3rd level)\n",
    "x = 50\n",
    "\n",
    "\n",
    "def func(x):\n",
    "    #before change below\n",
    "    print (f\"X used to be -> {x}\")\n",
    "    \n",
    "    #local reasigment \n",
    "    x = \"I am local\"\n",
    "    print (f\"x is now --> {x}\")\n",
    "    return x\n",
    "\n",
    "\n"
   ]
  },
  {
   "cell_type": "code",
   "execution_count": 43,
   "id": "2d3d6f56",
   "metadata": {},
   "outputs": [
    {
     "name": "stdout",
     "output_type": "stream",
     "text": [
      "50\n"
     ]
    }
   ],
   "source": [
    "print (x)"
   ]
  },
  {
   "cell_type": "code",
   "execution_count": 45,
   "id": "6b6d7edc",
   "metadata": {},
   "outputs": [
    {
     "name": "stdout",
     "output_type": "stream",
     "text": [
      "X used to be -> I am local\n",
      "x is now --> I am local\n"
     ]
    }
   ],
   "source": [
    "x = func(x)"
   ]
  },
  {
   "cell_type": "code",
   "execution_count": 46,
   "id": "bcd07d2e",
   "metadata": {},
   "outputs": [
    {
     "data": {
      "text/plain": [
       "'I am local'"
      ]
     },
     "execution_count": 46,
     "metadata": {},
     "output_type": "execute_result"
    }
   ],
   "source": [
    "x"
   ]
  },
  {
   "cell_type": "code",
   "execution_count": null,
   "id": "f3f0571f",
   "metadata": {},
   "outputs": [],
   "source": []
  }
 ],
 "metadata": {
  "kernelspec": {
   "display_name": "Python 3 (ipykernel)",
   "language": "python",
   "name": "python3"
  },
  "language_info": {
   "codemirror_mode": {
    "name": "ipython",
    "version": 3
   },
   "file_extension": ".py",
   "mimetype": "text/x-python",
   "name": "python",
   "nbconvert_exporter": "python",
   "pygments_lexer": "ipython3",
   "version": "3.9.12"
  }
 },
 "nbformat": 4,
 "nbformat_minor": 5
}
