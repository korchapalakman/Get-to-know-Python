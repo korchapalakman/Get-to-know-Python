{
 "cells": [
  {
   "cell_type": "markdown",
   "id": "260d624f",
   "metadata": {},
   "source": [
    "## Two functional parameters"
   ]
  },
  {
   "cell_type": "markdown",
   "id": "d72ab7f7",
   "metadata": {},
   "source": [
    "args - arbitrary number of arguments\n",
    "\n",
    "\n",
    "\n",
    "kwargs - key word arguments"
   ]
  },
  {
   "cell_type": "code",
   "execution_count": 1,
   "id": "9c6c725a",
   "metadata": {},
   "outputs": [],
   "source": [
    "def myfunc (a,b,c=0,d=0):#by defalt=0 to add additional parameters to function in case called\n",
    "    \n",
    "    \"\"\"\n",
    "    returns 5% of the sum of a and b\n",
    "    \"\"\"\n",
    "    return sum((a,b,c,d))*0.05\n",
    "#take a look at the sum tuple "
   ]
  },
  {
   "cell_type": "code",
   "execution_count": 3,
   "id": "68a079b9",
   "metadata": {},
   "outputs": [
    {
     "data": {
      "text/plain": [
       "5.0"
      ]
     },
     "execution_count": 3,
     "metadata": {},
     "output_type": "execute_result"
    }
   ],
   "source": [
    "myfunc (40,60)"
   ]
  },
  {
   "cell_type": "markdown",
   "id": "b84f866f",
   "metadata": {},
   "source": [
    "in above a,b,c,d,e are possitional arguments \n",
    "the problem is that they may run off \n",
    "to solve \n",
    "use arbitrary (произвольный) arguments"
   ]
  },
  {
   "cell_type": "markdown",
   "id": "4a38b83e",
   "metadata": {},
   "source": [
    "## *args (tuple)"
   ]
  },
  {
   "cell_type": "code",
   "execution_count": 9,
   "id": "9680287a",
   "metadata": {},
   "outputs": [],
   "source": [
    "def myfunc (*args): #note that *args is treated as a tuple\n",
    "    print (args)\n",
    "    return sum(args)*0.05"
   ]
  },
  {
   "cell_type": "code",
   "execution_count": 10,
   "id": "e0810bf8",
   "metadata": {},
   "outputs": [
    {
     "name": "stdout",
     "output_type": "stream",
     "text": [
      "(40, 60, 70, 90, 100)\n"
     ]
    },
    {
     "data": {
      "text/plain": [
       "18.0"
      ]
     },
     "execution_count": 10,
     "metadata": {},
     "output_type": "execute_result"
    }
   ],
   "source": [
    "#all the paramenters you will enter in the function \n",
    "#would be placed in a tuple (since tuples are iterable)\n",
    "myfunc (40,60,70,90,100)"
   ]
  },
  {
   "cell_type": "markdown",
   "id": "1419bad7",
   "metadata": {},
   "source": [
    "as you can see, everything you have enterd in the \n",
    "function becomes a part of a tuple and is treated as \n",
    "function input"
   ]
  },
  {
   "cell_type": "markdown",
   "id": "6cdee150",
   "metadata": {},
   "source": [
    "### have to remember that you are able to do so only by * placed\n",
    "in function parameters args in the example is a made up keyword"
   ]
  },
  {
   "cell_type": "code",
   "execution_count": 11,
   "id": "9bf02f53",
   "metadata": {},
   "outputs": [],
   "source": [
    "def myfunc (*x): #note that *args is treated as a tuple\n",
    "    print (x)\n",
    "    return sum(x)*0.05"
   ]
  },
  {
   "cell_type": "code",
   "execution_count": 13,
   "id": "4cd9384c",
   "metadata": {},
   "outputs": [
    {
     "name": "stdout",
     "output_type": "stream",
     "text": [
      "(40, 60, 70, 90, 100)\n"
     ]
    },
    {
     "data": {
      "text/plain": [
       "18.0"
      ]
     },
     "execution_count": 13,
     "metadata": {},
     "output_type": "execute_result"
    }
   ],
   "source": [
    "#all the paramenters you will enter in the function \n",
    "#would be placed in a tuple (since tuples are iterable)\n",
    "\n",
    "\n",
    "myfunc (40,60,70,90,100)"
   ]
  },
  {
   "cell_type": "code",
   "execution_count": 14,
   "id": "c16ae594",
   "metadata": {},
   "outputs": [],
   "source": [
    "#may play with them\n",
    "def myfunc (*args): \n",
    "    for x in args:\n",
    "        print (x)"
   ]
  },
  {
   "cell_type": "code",
   "execution_count": 15,
   "id": "f93cf22b",
   "metadata": {},
   "outputs": [
    {
     "name": "stdout",
     "output_type": "stream",
     "text": [
      "10\n",
      "20\n",
      "2\n",
      "5\n",
      "6\n",
      "7\n",
      "8\n",
      "20\n"
     ]
    }
   ],
   "source": [
    "myfunc (10,20,2,5,6,7,8,20)"
   ]
  },
  {
   "cell_type": "markdown",
   "id": "ec801174",
   "metadata": {},
   "source": [
    "## **kwargs (dict)"
   ]
  },
  {
   "cell_type": "markdown",
   "id": "23eafd44",
   "metadata": {},
   "source": [
    "similar to args however here you handel key worded arguments"
   ]
  },
  {
   "cell_type": "code",
   "execution_count": 37,
   "id": "8ca54179",
   "metadata": {},
   "outputs": [],
   "source": [
    "def myfunc (**kwargs):#build a dict of key value pairs\n",
    "    print (kwargs)\n",
    "    if \"fruit\" in kwargs:   #if fuit is in keyword arguments\n",
    "        print (\"my fruit of choice is {one}\".format(one = kwargs[\"fruit\"]))\n",
    "        \n",
    "    else:\n",
    "        print (\"no fruits\")"
   ]
  },
  {
   "cell_type": "code",
   "execution_count": 35,
   "id": "49363a25",
   "metadata": {},
   "outputs": [
    {
     "name": "stdout",
     "output_type": "stream",
     "text": [
      "my fruit of choice is apple\n"
     ]
    }
   ],
   "source": [
    "myfunc(fruit = \"apple\")"
   ]
  },
  {
   "cell_type": "code",
   "execution_count": 38,
   "id": "b174258c",
   "metadata": {},
   "outputs": [
    {
     "name": "stdout",
     "output_type": "stream",
     "text": [
      "{'fruit': 'apple', 'veggie': 'lettuce'}\n",
      "my fruit of choice is apple\n"
     ]
    }
   ],
   "source": [
    "#if I add additional statment python won't complain \n",
    "myfunc(fruit = \"apple\", veggie = \"lettuce\")"
   ]
  },
  {
   "cell_type": "markdown",
   "id": "6f1dd204",
   "metadata": {},
   "source": [
    "## example with * and **"
   ]
  },
  {
   "cell_type": "code",
   "execution_count": 54,
   "id": "527f1ec4",
   "metadata": {},
   "outputs": [],
   "source": [
    "def funct (*args, **kwargs): \n",
    "    print (args)\n",
    "    print (kwargs)\n",
    "    print (\"\\n\")\n",
    "    print (\" i would like {} {}\".format (args [0], kwargs ['food']))"
   ]
  },
  {
   "cell_type": "code",
   "execution_count": 56,
   "id": "08e62381",
   "metadata": {},
   "outputs": [
    {
     "name": "stdout",
     "output_type": "stream",
     "text": [
      "(10, 20, 30)\n",
      "{'food': 'jelly', 'nonfood': 'sofa', 'fruit': 'pinaple'}\n",
      "\n",
      "\n",
      " i would like 10 jelly\n"
     ]
    }
   ],
   "source": [
    "funct (10,20,30, food = \"jelly\", nonfood = \"sofa\", fruit = \"pinaple\")\n",
    "\n",
    "#may place as many numbers as you wont they will be placed in a tuple\n",
    "#may place as many key waord as needed they will be placed in dict\n",
    "#remember not to mix * with **\n",
    "#follow the order "
   ]
  },
  {
   "cell_type": "code",
   "execution_count": 14,
   "id": "fcbd736a",
   "metadata": {},
   "outputs": [
    {
     "data": {
      "text/plain": [
       "26"
      ]
     },
     "execution_count": 14,
     "metadata": {},
     "output_type": "execute_result"
    }
   ],
   "source": [
    "a =7\n",
    "b = 8\n",
    "c = 11\n",
    "sum ((a,b,c))"
   ]
  },
  {
   "cell_type": "code",
   "execution_count": 15,
   "id": "6a46b136",
   "metadata": {},
   "outputs": [
    {
     "name": "stdout",
     "output_type": "stream",
     "text": [
      "11\n"
     ]
    }
   ],
   "source": [
    "if 11 in [a,b,c]:\n",
    "    print (11)"
   ]
  },
  {
   "cell_type": "code",
   "execution_count": null,
   "id": "daa49874",
   "metadata": {},
   "outputs": [],
   "source": []
  },
  {
   "cell_type": "code",
   "execution_count": null,
   "id": "3d43db20",
   "metadata": {},
   "outputs": [],
   "source": []
  }
 ],
 "metadata": {
  "kernelspec": {
   "display_name": "Python 3 (ipykernel)",
   "language": "python",
   "name": "python3"
  },
  "language_info": {
   "codemirror_mode": {
    "name": "ipython",
    "version": 3
   },
   "file_extension": ".py",
   "mimetype": "text/x-python",
   "name": "python",
   "nbconvert_exporter": "python",
   "pygments_lexer": "ipython3",
   "version": "3.9.12"
  }
 },
 "nbformat": 4,
 "nbformat_minor": 5
}
