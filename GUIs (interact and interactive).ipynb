{
 "cells": [
  {
   "cell_type": "markdown",
   "id": "ee3e09b7",
   "metadata": {},
   "source": [
    "Widgets are eventful python objects that have a representation in the browser, often as a control like a slider, textbox, et"
   ]
  },
  {
   "cell_type": "markdown",
   "id": "54ed7197",
   "metadata": {},
   "source": [
    "# Interact "
   ]
  },
  {
   "cell_type": "code",
   "execution_count": 1,
   "id": "05889012",
   "metadata": {},
   "outputs": [],
   "source": [
    "from ipywidgets import interact, interactive, fixed\n",
    "import ipywidgets as widgets"
   ]
  },
  {
   "cell_type": "code",
   "execution_count": 2,
   "id": "5d1b48b4",
   "metadata": {},
   "outputs": [],
   "source": [
    "# it autogenerates user interface control\n",
    "# for some sort of function argument\n",
    "# and then calls the function with those arguments that you \n",
    "# can allow yourself to manipualte interactively"
   ]
  },
  {
   "cell_type": "code",
   "execution_count": 9,
   "id": "c87deef4",
   "metadata": {},
   "outputs": [],
   "source": [
    "def func(x):\n",
    "    return x"
   ]
  },
  {
   "cell_type": "code",
   "execution_count": 10,
   "id": "edc08b64",
   "metadata": {},
   "outputs": [
    {
     "data": {
      "application/vnd.jupyter.widget-view+json": {
       "model_id": "192f1904c84249e9bb78e5afe4b1009d",
       "version_major": 2,
       "version_minor": 0
      },
      "text/plain": [
       "interactive(children=(IntSlider(value=10, description='x', max=30, min=-10), Output()), _dom_classes=('widget-…"
      ]
     },
     "metadata": {},
     "output_type": "display_data"
    },
    {
     "data": {
      "text/plain": [
       "<function __main__.func(x)>"
      ]
     },
     "execution_count": 10,
     "metadata": {},
     "output_type": "execute_result"
    }
   ],
   "source": [
    "interact(func,x=10)\n",
    "\n",
    "# creates automotically\n",
    "# with numbers\n",
    "# vary the input \n",
    "# and get the corresponding output"
   ]
  },
  {
   "cell_type": "code",
   "execution_count": 7,
   "id": "b28a9ba3",
   "metadata": {},
   "outputs": [
    {
     "data": {
      "application/vnd.jupyter.widget-view+json": {
       "model_id": "635bed323cd9498f8222edbd47b9fca1",
       "version_major": 2,
       "version_minor": 0
      },
      "text/plain": [
       "interactive(children=(Checkbox(value=True, description='x'), Output()), _dom_classes=('widget-interact',))"
      ]
     },
     "metadata": {},
     "output_type": "display_data"
    },
    {
     "data": {
      "text/plain": [
       "<function __main__.func(x)>"
      ]
     },
     "execution_count": 7,
     "metadata": {},
     "output_type": "execute_result"
    }
   ],
   "source": [
    "interact(func,x=True)\n",
    "\n",
    "# buleans"
   ]
  },
  {
   "cell_type": "code",
   "execution_count": 11,
   "id": "7cb8c1ae",
   "metadata": {},
   "outputs": [
    {
     "data": {
      "application/vnd.jupyter.widget-view+json": {
       "model_id": "dcc49eb0c51b4298bc9612f08c1508b6",
       "version_major": 2,
       "version_minor": 0
      },
      "text/plain": [
       "interactive(children=(Text(value='hello', description='x'), Output()), _dom_classes=('widget-interact',))"
      ]
     },
     "metadata": {},
     "output_type": "display_data"
    },
    {
     "data": {
      "text/plain": [
       "<function __main__.func(x)>"
      ]
     },
     "execution_count": 11,
     "metadata": {},
     "output_type": "execute_result"
    }
   ],
   "source": [
    "interact(func,x=\"hello\")\n",
    "\n",
    "# strings"
   ]
  },
  {
   "cell_type": "markdown",
   "id": "4e858105",
   "metadata": {},
   "source": [
    "## Interact with decorator"
   ]
  },
  {
   "cell_type": "code",
   "execution_count": 12,
   "id": "b754a1b2",
   "metadata": {},
   "outputs": [
    {
     "data": {
      "application/vnd.jupyter.widget-view+json": {
       "model_id": "66d08faa055f41f4a11e4e909d16338a",
       "version_major": 2,
       "version_minor": 0
      },
      "text/plain": [
       "interactive(children=(Checkbox(value=True, description='x'), FloatSlider(value=1.0, description='y', max=3.0, …"
      ]
     },
     "metadata": {},
     "output_type": "display_data"
    }
   ],
   "source": [
    "# we can use this in decorator\n",
    "\n",
    "@interact(x=True, y = 1.0)\n",
    "def g(x,y):\n",
    "    return (x,y)"
   ]
  },
  {
   "cell_type": "code",
   "execution_count": 13,
   "id": "685ddad4",
   "metadata": {},
   "outputs": [
    {
     "data": {
      "application/vnd.jupyter.widget-view+json": {
       "model_id": "91dddba3da554e1f99a51098bfdacb7b",
       "version_major": 2,
       "version_minor": 0
      },
      "text/plain": [
       "interactive(children=(Checkbox(value=True, description='x'), Output()), _dom_classes=('widget-interact',))"
      ]
     },
     "metadata": {},
     "output_type": "display_data"
    }
   ],
   "source": [
    "# we may fix one parameter\n",
    "# you dont get a chance of changing it\n",
    "\n",
    "@interact(x=True, y = fixed(1.0))\n",
    "def g(x,y):\n",
    "    return (x,y)"
   ]
  },
  {
   "cell_type": "markdown",
   "id": "048e39e4",
   "metadata": {},
   "source": [
    "## Widget abbreviations"
   ]
  },
  {
   "cell_type": "code",
   "execution_count": 14,
   "id": "2c2d0fad",
   "metadata": {},
   "outputs": [
    {
     "data": {
      "application/vnd.jupyter.widget-view+json": {
       "model_id": "6bc37e45c893412e82a44feb328fbbae",
       "version_major": 2,
       "version_minor": 0
      },
      "text/plain": [
       "interactive(children=(IntSlider(value=1, description='x', max=3, min=-1), Output()), _dom_classes=('widget-int…"
      ]
     },
     "metadata": {},
     "output_type": "display_data"
    },
    {
     "data": {
      "text/plain": [
       "<function __main__.func(x)>"
      ]
     },
     "execution_count": 14,
     "metadata": {},
     "output_type": "execute_result"
    }
   ],
   "source": [
    "interact (func, x=1)\n",
    "\n",
    "# how to change the step size, min, max and starting values"
   ]
  },
  {
   "cell_type": "code",
   "execution_count": 15,
   "id": "8210cf0b",
   "metadata": {},
   "outputs": [
    {
     "data": {
      "application/vnd.jupyter.widget-view+json": {
       "model_id": "9c4a562899cb40329a96967606cbd931",
       "version_major": 2,
       "version_minor": 0
      },
      "text/plain": [
       "interactive(children=(IntSlider(value=0, description='x', min=-100, step=2), Output()), _dom_classes=('widget-…"
      ]
     },
     "metadata": {},
     "output_type": "display_data"
    },
    {
     "data": {
      "text/plain": [
       "<function __main__.func(x)>"
      ]
     },
     "execution_count": 15,
     "metadata": {},
     "output_type": "execute_result"
    }
   ],
   "source": [
    "interact (func, x=widgets.IntSlider(min=-100,max=100,step=2,value=0))\n",
    "\n",
    "# may be called to have more functionality"
   ]
  },
  {
   "cell_type": "code",
   "execution_count": 16,
   "id": "df9140fb",
   "metadata": {},
   "outputs": [
    {
     "data": {
      "application/vnd.jupyter.widget-view+json": {
       "model_id": "55261d6b85b54bcba3132eeb7716234f",
       "version_major": 2,
       "version_minor": 0
      },
      "text/plain": [
       "interactive(children=(IntSlider(value=0, description='x', min=-100, step=2), Output()), _dom_classes=('widget-…"
      ]
     },
     "metadata": {},
     "output_type": "display_data"
    },
    {
     "data": {
      "text/plain": [
       "<function __main__.func(x)>"
      ]
     },
     "execution_count": 16,
     "metadata": {},
     "output_type": "execute_result"
    }
   ],
   "source": [
    "# may abreviate all of the above\n",
    "# pass in abriviated tuple\n",
    "\n",
    "interact(func,x=(-100,100,2))"
   ]
  },
  {
   "cell_type": "code",
   "execution_count": 21,
   "id": "9e02aa92",
   "metadata": {},
   "outputs": [
    {
     "data": {
      "application/vnd.jupyter.widget-view+json": {
       "model_id": "56ac13f68463419f81fecda6e91ba3de",
       "version_major": 2,
       "version_minor": 0
      },
      "text/plain": [
       "interactive(children=(FloatSlider(value=0.0, description='x', max=10.0, min=-10.0), Output()), _dom_classes=('…"
      ]
     },
     "metadata": {},
     "output_type": "display_data"
    },
    {
     "data": {
      "text/plain": [
       "<function __main__.func(x)>"
      ]
     },
     "execution_count": 21,
     "metadata": {},
     "output_type": "execute_result"
    }
   ],
   "source": [
    "# can make a floating point slider \n",
    "\n",
    "interact(func,x=(-10.0,10.0,0.1))"
   ]
  },
  {
   "cell_type": "code",
   "execution_count": 24,
   "id": "2566e81f",
   "metadata": {},
   "outputs": [
    {
     "data": {
      "application/vnd.jupyter.widget-view+json": {
       "model_id": "73909a1362e54301860df2da5773639a",
       "version_major": 2,
       "version_minor": 0
      },
      "text/plain": [
       "interactive(children=(FloatSlider(value=5.0, description='x', max=20.0, min=-10.0, step=0.5), Output()), _dom_…"
      ]
     },
     "metadata": {},
     "output_type": "display_data"
    }
   ],
   "source": [
    "# may do it with decorator\n",
    "\n",
    "@interact(x=(-10.0,20.0,0.5))\n",
    "def f(x=5.0):\n",
    "    return x"
   ]
  },
  {
   "cell_type": "markdown",
   "id": "2a89af73",
   "metadata": {},
   "source": [
    "## Drop down menue"
   ]
  },
  {
   "cell_type": "code",
   "execution_count": 25,
   "id": "480e4b56",
   "metadata": {},
   "outputs": [
    {
     "data": {
      "application/vnd.jupyter.widget-view+json": {
       "model_id": "85a54a879b8b49038ad8802c542b2c0c",
       "version_major": 2,
       "version_minor": 0
      },
      "text/plain": [
       "interactive(children=(Text(value='hello', description='x'), Output()), _dom_classes=('widget-interact',))"
      ]
     },
     "metadata": {},
     "output_type": "display_data"
    },
    {
     "data": {
      "text/plain": [
       "<function __main__.func(x)>"
      ]
     },
     "execution_count": 25,
     "metadata": {},
     "output_type": "execute_result"
    }
   ],
   "source": [
    "interact (func, x = \"hello\")"
   ]
  },
  {
   "cell_type": "code",
   "execution_count": 26,
   "id": "e5bd74c3",
   "metadata": {},
   "outputs": [
    {
     "data": {
      "application/vnd.jupyter.widget-view+json": {
       "model_id": "f2b3921202574de694d42e6685bc86d0",
       "version_major": 2,
       "version_minor": 0
      },
      "text/plain": [
       "interactive(children=(Dropdown(description='x', options=('hello', 'how are you?', 'gerat!'), value='hello'), O…"
      ]
     },
     "metadata": {},
     "output_type": "display_data"
    },
    {
     "data": {
      "text/plain": [
       "<function __main__.func(x)>"
      ]
     },
     "execution_count": 26,
     "metadata": {},
     "output_type": "execute_result"
    }
   ],
   "source": [
    "# however if your x is a list it will create a drop down menue\n",
    "\n",
    "interact (func, x = [\"hello\", \"how are you?\", \"gerat!\"])"
   ]
  },
  {
   "cell_type": "code",
   "execution_count": 29,
   "id": "9751ec2f",
   "metadata": {},
   "outputs": [
    {
     "data": {
      "application/vnd.jupyter.widget-view+json": {
       "model_id": "3f3482aa78364e9888fca348c6c44309",
       "version_major": 2,
       "version_minor": 0
      },
      "text/plain": [
       "interactive(children=(Dropdown(description='x', options={'one': 1, 'two': 2, 'twenty': 20}, value=1), Output()…"
      ]
     },
     "metadata": {},
     "output_type": "display_data"
    },
    {
     "data": {
      "text/plain": [
       "<function __main__.func(x)>"
      ]
     },
     "execution_count": 29,
     "metadata": {},
     "output_type": "execute_result"
    }
   ],
   "source": [
    "interact (func, x = {\"one\": 1, \"two\": 2, \"twenty\": 20})\n",
    "\n",
    "# in dictionary \n",
    "# key - drop down menue\n",
    "# value - output"
   ]
  },
  {
   "cell_type": "code",
   "execution_count": null,
   "id": "45e81545",
   "metadata": {},
   "outputs": [],
   "source": [
    "# tuples are sliders \n",
    "# lists and dict are drop down menue"
   ]
  },
  {
   "cell_type": "markdown",
   "id": "9546bb8f",
   "metadata": {},
   "source": [
    "## Interactive\n",
    "usefull when you wont to reuse widgets that are alredy being produced"
   ]
  },
  {
   "cell_type": "code",
   "execution_count": 42,
   "id": "9e21d68b",
   "metadata": {},
   "outputs": [],
   "source": [
    "from IPython.display import display\n"
   ]
  },
  {
   "cell_type": "code",
   "execution_count": 43,
   "id": "ef447cb2",
   "metadata": {},
   "outputs": [],
   "source": [
    "def f(a,b):\n",
    "    # this will allow us to use interactive func\n",
    "    display(a+b)\n",
    "    return a+b"
   ]
  },
  {
   "cell_type": "code",
   "execution_count": 44,
   "id": "87ad1cd2",
   "metadata": {},
   "outputs": [],
   "source": [
    "w = interactive (f, a=10,b=20)\n",
    "\n",
    "# w box or a container for other widgets"
   ]
  },
  {
   "cell_type": "code",
   "execution_count": 45,
   "id": "d37a04f2",
   "metadata": {},
   "outputs": [
    {
     "data": {
      "text/plain": [
       "ipywidgets.widgets.interaction.interactive"
      ]
     },
     "execution_count": 45,
     "metadata": {},
     "output_type": "execute_result"
    }
   ],
   "source": [
    "type(w)"
   ]
  },
  {
   "cell_type": "code",
   "execution_count": 46,
   "id": "b436fb53",
   "metadata": {},
   "outputs": [
    {
     "data": {
      "text/plain": [
       "(IntSlider(value=10, description='a', max=30, min=-10),\n",
       " IntSlider(value=20, description='b', max=60, min=-20),\n",
       " Output())"
      ]
     },
     "execution_count": 46,
     "metadata": {},
     "output_type": "execute_result"
    }
   ],
   "source": [
    "w.children"
   ]
  },
  {
   "cell_type": "code",
   "execution_count": 47,
   "id": "c860c229",
   "metadata": {},
   "outputs": [
    {
     "data": {
      "application/vnd.jupyter.widget-view+json": {
       "model_id": "336965e5db9b4bc7829843b4fb1c75b8",
       "version_major": 2,
       "version_minor": 0
      },
      "text/plain": [
       "interactive(children=(IntSlider(value=10, description='a', max=30, min=-10), IntSlider(value=20, description='…"
      ]
     },
     "metadata": {},
     "output_type": "display_data"
    }
   ],
   "source": [
    "display(w)"
   ]
  },
  {
   "cell_type": "code",
   "execution_count": null,
   "id": "eac38aad",
   "metadata": {},
   "outputs": [],
   "source": []
  }
 ],
 "metadata": {
  "kernelspec": {
   "display_name": "Python 3 (ipykernel)",
   "language": "python",
   "name": "python3"
  },
  "language_info": {
   "codemirror_mode": {
    "name": "ipython",
    "version": 3
   },
   "file_extension": ".py",
   "mimetype": "text/x-python",
   "name": "python",
   "nbconvert_exporter": "python",
   "pygments_lexer": "ipython3",
   "version": "3.9.12"
  }
 },
 "nbformat": 4,
 "nbformat_minor": 5
}
