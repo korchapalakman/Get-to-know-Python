{
 "cells": [
  {
   "cell_type": "markdown",
   "id": "61fcd257",
   "metadata": {},
   "source": [
    "## Decorators"
   ]
  },
  {
   "cell_type": "markdown",
   "id": "91329dd6",
   "metadata": {},
   "source": [
    "Allow you to decorate a function \n",
    "\n",
    "in other way add some extra functionality to it\n",
    "\n",
    "you have two options wihout decorators:\n",
    "1 -  addit the function\n",
    "2 - create a new one \n",
    "\n",
    "But what if you then want to remove that extra \"functinality\"? Turn it ON/OFF\n",
    "\n",
    "Decorators allow you to track on extra functionality to an already existing function \n",
    "\n",
    "They use the @ operator and are then placed in top of the original function \n",
    "\n",
    "if you don't want any aditional functionality you delete @ operator"
   ]
  },
  {
   "cell_type": "code",
   "execution_count": 1,
   "id": "295448b9",
   "metadata": {},
   "outputs": [],
   "source": [
    "def func():\n",
    "    return 1"
   ]
  },
  {
   "cell_type": "code",
   "execution_count": 3,
   "id": "6911d95f",
   "metadata": {},
   "outputs": [
    {
     "data": {
      "text/plain": [
       "1"
      ]
     },
     "execution_count": 3,
     "metadata": {},
     "output_type": "execute_result"
    }
   ],
   "source": [
    "func()"
   ]
  },
  {
   "cell_type": "code",
   "execution_count": 4,
   "id": "2e1d9108",
   "metadata": {},
   "outputs": [
    {
     "data": {
      "text/plain": [
       "<function __main__.func()>"
      ]
     },
     "execution_count": 4,
     "metadata": {},
     "output_type": "execute_result"
    }
   ],
   "source": [
    "# without () you will just get an information about the function\n",
    "# it wont execute\n",
    "# that means we can assign function to other variables\n",
    "# and execute them from other variables\n",
    "\n",
    "func"
   ]
  },
  {
   "cell_type": "code",
   "execution_count": 5,
   "id": "59fd1e7d",
   "metadata": {},
   "outputs": [],
   "source": [
    "def hello():\n",
    "    return \"Hello!\""
   ]
  },
  {
   "cell_type": "code",
   "execution_count": 6,
   "id": "8fbe18ab",
   "metadata": {},
   "outputs": [
    {
     "data": {
      "text/plain": [
       "'Hello!'"
      ]
     },
     "execution_count": 6,
     "metadata": {},
     "output_type": "execute_result"
    }
   ],
   "source": [
    "hello()"
   ]
  },
  {
   "cell_type": "code",
   "execution_count": 7,
   "id": "0ba4ad6b",
   "metadata": {},
   "outputs": [
    {
     "data": {
      "text/plain": [
       "<function __main__.hello()>"
      ]
     },
     "execution_count": 7,
     "metadata": {},
     "output_type": "execute_result"
    }
   ],
   "source": [
    "hello"
   ]
  },
  {
   "cell_type": "code",
   "execution_count": 8,
   "id": "d1809d1a",
   "metadata": {},
   "outputs": [],
   "source": [
    "greet = hello"
   ]
  },
  {
   "cell_type": "code",
   "execution_count": 10,
   "id": "c7ab9d5b",
   "metadata": {},
   "outputs": [
    {
     "data": {
      "text/plain": [
       "'Hello!'"
      ]
     },
     "execution_count": 10,
     "metadata": {},
     "output_type": "execute_result"
    }
   ],
   "source": [
    "greet()"
   ]
  },
  {
   "cell_type": "code",
   "execution_count": 11,
   "id": "3a54768b",
   "metadata": {},
   "outputs": [],
   "source": [
    "del hello"
   ]
  },
  {
   "cell_type": "code",
   "execution_count": 12,
   "id": "ff17317f",
   "metadata": {},
   "outputs": [
    {
     "ename": "NameError",
     "evalue": "name 'hello' is not defined",
     "output_type": "error",
     "traceback": [
      "\u001b[0;31m---------------------------------------------------------------------------\u001b[0m",
      "\u001b[0;31mNameError\u001b[0m                                 Traceback (most recent call last)",
      "Input \u001b[0;32mIn [12]\u001b[0m, in \u001b[0;36m<cell line: 1>\u001b[0;34m()\u001b[0m\n\u001b[0;32m----> 1\u001b[0m \u001b[43mhello\u001b[49m\n",
      "\u001b[0;31mNameError\u001b[0m: name 'hello' is not defined"
     ]
    }
   ],
   "source": [
    "hello"
   ]
  },
  {
   "cell_type": "code",
   "execution_count": 14,
   "id": "f914b4bd",
   "metadata": {},
   "outputs": [
    {
     "data": {
      "text/plain": [
       "'Hello!'"
      ]
     },
     "execution_count": 14,
     "metadata": {},
     "output_type": "execute_result"
    }
   ],
   "source": [
    "# despite the delition of original object \n",
    "# the function still poits on it\n",
    "\n",
    "greet()"
   ]
  },
  {
   "cell_type": "markdown",
   "id": "eca0869c",
   "metadata": {},
   "source": [
    "The below function will contain several inside function \n",
    "\n",
    "Their scope would be limited to hello function\n",
    "\n",
    "won't work outside the function"
   ]
  },
  {
   "cell_type": "markdown",
   "id": "aa6d519e",
   "metadata": {},
   "source": [
    "### example 1"
   ]
  },
  {
   "cell_type": "code",
   "execution_count": 31,
   "id": "f5c06b14",
   "metadata": {},
   "outputs": [],
   "source": [
    "# by defalt the parameter would be Vazgen \n",
    "def hello(name=\"Vazgen\"):\n",
    "    print (\"The hello() function has been executed\")\n",
    "    \n",
    "    # now lets define a function inside a function \n",
    "    def greet():\n",
    "        # \\t is an escape caracter that will use tab (4 spaces)\n",
    "        return \"\\t This is the greet() func inside hello()\"\n",
    "    \n",
    "    def welcome():\n",
    "        return \"\\t This is the welcome() func inside hello()\"\n",
    "    \n",
    "    \n",
    "    # calls a greet function inside hellow() func\n",
    "    print (greet())\n",
    "    \n",
    "    # calls a welcome function inside hellow() func\n",
    "    print (welcome())\n",
    "    \n",
    "    # indentetion appendix\n",
    "    print (\"end of hello(), take a look at indentation\")"
   ]
  },
  {
   "cell_type": "code",
   "execution_count": 32,
   "id": "30083dfd",
   "metadata": {},
   "outputs": [
    {
     "name": "stdout",
     "output_type": "stream",
     "text": [
      "The hello() function has been executed\n",
      "\t This is the greet() func inside hello()\n",
      "\t This is the welcome() func inside hello()\n",
      "end of hello(), take a look at indentation\n"
     ]
    }
   ],
   "source": [
    "hello()"
   ]
  },
  {
   "cell_type": "code",
   "execution_count": 33,
   "id": "05cff40f",
   "metadata": {},
   "outputs": [
    {
     "ename": "NameError",
     "evalue": "name 'welcome' is not defined",
     "output_type": "error",
     "traceback": [
      "\u001b[0;31m---------------------------------------------------------------------------\u001b[0m",
      "\u001b[0;31mNameError\u001b[0m                                 Traceback (most recent call last)",
      "Input \u001b[0;32mIn [33]\u001b[0m, in \u001b[0;36m<cell line: 3>\u001b[0;34m()\u001b[0m\n\u001b[1;32m      1\u001b[0m \u001b[38;5;66;03m# the scope of greet and welcome is limited to hello()\u001b[39;00m\n\u001b[0;32m----> 3\u001b[0m \u001b[43mwelcome\u001b[49m()\n",
      "\u001b[0;31mNameError\u001b[0m: name 'welcome' is not defined"
     ]
    }
   ],
   "source": [
    "# the scope of greet and welcome is limited to hello()\n",
    "# no such function exists outside the hello() func\n",
    "\n",
    "welcome()"
   ]
  },
  {
   "cell_type": "code",
   "execution_count": 38,
   "id": "12e2299a",
   "metadata": {},
   "outputs": [],
   "source": [
    "\"\"\" TO ACCESS INSIDE A FUNC we could have \n",
    " ORIGINAL FUNC RETURN a FUN \"\"\"\n",
    "\n",
    "\n",
    "\n",
    "def hello(name=\"Vazgen\"):\n",
    "    print (\"The hello() function has been executed\")\n",
    "     \n",
    "    def greet():\n",
    "        return \"\\t This is the GREET() func inside hello()\"\n",
    "    def welcome():\n",
    "        return \"\\t This is the WELCOME() func inside hello()\"\n",
    "    \n",
    "    print (\"I'm going to return a FUNC\")\n",
    "    \n",
    "    \n",
    "    # this would help us return a function \n",
    "    # that we would be later assigning to a variable \n",
    "    if name == \"Vazgen\":\n",
    "        print (\"\\nI have returned greet()\")\n",
    "        return greet\n",
    "    else:\n",
    "        print (\"\\nI have returned welcome()\")\n",
    "        return welcome \n",
    "    "
   ]
  },
  {
   "cell_type": "code",
   "execution_count": 39,
   "id": "8d1f02b9",
   "metadata": {},
   "outputs": [
    {
     "name": "stdout",
     "output_type": "stream",
     "text": [
      "The hello() function has been executed\n",
      "I'm going to return a FUNC\n",
      "\n",
      "I have returned greet()\n"
     ]
    }
   ],
   "source": [
    "# no need to add parameter, we already have default \n",
    "\n",
    "my_new_func = hello()"
   ]
  },
  {
   "cell_type": "code",
   "execution_count": 40,
   "id": "e2b80a44",
   "metadata": {},
   "outputs": [
    {
     "data": {
      "text/plain": [
       "<function __main__.hello.<locals>.greet()>"
      ]
     },
     "execution_count": 40,
     "metadata": {},
     "output_type": "execute_result"
    }
   ],
   "source": [
    "# take a look at the path, that points out to the origin of the func\n",
    "\n",
    "my_new_func"
   ]
  },
  {
   "cell_type": "code",
   "execution_count": 41,
   "id": "b69cfb43",
   "metadata": {},
   "outputs": [
    {
     "data": {
      "text/plain": [
       "'\\t This is the GREET() func inside hello()'"
      ]
     },
     "execution_count": 41,
     "metadata": {},
     "output_type": "execute_result"
    }
   ],
   "source": [
    "# this will return back a string upon execution \n",
    "\n",
    "my_new_func()"
   ]
  },
  {
   "cell_type": "code",
   "execution_count": 43,
   "id": "37c67991",
   "metadata": {},
   "outputs": [
    {
     "name": "stdout",
     "output_type": "stream",
     "text": [
      "\t This is the GREET() func inside hello()\n"
     ]
    }
   ],
   "source": [
    "# to see a str itself\n",
    "\n",
    "print (my_new_func())"
   ]
  },
  {
   "cell_type": "markdown",
   "id": "ff4f603a",
   "metadata": {},
   "source": [
    "### example 2"
   ]
  },
  {
   "cell_type": "code",
   "execution_count": 44,
   "id": "f4dfc537",
   "metadata": {},
   "outputs": [],
   "source": [
    "def cool():\n",
    "    \n",
    "    def super_cool():\n",
    "        return \"Super cool\"\n",
    "    \n",
    "    return super_cool"
   ]
  },
  {
   "cell_type": "code",
   "execution_count": 45,
   "id": "b3a8c9c5",
   "metadata": {},
   "outputs": [],
   "source": [
    "some_func = cool()"
   ]
  },
  {
   "cell_type": "code",
   "execution_count": 46,
   "id": "8b2999a4",
   "metadata": {},
   "outputs": [
    {
     "data": {
      "text/plain": [
       "<function __main__.cool.<locals>.super_cool()>"
      ]
     },
     "execution_count": 46,
     "metadata": {},
     "output_type": "execute_result"
    }
   ],
   "source": [
    "some_func"
   ]
  },
  {
   "cell_type": "code",
   "execution_count": 47,
   "id": "092a54e1",
   "metadata": {},
   "outputs": [
    {
     "data": {
      "text/plain": [
       "'Super cool'"
      ]
     },
     "execution_count": 47,
     "metadata": {},
     "output_type": "execute_result"
    }
   ],
   "source": [
    "some_func()"
   ]
  },
  {
   "cell_type": "code",
   "execution_count": 49,
   "id": "9ccc0bed",
   "metadata": {},
   "outputs": [
    {
     "name": "stdout",
     "output_type": "stream",
     "text": [
      "Super cool\n"
     ]
    }
   ],
   "source": [
    "print (some_func())"
   ]
  },
  {
   "cell_type": "code",
   "execution_count": 50,
   "id": "e303c331",
   "metadata": {},
   "outputs": [],
   "source": [
    "# we will be using it to create a decorator "
   ]
  },
  {
   "cell_type": "markdown",
   "id": "a448ef38",
   "metadata": {},
   "source": [
    "### example 3 (passing func as an argument) "
   ]
  },
  {
   "cell_type": "code",
   "execution_count": 51,
   "id": "4c70a801",
   "metadata": {},
   "outputs": [],
   "source": [
    "def hello():\n",
    "    return \"Hi! Vazgen\""
   ]
  },
  {
   "cell_type": "code",
   "execution_count": 52,
   "id": "6947cff4",
   "metadata": {},
   "outputs": [],
   "source": [
    "def other(some_def_func):\n",
    "    print (\"Other code runs here\")\n",
    "    \n",
    "    # below we execute the function that we take as a parameter\n",
    "    print (some_def_func())"
   ]
  },
  {
   "cell_type": "code",
   "execution_count": 53,
   "id": "f3359941",
   "metadata": {},
   "outputs": [
    {
     "name": "stdout",
     "output_type": "stream",
     "text": [
      "Other code runs here\n",
      "Hi! Vazgen\n"
     ]
    }
   ],
   "source": [
    "# take a look that we are passing in hello,\n",
    "# we dont ectually execute it (hello())\n",
    "# the \"raw\" function will be executed inside another function\n",
    "\n",
    "\n",
    "other (hello)"
   ]
  },
  {
   "cell_type": "markdown",
   "id": "e9873378",
   "metadata": {},
   "source": [
    "## Create a new decorator "
   ]
  },
  {
   "cell_type": "markdown",
   "id": "01801888",
   "metadata": {},
   "source": [
    "## wrap_func \n",
    "\n",
    "is the function called that will add addition information to a function\n",
    "\n",
    "the idea is to create a function that takes in the old function as an argument and adjust it by wrap_func by extra functionality"
   ]
  },
  {
   "cell_type": "code",
   "execution_count": 54,
   "id": "7cc76cf8",
   "metadata": {},
   "outputs": [],
   "source": [
    "def new_decorator(original_function):\n",
    "    \n",
    "    ### this function represents the extra functionality to decorate\n",
    "    ### the original fucntion \n",
    "    \n",
    "    def wrap_func():\n",
    "        \n",
    "        \n",
    "        print (\"Some extra code, BEFORE the original fucntion\")\n",
    "        \n",
    "        original_function()\n",
    "        \n",
    "        print (\"Some extra code, AFTER the original function\")\n",
    "        \n",
    "    # the \"new_decorator\" func will return the result of a \"wrap_func\"\n",
    "    # that basically inhances the passed in function \n",
    "    \n",
    "    return wrap_func"
   ]
  },
  {
   "cell_type": "code",
   "execution_count": 56,
   "id": "9807f51d",
   "metadata": {},
   "outputs": [],
   "source": [
    "# we need to add functionlity to this function\n",
    "\n",
    "def func_needs_decorator():\n",
    "    print (\"I want to be decorated\")"
   ]
  },
  {
   "cell_type": "code",
   "execution_count": 58,
   "id": "7ab63958",
   "metadata": {},
   "outputs": [
    {
     "name": "stdout",
     "output_type": "stream",
     "text": [
      "I want to be decorated\n"
     ]
    }
   ],
   "source": [
    "func_needs_decorator()"
   ]
  },
  {
   "cell_type": "code",
   "execution_count": 60,
   "id": "c2d70d93",
   "metadata": {},
   "outputs": [],
   "source": [
    "# what heppens is that we run a function that decorates the other\n",
    "# we assign that result to some variable \"decorated_function\"\n",
    "\n",
    "decorated_function = new_decorator(func_needs_decorator)"
   ]
  },
  {
   "cell_type": "code",
   "execution_count": 61,
   "id": "f025623c",
   "metadata": {},
   "outputs": [
    {
     "name": "stdout",
     "output_type": "stream",
     "text": [
      "Some extra code, BEFORE the original fucntion\n",
      "I want to be decorated\n",
      "Some extra code, AFTER the original function\n"
     ]
    }
   ],
   "source": [
    "# we call that variable to see the result\n",
    "\n",
    "decorated_function()"
   ]
  },
  {
   "cell_type": "markdown",
   "id": "4eb4b66f",
   "metadata": {},
   "source": [
    "### There is a special syntax: @\n",
    "    this syntax is used to define decoration functions "
   ]
  },
  {
   "cell_type": "code",
   "execution_count": 62,
   "id": "64804a4e",
   "metadata": {},
   "outputs": [],
   "source": [
    "@new_decorator\n",
    "def func_needs_decorator():\n",
    "    print (\"I want to be decorated\")"
   ]
  },
  {
   "cell_type": "code",
   "execution_count": 63,
   "id": "e3fe4b69",
   "metadata": {},
   "outputs": [
    {
     "name": "stdout",
     "output_type": "stream",
     "text": [
      "Some extra code, BEFORE the original fucntion\n",
      "I want to be decorated\n",
      "Some extra code, AFTER the original function\n"
     ]
    }
   ],
   "source": [
    "func_needs_decorator()"
   ]
  },
  {
   "cell_type": "markdown",
   "id": "6a21eec2",
   "metadata": {},
   "source": [
    "what heppens is the @ or \"att\" does all of the above in plase of function, you dont have to create a new variable for it in example above \n",
    "\n",
    "1 - it takes original function (ex: func_needs_decorator() )\n",
    "\n",
    "2 - puts it in the argument for decorating function (ex: new_decorator() )\n",
    "\n",
    "3 - add new functionality from decorating function in place "
   ]
  },
  {
   "cell_type": "code",
   "execution_count": 64,
   "id": "1374d7b6",
   "metadata": {},
   "outputs": [],
   "source": [
    "### you can turn it off USE: #\n",
    "\n",
    "#@new_decorator\n",
    "def func_needs_decorator():\n",
    "    print (\"I want to be decorated\")"
   ]
  },
  {
   "cell_type": "code",
   "execution_count": 65,
   "id": "75158edb",
   "metadata": {},
   "outputs": [
    {
     "name": "stdout",
     "output_type": "stream",
     "text": [
      "I want to be decorated\n"
     ]
    }
   ],
   "source": [
    "func_needs_decorator()"
   ]
  }
 ],
 "metadata": {
  "kernelspec": {
   "display_name": "Python 3 (ipykernel)",
   "language": "python",
   "name": "python3"
  },
  "language_info": {
   "codemirror_mode": {
    "name": "ipython",
    "version": 3
   },
   "file_extension": ".py",
   "mimetype": "text/x-python",
   "name": "python",
   "nbconvert_exporter": "python",
   "pygments_lexer": "ipython3",
   "version": "3.9.12"
  }
 },
 "nbformat": 4,
 "nbformat_minor": 5
}
