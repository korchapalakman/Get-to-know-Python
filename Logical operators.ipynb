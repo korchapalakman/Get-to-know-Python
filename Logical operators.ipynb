{
 "cells": [
  {
   "cell_type": "markdown",
   "id": "6b6fa321",
   "metadata": {},
   "source": [
    "# chaning comparison operators"
   ]
  },
  {
   "cell_type": "code",
   "execution_count": 1,
   "id": "c72150ac",
   "metadata": {},
   "outputs": [
    {
     "data": {
      "text/plain": [
       "True"
      ]
     },
     "execution_count": 1,
     "metadata": {},
     "output_type": "execute_result"
    }
   ],
   "source": [
    "1 < 2"
   ]
  },
  {
   "cell_type": "code",
   "execution_count": 2,
   "id": "3c0bb137",
   "metadata": {},
   "outputs": [
    {
     "data": {
      "text/plain": [
       "True"
      ]
     },
     "execution_count": 2,
     "metadata": {},
     "output_type": "execute_result"
    }
   ],
   "source": [
    "2 < 3"
   ]
  },
  {
   "cell_type": "markdown",
   "id": "01fd2d5f",
   "metadata": {},
   "source": [
    "# AND OR NOT"
   ]
  },
  {
   "cell_type": "code",
   "execution_count": 3,
   "id": "a09abfac",
   "metadata": {},
   "outputs": [
    {
     "data": {
      "text/plain": [
       "True"
      ]
     },
     "execution_count": 3,
     "metadata": {},
     "output_type": "execute_result"
    }
   ],
   "source": [
    "1 < 2 < 3"
   ]
  },
  {
   "cell_type": "code",
   "execution_count": 4,
   "id": "ccbf0f04",
   "metadata": {},
   "outputs": [
    {
     "data": {
      "text/plain": [
       "False"
      ]
     },
     "execution_count": 4,
     "metadata": {},
     "output_type": "execute_result"
    }
   ],
   "source": [
    "1 < 2 > 3"
   ]
  },
  {
   "cell_type": "markdown",
   "id": "30b5b82d",
   "metadata": {},
   "source": [
    "## AND both should follow both of the conditions "
   ]
  },
  {
   "cell_type": "code",
   "execution_count": 8,
   "id": "ce7d6381",
   "metadata": {},
   "outputs": [
    {
     "data": {
      "text/plain": [
       "False"
      ]
     },
     "execution_count": 8,
     "metadata": {},
     "output_type": "execute_result"
    }
   ],
   "source": [
    "1 < 2 and  2 > 3"
   ]
  },
  {
   "cell_type": "code",
   "execution_count": 7,
   "id": "e1b61d7b",
   "metadata": {},
   "outputs": [
    {
     "data": {
      "text/plain": [
       "True"
      ]
     },
     "execution_count": 7,
     "metadata": {},
     "output_type": "execute_result"
    }
   ],
   "source": [
    "(\"h\" == \"h\") and (2 == 2)"
   ]
  },
  {
   "cell_type": "markdown",
   "id": "8b586523",
   "metadata": {},
   "source": [
    "## OR one should equal the condition"
   ]
  },
  {
   "cell_type": "code",
   "execution_count": 9,
   "id": "2c2c44d0",
   "metadata": {},
   "outputs": [
    {
     "data": {
      "text/plain": [
       "True"
      ]
     },
     "execution_count": 9,
     "metadata": {},
     "output_type": "execute_result"
    }
   ],
   "source": [
    "#should have only one of the to be = to condition to get true\n",
    "(1 == 1) or (2 == 2)"
   ]
  },
  {
   "cell_type": "code",
   "execution_count": 11,
   "id": "0bb90067",
   "metadata": {},
   "outputs": [
    {
     "data": {
      "text/plain": [
       "True"
      ]
     },
     "execution_count": 11,
     "metadata": {},
     "output_type": "execute_result"
    }
   ],
   "source": [
    "(1 == 1000) or (2 == 2)"
   ]
  },
  {
   "cell_type": "code",
   "execution_count": 12,
   "id": "66c5d13c",
   "metadata": {},
   "outputs": [
    {
     "data": {
      "text/plain": [
       "False"
      ]
     },
     "execution_count": 12,
     "metadata": {},
     "output_type": "execute_result"
    }
   ],
   "source": [
    "(1 == 1000) or (2 == 200 )"
   ]
  },
  {
   "cell_type": "markdown",
   "id": "57a1f049",
   "metadata": {},
   "source": [
    "## Not the oposite boolean of what you did"
   ]
  },
  {
   "cell_type": "code",
   "execution_count": 13,
   "id": "25108dc9",
   "metadata": {},
   "outputs": [
    {
     "data": {
      "text/plain": [
       "True"
      ]
     },
     "execution_count": 13,
     "metadata": {},
     "output_type": "execute_result"
    }
   ],
   "source": [
    "1 == 1"
   ]
  },
  {
   "cell_type": "code",
   "execution_count": 15,
   "id": "3b33978c",
   "metadata": {},
   "outputs": [
    {
     "data": {
      "text/plain": [
       "False"
      ]
     },
     "execution_count": 15,
     "metadata": {},
     "output_type": "execute_result"
    }
   ],
   "source": [
    "# that was true but NOT returned the opposite value\n",
    "not(1 == 1)\n",
    "#not 1 == 1"
   ]
  },
  {
   "cell_type": "code",
   "execution_count": 16,
   "id": "0d64a118",
   "metadata": {},
   "outputs": [
    {
     "data": {
      "text/plain": [
       "False"
      ]
     },
     "execution_count": 16,
     "metadata": {},
     "output_type": "execute_result"
    }
   ],
   "source": [
    "400 > 5000"
   ]
  },
  {
   "cell_type": "code",
   "execution_count": 17,
   "id": "411e0647",
   "metadata": {},
   "outputs": [
    {
     "data": {
      "text/plain": [
       "True"
      ]
     },
     "execution_count": 17,
     "metadata": {},
     "output_type": "execute_result"
    }
   ],
   "source": [
    "not (400 > 5000)"
   ]
  }
 ],
 "metadata": {
  "kernelspec": {
   "display_name": "Python 3 (ipykernel)",
   "language": "python",
   "name": "python3"
  },
  "language_info": {
   "codemirror_mode": {
    "name": "ipython",
    "version": 3
   },
   "file_extension": ".py",
   "mimetype": "text/x-python",
   "name": "python",
   "nbconvert_exporter": "python",
   "pygments_lexer": "ipython3",
   "version": "3.9.12"
  }
 },
 "nbformat": 4,
 "nbformat_minor": 5
}
