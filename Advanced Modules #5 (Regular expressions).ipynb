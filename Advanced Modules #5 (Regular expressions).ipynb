{
 "cells": [
  {
   "cell_type": "markdown",
   "id": "5447f770",
   "metadata": {},
   "source": [
    "# Regular Expressions #1"
   ]
  },
  {
   "cell_type": "markdown",
   "id": "401c5f5f",
   "metadata": {},
   "source": [
    "Or regex for short allow us to search for general patterns in text data\n",
    "\n",
    "re library allows us to create specialized pattern strings and then search for matching within text"
   ]
  },
  {
   "cell_type": "code",
   "execution_count": 1,
   "id": "6c375f65",
   "metadata": {},
   "outputs": [],
   "source": [
    "text = \"The agent's phone number is 408-555-1234. Call soon!\""
   ]
  },
  {
   "cell_type": "code",
   "execution_count": 2,
   "id": "91cf2143",
   "metadata": {},
   "outputs": [
    {
     "data": {
      "text/plain": [
       "True"
      ]
     },
     "execution_count": 2,
     "metadata": {},
     "output_type": "execute_result"
    }
   ],
   "source": [
    "# can seach for simple strings in a test\n",
    "\n",
    "\"phone\" in text\n",
    "\n",
    "# will retearn a boolean"
   ]
  },
  {
   "cell_type": "code",
   "execution_count": 2,
   "id": "6a66c764",
   "metadata": {},
   "outputs": [],
   "source": [
    "# regular expressions \n",
    "# first import re module \n",
    "\n",
    "\n",
    "import re"
   ]
  },
  {
   "cell_type": "code",
   "execution_count": 5,
   "id": "f6910b1b",
   "metadata": {},
   "outputs": [],
   "source": [
    "pattern = \"phone\"\n",
    "\n",
    "# this is the variable we are looking for"
   ]
  },
  {
   "cell_type": "code",
   "execution_count": 7,
   "id": "dd48e84d",
   "metadata": {},
   "outputs": [
    {
     "data": {
      "text/plain": [
       "<re.Match object; span=(12, 17), match='phone'>"
      ]
     },
     "execution_count": 7,
     "metadata": {},
     "output_type": "execute_result"
    }
   ],
   "source": [
    "re.search(pattern, text)\n",
    "\n",
    "# now lets search for that pattern \n",
    "# it will retern that we have a match and will also give as\n",
    "# an index location as \"span\" starts at 12 and finishes at 17"
   ]
  },
  {
   "cell_type": "code",
   "execution_count": 8,
   "id": "cb0357a1",
   "metadata": {},
   "outputs": [],
   "source": [
    "# now lest search for the pattern not in the text\n",
    "\n",
    "pattern2 = \"not in the text, lol!\""
   ]
  },
  {
   "cell_type": "code",
   "execution_count": 9,
   "id": "0ce5b1e2",
   "metadata": {},
   "outputs": [],
   "source": [
    "re.search(pattern2, text)\n",
    "\n",
    "# it will retearn nothing since there is no match"
   ]
  },
  {
   "cell_type": "code",
   "execution_count": 10,
   "id": "c6c30b46",
   "metadata": {},
   "outputs": [],
   "source": [
    "# now lets save the result in the variable to \n",
    "# use it later \n",
    "\n",
    "\n",
    "result = re.search(pattern, text)"
   ]
  },
  {
   "cell_type": "code",
   "execution_count": 11,
   "id": "7a539c45",
   "metadata": {},
   "outputs": [
    {
     "data": {
      "text/plain": [
       "(12, 17)"
      ]
     },
     "execution_count": 11,
     "metadata": {},
     "output_type": "execute_result"
    }
   ],
   "source": [
    "result.span()\n",
    "\n",
    "# to get the index location of the span as a tuple"
   ]
  },
  {
   "cell_type": "code",
   "execution_count": 15,
   "id": "e1ea31a8",
   "metadata": {},
   "outputs": [
    {
     "data": {
      "text/plain": [
       "12"
      ]
     },
     "execution_count": 15,
     "metadata": {},
     "output_type": "execute_result"
    }
   ],
   "source": [
    "result.start()\n",
    "\n",
    "# start index alone"
   ]
  },
  {
   "cell_type": "code",
   "execution_count": 16,
   "id": "c0d654bf",
   "metadata": {},
   "outputs": [
    {
     "data": {
      "text/plain": [
       "17"
      ]
     },
     "execution_count": 16,
     "metadata": {},
     "output_type": "execute_result"
    }
   ],
   "source": [
    "result.end()\n",
    "\n",
    "# end index alone"
   ]
  },
  {
   "cell_type": "code",
   "execution_count": 17,
   "id": "f9dd7161",
   "metadata": {},
   "outputs": [],
   "source": [
    "# if we had several matches we will only get the first one \n",
    "# if we use this command\n",
    "\n",
    "text2 = \"My phone oce, my phone twice\""
   ]
  },
  {
   "cell_type": "code",
   "execution_count": 18,
   "id": "8adb6684",
   "metadata": {},
   "outputs": [],
   "source": [
    "result2 = re.search(\"phone\", text2)"
   ]
  },
  {
   "cell_type": "code",
   "execution_count": 19,
   "id": "b26c3932",
   "metadata": {},
   "outputs": [
    {
     "data": {
      "text/plain": [
       "<re.Match object; span=(3, 8), match='phone'>"
      ]
     },
     "execution_count": 19,
     "metadata": {},
     "output_type": "execute_result"
    }
   ],
   "source": [
    "result2\n",
    "\n",
    "# as you can see only fist span is research\n",
    "# use another function"
   ]
  },
  {
   "cell_type": "code",
   "execution_count": 20,
   "id": "2a91c5fa",
   "metadata": {},
   "outputs": [],
   "source": [
    "# find all use re.findall(\"word\", where)\n",
    "\n",
    "result3 = re.findall(\"phone\", text2)"
   ]
  },
  {
   "cell_type": "code",
   "execution_count": 21,
   "id": "451a2681",
   "metadata": {},
   "outputs": [
    {
     "data": {
      "text/plain": [
       "['phone', 'phone']"
      ]
     },
     "execution_count": 21,
     "metadata": {},
     "output_type": "execute_result"
    }
   ],
   "source": [
    "result3\n",
    "\n",
    "# i will get the list of the matches"
   ]
  },
  {
   "cell_type": "code",
   "execution_count": 22,
   "id": "d7f50f8c",
   "metadata": {},
   "outputs": [
    {
     "data": {
      "text/plain": [
       "2"
      ]
     },
     "execution_count": 22,
     "metadata": {},
     "output_type": "execute_result"
    }
   ],
   "source": [
    "# to get how many matches \n",
    "\n",
    "len(result3)"
   ]
  },
  {
   "cell_type": "code",
   "execution_count": 24,
   "id": "ee19522f",
   "metadata": {},
   "outputs": [
    {
     "name": "stdout",
     "output_type": "stream",
     "text": [
      "<re.Match object; span=(3, 8), match='phone'>\n",
      "<re.Match object; span=(17, 22), match='phone'>\n"
     ]
    }
   ],
   "source": [
    "# to get an actual match use iterators about every possiton use \n",
    "# re.findinter\n",
    "\n",
    "for match in re.finditer(\"phone\", text2):\n",
    "    print (match)"
   ]
  },
  {
   "cell_type": "code",
   "execution_count": 26,
   "id": "0fab217c",
   "metadata": {},
   "outputs": [
    {
     "name": "stdout",
     "output_type": "stream",
     "text": [
      "(3, 8)\n",
      "(17, 22)\n"
     ]
    }
   ],
   "source": [
    "# to get the spans of each object\n",
    "\n",
    "for match in re.finditer(\"phone\", text2):\n",
    "    print (match.span())"
   ]
  },
  {
   "cell_type": "code",
   "execution_count": 27,
   "id": "b738c67c",
   "metadata": {},
   "outputs": [
    {
     "name": "stdout",
     "output_type": "stream",
     "text": [
      "3\n",
      "17\n"
     ]
    }
   ],
   "source": [
    "# start and end are the same as above\n",
    "\n",
    "for match in re.finditer(\"phone\", text2):\n",
    "    print (match.start())"
   ]
  },
  {
   "cell_type": "code",
   "execution_count": 28,
   "id": "c3ffa051",
   "metadata": {},
   "outputs": [
    {
     "name": "stdout",
     "output_type": "stream",
     "text": [
      "phone\n",
      "phone\n"
     ]
    }
   ],
   "source": [
    "# to get the actual text use group method\n",
    "\n",
    "for match in re.finditer(\"phone\", text2):\n",
    "    print (match.group())"
   ]
  },
  {
   "cell_type": "markdown",
   "id": "0470b4cc",
   "metadata": {},
   "source": [
    "# Regular Expressions #2"
   ]
  },
  {
   "cell_type": "markdown",
   "id": "ade5563f",
   "metadata": {},
   "source": [
    "## Character identifier"
   ]
  },
  {
   "cell_type": "markdown",
   "id": "b441f67c",
   "metadata": {},
   "source": [
    "\\d - digit (ex: file_\\d\\d  -  file_25)\n",
    "\n",
    "\\w - alphanumeric (ex:  \\w-\\w\\w\\w     -     A-b_1)\n",
    "\n",
    "\\s - white space  (ex:   a\\sb\\sc\\s    -    a b c)\n",
    "\n",
    "\\D - a non digit  (ex:   \\D\\D\\D    -     ABC)\n",
    "\n",
    "\\W - non alphanumeric  (ex:    \\W\\W\\W\\W\\W     -    *-+=) )\n",
    "\n",
    "\\S - non whitespace     (ex:     \\S\\S\\S\\S     -    Yoyo)"
   ]
  },
  {
   "cell_type": "code",
   "execution_count": 40,
   "id": "b7e23271",
   "metadata": {},
   "outputs": [],
   "source": [
    "text = \"my phone number is 408-555-1234\""
   ]
  },
  {
   "cell_type": "code",
   "execution_count": 36,
   "id": "b591afff",
   "metadata": {},
   "outputs": [],
   "source": [
    "phone  = re.search(\"408-555-1234\", text)\n",
    "\n",
    "# if we know what are we looking at"
   ]
  },
  {
   "cell_type": "code",
   "execution_count": 37,
   "id": "eb60402e",
   "metadata": {},
   "outputs": [
    {
     "data": {
      "text/plain": [
       "<re.Match object; span=(19, 31), match='408-555-1234'>"
      ]
     },
     "execution_count": 37,
     "metadata": {},
     "output_type": "execute_result"
    }
   ],
   "source": [
    "phone "
   ]
  },
  {
   "cell_type": "code",
   "execution_count": 41,
   "id": "b7c14661",
   "metadata": {},
   "outputs": [],
   "source": [
    "# if we don't know what we are looking for use\n",
    "# character identifier\n",
    "# don't forget to use \"r\" infront of a string \n",
    "# to tell python that they are not escape patterns\n",
    "\n",
    "phone  = re.search(r\"\\d\\d\\d-\\d\\d\\d-\\d\\d\\d\\d\",text)"
   ]
  },
  {
   "cell_type": "code",
   "execution_count": 39,
   "id": "6d11804b",
   "metadata": {},
   "outputs": [
    {
     "data": {
      "text/plain": [
       "<re.Match object; span=(19, 31), match='408-555-1234'>"
      ]
     },
     "execution_count": 39,
     "metadata": {},
     "output_type": "execute_result"
    }
   ],
   "source": [
    "phone"
   ]
  },
  {
   "cell_type": "code",
   "execution_count": 44,
   "id": "98a187e1",
   "metadata": {},
   "outputs": [
    {
     "data": {
      "text/plain": [
       "'408-555-7777'"
      ]
     },
     "execution_count": 44,
     "metadata": {},
     "output_type": "execute_result"
    }
   ],
   "source": [
    "phone.group()\n",
    "\n",
    "# to grab the phone number"
   ]
  },
  {
   "cell_type": "code",
   "execution_count": 48,
   "id": "7c2c9b44",
   "metadata": {},
   "outputs": [],
   "source": [
    "# use quantifiers that indicate \n",
    "# the number of charachters we are intrested in\n",
    "# see a table of quantifiers\n",
    "\n",
    "phone  = re.search(r\"\\d{3}-\\d{3}-\\d{3,4}\",text)"
   ]
  },
  {
   "cell_type": "code",
   "execution_count": 47,
   "id": "852c1203",
   "metadata": {},
   "outputs": [
    {
     "data": {
      "text/plain": [
       "<re.Match object; span=(19, 31), match='408-555-7777'>"
      ]
     },
     "execution_count": 47,
     "metadata": {},
     "output_type": "execute_result"
    }
   ],
   "source": [
    "phone"
   ]
  },
  {
   "cell_type": "markdown",
   "id": "ce0de978",
   "metadata": {},
   "source": [
    "## compile function"
   ]
  },
  {
   "cell_type": "code",
   "execution_count": 50,
   "id": "c826e528",
   "metadata": {},
   "outputs": [],
   "source": [
    "phone_pattern = re.compile(r\"(\\d{3})-(\\d{3})-(\\d{3,4})\")\n",
    "\n",
    "# each code above was a seperate pattern \n",
    "# it takes maltiple pattern codes and compiles them together\n",
    "# the compile understands that it was three seperate groupings "
   ]
  },
  {
   "cell_type": "code",
   "execution_count": 51,
   "id": "a6c07aae",
   "metadata": {},
   "outputs": [],
   "source": [
    "# now we may use it as a furmula \n",
    "\n",
    "\n",
    "result = re.search(phone_pattern, text)"
   ]
  },
  {
   "cell_type": "code",
   "execution_count": 52,
   "id": "0d8dd07a",
   "metadata": {},
   "outputs": [
    {
     "data": {
      "text/plain": [
       "<re.Match object; span=(19, 31), match='408-555-7777'>"
      ]
     },
     "execution_count": 52,
     "metadata": {},
     "output_type": "execute_result"
    }
   ],
   "source": [
    "result"
   ]
  },
  {
   "cell_type": "code",
   "execution_count": 54,
   "id": "00f5992e",
   "metadata": {},
   "outputs": [
    {
     "data": {
      "text/plain": [
       "'408-555-7777'"
      ]
     },
     "execution_count": 54,
     "metadata": {},
     "output_type": "execute_result"
    }
   ],
   "source": [
    "result.group()"
   ]
  },
  {
   "cell_type": "code",
   "execution_count": 55,
   "id": "5187bb30",
   "metadata": {},
   "outputs": [
    {
     "data": {
      "text/plain": [
       "'408'"
      ]
     },
     "execution_count": 55,
     "metadata": {},
     "output_type": "execute_result"
    }
   ],
   "source": [
    "# since I have 3 groups in phone pattern \n",
    "# i am now able to call individual groups\n",
    "# we start group oredering at 1 not at 0\n",
    "\n",
    "result.group(1)"
   ]
  },
  {
   "cell_type": "code",
   "execution_count": 56,
   "id": "3dfcc489",
   "metadata": {},
   "outputs": [
    {
     "data": {
      "text/plain": [
       "'555'"
      ]
     },
     "execution_count": 56,
     "metadata": {},
     "output_type": "execute_result"
    }
   ],
   "source": [
    "result.group(2)"
   ]
  },
  {
   "cell_type": "code",
   "execution_count": 61,
   "id": "7e0fc94c",
   "metadata": {},
   "outputs": [
    {
     "data": {
      "text/plain": [
       "'7777'"
      ]
     },
     "execution_count": 61,
     "metadata": {},
     "output_type": "execute_result"
    }
   ],
   "source": [
    "result.group(3)"
   ]
  },
  {
   "cell_type": "code",
   "execution_count": 62,
   "id": "31a4e969",
   "metadata": {},
   "outputs": [
    {
     "data": {
      "text/plain": [
       "('408', '555')"
      ]
     },
     "execution_count": 62,
     "metadata": {},
     "output_type": "execute_result"
    }
   ],
   "source": [
    "result.group(1,2)"
   ]
  },
  {
   "cell_type": "code",
   "execution_count": 58,
   "id": "a8969d33",
   "metadata": {},
   "outputs": [
    {
     "ename": "IndexError",
     "evalue": "no such group",
     "output_type": "error",
     "traceback": [
      "\u001b[0;31m---------------------------------------------------------------------------\u001b[0m",
      "\u001b[0;31mIndexError\u001b[0m                                Traceback (most recent call last)",
      "Input \u001b[0;32mIn [58]\u001b[0m, in \u001b[0;36m<cell line: 4>\u001b[0;34m()\u001b[0m\n\u001b[1;32m      1\u001b[0m \u001b[38;5;66;03m# if we ask the group outside \u001b[39;00m\n\u001b[1;32m      2\u001b[0m \u001b[38;5;66;03m# will return a mistake\u001b[39;00m\n\u001b[0;32m----> 4\u001b[0m \u001b[43mresult\u001b[49m\u001b[38;5;241;43m.\u001b[39;49m\u001b[43mgroup\u001b[49m\u001b[43m(\u001b[49m\u001b[38;5;241;43m4\u001b[39;49m\u001b[43m)\u001b[49m\n",
      "\u001b[0;31mIndexError\u001b[0m: no such group"
     ]
    }
   ],
   "source": [
    "# if we ask the group outside \n",
    "# will return a mistake\n",
    "\n",
    "result.group(4)"
   ]
  },
  {
   "cell_type": "markdown",
   "id": "f4ab4c50",
   "metadata": {},
   "source": [
    "# Regular Expressions #3"
   ]
  },
  {
   "cell_type": "code",
   "execution_count": 64,
   "id": "b3c80c7f",
   "metadata": {},
   "outputs": [
    {
     "data": {
      "text/plain": [
       "<re.Match object; span=(4, 7), match='dog'>"
      ]
     },
     "execution_count": 64,
     "metadata": {},
     "output_type": "execute_result"
    }
   ],
   "source": [
    "# to search for multiple turms use OR operator\n",
    "# it is syntax is pipe operator \"|\" (or)\n",
    "\n",
    "re.search(r'cat|dog', \"the dog is here\")"
   ]
  },
  {
   "cell_type": "code",
   "execution_count": 68,
   "id": "8b6b6d3a",
   "metadata": {},
   "outputs": [
    {
     "data": {
      "text/plain": [
       "['e cat', 'e hat', 'splat']"
      ]
     },
     "execution_count": 68,
     "metadata": {},
     "output_type": "execute_result"
    }
   ],
   "source": [
    "# wildcard operator (.) \n",
    "# everything before will be cancatenated with after\n",
    "# the wildcard the number of . represents the number \n",
    "# of numbers or integers placed in the return section\n",
    "\n",
    "re.findall(r\"...at\", \"The cat in the hat went splat\")"
   ]
  },
  {
   "cell_type": "code",
   "execution_count": 69,
   "id": "7d5ca379",
   "metadata": {},
   "outputs": [
    {
     "data": {
      "text/plain": [
       "['1']"
      ]
     },
     "execution_count": 69,
     "metadata": {},
     "output_type": "execute_result"
    }
   ],
   "source": [
    "###  starts with ^ syntax\n",
    "\n",
    "# in below example we are looking for a string \n",
    "# that starts with a number \n",
    "\n",
    "re.findall(r'^\\d', \"1 is a number\")\n",
    "\n",
    "# for the intire text if the start condition is met\n",
    "# returns the first"
   ]
  },
  {
   "cell_type": "code",
   "execution_count": 70,
   "id": "16a37813",
   "metadata": {},
   "outputs": [
    {
     "data": {
      "text/plain": [
       "['2']"
      ]
     },
     "execution_count": 70,
     "metadata": {},
     "output_type": "execute_result"
    }
   ],
   "source": [
    "### ends with $\n",
    "\n",
    "# in the below example we are looking for a string \n",
    "# that finishes with a digit \n",
    "\n",
    "re.findall(r\"\\d$\", \"The number is 2\")\n",
    "\n",
    "# returns the last"
   ]
  },
  {
   "cell_type": "code",
   "execution_count": 71,
   "id": "4107ad54",
   "metadata": {},
   "outputs": [],
   "source": [
    "### exclusion"
   ]
  },
  {
   "cell_type": "code",
   "execution_count": 72,
   "id": "c52643d8",
   "metadata": {},
   "outputs": [],
   "source": [
    "phrase = \"there are 3 numbers in 34 inside 5 this sentence\""
   ]
  },
  {
   "cell_type": "code",
   "execution_count": 93,
   "id": "6d2cb9ce",
   "metadata": {},
   "outputs": [],
   "source": [
    "# to exclude all the numbers from the string above \n",
    "# use the syntax below \"r[^]\"\n",
    "\n",
    "pattern = r\"[^\\d]+\" # the + will form sentences"
   ]
  },
  {
   "cell_type": "code",
   "execution_count": 76,
   "id": "a44a4850",
   "metadata": {},
   "outputs": [
    {
     "data": {
      "text/plain": [
       "['there are ', ' numbers in ', ' inside ', ' this sentence']"
      ]
     },
     "execution_count": 76,
     "metadata": {},
     "output_type": "execute_result"
    }
   ],
   "source": [
    "re.findall(pattern, phrase)"
   ]
  },
  {
   "cell_type": "code",
   "execution_count": 79,
   "id": "1b9f3bed",
   "metadata": {},
   "outputs": [],
   "source": [
    "# example 2 on exclusion"
   ]
  },
  {
   "cell_type": "code",
   "execution_count": 4,
   "id": "2daf1986",
   "metadata": {},
   "outputs": [],
   "source": [
    "test_phrase = \"This is a string! But it has punctuation. How can we remove it?\"\n"
   ]
  },
  {
   "cell_type": "code",
   "execution_count": 5,
   "id": "37ceeb95",
   "metadata": {},
   "outputs": [],
   "source": [
    "# now we will exclude punctuation and whitespaces\n",
    "\n",
    "clean = re.findall(r'[^!.? ]+', test_phrase)\n"
   ]
  },
  {
   "cell_type": "code",
   "execution_count": 91,
   "id": "9eafcca5",
   "metadata": {},
   "outputs": [
    {
     "data": {
      "text/plain": [
       "'This is a string But it has punctuation How can we remove it'"
      ]
     },
     "execution_count": 91,
     "metadata": {},
     "output_type": "execute_result"
    }
   ],
   "source": [
    "\" \".join(clean)"
   ]
  },
  {
   "cell_type": "code",
   "execution_count": 94,
   "id": "20615b77",
   "metadata": {},
   "outputs": [],
   "source": [
    "### INCLUSION"
   ]
  },
  {
   "cell_type": "code",
   "execution_count": 95,
   "id": "81652013",
   "metadata": {},
   "outputs": [],
   "source": [
    "text = \"Only find the hypen-words in this sentence. But you do not know how long-ish they are\" \n",
    "\n",
    "# find words with a - inside"
   ]
  },
  {
   "cell_type": "code",
   "execution_count": 98,
   "id": "ed9dc261",
   "metadata": {},
   "outputs": [],
   "source": [
    "pattern = r\"[\\w]+-[\\2\\w]+\""
   ]
  },
  {
   "cell_type": "code",
   "execution_count": 99,
   "id": "6db3a6e3",
   "metadata": {},
   "outputs": [
    {
     "data": {
      "text/plain": [
       "['hypen-words', 'long-ish']"
      ]
     },
     "execution_count": 99,
     "metadata": {},
     "output_type": "execute_result"
    }
   ],
   "source": [
    "re.findall(pattern, text)"
   ]
  },
  {
   "cell_type": "code",
   "execution_count": 104,
   "id": "90c2b72f",
   "metadata": {},
   "outputs": [],
   "source": [
    "text = \"Hello, would you like some catfish?\"\n",
    "texttwo = \"Hello, would you like to take a catnap?\"\n",
    "textthree = \"Hello, have you seen this caterpillar?\"\n"
   ]
  },
  {
   "cell_type": "code",
   "execution_count": 109,
   "id": "755cb84a",
   "metadata": {},
   "outputs": [
    {
     "data": {
      "text/plain": [
       "<re.Match object; span=(32, 38), match='catnap'>"
      ]
     },
     "execution_count": 109,
     "metadata": {},
     "output_type": "execute_result"
    }
   ],
   "source": [
    "# to group together multiple options\n",
    "\n",
    "re.search(r\"cat(fish|nap|claw)\", texttwo)"
   ]
  },
  {
   "cell_type": "code",
   "execution_count": null,
   "id": "b458bce4",
   "metadata": {},
   "outputs": [],
   "source": []
  }
 ],
 "metadata": {
  "kernelspec": {
   "display_name": "Python 3 (ipykernel)",
   "language": "python",
   "name": "python3"
  },
  "language_info": {
   "codemirror_mode": {
    "name": "ipython",
    "version": 3
   },
   "file_extension": ".py",
   "mimetype": "text/x-python",
   "name": "python",
   "nbconvert_exporter": "python",
   "pygments_lexer": "ipython3",
   "version": "3.9.12"
  }
 },
 "nbformat": 4,
 "nbformat_minor": 5
}
