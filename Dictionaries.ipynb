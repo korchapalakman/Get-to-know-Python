{
 "cells": [
  {
   "cell_type": "code",
   "execution_count": 1,
   "id": "ec3b2c16",
   "metadata": {},
   "outputs": [],
   "source": [
    "my_dict = {\"key1\": \"value1\", \"key2\": \"value2\"}"
   ]
  },
  {
   "cell_type": "code",
   "execution_count": 2,
   "id": "82ea36a7",
   "metadata": {},
   "outputs": [
    {
     "data": {
      "text/plain": [
       "{'key1': 'value1', 'key2': 'value2'}"
      ]
     },
     "execution_count": 2,
     "metadata": {},
     "output_type": "execute_result"
    }
   ],
   "source": [
    "my_dict"
   ]
  },
  {
   "cell_type": "code",
   "execution_count": 3,
   "id": "9f2f84f3",
   "metadata": {},
   "outputs": [
    {
     "data": {
      "text/plain": [
       "'value1'"
      ]
     },
     "execution_count": 3,
     "metadata": {},
     "output_type": "execute_result"
    }
   ],
   "source": [
    "my_dict[\"key1\"]"
   ]
  },
  {
   "cell_type": "code",
   "execution_count": 4,
   "id": "e0e33465",
   "metadata": {},
   "outputs": [],
   "source": [
    "prices_lookup = {\"apple\":2.99, \"oranges\": 1.99, \"milk\": 2.99, \"coko-loko\":9.99}"
   ]
  },
  {
   "cell_type": "code",
   "execution_count": 5,
   "id": "8f2f5553",
   "metadata": {},
   "outputs": [
    {
     "data": {
      "text/plain": [
       "2.99"
      ]
     },
     "execution_count": 5,
     "metadata": {},
     "output_type": "execute_result"
    }
   ],
   "source": [
    "prices_lookup[\"apple\"]"
   ]
  },
  {
   "cell_type": "code",
   "execution_count": 6,
   "id": "e551556d",
   "metadata": {},
   "outputs": [
    {
     "data": {
      "text/plain": [
       "9.99"
      ]
     },
     "execution_count": 6,
     "metadata": {},
     "output_type": "execute_result"
    }
   ],
   "source": [
    "prices_lookup[\"coko-loko\"]"
   ]
  },
  {
   "cell_type": "code",
   "execution_count": 7,
   "id": "9d621116",
   "metadata": {},
   "outputs": [],
   "source": [
    "d = {\"k1\":123, \"k2\":[0,1,2,3], \"k3\":{\"inside\":100}}"
   ]
  },
  {
   "cell_type": "code",
   "execution_count": 8,
   "id": "ad70cd8f",
   "metadata": {},
   "outputs": [
    {
     "data": {
      "text/plain": [
       "{'inside': 100}"
      ]
     },
     "execution_count": 8,
     "metadata": {},
     "output_type": "execute_result"
    }
   ],
   "source": [
    "d[\"k3\"]"
   ]
  },
  {
   "cell_type": "code",
   "execution_count": 9,
   "id": "7f1e0b6b",
   "metadata": {},
   "outputs": [
    {
     "data": {
      "text/plain": [
       "100"
      ]
     },
     "execution_count": 9,
     "metadata": {},
     "output_type": "execute_result"
    }
   ],
   "source": [
    "d[\"k3\"][\"inside\"]"
   ]
  },
  {
   "cell_type": "code",
   "execution_count": 10,
   "id": "c501dc19",
   "metadata": {},
   "outputs": [
    {
     "data": {
      "text/plain": [
       "2"
      ]
     },
     "execution_count": 10,
     "metadata": {},
     "output_type": "execute_result"
    }
   ],
   "source": [
    "d[\"k2\"][2]"
   ]
  },
  {
   "cell_type": "code",
   "execution_count": 11,
   "id": "e7d10f8b",
   "metadata": {},
   "outputs": [
    {
     "data": {
      "text/plain": [
       "3"
      ]
     },
     "execution_count": 11,
     "metadata": {},
     "output_type": "execute_result"
    }
   ],
   "source": [
    "d[\"k2\"].pop()"
   ]
  },
  {
   "cell_type": "code",
   "execution_count": 12,
   "id": "426997c3",
   "metadata": {},
   "outputs": [],
   "source": [
    "d[\"k2\"].append(3)"
   ]
  },
  {
   "cell_type": "code",
   "execution_count": 15,
   "id": "675c4055",
   "metadata": {},
   "outputs": [],
   "source": [
    "d[\"k2\"].reverse()"
   ]
  },
  {
   "cell_type": "code",
   "execution_count": 16,
   "id": "d2508dbf",
   "metadata": {},
   "outputs": [
    {
     "data": {
      "text/plain": [
       "[3, 2, 1, 0]"
      ]
     },
     "execution_count": 16,
     "metadata": {},
     "output_type": "execute_result"
    }
   ],
   "source": [
    "d[\"k2\"]"
   ]
  },
  {
   "cell_type": "code",
   "execution_count": 17,
   "id": "52fd4ed6",
   "metadata": {},
   "outputs": [
    {
     "data": {
      "text/plain": [
       "{'k1': 123, 'k2': [3, 2, 1, 0], 'k3': {'inside': 100}}"
      ]
     },
     "execution_count": 17,
     "metadata": {},
     "output_type": "execute_result"
    }
   ],
   "source": [
    "d"
   ]
  },
  {
   "cell_type": "markdown",
   "id": "13c0e4bb",
   "metadata": {},
   "source": [
    "make a change within a list in a dict\n"
   ]
  },
  {
   "cell_type": "code",
   "execution_count": 18,
   "id": "896a78d9",
   "metadata": {},
   "outputs": [],
   "source": [
    "d = {\"k1\": [\"a\", \"b\", \"c\"]}"
   ]
  },
  {
   "cell_type": "code",
   "execution_count": 21,
   "id": "c1618eb8",
   "metadata": {},
   "outputs": [],
   "source": [
    "my_list = d[\"k1\"]"
   ]
  },
  {
   "cell_type": "code",
   "execution_count": 23,
   "id": "5f69ac70",
   "metadata": {},
   "outputs": [],
   "source": [
    "Letter_upper = my_list[2]"
   ]
  },
  {
   "cell_type": "code",
   "execution_count": 24,
   "id": "9a5d6dd4",
   "metadata": {},
   "outputs": [],
   "source": [
    "Letter = Letter_upper.upper()"
   ]
  },
  {
   "cell_type": "code",
   "execution_count": 27,
   "id": "10b510b1",
   "metadata": {},
   "outputs": [
    {
     "data": {
      "text/plain": [
       "'C'"
      ]
     },
     "execution_count": 27,
     "metadata": {},
     "output_type": "execute_result"
    }
   ],
   "source": [
    "Letter"
   ]
  },
  {
   "cell_type": "code",
   "execution_count": 29,
   "id": "b67358d5",
   "metadata": {},
   "outputs": [],
   "source": [
    "my = d[\"k1\"][2].upper()"
   ]
  },
  {
   "cell_type": "code",
   "execution_count": 30,
   "id": "b18ba344",
   "metadata": {},
   "outputs": [
    {
     "data": {
      "text/plain": [
       "'C'"
      ]
     },
     "execution_count": 30,
     "metadata": {},
     "output_type": "execute_result"
    }
   ],
   "source": [
    "my"
   ]
  },
  {
   "cell_type": "code",
   "execution_count": 31,
   "id": "60133c49",
   "metadata": {},
   "outputs": [],
   "source": [
    "d = {\"k1\":100, \"k2\":200}\n"
   ]
  },
  {
   "cell_type": "code",
   "execution_count": 33,
   "id": "3b066207",
   "metadata": {},
   "outputs": [
    {
     "data": {
      "text/plain": [
       "{'k1': 100, 'k2': 200, 'k3': 300}"
      ]
     },
     "execution_count": 33,
     "metadata": {},
     "output_type": "execute_result"
    }
   ],
   "source": [
    "d[\"k3\"]= 300\n",
    "d"
   ]
  },
  {
   "cell_type": "markdown",
   "id": "e8772e67",
   "metadata": {},
   "source": [
    "to change the value of exisitng cell follow"
   ]
  },
  {
   "cell_type": "code",
   "execution_count": 34,
   "id": "aedea907",
   "metadata": {},
   "outputs": [],
   "source": [
    "d[\"k1\"] = 400"
   ]
  },
  {
   "cell_type": "code",
   "execution_count": 35,
   "id": "a0cec463",
   "metadata": {},
   "outputs": [
    {
     "data": {
      "text/plain": [
       "{'k1': 400, 'k2': 200, 'k3': 300}"
      ]
     },
     "execution_count": 35,
     "metadata": {},
     "output_type": "execute_result"
    }
   ],
   "source": [
    "d"
   ]
  },
  {
   "cell_type": "code",
   "execution_count": 36,
   "id": "1ff5c24c",
   "metadata": {},
   "outputs": [
    {
     "data": {
      "text/plain": [
       "dict_values([400, 200, 300])"
      ]
     },
     "execution_count": 36,
     "metadata": {},
     "output_type": "execute_result"
    }
   ],
   "source": [
    "#to show only values\n",
    "d.values()"
   ]
  },
  {
   "cell_type": "code",
   "execution_count": 39,
   "id": "e3d0c1fe",
   "metadata": {},
   "outputs": [
    {
     "data": {
      "text/plain": [
       "dict_keys(['k1', 'k2', 'k3'])"
      ]
     },
     "execution_count": 39,
     "metadata": {},
     "output_type": "execute_result"
    }
   ],
   "source": [
    "#to show only keys\n",
    "d.keys()"
   ]
  },
  {
   "cell_type": "code",
   "execution_count": 44,
   "id": "30e89b9a",
   "metadata": {},
   "outputs": [
    {
     "data": {
      "text/plain": [
       "dict_items([('k1', 400), ('k2', 200), ('k3', 300)])"
      ]
     },
     "execution_count": 44,
     "metadata": {},
     "output_type": "execute_result"
    }
   ],
   "source": [
    "#to show all pairs in dict\n",
    "d.items()\n",
    "#the result would be in breakets - tuples\n"
   ]
  },
  {
   "cell_type": "code",
   "execution_count": 1,
   "id": "d67fed84",
   "metadata": {},
   "outputs": [],
   "source": [
    "my_dict = {\"rule1\": \"don't tell\", \"rule2\": \"don't tell x2\", \"rule3\": \"prepare to fight\"}"
   ]
  },
  {
   "cell_type": "code",
   "execution_count": 2,
   "id": "7fadd684",
   "metadata": {},
   "outputs": [
    {
     "data": {
      "text/plain": [
       "{'rule1': \"don't tell\", 'rule2': \"don't tell x2\", 'rule3': 'prepare to fight'}"
      ]
     },
     "execution_count": 2,
     "metadata": {},
     "output_type": "execute_result"
    }
   ],
   "source": [
    "my_dict"
   ]
  },
  {
   "cell_type": "code",
   "execution_count": 7,
   "id": "e23cbabc",
   "metadata": {},
   "outputs": [
    {
     "data": {
      "text/plain": [
       "dict_values([\"don't tell\", \"don't tell x2\", 'prepare to fight'])"
      ]
     },
     "execution_count": 7,
     "metadata": {},
     "output_type": "execute_result"
    }
   ],
   "source": [
    "my_dict.values()"
   ]
  },
  {
   "cell_type": "code",
   "execution_count": 4,
   "id": "7b75ba29",
   "metadata": {},
   "outputs": [
    {
     "data": {
      "text/plain": [
       "\"don't tell\""
      ]
     },
     "execution_count": 4,
     "metadata": {},
     "output_type": "execute_result"
    }
   ],
   "source": [
    "my_dict[\"rule1\"]"
   ]
  },
  {
   "cell_type": "code",
   "execution_count": 8,
   "id": "6a7f1ffb",
   "metadata": {},
   "outputs": [],
   "source": [
    "my_dict[\"rule2\"] = \"never tell\""
   ]
  },
  {
   "cell_type": "code",
   "execution_count": null,
   "id": "7cdac235",
   "metadata": {},
   "outputs": [],
   "source": [
    "my_d"
   ]
  }
 ],
 "metadata": {
  "kernelspec": {
   "display_name": "Python 3 (ipykernel)",
   "language": "python",
   "name": "python3"
  },
  "language_info": {
   "codemirror_mode": {
    "name": "ipython",
    "version": 3
   },
   "file_extension": ".py",
   "mimetype": "text/x-python",
   "name": "python",
   "nbconvert_exporter": "python",
   "pygments_lexer": "ipython3",
   "version": "3.9.12"
  }
 },
 "nbformat": 4,
 "nbformat_minor": 5
}
