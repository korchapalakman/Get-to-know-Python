{
 "cells": [
  {
   "cell_type": "markdown",
   "id": "7a829f26",
   "metadata": {},
   "source": [
    "## Basics of display\n"
   ]
  },
  {
   "cell_type": "code",
   "execution_count": 1,
   "id": "c1bb915d",
   "metadata": {
    "scrolled": true
   },
   "outputs": [
    {
     "name": "stdout",
     "output_type": "stream",
     "text": [
      "[1, 2, 3]\n"
     ]
    }
   ],
   "source": [
    "print ([1,2,3])"
   ]
  },
  {
   "cell_type": "code",
   "execution_count": 2,
   "id": "3dd730c7",
   "metadata": {},
   "outputs": [
    {
     "name": "stdout",
     "output_type": "stream",
     "text": [
      "[1, 2, 3]\n",
      "[4, 5, 6]\n",
      "[7, 8, 9]\n"
     ]
    }
   ],
   "source": [
    "print ([1,2,3])\n",
    "print ([4,5,6])\n",
    "print ([7,8,9])"
   ]
  },
  {
   "cell_type": "markdown",
   "id": "3a179d17",
   "metadata": {},
   "source": [
    "#### may create a function that displays the information for the user insted pf calling a print statment "
   ]
  },
  {
   "cell_type": "code",
   "execution_count": 3,
   "id": "64c6a4dd",
   "metadata": {},
   "outputs": [],
   "source": [
    "def display(row1, row2, row3):\n",
    "    print (row1)\n",
    "    print (row2)\n",
    "    print (row3)"
   ]
  },
  {
   "cell_type": "code",
   "execution_count": 4,
   "id": "99c51fe6",
   "metadata": {},
   "outputs": [],
   "source": [
    "example_row = [1,2,3]"
   ]
  },
  {
   "cell_type": "code",
   "execution_count": 5,
   "id": "c0ae8f90",
   "metadata": {},
   "outputs": [
    {
     "name": "stdout",
     "output_type": "stream",
     "text": [
      "[1, 2, 3]\n",
      "[1, 2, 3]\n",
      "[1, 2, 3]\n"
     ]
    }
   ],
   "source": [
    "display(example_row,example_row,example_row)"
   ]
  },
  {
   "cell_type": "code",
   "execution_count": 6,
   "id": "a1da6c79",
   "metadata": {},
   "outputs": [],
   "source": [
    "r = [\" \",\" \",\" \"]\n",
    "r2 = [\" \",\" \",\" \"]\n",
    "r3 = [\" \",\" \",\" \"]"
   ]
  },
  {
   "cell_type": "code",
   "execution_count": 7,
   "id": "58bb10dd",
   "metadata": {},
   "outputs": [
    {
     "name": "stdout",
     "output_type": "stream",
     "text": [
      "[' ', ' ', ' ']\n",
      "[' ', ' ', ' ']\n",
      "[' ', ' ', ' ']\n"
     ]
    }
   ],
   "source": [
    "display(r, r2, r3)"
   ]
  },
  {
   "cell_type": "code",
   "execution_count": 9,
   "id": "82eabd14",
   "metadata": {},
   "outputs": [
    {
     "name": "stdout",
     "output_type": "stream",
     "text": [
      "[' ', ' ', ' ']\n",
      "[' ', 'X', ' ']\n",
      "[' ', ' ', ' ']\n"
     ]
    }
   ],
   "source": [
    "r2[1] = \"X\"\n",
    "display(r, r2, r3)"
   ]
  },
  {
   "cell_type": "markdown",
   "id": "b788cc70",
   "metadata": {},
   "source": [
    "## Basics of input"
   ]
  },
  {
   "cell_type": "code",
   "execution_count": 10,
   "id": "504436b3",
   "metadata": {},
   "outputs": [
    {
     "name": "stdout",
     "output_type": "stream",
     "text": [
      "please enter a value: 2\n"
     ]
    },
    {
     "data": {
      "text/plain": [
       "'2'"
      ]
     },
     "execution_count": 10,
     "metadata": {},
     "output_type": "execute_result"
    }
   ],
   "source": [
    "input (\"please enter a value: \")"
   ]
  },
  {
   "cell_type": "code",
   "execution_count": 11,
   "id": "993d450a",
   "metadata": {},
   "outputs": [
    {
     "name": "stdout",
     "output_type": "stream",
     "text": [
      "please enter a value: 2\n"
     ]
    }
   ],
   "source": [
    "#to save the result \n",
    "\n",
    "result = input (\"please enter a value: \")"
   ]
  },
  {
   "cell_type": "code",
   "execution_count": 12,
   "id": "33c5da9f",
   "metadata": {},
   "outputs": [
    {
     "data": {
      "text/plain": [
       "'2'"
      ]
     },
     "execution_count": 12,
     "metadata": {},
     "output_type": "execute_result"
    }
   ],
   "source": [
    "result "
   ]
  },
  {
   "cell_type": "code",
   "execution_count": 13,
   "id": "b46bfdcc",
   "metadata": {},
   "outputs": [
    {
     "data": {
      "text/plain": [
       "str"
      ]
     },
     "execution_count": 13,
     "metadata": {},
     "output_type": "execute_result"
    }
   ],
   "source": [
    "type(result)\n",
    "#all will be strings, have to convert them "
   ]
  },
  {
   "cell_type": "code",
   "execution_count": 14,
   "id": "02c7539e",
   "metadata": {},
   "outputs": [],
   "source": [
    "result_int = int(result)"
   ]
  },
  {
   "cell_type": "code",
   "execution_count": 15,
   "id": "3a56d1b5",
   "metadata": {},
   "outputs": [
    {
     "data": {
      "text/plain": [
       "int"
      ]
     },
     "execution_count": 15,
     "metadata": {},
     "output_type": "execute_result"
    }
   ],
   "source": [
    "type(result_int)"
   ]
  },
  {
   "cell_type": "code",
   "execution_count": 17,
   "id": "55470c1a",
   "metadata": {},
   "outputs": [
    {
     "name": "stdout",
     "output_type": "stream",
     "text": [
      "choose an index position: 1\n"
     ]
    }
   ],
   "source": [
    "position_indx = int(input (\"choose an index position: \"))"
   ]
  },
  {
   "cell_type": "code",
   "execution_count": 19,
   "id": "e116886b",
   "metadata": {},
   "outputs": [
    {
     "data": {
      "text/plain": [
       "' '"
      ]
     },
     "execution_count": 19,
     "metadata": {},
     "output_type": "execute_result"
    }
   ],
   "source": [
    "r[position_indx]"
   ]
  },
  {
   "cell_type": "markdown",
   "id": "55a06359",
   "metadata": {},
   "source": [
    "### Validate user input"
   ]
  },
  {
   "cell_type": "code",
   "execution_count": 25,
   "id": "920471a1",
   "metadata": {},
   "outputs": [],
   "source": [
    "def user_choice():\n",
    "    \n",
    "    choice = input (\"please input a number (0-10): \")\n",
    "    #this will return an error if you type str\n",
    "    #will exept the numer outside the range\n",
    "    return int(choice)"
   ]
  },
  {
   "cell_type": "code",
   "execution_count": 21,
   "id": "480364bb",
   "metadata": {},
   "outputs": [
    {
     "name": "stdout",
     "output_type": "stream",
     "text": [
      "please input a number (0-10): 9\n"
     ]
    },
    {
     "data": {
      "text/plain": [
       "9"
      ]
     },
     "execution_count": 21,
     "metadata": {},
     "output_type": "execute_result"
    }
   ],
   "source": [
    "user_choice()"
   ]
  },
  {
   "cell_type": "code",
   "execution_count": 22,
   "id": "d4723e0e",
   "metadata": {},
   "outputs": [
    {
     "name": "stdout",
     "output_type": "stream",
     "text": [
      "please input a number (0-10): nine \n"
     ]
    },
    {
     "ename": "ValueError",
     "evalue": "invalid literal for int() with base 10: 'nine '",
     "output_type": "error",
     "traceback": [
      "\u001b[0;31m---------------------------------------------------------------------------\u001b[0m",
      "\u001b[0;31mValueError\u001b[0m                                Traceback (most recent call last)",
      "Input \u001b[0;32mIn [22]\u001b[0m, in \u001b[0;36m<cell line: 1>\u001b[0;34m()\u001b[0m\n\u001b[0;32m----> 1\u001b[0m \u001b[43muser_choice\u001b[49m\u001b[43m(\u001b[49m\u001b[43m)\u001b[49m\n",
      "Input \u001b[0;32mIn [20]\u001b[0m, in \u001b[0;36muser_choice\u001b[0;34m()\u001b[0m\n\u001b[1;32m      1\u001b[0m \u001b[38;5;28;01mdef\u001b[39;00m \u001b[38;5;21muser_choice\u001b[39m():\n\u001b[1;32m      3\u001b[0m     choice \u001b[38;5;241m=\u001b[39m \u001b[38;5;28minput\u001b[39m (\u001b[38;5;124m\"\u001b[39m\u001b[38;5;124mplease input a number (0-10): \u001b[39m\u001b[38;5;124m\"\u001b[39m)\n\u001b[0;32m----> 5\u001b[0m     \u001b[38;5;28;01mreturn\u001b[39;00m \u001b[38;5;28;43mint\u001b[39;49m\u001b[43m(\u001b[49m\u001b[43mchoice\u001b[49m\u001b[43m)\u001b[49m\n",
      "\u001b[0;31mValueError\u001b[0m: invalid literal for int() with base 10: 'nine '"
     ]
    }
   ],
   "source": [
    "user_choice()"
   ]
  },
  {
   "cell_type": "code",
   "execution_count": 23,
   "id": "366a3cc8",
   "metadata": {},
   "outputs": [
    {
     "name": "stdout",
     "output_type": "stream",
     "text": [
      "please input a number (0-10): 100\n"
     ]
    },
    {
     "data": {
      "text/plain": [
       "100"
      ]
     },
     "execution_count": 23,
     "metadata": {},
     "output_type": "execute_result"
    }
   ],
   "source": [
    "user_choice()"
   ]
  },
  {
   "cell_type": "code",
   "execution_count": 26,
   "id": "7c394ac4",
   "metadata": {},
   "outputs": [],
   "source": [
    "somenumber = \"100\""
   ]
  },
  {
   "cell_type": "code",
   "execution_count": 28,
   "id": "82aded33",
   "metadata": {},
   "outputs": [
    {
     "data": {
      "text/plain": [
       "True"
      ]
     },
     "execution_count": 28,
     "metadata": {},
     "output_type": "execute_result"
    }
   ],
   "source": [
    "somenumber.isdigit()\n",
    "#this function helps to understed wheather\n",
    "#the iput can be trasfered to int \n",
    "\n",
    "#be aware wont work with negative numbers \n"
   ]
  },
  {
   "cell_type": "code",
   "execution_count": 29,
   "id": "fd198e0a",
   "metadata": {},
   "outputs": [
    {
     "data": {
      "text/plain": [
       "100"
      ]
     },
     "execution_count": 29,
     "metadata": {},
     "output_type": "execute_result"
    }
   ],
   "source": [
    "int(somenumber)"
   ]
  },
  {
   "cell_type": "code",
   "execution_count": 32,
   "id": "4dd38fee",
   "metadata": {},
   "outputs": [],
   "source": [
    "def user_choice():\n",
    "    \n",
    "    choice = \"WRONG\"\n",
    "    #now it will ask the user to input a number all over \n",
    "    \n",
    "    \n",
    "    while choice.isdigit() == False:\n",
    "        choice = input (\"please input a number (0-10): \")\n",
    "        \n",
    "        if choice.isdigit() == False:\n",
    "            print (\"sorry, not a number\")\n",
    "    \n",
    "    \n",
    "    return int(choice)"
   ]
  },
  {
   "cell_type": "code",
   "execution_count": 33,
   "id": "2a2eb47e",
   "metadata": {},
   "outputs": [
    {
     "name": "stdout",
     "output_type": "stream",
     "text": [
      "please input a number (0-10): two\n",
      "sorry, not a number\n",
      "please input a number (0-10): one\n",
      "sorry, not a number\n",
      "please input a number (0-10): -11\n",
      "sorry, not a number\n",
      "please input a number (0-10): 15\n"
     ]
    },
    {
     "data": {
      "text/plain": [
       "15"
      ]
     },
     "execution_count": 33,
     "metadata": {},
     "output_type": "execute_result"
    }
   ],
   "source": [
    "user_choice()"
   ]
  },
  {
   "cell_type": "code",
   "execution_count": 34,
   "id": "8a7255ac",
   "metadata": {},
   "outputs": [],
   "source": [
    "result = \"WRONG VALUE\""
   ]
  },
  {
   "cell_type": "code",
   "execution_count": 35,
   "id": "a3c88f11",
   "metadata": {},
   "outputs": [],
   "source": [
    "acceptable_value = [0,1,2,3,4,5,6,7,8,9,10]"
   ]
  },
  {
   "cell_type": "code",
   "execution_count": 36,
   "id": "307820d9",
   "metadata": {},
   "outputs": [
    {
     "data": {
      "text/plain": [
       "False"
      ]
     },
     "execution_count": 36,
     "metadata": {},
     "output_type": "execute_result"
    }
   ],
   "source": [
    "result in acceptable_value"
   ]
  },
  {
   "cell_type": "code",
   "execution_count": 37,
   "id": "8c54f61a",
   "metadata": {},
   "outputs": [
    {
     "data": {
      "text/plain": [
       "True"
      ]
     },
     "execution_count": 37,
     "metadata": {},
     "output_type": "execute_result"
    }
   ],
   "source": [
    "result not in acceptable_value"
   ]
  },
  {
   "cell_type": "code",
   "execution_count": 8,
   "id": "a8d86c53",
   "metadata": {},
   "outputs": [],
   "source": [
    "def user_choice():\n",
    "    \n",
    "    #variables \n",
    "    \n",
    "    #initial \n",
    "    choice = \"WRONG\"\n",
    "    acceptable_range = range(0,11)\n",
    "    within_range = False\n",
    "    \n",
    "    \n",
    "    #two conditions to check\n",
    "    #didgit or within range == False\n",
    "    \n",
    "    while choice.isdigit() == False or within_range == False:\n",
    "        choice = input (\"please input a number (0-10): \")\n",
    "        \n",
    "        #didgit check\n",
    "        if choice.isdigit() == False:\n",
    "            print (\"sorry, not a number\")\n",
    "        \n",
    "      \n",
    "        \n",
    "        \n",
    "        #range check\n",
    "        if choice.isdigit() == True:\n",
    "            if int(choice) in acceptable_range:\n",
    "                within_range = True\n",
    "            else:\n",
    "                print (\"sorry our of range (0-10)\")\n",
    "                within_range = False\n",
    "        \n",
    "    \n",
    "    return int(choice)"
   ]
  },
  {
   "cell_type": "code",
   "execution_count": 9,
   "id": "9cfc3e69",
   "metadata": {},
   "outputs": [
    {
     "name": "stdout",
     "output_type": "stream",
     "text": [
      "please input a number (0-10): 10\n"
     ]
    },
    {
     "data": {
      "text/plain": [
       "10"
      ]
     },
     "execution_count": 9,
     "metadata": {},
     "output_type": "execute_result"
    }
   ],
   "source": [
    "user_choice()"
   ]
  },
  {
   "cell_type": "code",
   "execution_count": 2,
   "id": "93614abe",
   "metadata": {},
   "outputs": [
    {
     "data": {
      "text/plain": [
       "[0, 1, 2]"
      ]
     },
     "execution_count": 2,
     "metadata": {},
     "output_type": "execute_result"
    }
   ],
   "source": [
    "list(range (0,3))"
   ]
  },
  {
   "cell_type": "code",
   "execution_count": null,
   "id": "b8db3f80",
   "metadata": {},
   "outputs": [],
   "source": []
  }
 ],
 "metadata": {
  "kernelspec": {
   "display_name": "Python 3 (ipykernel)",
   "language": "python",
   "name": "python3"
  },
  "language_info": {
   "codemirror_mode": {
    "name": "ipython",
    "version": 3
   },
   "file_extension": ".py",
   "mimetype": "text/x-python",
   "name": "python",
   "nbconvert_exporter": "python",
   "pygments_lexer": "ipython3",
   "version": "3.9.12"
  }
 },
 "nbformat": 4,
 "nbformat_minor": 5
}
