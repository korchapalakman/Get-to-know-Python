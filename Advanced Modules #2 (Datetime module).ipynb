{
 "cells": [
  {
   "cell_type": "markdown",
   "id": "96331b5e",
   "metadata": {},
   "source": [
    "# Datetime module"
   ]
  },
  {
   "cell_type": "markdown",
   "id": "c77da73f",
   "metadata": {},
   "source": [
    "Allow you to create object that have information about time, date, time-zone, operations between date-time objects"
   ]
  },
  {
   "cell_type": "code",
   "execution_count": 1,
   "id": "8cf898bc",
   "metadata": {},
   "outputs": [],
   "source": [
    "import datetime"
   ]
  },
  {
   "cell_type": "markdown",
   "id": "cab450f1",
   "metadata": {},
   "source": [
    "## Time "
   ]
  },
  {
   "cell_type": "code",
   "execution_count": 2,
   "id": "d3ebe53d",
   "metadata": {},
   "outputs": [],
   "source": [
    "# works on a 24 hours clock (hours, min, sec...sht+tab)\n",
    "\n",
    "mytime = datetime.time(2,20)"
   ]
  },
  {
   "cell_type": "code",
   "execution_count": 3,
   "id": "be5abebf",
   "metadata": {},
   "outputs": [
    {
     "data": {
      "text/plain": [
       "20"
      ]
     },
     "execution_count": 3,
     "metadata": {},
     "output_type": "execute_result"
    }
   ],
   "source": [
    "mytime.minute"
   ]
  },
  {
   "cell_type": "code",
   "execution_count": 4,
   "id": "25dc7951",
   "metadata": {},
   "outputs": [
    {
     "data": {
      "text/plain": [
       "2"
      ]
     },
     "execution_count": 4,
     "metadata": {},
     "output_type": "execute_result"
    }
   ],
   "source": [
    "mytime.hour"
   ]
  },
  {
   "cell_type": "code",
   "execution_count": 5,
   "id": "92760c64",
   "metadata": {},
   "outputs": [
    {
     "name": "stdout",
     "output_type": "stream",
     "text": [
      "02:20:00\n"
     ]
    }
   ],
   "source": [
    "# will fill in the remaning automaticly\n",
    "\n",
    "print (mytime)"
   ]
  },
  {
   "cell_type": "code",
   "execution_count": 6,
   "id": "1b66cc65",
   "metadata": {},
   "outputs": [
    {
     "data": {
      "text/plain": [
       "0"
      ]
     },
     "execution_count": 6,
     "metadata": {},
     "output_type": "execute_result"
    }
   ],
   "source": [
    "mytime.microsecond"
   ]
  },
  {
   "cell_type": "code",
   "execution_count": 7,
   "id": "6e88297a",
   "metadata": {},
   "outputs": [],
   "source": [
    "mytime = datetime.time(2,20,1,20)"
   ]
  },
  {
   "cell_type": "code",
   "execution_count": 8,
   "id": "cc46a5cd",
   "metadata": {},
   "outputs": [
    {
     "name": "stdout",
     "output_type": "stream",
     "text": [
      "02:20:01.000020\n"
     ]
    }
   ],
   "source": [
    "print (mytime)"
   ]
  },
  {
   "cell_type": "code",
   "execution_count": 9,
   "id": "3277e82c",
   "metadata": {},
   "outputs": [
    {
     "data": {
      "text/plain": [
       "datetime.time"
      ]
     },
     "execution_count": 9,
     "metadata": {},
     "output_type": "execute_result"
    }
   ],
   "source": [
    "# as you can see only holds time information\n",
    "\n",
    "type(mytime)"
   ]
  },
  {
   "cell_type": "markdown",
   "id": "9f5f1294",
   "metadata": {},
   "source": [
    "## Date"
   ]
  },
  {
   "cell_type": "code",
   "execution_count": 11,
   "id": "e8a90d13",
   "metadata": {},
   "outputs": [],
   "source": [
    "# this function may take in arguments as (yyyy,mm,dd)\n",
    "# also may use today date by .today()\n",
    "\n",
    "today = datetime.date.today()"
   ]
  },
  {
   "cell_type": "code",
   "execution_count": 12,
   "id": "c1c4b0df",
   "metadata": {},
   "outputs": [
    {
     "name": "stdout",
     "output_type": "stream",
     "text": [
      "2022-09-13\n"
     ]
    }
   ],
   "source": [
    "print (today)"
   ]
  },
  {
   "cell_type": "code",
   "execution_count": 13,
   "id": "1397b30a",
   "metadata": {},
   "outputs": [
    {
     "data": {
      "text/plain": [
       "2022"
      ]
     },
     "execution_count": 13,
     "metadata": {},
     "output_type": "execute_result"
    }
   ],
   "source": [
    "today.year"
   ]
  },
  {
   "cell_type": "code",
   "execution_count": 14,
   "id": "910394ed",
   "metadata": {},
   "outputs": [
    {
     "data": {
      "text/plain": [
       "9"
      ]
     },
     "execution_count": 14,
     "metadata": {},
     "output_type": "execute_result"
    }
   ],
   "source": [
    "today.month"
   ]
  },
  {
   "cell_type": "code",
   "execution_count": 15,
   "id": "3c68bd82",
   "metadata": {},
   "outputs": [
    {
     "data": {
      "text/plain": [
       "13"
      ]
     },
     "execution_count": 15,
     "metadata": {},
     "output_type": "execute_result"
    }
   ],
   "source": [
    "today.day"
   ]
  },
  {
   "cell_type": "code",
   "execution_count": 17,
   "id": "2736c7ae",
   "metadata": {},
   "outputs": [
    {
     "data": {
      "text/plain": [
       "'Tue Sep 13 00:00:00 2022'"
      ]
     },
     "execution_count": 17,
     "metadata": {},
     "output_type": "execute_result"
    }
   ],
   "source": [
    "today.ctime()"
   ]
  },
  {
   "cell_type": "markdown",
   "id": "9116e9a1",
   "metadata": {},
   "source": [
    "## Date-Time "
   ]
  },
  {
   "cell_type": "code",
   "execution_count": 18,
   "id": "e81cba46",
   "metadata": {},
   "outputs": [],
   "source": [
    "from datetime import datetime"
   ]
  },
  {
   "cell_type": "code",
   "execution_count": 20,
   "id": "a6d395ea",
   "metadata": {},
   "outputs": [],
   "source": [
    "my_date_time = datetime(2021,10,3,14,30,15)"
   ]
  },
  {
   "cell_type": "code",
   "execution_count": 21,
   "id": "e4a6332a",
   "metadata": {},
   "outputs": [
    {
     "name": "stdout",
     "output_type": "stream",
     "text": [
      "2021-10-03 14:30:15\n"
     ]
    }
   ],
   "source": [
    "print (my_date_time)"
   ]
  },
  {
   "cell_type": "markdown",
   "id": "b643a3e2",
   "metadata": {},
   "source": [
    "### to replace the information .replace()"
   ]
  },
  {
   "cell_type": "code",
   "execution_count": 34,
   "id": "2a402a4a",
   "metadata": {},
   "outputs": [
    {
     "data": {
      "text/plain": [
       "datetime.datetime(2022, 10, 3, 14, 30, 15)"
      ]
     },
     "execution_count": 34,
     "metadata": {},
     "output_type": "execute_result"
    }
   ],
   "source": [
    "my_date_time.replace(year = 2022)"
   ]
  },
  {
   "cell_type": "code",
   "execution_count": 35,
   "id": "06c31459",
   "metadata": {},
   "outputs": [
    {
     "name": "stdout",
     "output_type": "stream",
     "text": [
      "2021-10-03 14:30:15\n"
     ]
    }
   ],
   "source": [
    "print (my_date_time)\n",
    "\n",
    "# to store the changes you have to create a variable for it\n",
    "# it is not happening in place "
   ]
  },
  {
   "cell_type": "code",
   "execution_count": 36,
   "id": "1c84e414",
   "metadata": {},
   "outputs": [],
   "source": [
    "my_date_time = my_date_time.replace(year = 2022)"
   ]
  },
  {
   "cell_type": "code",
   "execution_count": 38,
   "id": "24cb100e",
   "metadata": {},
   "outputs": [
    {
     "name": "stdout",
     "output_type": "stream",
     "text": [
      "2022-10-03 14:30:15\n"
     ]
    }
   ],
   "source": [
    "print (my_date_time)\n",
    "\n",
    "# now we have a placeholder for that variable\n",
    "# and we store data in it"
   ]
  },
  {
   "cell_type": "markdown",
   "id": "a890e39e",
   "metadata": {},
   "source": [
    "## Arithmetics"
   ]
  },
  {
   "cell_type": "code",
   "execution_count": 39,
   "id": "55d4cf8c",
   "metadata": {},
   "outputs": [],
   "source": [
    "# DATE information"
   ]
  },
  {
   "cell_type": "code",
   "execution_count": 40,
   "id": "d376a357",
   "metadata": {},
   "outputs": [],
   "source": [
    "from datetime import date"
   ]
  },
  {
   "cell_type": "code",
   "execution_count": 57,
   "id": "d34dbd26",
   "metadata": {},
   "outputs": [],
   "source": [
    "date1 = date(2022,9,15)"
   ]
  },
  {
   "cell_type": "code",
   "execution_count": 58,
   "id": "8aea4ffd",
   "metadata": {},
   "outputs": [],
   "source": [
    "date2 = date(2021,9,15)"
   ]
  },
  {
   "cell_type": "code",
   "execution_count": 59,
   "id": "479b4aaa",
   "metadata": {},
   "outputs": [
    {
     "data": {
      "text/plain": [
       "datetime.timedelta(days=365)"
      ]
     },
     "execution_count": 59,
     "metadata": {},
     "output_type": "execute_result"
    }
   ],
   "source": [
    "date1 - date2\n",
    "\n",
    "# returns a difference in a number of days"
   ]
  },
  {
   "cell_type": "code",
   "execution_count": 60,
   "id": "8b3a79e4",
   "metadata": {},
   "outputs": [],
   "source": [
    "result = date1 - date2"
   ]
  },
  {
   "cell_type": "code",
   "execution_count": 61,
   "id": "6b4fde2c",
   "metadata": {},
   "outputs": [
    {
     "name": "stdout",
     "output_type": "stream",
     "text": [
      "365 days, 0:00:00\n"
     ]
    }
   ],
   "source": [
    "print (result)"
   ]
  },
  {
   "cell_type": "code",
   "execution_count": 62,
   "id": "23f2157f",
   "metadata": {},
   "outputs": [
    {
     "data": {
      "text/plain": [
       "datetime.timedelta"
      ]
     },
     "execution_count": 62,
     "metadata": {},
     "output_type": "execute_result"
    }
   ],
   "source": [
    "type(result)"
   ]
  },
  {
   "cell_type": "code",
   "execution_count": 64,
   "id": "40acba20",
   "metadata": {},
   "outputs": [
    {
     "data": {
      "text/plain": [
       "365"
      ]
     },
     "execution_count": 64,
     "metadata": {},
     "output_type": "execute_result"
    }
   ],
   "source": [
    "result.days\n",
    "\n",
    "# don't forget leap years "
   ]
  },
  {
   "cell_type": "code",
   "execution_count": 65,
   "id": "8aa323a4",
   "metadata": {},
   "outputs": [],
   "source": [
    "datetime1 = datetime(2022,9,15,22,15,4)"
   ]
  },
  {
   "cell_type": "code",
   "execution_count": 68,
   "id": "b15346e7",
   "metadata": {},
   "outputs": [],
   "source": [
    "datetime2 = datetime(2021,9,15,12,15,4)"
   ]
  },
  {
   "cell_type": "code",
   "execution_count": 69,
   "id": "1d538e64",
   "metadata": {},
   "outputs": [
    {
     "data": {
      "text/plain": [
       "datetime.timedelta(days=365, seconds=36000)"
      ]
     },
     "execution_count": 69,
     "metadata": {},
     "output_type": "execute_result"
    }
   ],
   "source": [
    "datetime1 - datetime2\n",
    "\n",
    "# returns a difference in days and seconds "
   ]
  },
  {
   "cell_type": "code",
   "execution_count": 70,
   "id": "77bb9636",
   "metadata": {},
   "outputs": [],
   "source": [
    "result = datetime1 - datetime2"
   ]
  },
  {
   "cell_type": "code",
   "execution_count": 72,
   "id": "079820df",
   "metadata": {},
   "outputs": [
    {
     "data": {
      "text/plain": [
       "datetime.timedelta"
      ]
     },
     "execution_count": 72,
     "metadata": {},
     "output_type": "execute_result"
    }
   ],
   "source": [
    "type(result)\n",
    "\n",
    "# same type"
   ]
  },
  {
   "cell_type": "code",
   "execution_count": 73,
   "id": "8809f98d",
   "metadata": {},
   "outputs": [
    {
     "data": {
      "text/plain": [
       "365"
      ]
     },
     "execution_count": 73,
     "metadata": {},
     "output_type": "execute_result"
    }
   ],
   "source": [
    "result.days"
   ]
  },
  {
   "cell_type": "code",
   "execution_count": 74,
   "id": "121a39a5",
   "metadata": {},
   "outputs": [
    {
     "data": {
      "text/plain": [
       "36000"
      ]
     },
     "execution_count": 74,
     "metadata": {},
     "output_type": "execute_result"
    }
   ],
   "source": [
    "result.seconds"
   ]
  },
  {
   "cell_type": "code",
   "execution_count": 75,
   "id": "20e6cd98",
   "metadata": {},
   "outputs": [
    {
     "data": {
      "text/plain": [
       "31572000.0"
      ]
     },
     "execution_count": 75,
     "metadata": {},
     "output_type": "execute_result"
    }
   ],
   "source": [
    "result.total_seconds()\n",
    "\n",
    "# this will not only include the seconds part \n",
    "# will take into account the days part\n",
    "# converted to seconds"
   ]
  },
  {
   "cell_type": "code",
   "execution_count": null,
   "id": "fc47ddc9",
   "metadata": {},
   "outputs": [],
   "source": []
  }
 ],
 "metadata": {
  "kernelspec": {
   "display_name": "Python 3 (ipykernel)",
   "language": "python",
   "name": "python3"
  },
  "language_info": {
   "codemirror_mode": {
    "name": "ipython",
    "version": 3
   },
   "file_extension": ".py",
   "mimetype": "text/x-python",
   "name": "python",
   "nbconvert_exporter": "python",
   "pygments_lexer": "ipython3",
   "version": "3.9.12"
  }
 },
 "nbformat": 4,
 "nbformat_minor": 5
}
