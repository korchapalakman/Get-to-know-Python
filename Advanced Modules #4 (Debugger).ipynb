{
 "cells": [
  {
   "cell_type": "markdown",
   "id": "9624c474",
   "metadata": {},
   "source": [
    "# Debugger (pdb.set_trace() )"
   ]
  },
  {
   "cell_type": "markdown",
   "id": "bd31c8ce",
   "metadata": {},
   "source": [
    "A build in debugger tool that allows you to interactively explore variables within mid-operation of your python code"
   ]
  },
  {
   "cell_type": "code",
   "execution_count": 3,
   "id": "cc52ddcf",
   "metadata": {},
   "outputs": [
    {
     "name": "stdout",
     "output_type": "stream",
     "text": [
      "5\n"
     ]
    },
    {
     "ename": "TypeError",
     "evalue": "can only concatenate list (not \"int\") to list",
     "output_type": "error",
     "traceback": [
      "\u001b[0;31m---------------------------------------------------------------------------\u001b[0m",
      "\u001b[0;31mTypeError\u001b[0m                                 Traceback (most recent call last)",
      "Input \u001b[0;32mIn [3]\u001b[0m, in \u001b[0;36m<cell line: 9>\u001b[0;34m()\u001b[0m\n\u001b[1;32m      7\u001b[0m result \u001b[38;5;241m=\u001b[39m y\u001b[38;5;241m+\u001b[39mz\n\u001b[1;32m      8\u001b[0m \u001b[38;5;28mprint\u001b[39m (result)\n\u001b[0;32m----> 9\u001b[0m result2 \u001b[38;5;241m=\u001b[39m \u001b[43mx\u001b[49m\u001b[43m \u001b[49m\u001b[38;5;241;43m+\u001b[39;49m\u001b[43m \u001b[49m\u001b[43my\u001b[49m\n\u001b[1;32m     10\u001b[0m \u001b[38;5;28mprint\u001b[39m (result2)\n",
      "\u001b[0;31mTypeError\u001b[0m: can only concatenate list (not \"int\") to list"
     ]
    }
   ],
   "source": [
    "# example with an error \n",
    "\n",
    "x = [1,2,3]\n",
    "y = 2 \n",
    "z = 3\n",
    "\n",
    "result = y+z\n",
    "print (result)\n",
    "result2 = x + y\n",
    "print (result2)\n",
    "\n",
    "# the print function helped to understand that \n",
    "# the code did print after the fist multiplication \n",
    "# but next print statmnet did work \n",
    "# the error is somewhere within that range"
   ]
  },
  {
   "cell_type": "code",
   "execution_count": 4,
   "id": "85c1ce9e",
   "metadata": {},
   "outputs": [],
   "source": [
    "# import python Debugger \n",
    "\n",
    "import pdb"
   ]
  },
  {
   "cell_type": "code",
   "execution_count": null,
   "id": "3a72cb9c",
   "metadata": {},
   "outputs": [
    {
     "name": "stdout",
     "output_type": "stream",
     "text": [
      "--Return--\n",
      "None\n",
      "> \u001b[0;32m/var/folders/2s/93p2hs7d1dg8r6x164rmq__c0000gn/T/ipykernel_16012/3635214454.py\u001b[0m(16)\u001b[0;36m<cell line: 16>\u001b[0;34m()\u001b[0m\n",
      "\u001b[0;32m     14 \u001b[0;31m\u001b[0;31m# to quit insert \"q\"\u001b[0m\u001b[0;34m\u001b[0m\u001b[0;34m\u001b[0m\u001b[0m\n",
      "\u001b[0m\u001b[0;32m     15 \u001b[0;31m\u001b[0;34m\u001b[0m\u001b[0m\n",
      "\u001b[0m\u001b[0;32m---> 16 \u001b[0;31m\u001b[0mpdb\u001b[0m\u001b[0;34m.\u001b[0m\u001b[0mset_trace\u001b[0m\u001b[0;34m(\u001b[0m\u001b[0;34m)\u001b[0m\u001b[0;34m\u001b[0m\u001b[0;34m\u001b[0m\u001b[0m\n",
      "\u001b[0m\u001b[0;32m     17 \u001b[0;31m\u001b[0;34m\u001b[0m\u001b[0m\n",
      "\u001b[0m\u001b[0;32m     18 \u001b[0;31m\u001b[0mresult_two\u001b[0m \u001b[0;34m=\u001b[0m \u001b[0mx\u001b[0m \u001b[0;34m+\u001b[0m \u001b[0my\u001b[0m\u001b[0;34m\u001b[0m\u001b[0;34m\u001b[0m\u001b[0m\n",
      "\u001b[0m\n",
      "ipdb> x\n",
      "[1, 2, 3]\n",
      "ipdb> y\n",
      "2\n",
      "ipdb> x+y\n",
      "*** TypeError: can only concatenate list (not \"int\") to list\n"
     ]
    }
   ],
   "source": [
    "# set a trace to a mistake\n",
    "# trace will pouse opperations mid-script\n",
    "# and allow you to play with vatiables\n",
    "\n",
    "x = [1,2,3]\n",
    "y = 2 \n",
    "z = 3\n",
    "\n",
    "result_one = y + z\n",
    "\n",
    "# set a trace before an error line\n",
    "# pause in that line \n",
    "# to explore what things are before that mistake to find it \n",
    "# to quit insert \"q\"\n",
    "\n",
    "pdb.set_trace()\n",
    "\n",
    "result_two = x + y"
   ]
  },
  {
   "cell_type": "code",
   "execution_count": null,
   "id": "c0ad93a7",
   "metadata": {},
   "outputs": [],
   "source": []
  }
 ],
 "metadata": {
  "kernelspec": {
   "display_name": "Python 3 (ipykernel)",
   "language": "python",
   "name": "python3"
  },
  "language_info": {
   "codemirror_mode": {
    "name": "ipython",
    "version": 3
   },
   "file_extension": ".py",
   "mimetype": "text/x-python",
   "name": "python",
   "nbconvert_exporter": "python",
   "pygments_lexer": "ipython3",
   "version": "3.9.12"
  }
 },
 "nbformat": 4,
 "nbformat_minor": 5
}
