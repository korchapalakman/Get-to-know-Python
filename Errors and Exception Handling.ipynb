{
 "cells": [
  {
   "cell_type": "markdown",
   "id": "580a3634",
   "metadata": {},
   "source": [
    "# Try / Except / Finally"
   ]
  },
  {
   "cell_type": "markdown",
   "id": "4c64dc06",
   "metadata": {},
   "source": [
    "Error handling to attempt to plan for possible erorrs that may arrise in our code in the future.\n",
    "\n",
    "Even if there is an error the code will report the error ane execute with it.\n",
    "\n",
    "We use three keywords for this:\n",
    "\n",
    "-try: This is the block of code to be attempted (may lead to an error)\n",
    "\n",
    "-except: Block of code will execute in case there is an error in \"try\" block\n",
    "\n",
    "-finally: A final block of code to be executed, regardless of an error"
   ]
  },
  {
   "cell_type": "code",
   "execution_count": 1,
   "id": "3e45ab13",
   "metadata": {},
   "outputs": [],
   "source": [
    "# simple function with error\n",
    "\n",
    "def add(n1,n2):\n",
    "    print (n1+n2)"
   ]
  },
  {
   "cell_type": "code",
   "execution_count": 2,
   "id": "ccfaf441",
   "metadata": {},
   "outputs": [
    {
     "name": "stdout",
     "output_type": "stream",
     "text": [
      "30\n"
     ]
    }
   ],
   "source": [
    "add(10,20)"
   ]
  },
  {
   "cell_type": "code",
   "execution_count": 3,
   "id": "51735452",
   "metadata": {},
   "outputs": [],
   "source": [
    "number1 = 10"
   ]
  },
  {
   "cell_type": "code",
   "execution_count": 6,
   "id": "48ffc878",
   "metadata": {},
   "outputs": [
    {
     "name": "stdout",
     "output_type": "stream",
     "text": [
      "provide a number (will be str): 20\n"
     ]
    }
   ],
   "source": [
    "# will be string intentionally\n",
    "\n",
    "number2 = input(\"provide a number (will be str): \")"
   ]
  },
  {
   "cell_type": "code",
   "execution_count": 9,
   "id": "f7c8a7fb",
   "metadata": {},
   "outputs": [
    {
     "ename": "TypeError",
     "evalue": "unsupported operand type(s) for +: 'int' and 'str'",
     "output_type": "error",
     "traceback": [
      "\u001b[0;31m---------------------------------------------------------------------------\u001b[0m",
      "\u001b[0;31mTypeError\u001b[0m                                 Traceback (most recent call last)",
      "Input \u001b[0;32mIn [9]\u001b[0m, in \u001b[0;36m<cell line: 5>\u001b[0;34m()\u001b[0m\n\u001b[1;32m      2\u001b[0m \u001b[38;5;124;03m\"\"\" Moreover the next line of code wont be executed \"\"\"\u001b[39;00m\n\u001b[1;32m      3\u001b[0m \u001b[38;5;66;03m# since you have a mistake in one part of it \u001b[39;00m\n\u001b[0;32m----> 5\u001b[0m \u001b[43madd\u001b[49m\u001b[43m(\u001b[49m\u001b[43mnumber1\u001b[49m\u001b[43m,\u001b[49m\u001b[43m \u001b[49m\u001b[43mnumber2\u001b[49m\u001b[43m)\u001b[49m\n\u001b[1;32m      6\u001b[0m \u001b[38;5;28mprint\u001b[39m (\u001b[38;5;124m\"\u001b[39m\u001b[38;5;124msomething happend\u001b[39m\u001b[38;5;124m\"\u001b[39m)\n",
      "Input \u001b[0;32mIn [1]\u001b[0m, in \u001b[0;36madd\u001b[0;34m(n1, n2)\u001b[0m\n\u001b[1;32m      3\u001b[0m \u001b[38;5;28;01mdef\u001b[39;00m \u001b[38;5;21madd\u001b[39m(n1,n2):\n\u001b[0;32m----> 4\u001b[0m     \u001b[38;5;28mprint\u001b[39m (\u001b[43mn1\u001b[49m\u001b[38;5;241;43m+\u001b[39;49m\u001b[43mn2\u001b[49m)\n",
      "\u001b[0;31mTypeError\u001b[0m: unsupported operand type(s) for +: 'int' and 'str'"
     ]
    }
   ],
   "source": [
    "# the function will return a mistake\n",
    "\"\"\" Moreover the next line of code wont be executed \"\"\"\n",
    "# since you have a mistake in one part of it \n",
    "\n",
    "add(number1, number2)\n",
    "print (\"something happend\")"
   ]
  },
  {
   "cell_type": "markdown",
   "id": "46990606",
   "metadata": {},
   "source": [
    "The idea of above statments is to continue working if there is a mistake in your code "
   ]
  },
  {
   "cell_type": "markdown",
   "id": "6c9a30e3",
   "metadata": {},
   "source": [
    "### TRY / ECEPT / ELSE"
   ]
  },
  {
   "cell_type": "code",
   "execution_count": 10,
   "id": "1b03bce5",
   "metadata": {},
   "outputs": [],
   "source": [
    "try: \n",
    "    # want to attemp this code \n",
    "    # may have error\n",
    "    result = 10+10\n",
    "except:\n",
    "    # if there is an error \n",
    "    # will execute this code \n",
    "    print(\"hey it looks like you are not adding correctly\")"
   ]
  },
  {
   "cell_type": "code",
   "execution_count": 12,
   "id": "5b0d0087",
   "metadata": {},
   "outputs": [
    {
     "data": {
      "text/plain": [
       "20"
      ]
     },
     "execution_count": 12,
     "metadata": {},
     "output_type": "execute_result"
    }
   ],
   "source": [
    "# the above expression didn't execute\n",
    "# because result was not a mistake function \n",
    "\n",
    "result"
   ]
  },
  {
   "cell_type": "code",
   "execution_count": 14,
   "id": "9a52ff3d",
   "metadata": {},
   "outputs": [
    {
     "name": "stdout",
     "output_type": "stream",
     "text": [
      "hey it looks like you are not adding correctly\n"
     ]
    }
   ],
   "source": [
    "### now lets intentionally create an error \n",
    "### string + integer \n",
    "\n",
    "try: \n",
    "    result = 10+\"10\"\n",
    "\n",
    "# the below block of code did execute \n",
    "\n",
    "except:\n",
    "    print(\"hey it looks like you are not adding correctly\")"
   ]
  },
  {
   "cell_type": "markdown",
   "id": "afb22dbd",
   "metadata": {},
   "source": [
    "as you have notices the program didnt shut down because of the mistake and ectually printed the following print statment after the mistake"
   ]
  },
  {
   "cell_type": "code",
   "execution_count": 18,
   "id": "2e6802d6",
   "metadata": {},
   "outputs": [
    {
     "name": "stdout",
     "output_type": "stream",
     "text": [
      "20\n",
      "everything went normal\n"
     ]
    }
   ],
   "source": [
    "try: \n",
    "    # corrected the result\n",
    "    result = 10+10\n",
    "except:\n",
    "    print(\"hey it looks like you are not adding correctly\")\n",
    "\n",
    "### if I want to execute a block of code if there is no exception \n",
    "# meaning if there is no mistake \n",
    "# additional information \n",
    "\n",
    "else:\n",
    "    print (result)\n",
    "    print(\"everything went normal\")"
   ]
  },
  {
   "cell_type": "markdown",
   "id": "ee9552d6",
   "metadata": {},
   "source": [
    "### FINALLY"
   ]
  },
  {
   "cell_type": "markdown",
   "id": "12a39d5f",
   "metadata": {},
   "source": [
    "to have a block of always executed regardless of an error"
   ]
  },
  {
   "cell_type": "code",
   "execution_count": 19,
   "id": "6f5cb7b2",
   "metadata": {},
   "outputs": [
    {
     "name": "stdout",
     "output_type": "stream",
     "text": [
      "I always run\n"
     ]
    }
   ],
   "source": [
    "try:\n",
    "    # we will open up a file in \"write\" mode\n",
    "    # w-mode: write to a file or create a new one if didnt exist before\n",
    "    \n",
    "    f = open(\"testfile\", \"w\")\n",
    "    f.write(\"Here I will write a line in that file\")\n",
    "    \n",
    "    # can spesifically ecept for some sertain types of erros\n",
    "    # if left empty will activate regardless of an error type\n",
    "except TypeError:\n",
    "    # only if there is a type error\n",
    "    print (\"There was a type error\")\n",
    "    \n",
    "except OSerror: # opening and writing to a file where you dont have premmision to\n",
    "    print (\"you have OS error\")\n",
    "\n",
    "# this block of code will always execute no matter what happens\n",
    "finally:\n",
    "    print(\"I always run\")\n",
    "    \n",
    "    "
   ]
  },
  {
   "cell_type": "markdown",
   "id": "f1752151",
   "metadata": {},
   "source": [
    "what happens is that we called a function with a correct input \n",
    "\n",
    "we write to a function with premission \n",
    "so no except function will execute:\n",
    "    if we had an else statment it would have run \n",
    "    \n",
    "so only block of code in finally executes "
   ]
  },
  {
   "cell_type": "code",
   "execution_count": 22,
   "id": "0d06c7fc",
   "metadata": {},
   "outputs": [
    {
     "name": "stdout",
     "output_type": "stream",
     "text": [
      "you have OS error\n",
      "I always run\n"
     ]
    }
   ],
   "source": [
    "### now lets make an error \n",
    "# we are now only able to read \n",
    "# but we try to make changes to the file\n",
    "\n",
    "try:\n",
    "    f = open(\"testfile\", \"r\")\n",
    "    f.write(\"Here I will write a line in that file\")\n",
    "    \n",
    "except TypeError:\n",
    "    print (\"There was a type error\")\n",
    "    \n",
    "except OSError: \n",
    "    print (\"you have OS error\")\n",
    "\n",
    "except: \n",
    "    print (\"All other exeptions\")\n",
    "\n",
    "finally:\n",
    "    print(\"I always run\")\n",
    "    "
   ]
  },
  {
   "cell_type": "markdown",
   "id": "aa7f9210",
   "metadata": {},
   "source": [
    "now as you see you get an error at all \n",
    "\n",
    "since it is not a type error but a premission OS error\n",
    "\n",
    "the block of code in except OSError executes \n",
    "\n",
    "and the finally block of code does execute no matter what"
   ]
  },
  {
   "cell_type": "markdown",
   "id": "79a5034f",
   "metadata": {},
   "source": [
    "#### how to use try/except/finally in a function that tries to get a specific type of input from a user"
   ]
  },
  {
   "cell_type": "code",
   "execution_count": 23,
   "id": "5f5413c0",
   "metadata": {},
   "outputs": [],
   "source": [
    "# this function asks for an integer\n",
    "\n",
    "def ask_for_int():\n",
    "    try:\n",
    "        result = int(input(\"please provede a number: \"))\n",
    "    except:\n",
    "        print(\"That is not a number\")\n",
    "    finally:\n",
    "        print(\"end of try/except/ finally\")"
   ]
  },
  {
   "cell_type": "code",
   "execution_count": 24,
   "id": "99930135",
   "metadata": {},
   "outputs": [
    {
     "name": "stdout",
     "output_type": "stream",
     "text": [
      "please provede a number: 20\n",
      "end of try/except/ finally\n"
     ]
    }
   ],
   "source": [
    "# we provide a number that is converted into an integer \n",
    "# no mistake only finally part is executed\n",
    "\n",
    "ask_for_int()"
   ]
  },
  {
   "cell_type": "code",
   "execution_count": 26,
   "id": "657bb0e0",
   "metadata": {},
   "outputs": [
    {
     "name": "stdout",
     "output_type": "stream",
     "text": [
      "please provede a number: word\n",
      "That is not a number\n",
      "end of try/except/ finally\n"
     ]
    }
   ],
   "source": [
    "# mistake occured int() may not convert words \n",
    "# except block executed\n",
    "# no mistake is shown \n",
    "# runs only ones\n",
    "\n",
    "ask_for_int()"
   ]
  },
  {
   "cell_type": "code",
   "execution_count": 35,
   "id": "03e8e062",
   "metadata": {},
   "outputs": [],
   "source": [
    "# use while loop that keeps going with no exception\n",
    "# runs until you get a correct answer\n",
    "\n",
    "def ask_for_int():\n",
    "    while True: \n",
    "        try:\n",
    "            result = int(input(\"please provede a number: \"))\n",
    "        except: # if there is a mistake keep asking try\n",
    "            print(\"That is not a number\")\n",
    "            continue\n",
    "        else: #no mistake\n",
    "            print(\"thank you\")\n",
    "            break #goes up to the while loop to break it \n",
    "        finally:\n",
    "            print(\"end of try/except/ finally\")\n",
    "            print (\"I will always run in the end\\n\")"
   ]
  },
  {
   "cell_type": "code",
   "execution_count": 36,
   "id": "41072171",
   "metadata": {},
   "outputs": [
    {
     "name": "stdout",
     "output_type": "stream",
     "text": [
      "please provede a number: 20\n",
      "thank you\n",
      "end of try/except/ finally\n",
      "I will always run in the end\n",
      "\n"
     ]
    }
   ],
   "source": [
    "ask_for_int()"
   ]
  },
  {
   "cell_type": "code",
   "execution_count": 37,
   "id": "8e3e0db3",
   "metadata": {},
   "outputs": [
    {
     "name": "stdout",
     "output_type": "stream",
     "text": [
      "please provede a number: no\n",
      "That is not a number\n",
      "end of try/except/ finally\n",
      "I will always run in the end\n",
      "\n",
      "please provede a number: NO\n",
      "That is not a number\n",
      "end of try/except/ finally\n",
      "I will always run in the end\n",
      "\n",
      "please provede a number: NOOOOO\n",
      "That is not a number\n",
      "end of try/except/ finally\n",
      "I will always run in the end\n",
      "\n",
      "please provede a number: okey\n",
      "That is not a number\n",
      "end of try/except/ finally\n",
      "I will always run in the end\n",
      "\n",
      "please provede a number: 10\n",
      "thank you\n",
      "end of try/except/ finally\n",
      "I will always run in the end\n",
      "\n"
     ]
    }
   ],
   "source": [
    "ask_for_int()"
   ]
  },
  {
   "cell_type": "code",
   "execution_count": null,
   "id": "255dd391",
   "metadata": {},
   "outputs": [],
   "source": []
  }
 ],
 "metadata": {
  "kernelspec": {
   "display_name": "Python 3 (ipykernel)",
   "language": "python",
   "name": "python3"
  },
  "language_info": {
   "codemirror_mode": {
    "name": "ipython",
    "version": 3
   },
   "file_extension": ".py",
   "mimetype": "text/x-python",
   "name": "python",
   "nbconvert_exporter": "python",
   "pygments_lexer": "ipython3",
   "version": "3.9.12"
  }
 },
 "nbformat": 4,
 "nbformat_minor": 5
}
