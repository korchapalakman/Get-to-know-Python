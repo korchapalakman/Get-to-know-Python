{
 "cells": [
  {
   "cell_type": "markdown",
   "id": "dce41986",
   "metadata": {},
   "source": [
    "## Guessing game"
   ]
  },
  {
   "cell_type": "markdown",
   "id": "feb3ae49",
   "metadata": {},
   "source": [
    "Game settings \n",
    "\n",
    "the game requires you to have 1 ball and 3 cups\n",
    "one hides the ball under one cup showing to the player \n",
    "then the ball guy shuffles the cups\n",
    "the player task is to choose the right cup with the ball (chances 1/3)"
   ]
  },
  {
   "cell_type": "markdown",
   "id": "ad198bb8",
   "metadata": {},
   "source": [
    "we need to import the random shuffle fucntion"
   ]
  },
  {
   "cell_type": "code",
   "execution_count": 1,
   "id": "d17144ac",
   "metadata": {},
   "outputs": [],
   "source": [
    "#shuffle function\n",
    "example_list = [1,2,3,4,5,6,7]"
   ]
  },
  {
   "cell_type": "code",
   "execution_count": 2,
   "id": "3eb1dc1e",
   "metadata": {},
   "outputs": [],
   "source": [
    "from random import shuffle"
   ]
  },
  {
   "cell_type": "code",
   "execution_count": 3,
   "id": "11d7e533",
   "metadata": {
    "scrolled": true
   },
   "outputs": [
    {
     "data": {
      "text/plain": [
       "[4, 2, 7, 1, 6, 5, 3]"
      ]
     },
     "execution_count": 3,
     "metadata": {},
     "output_type": "execute_result"
    }
   ],
   "source": [
    "shuffle(example_list)\n",
    "example_list"
   ]
  },
  {
   "cell_type": "markdown",
   "id": "c145ac50",
   "metadata": {},
   "source": [
    "### next we need function to shufle a list"
   ]
  },
  {
   "cell_type": "code",
   "execution_count": 4,
   "id": "f3bd33dc",
   "metadata": {},
   "outputs": [],
   "source": [
    "def shuffle_list(anylist):\n",
    "    \"\"\"\n",
    "    the function shuffles a predefined list\n",
    "    \"\"\"\n",
    "    shuffle(anylist)\n",
    "    return anylist"
   ]
  },
  {
   "cell_type": "code",
   "execution_count": 5,
   "id": "c88d9dad",
   "metadata": {},
   "outputs": [
    {
     "data": {
      "text/plain": [
       "[1, 6, 7, 2, 3, 4, 5]"
      ]
     },
     "execution_count": 5,
     "metadata": {},
     "output_type": "execute_result"
    }
   ],
   "source": [
    "example = shuffle_list(example_list)\n",
    "example"
   ]
  },
  {
   "cell_type": "code",
   "execution_count": 6,
   "id": "d42339cf",
   "metadata": {},
   "outputs": [],
   "source": [
    "#for the game we will have a list with 2 spaces and an O for a ball\n",
    "\n",
    "ball_list = [\" \", \"O\", \" \"]"
   ]
  },
  {
   "cell_type": "code",
   "execution_count": 7,
   "id": "361dd801",
   "metadata": {},
   "outputs": [
    {
     "data": {
      "text/plain": [
       "['O', ' ', ' ']"
      ]
     },
     "execution_count": 7,
     "metadata": {},
     "output_type": "execute_result"
    }
   ],
   "source": [
    "shuffle_list(ball_list)"
   ]
  },
  {
   "cell_type": "markdown",
   "id": "4269ae0b",
   "metadata": {},
   "source": [
    "### next we need to create a function \n",
    "that can take a player guess"
   ]
  },
  {
   "cell_type": "code",
   "execution_count": 9,
   "id": "fdc83a46",
   "metadata": {},
   "outputs": [],
   "source": [
    "def player_guess():\n",
    "    \"\"\"\n",
    "    the function for player input \n",
    "    \"\"\"   \n",
    "\n",
    "    guess = \"\"\n",
    "    \n",
    "    while guess not in [\"0\", \"1\", \"2\"]:\n",
    "        guess = input(\"Pick a number 0,1 or 2: \")\n",
    "        \n",
    "    return int(guess) #input always returns a string, be aware!"
   ]
  },
  {
   "cell_type": "code",
   "execution_count": 10,
   "id": "7a72ef25",
   "metadata": {},
   "outputs": [
    {
     "name": "stdout",
     "output_type": "stream",
     "text": [
      "Pick a number 0,1 or 2: 3\n",
      "Pick a number 0,1 or 2: 2\n"
     ]
    },
    {
     "data": {
      "text/plain": [
       "2"
      ]
     },
     "execution_count": 10,
     "metadata": {},
     "output_type": "execute_result"
    }
   ],
   "source": [
    "myindex = player_guess()\n",
    "myindex"
   ]
  },
  {
   "cell_type": "markdown",
   "id": "8ca48525",
   "metadata": {},
   "source": [
    "### interatction of functions "
   ]
  },
  {
   "cell_type": "markdown",
   "id": "8d672cc6",
   "metadata": {},
   "source": [
    "in order for this function to work \n",
    "you have to call and shufle ball list first \n",
    "then player takes a guess \n",
    "then you run a function below"
   ]
  },
  {
   "cell_type": "code",
   "execution_count": 12,
   "id": "844e19de",
   "metadata": {},
   "outputs": [],
   "source": [
    "def check_guess(ball_list, guess):\n",
    "    if ball_list[guess] == \"O\":\n",
    "        print (\"you were lucky ;-)\")\n",
    "    else:\n",
    "        print (f\"not good enough, the game was: {ball_list}\")\n",
    "        "
   ]
  },
  {
   "cell_type": "markdown",
   "id": "f78f61bb",
   "metadata": {},
   "source": [
    "### THE GAME"
   ]
  },
  {
   "cell_type": "code",
   "execution_count": 17,
   "id": "a3225664",
   "metadata": {},
   "outputs": [
    {
     "name": "stdout",
     "output_type": "stream",
     "text": [
      "Pick a number 0,1 or 2: 0\n",
      "not good enough, the game was: [' ', 'O', ' ']\n"
     ]
    }
   ],
   "source": [
    "#Initial list\n",
    "ball_list\n",
    "\n",
    "#Shuffle list\n",
    "mixed_list = shuffle_list(ball_list)\n",
    "\n",
    "#Guess the list\n",
    "guess = player_guess()\n",
    "\n",
    "\n",
    "#Check the gues and the list\n",
    "check_guess(ball_list, guess)"
   ]
  }
 ],
 "metadata": {
  "kernelspec": {
   "display_name": "Python 3 (ipykernel)",
   "language": "python",
   "name": "python3"
  },
  "language_info": {
   "codemirror_mode": {
    "name": "ipython",
    "version": 3
   },
   "file_extension": ".py",
   "mimetype": "text/x-python",
   "name": "python",
   "nbconvert_exporter": "python",
   "pygments_lexer": "ipython3",
   "version": "3.9.12"
  }
 },
 "nbformat": 4,
 "nbformat_minor": 5
}
