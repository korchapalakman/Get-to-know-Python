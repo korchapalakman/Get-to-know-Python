{
 "cells": [
  {
   "cell_type": "markdown",
   "id": "501d9bdb",
   "metadata": {},
   "source": [
    "# Collections Module"
   ]
  },
  {
   "cell_type": "markdown",
   "id": "d78d10fc",
   "metadata": {},
   "source": [
    "## Counter "
   ]
  },
  {
   "cell_type": "code",
   "execution_count": 1,
   "id": "62229fbb",
   "metadata": {},
   "outputs": [],
   "source": [
    "from collections import Counter "
   ]
  },
  {
   "cell_type": "code",
   "execution_count": 2,
   "id": "85fe2c92",
   "metadata": {},
   "outputs": [],
   "source": [
    "mylist = [1,1,1,1,1,1,2,2,2,2,2,3,3,3,3,3,3,3]"
   ]
  },
  {
   "cell_type": "code",
   "execution_count": 3,
   "id": "753cd167",
   "metadata": {},
   "outputs": [
    {
     "data": {
      "text/plain": [
       "Counter({1: 6, 2: 5, 3: 7})"
      ]
     },
     "execution_count": 3,
     "metadata": {},
     "output_type": "execute_result"
    }
   ],
   "source": [
    "Counter (mylist)\n",
    "\n",
    "# counts the number of unique intsnces"
   ]
  },
  {
   "cell_type": "code",
   "execution_count": 4,
   "id": "f0edcfc8",
   "metadata": {},
   "outputs": [],
   "source": [
    "mystring = [\"a\", \"b\", \"c\", 'b', 'a', \"a\", 1,1,1,1,\"c\"]"
   ]
  },
  {
   "cell_type": "code",
   "execution_count": 5,
   "id": "25d2d673",
   "metadata": {},
   "outputs": [
    {
     "data": {
      "text/plain": [
       "Counter({'a': 3, 'b': 2, 'c': 2, 1: 4})"
      ]
     },
     "execution_count": 5,
     "metadata": {},
     "output_type": "execute_result"
    }
   ],
   "source": [
    "Counter (mystring)\n",
    "\n",
    "# counter is a dictioannry sub-class to count objects \n",
    "# keys - objetcs, values - counter "
   ]
  },
  {
   "cell_type": "code",
   "execution_count": 6,
   "id": "62805da2",
   "metadata": {},
   "outputs": [
    {
     "data": {
      "text/plain": [
       "Counter({'a': 6, 'b': 2, 's': 2, 'i': 2, 'f': 1})"
      ]
     },
     "execution_count": 6,
     "metadata": {},
     "output_type": "execute_result"
    }
   ],
   "source": [
    "Counter (\"abasibaisfaaa\")"
   ]
  },
  {
   "cell_type": "code",
   "execution_count": 8,
   "id": "6bb216e5",
   "metadata": {},
   "outputs": [],
   "source": [
    "sentence = \"How many times does each word show up in this sentence with a word\""
   ]
  },
  {
   "cell_type": "code",
   "execution_count": 9,
   "id": "1ecd23a0",
   "metadata": {},
   "outputs": [
    {
     "data": {
      "text/plain": [
       "['How',\n",
       " 'many',\n",
       " 'times',\n",
       " 'does',\n",
       " 'each',\n",
       " 'word',\n",
       " 'show',\n",
       " 'up',\n",
       " 'in',\n",
       " 'this',\n",
       " 'sentence',\n",
       " 'with',\n",
       " 'a',\n",
       " 'word']"
      ]
     },
     "execution_count": 9,
     "metadata": {},
     "output_type": "execute_result"
    }
   ],
   "source": [
    "sentence.split()"
   ]
  },
  {
   "cell_type": "code",
   "execution_count": 11,
   "id": "91ac4ee5",
   "metadata": {},
   "outputs": [
    {
     "data": {
      "text/plain": [
       "Counter({'how': 1,\n",
       "         'many': 1,\n",
       "         'times': 1,\n",
       "         'does': 1,\n",
       "         'each': 1,\n",
       "         'word': 2,\n",
       "         'show': 1,\n",
       "         'up': 1,\n",
       "         'in': 1,\n",
       "         'this': 1,\n",
       "         'sentence': 1,\n",
       "         'with': 1,\n",
       "         'a': 1})"
      ]
     },
     "execution_count": 11,
     "metadata": {},
     "output_type": "execute_result"
    }
   ],
   "source": [
    "Counter (sentence.lower().split())"
   ]
  },
  {
   "cell_type": "code",
   "execution_count": 20,
   "id": "0f8fc9b0",
   "metadata": {},
   "outputs": [],
   "source": [
    "letters = \"aaaaabbbbbccccdddeeeeeeeee\""
   ]
  },
  {
   "cell_type": "code",
   "execution_count": 21,
   "id": "cf8dd775",
   "metadata": {},
   "outputs": [],
   "source": [
    "c = Counter (letters)"
   ]
  },
  {
   "cell_type": "code",
   "execution_count": 22,
   "id": "25fc4ef5",
   "metadata": {},
   "outputs": [
    {
     "data": {
      "text/plain": [
       "Counter({'a': 5, 'b': 5, 'c': 4, 'd': 3, 'e': 9})"
      ]
     },
     "execution_count": 22,
     "metadata": {},
     "output_type": "execute_result"
    }
   ],
   "source": [
    "c"
   ]
  },
  {
   "cell_type": "code",
   "execution_count": 23,
   "id": "e3db22f7",
   "metadata": {},
   "outputs": [
    {
     "data": {
      "text/plain": [
       "[('e', 9), ('a', 5), ('b', 5), ('c', 4), ('d', 3)]"
      ]
     },
     "execution_count": 23,
     "metadata": {},
     "output_type": "execute_result"
    }
   ],
   "source": [
    "c.most_common()"
   ]
  },
  {
   "cell_type": "code",
   "execution_count": 24,
   "id": "d03ca639",
   "metadata": {},
   "outputs": [
    {
     "data": {
      "text/plain": [
       "[('e', 9), ('a', 5)]"
      ]
     },
     "execution_count": 24,
     "metadata": {},
     "output_type": "execute_result"
    }
   ],
   "source": [
    "c.most_common(2)"
   ]
  },
  {
   "cell_type": "code",
   "execution_count": 25,
   "id": "fafd47eb",
   "metadata": {},
   "outputs": [
    {
     "data": {
      "text/plain": [
       "26"
      ]
     },
     "execution_count": 25,
     "metadata": {},
     "output_type": "execute_result"
    }
   ],
   "source": [
    "# use c. values to bring only values and sum them\n",
    "\n",
    "sum(c.values())"
   ]
  },
  {
   "cell_type": "code",
   "execution_count": 26,
   "id": "cd398b24",
   "metadata": {},
   "outputs": [
    {
     "data": {
      "text/plain": [
       "['a', 'b', 'c', 'd', 'e']"
      ]
     },
     "execution_count": 26,
     "metadata": {},
     "output_type": "execute_result"
    }
   ],
   "source": [
    "list (c)"
   ]
  },
  {
   "cell_type": "code",
   "execution_count": 27,
   "id": "ea70260c",
   "metadata": {},
   "outputs": [
    {
     "data": {
      "text/plain": [
       "{'a', 'b', 'c', 'd', 'e'}"
      ]
     },
     "execution_count": 27,
     "metadata": {},
     "output_type": "execute_result"
    }
   ],
   "source": [
    "set (c)"
   ]
  },
  {
   "cell_type": "code",
   "execution_count": 28,
   "id": "e3c7bfa7",
   "metadata": {},
   "outputs": [
    {
     "data": {
      "text/plain": [
       "{'a': 5, 'b': 5, 'c': 4, 'd': 3, 'e': 9}"
      ]
     },
     "execution_count": 28,
     "metadata": {},
     "output_type": "execute_result"
    }
   ],
   "source": [
    "dict(c)"
   ]
  },
  {
   "cell_type": "markdown",
   "id": "4caa671e",
   "metadata": {},
   "source": [
    "## defaultidct"
   ]
  },
  {
   "cell_type": "code",
   "execution_count": 29,
   "id": "e5f072e0",
   "metadata": {},
   "outputs": [],
   "source": [
    "from collections import defaultdict"
   ]
  },
  {
   "cell_type": "code",
   "execution_count": 30,
   "id": "ef48ed5a",
   "metadata": {},
   "outputs": [],
   "source": [
    "# normal dict\n",
    "\n",
    "d = {\"a\": 10}"
   ]
  },
  {
   "cell_type": "code",
   "execution_count": 31,
   "id": "8de12390",
   "metadata": {},
   "outputs": [
    {
     "data": {
      "text/plain": [
       "10"
      ]
     },
     "execution_count": 31,
     "metadata": {},
     "output_type": "execute_result"
    }
   ],
   "source": [
    "d[\"a\"]"
   ]
  },
  {
   "cell_type": "code",
   "execution_count": 32,
   "id": "67770fc7",
   "metadata": {},
   "outputs": [
    {
     "ename": "KeyError",
     "evalue": "'wrong_key'",
     "output_type": "error",
     "traceback": [
      "\u001b[0;31m---------------------------------------------------------------------------\u001b[0m",
      "\u001b[0;31mKeyError\u001b[0m                                  Traceback (most recent call last)",
      "Input \u001b[0;32mIn [32]\u001b[0m, in \u001b[0;36m<cell line: 1>\u001b[0;34m()\u001b[0m\n\u001b[0;32m----> 1\u001b[0m \u001b[43md\u001b[49m\u001b[43m[\u001b[49m\u001b[38;5;124;43m\"\u001b[39;49m\u001b[38;5;124;43mwrong_key\u001b[39;49m\u001b[38;5;124;43m\"\u001b[39;49m\u001b[43m]\u001b[49m\n",
      "\u001b[0;31mKeyError\u001b[0m: 'wrong_key'"
     ]
    }
   ],
   "source": [
    "d[\"wrong_key\"]"
   ]
  },
  {
   "cell_type": "code",
   "execution_count": 35,
   "id": "af9bbe33",
   "metadata": {},
   "outputs": [],
   "source": [
    "# if you ask for a wrong key,\n",
    "# the dict will assign some default value to it\n",
    "\n",
    "d = defaultdict(lambda: 0)"
   ]
  },
  {
   "cell_type": "code",
   "execution_count": 37,
   "id": "7033bec9",
   "metadata": {},
   "outputs": [],
   "source": [
    "# we assigneg a key\n",
    "\n",
    "d[\"correct\"] = 100"
   ]
  },
  {
   "cell_type": "code",
   "execution_count": 38,
   "id": "26a2d466",
   "metadata": {},
   "outputs": [
    {
     "data": {
      "text/plain": [
       "100"
      ]
     },
     "execution_count": 38,
     "metadata": {},
     "output_type": "execute_result"
    }
   ],
   "source": [
    "d[\"correct\"]"
   ]
  },
  {
   "cell_type": "code",
   "execution_count": 43,
   "id": "6541a787",
   "metadata": {},
   "outputs": [
    {
     "data": {
      "text/plain": [
       "0"
      ]
     },
     "execution_count": 43,
     "metadata": {},
     "output_type": "execute_result"
    }
   ],
   "source": [
    "# we insert a wrong key\n",
    "# it will return a predefined lambda value\n",
    "\n",
    "d[\"wrong_key\"]\n",
    "\n",
    "# in normal dictionary it will result in an error"
   ]
  },
  {
   "cell_type": "code",
   "execution_count": 44,
   "id": "19139ce1",
   "metadata": {},
   "outputs": [
    {
     "data": {
      "text/plain": [
       "defaultdict(<function __main__.<lambda>()>, {'correct': 100, 'wrong_key': 0})"
      ]
     },
     "execution_count": 44,
     "metadata": {},
     "output_type": "execute_result"
    }
   ],
   "source": [
    "d"
   ]
  },
  {
   "cell_type": "markdown",
   "id": "72e2ba95",
   "metadata": {},
   "source": [
    "## namedtuple"
   ]
  },
  {
   "cell_type": "code",
   "execution_count": 45,
   "id": "c589e79e",
   "metadata": {},
   "outputs": [],
   "source": [
    "mytuple = (10,20,30)"
   ]
  },
  {
   "cell_type": "code",
   "execution_count": 46,
   "id": "0370c4da",
   "metadata": {},
   "outputs": [
    {
     "data": {
      "text/plain": [
       "10"
      ]
     },
     "execution_count": 46,
     "metadata": {},
     "output_type": "execute_result"
    }
   ],
   "source": [
    "mytuple[0]"
   ]
  },
  {
   "cell_type": "markdown",
   "id": "98d85afa",
   "metadata": {},
   "source": [
    "named tuple wont only have numeric index connection to the values, but it will onlso have a named index for that value\n",
    "\n",
    "in case you have a big tuple and you dont rember by index locations "
   ]
  },
  {
   "cell_type": "code",
   "execution_count": 47,
   "id": "a958670a",
   "metadata": {},
   "outputs": [],
   "source": [
    "from collections import namedtuple"
   ]
  },
  {
   "cell_type": "code",
   "execution_count": 49,
   "id": "97670daf",
   "metadata": {},
   "outputs": [],
   "source": [
    "# similar to ORP (object oriented programming)\n",
    "# create a class \"Dog\" and define its parameters \n",
    "\n",
    "Dog = namedtuple(\"Dog\", [\"age\", \"breed\", \"name\"])"
   ]
  },
  {
   "cell_type": "code",
   "execution_count": 51,
   "id": "87f50c24",
   "metadata": {},
   "outputs": [],
   "source": [
    "sammy = Dog(age = 5, breed = \"Husky\", name = \"Sam\")"
   ]
  },
  {
   "cell_type": "code",
   "execution_count": 53,
   "id": "6341b74a",
   "metadata": {},
   "outputs": [
    {
     "data": {
      "text/plain": [
       "__main__.Dog"
      ]
     },
     "execution_count": 53,
     "metadata": {},
     "output_type": "execute_result"
    }
   ],
   "source": [
    "type(sammy)\n",
    "\n",
    "# just like ORP"
   ]
  },
  {
   "cell_type": "code",
   "execution_count": 56,
   "id": "3fae2f3d",
   "metadata": {},
   "outputs": [
    {
     "data": {
      "text/plain": [
       "Dog(age=5, breed='Husky', name='Sam')"
      ]
     },
     "execution_count": 56,
     "metadata": {},
     "output_type": "execute_result"
    }
   ],
   "source": [
    "sammy\n",
    "\n",
    "# mix bewtween created object and a tuple\n",
    "# esentially named typle"
   ]
  },
  {
   "cell_type": "code",
   "execution_count": 57,
   "id": "d155855c",
   "metadata": {},
   "outputs": [
    {
     "data": {
      "text/plain": [
       "5"
      ]
     },
     "execution_count": 57,
     "metadata": {},
     "output_type": "execute_result"
    }
   ],
   "source": [
    "sammy.age"
   ]
  },
  {
   "cell_type": "code",
   "execution_count": 58,
   "id": "d64962e6",
   "metadata": {},
   "outputs": [
    {
     "data": {
      "text/plain": [
       "'Husky'"
      ]
     },
     "execution_count": 58,
     "metadata": {},
     "output_type": "execute_result"
    }
   ],
   "source": [
    "sammy.breed"
   ]
  },
  {
   "cell_type": "code",
   "execution_count": 59,
   "id": "51b48497",
   "metadata": {},
   "outputs": [
    {
     "data": {
      "text/plain": [
       "5"
      ]
     },
     "execution_count": 59,
     "metadata": {},
     "output_type": "execute_result"
    }
   ],
   "source": [
    "sammy[0]"
   ]
  },
  {
   "cell_type": "code",
   "execution_count": 60,
   "id": "77dd7e62",
   "metadata": {},
   "outputs": [
    {
     "data": {
      "text/plain": [
       "'Husky'"
      ]
     },
     "execution_count": 60,
     "metadata": {},
     "output_type": "execute_result"
    }
   ],
   "source": [
    "sammy[1]"
   ]
  },
  {
   "cell_type": "code",
   "execution_count": 61,
   "id": "400ef154",
   "metadata": {},
   "outputs": [],
   "source": [
    "# in this scenario we are able to call it by index \n",
    "# or we are able to call it by name "
   ]
  },
  {
   "cell_type": "markdown",
   "id": "828ca780",
   "metadata": {},
   "source": [
    "# Opening and reading files"
   ]
  },
  {
   "cell_type": "code",
   "execution_count": 62,
   "id": "113dc2c1",
   "metadata": {},
   "outputs": [],
   "source": [
    "# shows you current directory\n",
    "# also return back syntax structure for writing path"
   ]
  },
  {
   "cell_type": "code",
   "execution_count": 63,
   "id": "04a019f6",
   "metadata": {},
   "outputs": [
    {
     "data": {
      "text/plain": [
       "'/Users/vazgenosipov/Desktop/Python/work sheets'"
      ]
     },
     "execution_count": 63,
     "metadata": {},
     "output_type": "execute_result"
    }
   ],
   "source": [
    "pwd"
   ]
  },
  {
   "cell_type": "code",
   "execution_count": 64,
   "id": "c3a51bcd",
   "metadata": {},
   "outputs": [],
   "source": [
    "f = open (\"practice.txt\", \"w+\")\n",
    "f.write(\"This is a test string\")\n",
    "f.close()\n",
    "\n",
    "# this will create a file with a defined \n",
    "# name and you will write to it some comments\n",
    "# it is created in the foulder you are currencly in"
   ]
  },
  {
   "cell_type": "markdown",
   "id": "16962b6a",
   "metadata": {},
   "source": [
    "## OS module"
   ]
  },
  {
   "cell_type": "code",
   "execution_count": 65,
   "id": "40e3a198",
   "metadata": {},
   "outputs": [],
   "source": [
    "import os"
   ]
  },
  {
   "cell_type": "code",
   "execution_count": 67,
   "id": "e0141de7",
   "metadata": {},
   "outputs": [
    {
     "data": {
      "text/plain": [
       "'/Users/vazgenosipov/Desktop/Python/work sheets'"
      ]
     },
     "execution_count": 67,
     "metadata": {},
     "output_type": "execute_result"
    }
   ],
   "source": [
    "os.getcwd()\n",
    "# reports back current directory"
   ]
  },
  {
   "cell_type": "code",
   "execution_count": 73,
   "id": "712f9bef",
   "metadata": {},
   "outputs": [
    {
     "data": {
      "text/plain": [
       "['Display Information and User input.ipynb',\n",
       " 'Modules and Packages.ipynb',\n",
       " 'Decorators.ipynb',\n",
       " 'my_file.txt',\n",
       " 'Function #4 (lambda, map, filter).ipynb',\n",
       " 'Set.ipynb',\n",
       " 'Object oriented programming .ipynb',\n",
       " 'Functions#3 (*args and *kwargs).ipynb',\n",
       " 'Logical operators.ipynb',\n",
       " 'Generators.ipynb',\n",
       " 'Statments.ipynb',\n",
       " 'myNEWfile.txt',\n",
       " 'Functions#2 (game of Three cup Monte).ipynb',\n",
       " 'practice.txt',\n",
       " 'Functions #1 (basics).ipynb',\n",
       " 'Lists.ipynb',\n",
       " 'Workbook.ipynb',\n",
       " 'Tuples.ipynb',\n",
       " 'Nested statments and Scope.ipynb',\n",
       " 'War Game .ipynb',\n",
       " 'Errors and Exception Handling.ipynb',\n",
       " 'I-O.ipynb',\n",
       " 'Dictionaries.ipynb',\n",
       " 'comparison operator.ipynb',\n",
       " 'For loops.ipynb',\n",
       " 'myfile.txt',\n",
       " '.ipynb_checkpoints',\n",
       " 'While loops.ipynb',\n",
       " 'List comperisons.ipynb',\n",
       " 'Numbers and strings ex book.ipynb',\n",
       " 'Simple User Interaction.ipynb',\n",
       " 'myfirstnootebook.ipynb',\n",
       " 'testfile',\n",
       " 'Advanced Modules.ipynb',\n",
       " 'Useful Operators.ipynb',\n",
       " 'Unit Testing.ipynb']"
      ]
     },
     "execution_count": 73,
     "metadata": {},
     "output_type": "execute_result"
    }
   ],
   "source": [
    "os.listdir()\n",
    "\n",
    "# reports back all the items in that directory\n",
    "# works anywhere"
   ]
  },
  {
   "cell_type": "code",
   "execution_count": 72,
   "id": "8df154a3",
   "metadata": {},
   "outputs": [
    {
     "data": {
      "text/plain": [
       "['MBA',\n",
       " '.DS_Store',\n",
       " 'Westminister',\n",
       " 'fsimple.py',\n",
       " 'Документы на мед осмотр',\n",
       " 'Python',\n",
       " '.localized',\n",
       " 'my_module',\n",
       " 'cap.py',\n",
       " '__pycache__',\n",
       " 'stuff',\n",
       " 'my_program',\n",
       " 'Street 77',\n",
       " 'test_under_score.py',\n",
       " '.ipynb_checkpoints',\n",
       " 'сканы документов']"
      ]
     },
     "execution_count": 72,
     "metadata": {},
     "output_type": "execute_result"
    }
   ],
   "source": [
    "# may specify which folder files you need to check\n",
    "\n",
    "os.listdir('/Users/vazgenosipov/Desktop')"
   ]
  },
  {
   "cell_type": "markdown",
   "id": "06759e30",
   "metadata": {},
   "source": [
    "## how to move files around - shutil.move() "
   ]
  },
  {
   "cell_type": "code",
   "execution_count": 74,
   "id": "74d0a277",
   "metadata": {},
   "outputs": [],
   "source": [
    "import shutil"
   ]
  },
  {
   "cell_type": "code",
   "execution_count": 83,
   "id": "63774cff",
   "metadata": {},
   "outputs": [
    {
     "data": {
      "text/plain": [
       "'/Users/vazgenosipov/Desktop/practice.txt'"
      ]
     },
     "execution_count": 83,
     "metadata": {},
     "output_type": "execute_result"
    }
   ],
   "source": [
    "# takes two parameters \n",
    "# source and destination are paramets\n",
    "# we have moved the file to the destination named\n",
    "\n",
    "shutil.move(\"practice.txt\", '/Users/vazgenosipov/Desktop')"
   ]
  },
  {
   "cell_type": "code",
   "execution_count": 76,
   "id": "b27e432c",
   "metadata": {},
   "outputs": [
    {
     "data": {
      "text/plain": [
       "['MBA',\n",
       " '.DS_Store',\n",
       " 'Westminister',\n",
       " 'fsimple.py',\n",
       " 'Документы на мед осмотр',\n",
       " 'Python',\n",
       " '.localized',\n",
       " 'my_module',\n",
       " 'cap.py',\n",
       " 'practice.txt',\n",
       " '__pycache__',\n",
       " 'stuff',\n",
       " 'my_program',\n",
       " 'Street 77',\n",
       " 'test_under_score.py',\n",
       " '.ipynb_checkpoints',\n",
       " 'сканы документов']"
      ]
     },
     "execution_count": 76,
     "metadata": {},
     "output_type": "execute_result"
    }
   ],
   "source": [
    "os.listdir('/Users/vazgenosipov/Desktop')\n",
    "\n",
    "# note we have an additional file in the list"
   ]
  },
  {
   "cell_type": "markdown",
   "id": "6116c252",
   "metadata": {},
   "source": [
    "## how to delete a file - send2trash.send2trash()"
   ]
  },
  {
   "cell_type": "markdown",
   "id": "7264926e",
   "metadata": {},
   "source": [
    "1) os.unlink(path) - will delete a file at the path you provide\n",
    "\n",
    "2) os.rmdir(path) - deletes a folder (folder must be empty) at the path you provide\n",
    "\n",
    "3) shutil.rmtree(path) - delets all the files and folders contained in the path\n",
    "\n",
    "ALL this methods may NOT BE REVERCED, onced you delete there is no going back.\n",
    "\n",
    "However, you may use send2trash module to sent deleted files to trash bin instead of permanent removal."
   ]
  },
  {
   "cell_type": "code",
   "execution_count": 77,
   "id": "c3240f61",
   "metadata": {},
   "outputs": [],
   "source": [
    "# instal send2trash in your command line (terminal)\n",
    "# use pip instal"
   ]
  },
  {
   "cell_type": "code",
   "execution_count": 78,
   "id": "5168a31c",
   "metadata": {},
   "outputs": [],
   "source": [
    "import send2trash"
   ]
  },
  {
   "cell_type": "code",
   "execution_count": 80,
   "id": "5c42bb91",
   "metadata": {},
   "outputs": [
    {
     "data": {
      "text/plain": [
       "'/Users/vazgenosipov/Desktop/Python/work sheets'"
      ]
     },
     "execution_count": 80,
     "metadata": {},
     "output_type": "execute_result"
    }
   ],
   "source": [
    "# lets move the file to our current directory\n",
    "# firts to know the current directory\n",
    "\n",
    "os.getcwd()"
   ]
  },
  {
   "cell_type": "code",
   "execution_count": 84,
   "id": "9b651907",
   "metadata": {},
   "outputs": [
    {
     "data": {
      "text/plain": [
       "'/Users/vazgenosipov/Desktop/Python/work sheets/practice.txt'"
      ]
     },
     "execution_count": 84,
     "metadata": {},
     "output_type": "execute_result"
    }
   ],
   "source": [
    "# now lets move it\n",
    "# the current working directory = cwd\n",
    "# to move the file there use gercwd\n",
    "\n",
    "shutil.move('/Users/vazgenosipov/Desktop/practice.txt', os.getcwd())\n"
   ]
  },
  {
   "cell_type": "code",
   "execution_count": 85,
   "id": "463195c8",
   "metadata": {},
   "outputs": [
    {
     "data": {
      "text/plain": [
       "['Display Information and User input.ipynb',\n",
       " 'Modules and Packages.ipynb',\n",
       " 'Decorators.ipynb',\n",
       " 'my_file.txt',\n",
       " 'Function #4 (lambda, map, filter).ipynb',\n",
       " 'Set.ipynb',\n",
       " 'Object oriented programming .ipynb',\n",
       " 'Functions#3 (*args and *kwargs).ipynb',\n",
       " 'Logical operators.ipynb',\n",
       " 'Generators.ipynb',\n",
       " 'Statments.ipynb',\n",
       " 'myNEWfile.txt',\n",
       " 'Functions#2 (game of Three cup Monte).ipynb',\n",
       " 'practice.txt',\n",
       " 'Functions #1 (basics).ipynb',\n",
       " 'Lists.ipynb',\n",
       " 'Workbook.ipynb',\n",
       " 'Tuples.ipynb',\n",
       " 'Nested statments and Scope.ipynb',\n",
       " 'War Game .ipynb',\n",
       " 'Errors and Exception Handling.ipynb',\n",
       " 'I-O.ipynb',\n",
       " 'Dictionaries.ipynb',\n",
       " 'comparison operator.ipynb',\n",
       " 'For loops.ipynb',\n",
       " 'myfile.txt',\n",
       " '.ipynb_checkpoints',\n",
       " 'While loops.ipynb',\n",
       " 'List comperisons.ipynb',\n",
       " 'Numbers and strings ex book.ipynb',\n",
       " 'Simple User Interaction.ipynb',\n",
       " 'myfirstnootebook.ipynb',\n",
       " 'testfile',\n",
       " 'Advanced Modules.ipynb',\n",
       " 'Useful Operators.ipynb',\n",
       " 'Unit Testing.ipynb']"
      ]
     },
     "execution_count": 85,
     "metadata": {},
     "output_type": "execute_result"
    }
   ],
   "source": [
    "os.listdir()\n",
    "\n",
    "# we have a practice file in the current directory "
   ]
  },
  {
   "cell_type": "code",
   "execution_count": 86,
   "id": "9e5bd16b",
   "metadata": {},
   "outputs": [],
   "source": [
    "send2trash.send2trash('practice.txt')\n",
    "\n",
    "# we now have deleted the file the we have \n",
    "# provided in the brackets \n",
    "# it is now in a trach bin \n",
    "# can be retrieved"
   ]
  },
  {
   "cell_type": "code",
   "execution_count": 87,
   "id": "f42b451c",
   "metadata": {},
   "outputs": [
    {
     "data": {
      "text/plain": [
       "['Display Information and User input.ipynb',\n",
       " 'Modules and Packages.ipynb',\n",
       " 'Decorators.ipynb',\n",
       " 'my_file.txt',\n",
       " 'Function #4 (lambda, map, filter).ipynb',\n",
       " 'Set.ipynb',\n",
       " 'Object oriented programming .ipynb',\n",
       " 'Functions#3 (*args and *kwargs).ipynb',\n",
       " 'Logical operators.ipynb',\n",
       " 'Generators.ipynb',\n",
       " 'Statments.ipynb',\n",
       " 'myNEWfile.txt',\n",
       " 'Functions#2 (game of Three cup Monte).ipynb',\n",
       " 'Functions #1 (basics).ipynb',\n",
       " 'Lists.ipynb',\n",
       " 'Workbook.ipynb',\n",
       " 'Tuples.ipynb',\n",
       " 'Nested statments and Scope.ipynb',\n",
       " 'War Game .ipynb',\n",
       " 'Errors and Exception Handling.ipynb',\n",
       " 'I-O.ipynb',\n",
       " 'Dictionaries.ipynb',\n",
       " 'comparison operator.ipynb',\n",
       " 'For loops.ipynb',\n",
       " 'myfile.txt',\n",
       " '.ipynb_checkpoints',\n",
       " 'While loops.ipynb',\n",
       " 'List comperisons.ipynb',\n",
       " 'Numbers and strings ex book.ipynb',\n",
       " 'Simple User Interaction.ipynb',\n",
       " 'myfirstnootebook.ipynb',\n",
       " 'testfile',\n",
       " 'Advanced Modules.ipynb',\n",
       " 'Useful Operators.ipynb',\n",
       " 'Unit Testing.ipynb']"
      ]
     },
     "execution_count": 87,
     "metadata": {},
     "output_type": "execute_result"
    }
   ],
   "source": [
    "os.listdir()\n",
    "\n",
    "# we no longer seen the text file"
   ]
  },
  {
   "cell_type": "markdown",
   "id": "d965eb05",
   "metadata": {},
   "source": [
    "## os.walk"
   ]
  },
  {
   "cell_type": "markdown",
   "id": "c6340090",
   "metadata": {},
   "source": [
    "os.walk\n",
    "\n",
    "For each directory in the directory tree rooted at top (including top\n",
    "itself, but excluding '.' and '..'), yields a 3-tuple"
   ]
  },
  {
   "cell_type": "code",
   "execution_count": 97,
   "id": "25de29af",
   "metadata": {},
   "outputs": [],
   "source": [
    "# we will specify the path in here\n",
    "\n",
    "file_path = \"/Users/vazgenosipov/Desktop/Python/Complete-Python-3-Bootcamp-master\"\n"
   ]
  },
  {
   "cell_type": "code",
   "execution_count": 96,
   "id": "20ced29d",
   "metadata": {},
   "outputs": [
    {
     "name": "stdout",
     "output_type": "stream",
     "text": [
      "\n",
      "\n",
      "Currently looking at /Users/vazgenosipov/Desktop/Python/Complete-Python-3-Bootcamp-master\n",
      "\n",
      "\n",
      "The sub-folders are: \n",
      "\tSubfolder 18-Milestone Project - 3\n",
      "\tSubfolder 19-Bonus Material - Introduction to GUIs\n",
      "\tSubfolder 12-Advanced Python Modules\n",
      "\tSubfolder 03-Methods and Functions\n",
      "\tSubfolder 07-Errors and Exception Handling\n",
      "\tSubfolder 11-Python Generators\n",
      "\tSubfolder 06-Modules and Packages\n",
      "\tSubfolder 16-Emailing-with-Python\n",
      "\tSubfolder 01-Python Comparison Operators\n",
      "\tSubfolder 09-Empty-Section-Skip\n",
      "\tSubfolder 17-Advanced Python Objects and Data Structures\n",
      "\tSubfolder 08-Milestone Project - 2\n",
      "\tSubfolder 14-Working-with-Images\n",
      "\tSubfolder 04-Milestone Project - 1\n",
      "\tSubfolder 05-Object Oriented Programming\n",
      "\tSubfolder .ipynb_checkpoints\n",
      "\tSubfolder 00-Python Object and Data Structure Basics\n",
      "\tSubfolder 15-PDFs-and-Spreadsheets\n",
      "\tSubfolder 10-Python Decorators\n",
      "\tSubfolder 02-Python Statements\n",
      "\tSubfolder 13-Web-Scraping\n",
      "\n",
      "\n",
      "The files are: \n",
      "\t File: Pierian_Data_Logo.png\n",
      "\t File: Jupyter (iPython) Notebooks Guide.ipynb\n",
      "\t File: README.md\n",
      "\n",
      "\n",
      "circle done\n",
      "\n",
      "\n",
      "Currently looking at /Users/vazgenosipov/Desktop/Python/Complete-Python-3-Bootcamp-master/18-Milestone Project - 3\n",
      "\n",
      "\n",
      "The sub-folders are: \n",
      "\tSubfolder Projects-Solutions\n",
      "\tSubfolder .ipynb_checkpoints\n",
      "\n",
      "\n",
      "The files are: \n",
      "\t File: 01-Final Capstone Project.ipynb\n",
      "\t File: 02-Final Capstone Project Ideas.ipynb\n",
      "\n",
      "\n",
      "circle done\n",
      "\n",
      "\n",
      "Currently looking at /Users/vazgenosipov/Desktop/Python/Complete-Python-3-Bootcamp-master/18-Milestone Project - 3/Projects-Solutions\n",
      "\n",
      "\n",
      "The sub-folders are: \n",
      "\n",
      "\n",
      "The files are: \n",
      "\t File: Solution Links.md\n",
      "\n",
      "\n",
      "circle done\n",
      "\n",
      "\n",
      "Currently looking at /Users/vazgenosipov/Desktop/Python/Complete-Python-3-Bootcamp-master/18-Milestone Project - 3/.ipynb_checkpoints\n",
      "\n",
      "\n",
      "The sub-folders are: \n",
      "\n",
      "\n",
      "The files are: \n",
      "\t File: 02-Final Capstone Project Ideas-checkpoint.ipynb\n",
      "\t File: 01-Final Capstone Project-checkpoint.ipynb\n",
      "\n",
      "\n",
      "circle done\n",
      "\n",
      "\n",
      "Currently looking at /Users/vazgenosipov/Desktop/Python/Complete-Python-3-Bootcamp-master/19-Bonus Material - Introduction to GUIs\n",
      "\n",
      "\n",
      "The sub-folders are: \n",
      "\tSubfolder .ipynb_checkpoints\n",
      "\n",
      "\n",
      "The files are: \n",
      "\t File: 03-Widget List.ipynb\n",
      "\t File: 05-Widget Styling.ipynb\n",
      "\t File: 08-Advanced Widget Styling with Layout.ipynb\n",
      "\t File: 01-Interact.ipynb\n",
      "\t File: 07-Advanced Widget List.ipynb\n",
      "\t File: 04-Widget Events.ipynb\n",
      "\t File: 06-Custom Widget.ipynb\n",
      "\t File: 02-Widget Basics.ipynb\n",
      "\n",
      "\n",
      "circle done\n",
      "\n",
      "\n",
      "Currently looking at /Users/vazgenosipov/Desktop/Python/Complete-Python-3-Bootcamp-master/19-Bonus Material - Introduction to GUIs/.ipynb_checkpoints\n",
      "\n",
      "\n",
      "The sub-folders are: \n",
      "\n",
      "\n",
      "The files are: \n",
      "\t File: 03-Widget List-checkpoint.ipynb\n",
      "\t File: 08-Advanced Widget Styling with Layout-checkpoint.ipynb\n",
      "\t File: 07-Advanced Widget List-checkpoint.ipynb\n",
      "\t File: 02-Widget Basics-checkpoint.ipynb\n",
      "\t File: 01-Interact-checkpoint.ipynb\n",
      "\t File: 06-Custom Widget-checkpoint.ipynb\n",
      "\t File: 04-Widget Events-checkpoint.ipynb\n",
      "\t File: 05-Widget Styling-checkpoint.ipynb\n",
      "\n",
      "\n",
      "circle done\n",
      "\n",
      "\n",
      "Currently looking at /Users/vazgenosipov/Desktop/Python/Complete-Python-3-Bootcamp-master/12-Advanced Python Modules\n",
      "\n",
      "\n",
      "The sub-folders are: \n",
      "\tSubfolder Example_Top_Level\n",
      "\tSubfolder 08-Advanced-Python-Module-Exercise\n",
      "\tSubfolder .ipynb_checkpoints\n",
      "\n",
      "\n",
      "The files are: \n",
      "\t File: Untitled.ipynb\n",
      "\t File: practice.txt\n",
      "\t File: 00-Collections-Module.ipynb\n",
      "\t File: 06-Timing your code - timeit.ipynb\n",
      "\t File: 03-Math-and-Random-Module.ipynb\n",
      "\t File: 02-Datetime-Module.ipynb\n",
      "\t File: 05-Overview-of-Regular-Expressions.ipynb\n",
      "\t File: 01-Opening-and-Reading-Files-Folders.ipynb\n",
      "\t File: 04-Python Debugger (pdb).ipynb\n",
      "\t File: 07-Unzipping-and-Zipping-Files.ipynb\n",
      "\n",
      "\n",
      "circle done\n",
      "\n",
      "\n",
      "Currently looking at /Users/vazgenosipov/Desktop/Python/Complete-Python-3-Bootcamp-master/12-Advanced Python Modules/Example_Top_Level\n",
      "\n",
      "\n",
      "The sub-folders are: \n",
      "\tSubfolder Mid-Example-One\n",
      "\n",
      "\n",
      "The files are: \n",
      "\t File: Mid-Example.txt\n",
      "\n",
      "\n",
      "circle done\n",
      "\n",
      "\n",
      "Currently looking at /Users/vazgenosipov/Desktop/Python/Complete-Python-3-Bootcamp-master/12-Advanced Python Modules/Example_Top_Level/Mid-Example-One\n",
      "\n",
      "\n",
      "The sub-folders are: \n",
      "\tSubfolder Bottom-Level-Two\n",
      "\tSubfolder Bottom-Level-One\n",
      "\n",
      "\n",
      "The files are: \n",
      "\t File: Mid-Level-Doc.txt\n",
      "\n",
      "\n",
      "circle done\n",
      "\n",
      "\n",
      "Currently looking at /Users/vazgenosipov/Desktop/Python/Complete-Python-3-Bootcamp-master/12-Advanced Python Modules/Example_Top_Level/Mid-Example-One/Bottom-Level-Two\n",
      "\n",
      "\n",
      "The sub-folders are: \n",
      "\n",
      "\n",
      "The files are: \n",
      "\t File: Bottom-Text-Two.txt\n",
      "\n",
      "\n",
      "circle done\n",
      "\n",
      "\n",
      "Currently looking at /Users/vazgenosipov/Desktop/Python/Complete-Python-3-Bootcamp-master/12-Advanced Python Modules/Example_Top_Level/Mid-Example-One/Bottom-Level-One\n",
      "\n",
      "\n",
      "The sub-folders are: \n",
      "\n",
      "\n",
      "The files are: \n",
      "\t File: One_Text.txt\n",
      "\n",
      "\n",
      "circle done\n",
      "\n",
      "\n",
      "Currently looking at /Users/vazgenosipov/Desktop/Python/Complete-Python-3-Bootcamp-master/12-Advanced Python Modules/08-Advanced-Python-Module-Exercise\n",
      "\n",
      "\n",
      "The sub-folders are: \n",
      "\tSubfolder .ipynb_checkpoints\n",
      "\tSubfolder extracted_content\n",
      "\n",
      "\n",
      "The files are: \n",
      "\t File: 07-Advanced-Modules-Exercise-Puzzle.ipynb\n",
      "\t File: 08-Advanced-Modules-Exercise-Solutions.ipynb\n",
      "\t File: unzip_me_for_instructions.zip\n",
      "\n",
      "\n",
      "circle done\n",
      "\n",
      "\n",
      "Currently looking at /Users/vazgenosipov/Desktop/Python/Complete-Python-3-Bootcamp-master/12-Advanced Python Modules/08-Advanced-Python-Module-Exercise/.ipynb_checkpoints\n",
      "\n",
      "\n",
      "The sub-folders are: \n",
      "\n",
      "\n",
      "The files are: \n",
      "\t File: 08-Advanced-Modules-Exercise-Solutions-checkpoint.ipynb\n",
      "\t File: 07-Advanced-Modules-Exercise-Puzzle-checkpoint.ipynb\n",
      "\n",
      "\n",
      "circle done\n",
      "\n",
      "\n",
      "Currently looking at /Users/vazgenosipov/Desktop/Python/Complete-Python-3-Bootcamp-master/12-Advanced Python Modules/08-Advanced-Python-Module-Exercise/extracted_content\n",
      "\n",
      "\n",
      "The sub-folders are: \n",
      "\tSubfolder Three\n",
      "\tSubfolder One\n",
      "\tSubfolder Two\n",
      "\tSubfolder Five\n",
      "\tSubfolder Four\n",
      "\n",
      "\n",
      "The files are: \n",
      "\t File: Instructions.txt\n",
      "\n",
      "\n",
      "circle done\n",
      "\n",
      "\n",
      "Currently looking at /Users/vazgenosipov/Desktop/Python/Complete-Python-3-Bootcamp-master/12-Advanced Python Modules/08-Advanced-Python-Module-Exercise/extracted_content/Three\n",
      "\n",
      "\n",
      "The sub-folders are: \n",
      "\n",
      "\n",
      "The files are: \n",
      "\t File: VSXFSTABZDY.txt\n",
      "\t File: YDQFMWXOUMW.txt\n",
      "\t File: YQBIUHSUEVW.txt\n",
      "\t File: XAJMCPEWFNI.txt\n",
      "\t File: ZXEZRQXZNPG.txt\n",
      "\t File: ZKQJXAYKPVD.txt\n",
      "\t File: XVMPVSVYKFR.txt\n",
      "\t File: XHZPVUQTXIO.txt\n",
      "\t File: YYIZGBTQHZP.txt\n",
      "\t File: VCFJCGJFBIH.txt\n",
      "\t File: VVHFVZUNLOO.txt\n",
      "\t File: VVKGWLRMHLU.txt\n",
      "\t File: XJCWENFFGHB.txt\n",
      "\t File: XFHJOTNPEJG.txt\n",
      "\t File: ZOWVXWPOGWP.txt\n",
      "\t File: ZXIBJMPROKW.txt\n",
      "\t File: VAQIJTDOFUJ.txt\n",
      "\t File: YCESZHJDBXH.txt\n",
      "\t File: YQRNCMNFFHW.txt\n",
      "\t File: ZEZKKRBIZEB.txt\n",
      "\n",
      "\n",
      "circle done\n",
      "\n",
      "\n",
      "Currently looking at /Users/vazgenosipov/Desktop/Python/Complete-Python-3-Bootcamp-master/12-Advanced Python Modules/08-Advanced-Python-Module-Exercise/extracted_content/One\n",
      "\n",
      "\n",
      "The sub-folders are: \n",
      "\n",
      "\n",
      "The files are: \n",
      "\t File: LFEATJAAYDC.txt\n",
      "\t File: KCXGNQCZBLO.txt\n",
      "\t File: KFIUZFERLET.txt\n",
      "\t File: LIFDHOFKWOI.txt\n",
      "\t File: HRQFTHKVJTL.txt\n",
      "\t File: PLYCGPVEAWO.txt\n",
      "\t File: JEHBLZPUPSP.txt\n",
      "\t File: PDJMSMNKIRM.txt\n",
      "\t File: LPNDVDXPZIG.txt\n",
      "\t File: HMNZTLIFGPD.txt\n",
      "\t File: KNBSKDREHQU.txt\n",
      "\t File: KTXDHIOKAUI.txt\n",
      "\t File: JQUOBKFUACN.txt\n",
      "\t File: HFUTPPAXDIS.txt\n",
      "\t File: PTOBBCJYURJ.txt\n",
      "\t File: LHODFIKVTQA.txt\n",
      "\t File: JLTXKIGCWDL.txt\n",
      "\t File: HDOHZHFSTTK.txt\n",
      "\t File: KMMLGJOWLGI.txt\n",
      "\t File: JDLRVFCXYLU.txt\n",
      "\t File: PHWAVPEKAER.txt\n",
      "\t File: LDGOCUQJNNS.txt\n",
      "\t File: JTHSNBNPQSE.txt\n",
      "\t File: HVUTZEVMSBW.txt\n",
      "\t File: PQNVCVJINAR.txt\n",
      "\n",
      "\n",
      "circle done\n",
      "\n",
      "\n",
      "Currently looking at /Users/vazgenosipov/Desktop/Python/Complete-Python-3-Bootcamp-master/12-Advanced Python Modules/08-Advanced-Python-Module-Exercise/extracted_content/Two\n",
      "\n",
      "\n",
      "The sub-folders are: \n",
      "\n",
      "\n",
      "The files are: \n",
      "\t File: HEORIXOTANT.txt\n",
      "\t File: SOFUJYXTIMK.txt\n",
      "\t File: HMZXPBOPRAE.txt\n",
      "\t File: OMWIMVRCMYM.txt\n",
      "\t File: OHZOUOSFJQC.txt\n",
      "\t File: OKWFOOYTXFU.txt\n",
      "\t File: LVMBINRBJXL.txt\n",
      "\t File: LSQSTGPIGIY.txt\n",
      "\t File: OIHMLGMWTHL.txt\n",
      "\t File: GQTJJORZBXY.txt\n",
      "\t File: HARDNJGDRBC.txt\n",
      "\t File: OYMAGXAGWHJ.txt\n",
      "\t File: HMUTDOVNYTV.txt\n",
      "\t File: LYZEQCVYNEZ.txt\n",
      "\t File: GMMQQUBMJNR.txt\n",
      "\t File: GTOTCIWMDBY.txt\n",
      "\t File: LULTNYAQEJG.txt\n",
      "\t File: HTOHSTYXTCO.txt\n",
      "\t File: SJMJLDGPBSJ.txt\n",
      "\t File: LCJZYDHBFRM.txt\n",
      "\t File: SPDZYGDHEWO.txt\n",
      "\t File: SIKFPPLCJDN.txt\n",
      "\t File: GXYSEPAFRTP.txt\n",
      "\t File: SWOFXREEHWA.txt\n",
      "\t File: GKQBQRCTNNK.txt\n",
      "\n",
      "\n",
      "circle done\n",
      "\n",
      "\n",
      "Currently looking at /Users/vazgenosipov/Desktop/Python/Complete-Python-3-Bootcamp-master/12-Advanced Python Modules/08-Advanced-Python-Module-Exercise/extracted_content/Five\n",
      "\n",
      "\n",
      "The sub-folders are: \n",
      "\n",
      "\n",
      "The files are: \n",
      "\t File: ESIZWBHMGDP.txt\n",
      "\t File: BUGKBZWRRVI.txt\n",
      "\t File: ARLKFCWIAJE.txt\n",
      "\t File: EYTCGIOYWIW.txt\n",
      "\t File: APJKSRITGGX.txt\n",
      "\t File: AXJGVPVEFAS.txt\n",
      "\t File: CSCLFZCDYYC.txt\n",
      "\t File: CAHBEVSVDDN.txt\n",
      "\t File: BVBURZZCAPR.txt\n",
      "\t File: ETCUEXWNBCF.txt\n",
      "\t File: CRFSDGYFSHA.txt\n",
      "\t File: DYOPIIVMZOO.txt\n",
      "\t File: DDLASODUVPX.txt\n",
      "\t File: CXBVCTRBBIE.txt\n",
      "\t File: COMGMZBJAYE.txt\n",
      "\t File: EAAOEPSAWMQ.txt\n",
      "\t File: DZUWWXYIAEL.txt\n",
      "\t File: EIPWXMQZJKU.txt\n",
      "\t File: DHZBAAYEADM.txt\n",
      "\t File: BSKJDRNEZQM.txt\n",
      "\t File: AQKATDFGXTS.txt\n",
      "\t File: BTYWAHLHKBM.txt\n",
      "\t File: AEITMYIRQLP.txt\n",
      "\t File: BNUQEHCFRTG.txt\n",
      "\t File: DQPZQLBCJYP.txt\n",
      "\n",
      "\n",
      "circle done\n",
      "\n",
      "\n",
      "Currently looking at /Users/vazgenosipov/Desktop/Python/Complete-Python-3-Bootcamp-master/12-Advanced Python Modules/08-Advanced-Python-Module-Exercise/extracted_content/Four\n",
      "\n",
      "\n",
      "The sub-folders are: \n",
      "\n",
      "\n",
      "The files are: \n",
      "\t File: WHTOHQUWXIN.txt\n",
      "\t File: QDDETWBHJYC.txt\n",
      "\t File: WNJISWPEBRS.txt\n",
      "\t File: WFSKPTXPFCH.txt\n",
      "\t File: EMTGPSXQEJX.txt\n",
      "\t File: TWUOYFCCYBQ.txt\n",
      "\t File: QTDYYIFPHAU.txt\n",
      "\t File: TAKNAVDMZKV.txt\n",
      "\t File: RYNXFYXMKHG.txt\n",
      "\t File: ROICPTWKXDX.txt\n",
      "\t File: QCWCFLKNZMN.txt\n",
      "\t File: EXVQSVBQQQH.txt\n",
      "\t File: THPNEGKTJWI.txt\n",
      "\t File: TJFMLJODVAD.txt\n",
      "\t File: QCTCKDIBBVG.txt\n",
      "\t File: TKCZSFQNJTX.txt\n",
      "\t File: WXDJDOGZEHN.txt\n",
      "\t File: QVNJULGXNUM.txt\n",
      "\t File: RSXOTNGKBML.txt\n",
      "\t File: EPRNUHRSESC.txt\n",
      "\t File: ECIOBYCDVFI.txt\n",
      "\t File: RXDARIDGKBF.txt\n",
      "\t File: REAXWSOIQDY.txt\n",
      "\t File: WYDLGSGGXKV.txt\n",
      "\t File: ESDIZXHYCVY.txt\n",
      "\n",
      "\n",
      "circle done\n",
      "\n",
      "\n",
      "Currently looking at /Users/vazgenosipov/Desktop/Python/Complete-Python-3-Bootcamp-master/12-Advanced Python Modules/.ipynb_checkpoints\n",
      "\n",
      "\n",
      "The sub-folders are: \n",
      "\n",
      "\n",
      "The files are: \n",
      "\t File: 07-OS-Module-checkpoint.ipynb\n",
      "\t File: 03-Math-and-Random-Module-checkpoint.ipynb\n",
      "\t File: 00-Collections-Module-checkpoint.ipynb\n",
      "\t File: 02-Math-and-Random-Module-checkpoint.ipynb\n",
      "\t File: 04-Timing your code - timeit-checkpoint.ipynb\n",
      "\t File: 03-Python Debugger (pdb)-checkpoint.ipynb\n",
      "\t File: 07-Unzipping-and-Zipping-Files-checkpoint.ipynb\n",
      "\t File: 06-Timing your code - timeit-checkpoint.ipynb\n",
      "\t File: 09-Advanced-Modules-Exercise-Solutions-checkpoint.ipynb\n",
      "\t File: 06-Unzipping-and-Zipping-Files-checkpoint.ipynb\n",
      "\t File: 02-Datetime-Module-checkpoint.ipynb\n",
      "\t File: 04-Python Debugger (pdb)-checkpoint.ipynb\n",
      "\t File: Untitled-checkpoint.ipynb\n",
      "\t File: 01-Opening-and-Reading-Files-Folders-checkpoint.ipynb\n",
      "\t File: 01-Datetime-Module-checkpoint.ipynb\n",
      "\t File: 05-Overview-of-Regular-Expressions-checkpoint.ipynb\n",
      "\n",
      "\n",
      "circle done\n",
      "\n",
      "\n",
      "Currently looking at /Users/vazgenosipov/Desktop/Python/Complete-Python-3-Bootcamp-master/03-Methods and Functions\n",
      "\n",
      "\n",
      "The sub-folders are: \n",
      "\tSubfolder .ipynb_checkpoints\n",
      "\n",
      "\n",
      "The files are: \n",
      "\t File: 06-Nested Statements and Scope.ipynb\n",
      "\t File: 05-Lambda-Expressions-Map-and-Filter.ipynb\n",
      "\t File: 09-Functions and Methods Homework - Solutions.ipynb\n",
      "\t File: 02-Functions.ipynb\n",
      "\t File: 03-Function Practice Exercises.ipynb\n",
      "\t File: 07-args and kwargs.ipynb\n",
      "\t File: 04-Function Practice Exercises - Solutions.ipynb\n",
      "\t File: 08-Functions and Methods Homework.ipynb\n",
      "\t File: 01-Methods.ipynb\n",
      "\n",
      "\n",
      "circle done\n",
      "\n",
      "\n",
      "Currently looking at /Users/vazgenosipov/Desktop/Python/Complete-Python-3-Bootcamp-master/03-Methods and Functions/.ipynb_checkpoints\n",
      "\n",
      "\n",
      "The sub-folders are: \n",
      "\n",
      "\n",
      "The files are: \n",
      "\t File: 09-Functions and Methods Homework - Solutions-checkpoint.ipynb\n",
      "\t File: 01-Methods-checkpoint.ipynb\n",
      "\t File: 04-Function Practice Exercises - Solutions-checkpoint.ipynb\n",
      "\t File: 06-Nested Statements and Scope-checkpoint.ipynb\n",
      "\t File: 07-args and kwargs-checkpoint.ipynb\n",
      "\t File: 05-Lambda-Expressions-Map-and-Filter-checkpoint.ipynb\n",
      "\t File: 06-Functions and Methods Homework - Solutions-checkpoint.ipynb\n",
      "\t File: 09-Function Practice Exercises - Solutions-checkpoint.ipynb\n",
      "\t File: 08-Functions and Methods Homework-checkpoint.ipynb\n",
      "\t File: 03-Function Practice Exercises-checkpoint.ipynb\n",
      "\t File: 03-Lambda expressions-checkpoint.ipynb\n",
      "\t File: 04-Nested Statements and Scope-checkpoint.ipynb\n",
      "\t File: 02-Functions-checkpoint.ipynb\n",
      "\t File: 08-Function Practice Exercises-checkpoint.ipynb\n",
      "\t File: 05-Functions and Methods Homework-checkpoint.ipynb\n",
      "\n",
      "\n",
      "circle done\n",
      "\n",
      "\n",
      "Currently looking at /Users/vazgenosipov/Desktop/Python/Complete-Python-3-Bootcamp-master/07-Errors and Exception Handling\n",
      "\n",
      "\n",
      "The sub-folders are: \n",
      "\tSubfolder __pycache__\n",
      "\tSubfolder .ipynb_checkpoints\n",
      "\n",
      "\n",
      "The files are: \n",
      "\t File: 04-Unit Testing.ipynb\n",
      "\t File: test_cap.py\n",
      "\t File: cap.py\n",
      "\t File: simple1.py\n",
      "\t File: 03-Errors and Exceptions Homework - Solution.ipynb\n",
      "\t File: 02-Errors and Exceptions Homework.ipynb\n",
      "\t File: simple2.py\n",
      "\t File: 01-Errors and Exceptions Handling.ipynb\n",
      "\t File: testfile\n",
      "\n",
      "\n",
      "circle done\n",
      "\n",
      "\n",
      "Currently looking at /Users/vazgenosipov/Desktop/Python/Complete-Python-3-Bootcamp-master/07-Errors and Exception Handling/__pycache__\n",
      "\n",
      "\n",
      "The sub-folders are: \n",
      "\n",
      "\n",
      "The files are: \n",
      "\t File: cap.cpython-36.pyc\n",
      "\n",
      "\n",
      "circle done\n",
      "\n",
      "\n",
      "Currently looking at /Users/vazgenosipov/Desktop/Python/Complete-Python-3-Bootcamp-master/07-Errors and Exception Handling/.ipynb_checkpoints\n",
      "\n",
      "\n",
      "The sub-folders are: \n",
      "\n",
      "\n",
      "The files are: \n",
      "\t File: 02-Errors and Exceptions Homework-checkpoint.ipynb\n",
      "\t File: 03-Errors and Exceptions Homework - Solution-checkpoint.ipynb\n",
      "\t File: 01-Errors and Exceptions Handling-checkpoint.ipynb\n",
      "\t File: 04-Unit Testing-checkpoint.ipynb\n",
      "\n",
      "\n",
      "circle done\n",
      "\n",
      "\n",
      "Currently looking at /Users/vazgenosipov/Desktop/Python/Complete-Python-3-Bootcamp-master/11-Python Generators\n",
      "\n",
      "\n",
      "The sub-folders are: \n",
      "\tSubfolder .ipynb_checkpoints\n",
      "\n",
      "\n",
      "The files are: \n",
      "\t File: 01-Iterators and Generators.ipynb\n",
      "\t File: 03-Iterators and Generators Homework - Solution.ipynb\n",
      "\t File: 02-Iterators and Generators Homework.ipynb\n",
      "\n",
      "\n",
      "circle done\n",
      "\n",
      "\n",
      "Currently looking at /Users/vazgenosipov/Desktop/Python/Complete-Python-3-Bootcamp-master/11-Python Generators/.ipynb_checkpoints\n",
      "\n",
      "\n",
      "The sub-folders are: \n",
      "\n",
      "\n",
      "The files are: \n",
      "\t File: 02-Iterators and Generators Homework-checkpoint.ipynb\n",
      "\t File: 01-Iterators and Generators-checkpoint.ipynb\n",
      "\t File: 03-Iterators and Generators Homework - Solution-checkpoint.ipynb\n",
      "\n",
      "\n",
      "circle done\n",
      "\n",
      "\n",
      "Currently looking at /Users/vazgenosipov/Desktop/Python/Complete-Python-3-Bootcamp-master/06-Modules and Packages\n",
      "\n",
      "\n",
      "The sub-folders are: \n",
      "\tSubfolder .ipynb_checkpoints\n",
      "\tSubfolder 01-Name_and_Main\n",
      "\tSubfolder 00-Modules_and_Packages\n",
      "\n",
      "\n",
      "The files are: \n",
      "\t File: Useful_Info_Notebook.ipynb\n",
      "\n",
      "\n",
      "circle done\n",
      "\n",
      "\n",
      "Currently looking at /Users/vazgenosipov/Desktop/Python/Complete-Python-3-Bootcamp-master/06-Modules and Packages/.ipynb_checkpoints\n",
      "\n",
      "\n",
      "The sub-folders are: \n",
      "\n",
      "\n",
      "The files are: \n",
      "\t File: 01-Modules and Packages-checkpoint.ipynb\n",
      "\t File: Useful_Info_Notebook-checkpoint.ipynb\n",
      "\n",
      "\n",
      "circle done\n",
      "\n",
      "\n",
      "Currently looking at /Users/vazgenosipov/Desktop/Python/Complete-Python-3-Bootcamp-master/06-Modules and Packages/01-Name_and_Main\n",
      "\n",
      "\n",
      "The sub-folders are: \n",
      "\n",
      "\n",
      "The files are: \n",
      "\t File: one.py\n",
      "\t File: Explanation.txt\n",
      "\t File: two.py\n",
      "\n",
      "\n",
      "circle done\n",
      "\n",
      "\n",
      "Currently looking at /Users/vazgenosipov/Desktop/Python/Complete-Python-3-Bootcamp-master/06-Modules and Packages/00-Modules_and_Packages\n",
      "\n",
      "\n",
      "The sub-folders are: \n",
      "\tSubfolder MyMainPackage\n",
      "\n",
      "\n",
      "The files are: \n",
      "\t File: myprogram.py\n",
      "\t File: mymodule.py\n",
      "\n",
      "\n",
      "circle done\n",
      "\n",
      "\n",
      "Currently looking at /Users/vazgenosipov/Desktop/Python/Complete-Python-3-Bootcamp-master/06-Modules and Packages/00-Modules_and_Packages/MyMainPackage\n",
      "\n",
      "\n",
      "The sub-folders are: \n",
      "\tSubfolder __pycache__\n",
      "\tSubfolder SubPackage\n",
      "\n",
      "\n",
      "The files are: \n",
      "\t File: __init__.py\n",
      "\t File: some_main_script.py\n",
      "\n",
      "\n",
      "circle done\n",
      "\n",
      "\n",
      "Currently looking at /Users/vazgenosipov/Desktop/Python/Complete-Python-3-Bootcamp-master/06-Modules and Packages/00-Modules_and_Packages/MyMainPackage/__pycache__\n",
      "\n",
      "\n",
      "The sub-folders are: \n",
      "\n",
      "\n",
      "The files are: \n",
      "\t File: some_main_script.cpython-36.pyc\n",
      "\t File: __init__.cpython-36.pyc\n",
      "\n",
      "\n",
      "circle done\n",
      "\n",
      "\n",
      "Currently looking at /Users/vazgenosipov/Desktop/Python/Complete-Python-3-Bootcamp-master/06-Modules and Packages/00-Modules_and_Packages/MyMainPackage/SubPackage\n",
      "\n",
      "\n",
      "The sub-folders are: \n",
      "\tSubfolder __pycache__\n",
      "\n",
      "\n",
      "The files are: \n",
      "\t File: __init__.py\n",
      "\t File: mysubscript.py\n",
      "\n",
      "\n",
      "circle done\n",
      "\n",
      "\n",
      "Currently looking at /Users/vazgenosipov/Desktop/Python/Complete-Python-3-Bootcamp-master/06-Modules and Packages/00-Modules_and_Packages/MyMainPackage/SubPackage/__pycache__\n",
      "\n",
      "\n",
      "The sub-folders are: \n",
      "\n",
      "\n",
      "The files are: \n",
      "\t File: mysubscript.cpython-36.pyc\n",
      "\t File: __init__.cpython-36.pyc\n",
      "\n",
      "\n",
      "circle done\n",
      "\n",
      "\n",
      "Currently looking at /Users/vazgenosipov/Desktop/Python/Complete-Python-3-Bootcamp-master/16-Emailing-with-Python\n",
      "\n",
      "\n",
      "The sub-folders are: \n",
      "\tSubfolder .ipynb_checkpoints\n",
      "\n",
      "\n",
      "The files are: \n",
      "\t File: 00-Overview-of-Sending-Emails.ipynb\n",
      "\t File: 01-Overview-of-Received-Emails.ipynb\n",
      "\t File: 02-Exercise-Ideas.ipynb\n",
      "\n",
      "\n",
      "circle done\n",
      "\n",
      "\n",
      "Currently looking at /Users/vazgenosipov/Desktop/Python/Complete-Python-3-Bootcamp-master/16-Emailing-with-Python/.ipynb_checkpoints\n",
      "\n",
      "\n",
      "The sub-folders are: \n",
      "\n",
      "\n",
      "The files are: \n",
      "\t File: 02-Exercise-Ideas-checkpoint.ipynb\n",
      "\t File: 01-Overview-of-Received-Emails-checkpoint.ipynb\n",
      "\t File: 00-Overview-of-Sending-Emails-checkpoint.ipynb\n",
      "\n",
      "\n",
      "circle done\n",
      "\n",
      "\n",
      "Currently looking at /Users/vazgenosipov/Desktop/Python/Complete-Python-3-Bootcamp-master/01-Python Comparison Operators\n",
      "\n",
      "\n",
      "The sub-folders are: \n",
      "\tSubfolder .ipynb_checkpoints\n",
      "\n",
      "\n",
      "The files are: \n",
      "\t File: 02-Chained Comparison Operators.ipynb\n",
      "\t File: 01-Comparison Operators.ipynb\n",
      "\n",
      "\n",
      "circle done\n",
      "\n",
      "\n",
      "Currently looking at /Users/vazgenosipov/Desktop/Python/Complete-Python-3-Bootcamp-master/01-Python Comparison Operators/.ipynb_checkpoints\n",
      "\n",
      "\n",
      "The sub-folders are: \n",
      "\n",
      "\n",
      "The files are: \n",
      "\t File: 01-Comparison Operators-checkpoint.ipynb\n",
      "\t File: 02-Chained Comparison Operators-checkpoint.ipynb\n",
      "\n",
      "\n",
      "circle done\n",
      "\n",
      "\n",
      "Currently looking at /Users/vazgenosipov/Desktop/Python/Complete-Python-3-Bootcamp-master/09-Empty-Section-Skip\n",
      "\n",
      "\n",
      "The sub-folders are: \n",
      "\tSubfolder .ipynb_checkpoints\n",
      "\n",
      "\n",
      "The files are: \n",
      "\t File: 08-Built-in Functions Assessment Test.ipynb\n",
      "\t File: 01-Map.ipynb\n",
      "\t File: 06-all() and any().ipynb\n",
      "\t File: 05-Enumerate.ipynb\n",
      "\t File: 02-Reduce.ipynb\n",
      "\t File: 09-Built-in Functions Assessment Test - Solution.ipynb\n",
      "\t File: 04-Zip.ipynb\n",
      "\t File: 03-Filter.ipynb\n",
      "\t File: 07-Complex.ipynb\n",
      "\n",
      "\n",
      "circle done\n",
      "\n",
      "\n",
      "Currently looking at /Users/vazgenosipov/Desktop/Python/Complete-Python-3-Bootcamp-master/09-Empty-Section-Skip/.ipynb_checkpoints\n",
      "\n",
      "\n",
      "The sub-folders are: \n",
      "\n",
      "\n",
      "The files are: \n",
      "\t File: 07-Complex-checkpoint.ipynb\n",
      "\t File: 05-Enumerate-checkpoint.ipynb\n",
      "\t File: 06-all() and any()-checkpoint.ipynb\n",
      "\t File: 01-Map-checkpoint.ipynb\n",
      "\t File: 03-Filter-checkpoint.ipynb\n",
      "\t File: 08-Built-in Functions Assessment Test-checkpoint.ipynb\n",
      "\t File: 09-Built-in Functions Assessment Test - Solution-checkpoint.ipynb\n",
      "\t File: 02-Reduce-checkpoint.ipynb\n",
      "\t File: 04-Zip-checkpoint.ipynb\n",
      "\n",
      "\n",
      "circle done\n",
      "\n",
      "\n",
      "Currently looking at /Users/vazgenosipov/Desktop/Python/Complete-Python-3-Bootcamp-master/17-Advanced Python Objects and Data Structures\n",
      "\n",
      "\n",
      "The sub-folders are: \n",
      "\tSubfolder .ipynb_checkpoints\n",
      "\n",
      "\n",
      "The files are: \n",
      "\t File: 08-BONUS - With Statement Context Managers.ipynb\n",
      "\t File: 03-Advanced Sets.ipynb\n",
      "\t File: 06-Advanced Python Objects Test.ipynb\n",
      "\t File: 05-Advanced Lists.ipynb\n",
      "\t File: 01-Advanced Numbers.ipynb\n",
      "\t File: 04-Advanced Dictionaries.ipynb\n",
      "\t File: 02-Advanced Strings.ipynb\n",
      "\t File: 07-Advanced Python Objects Test - Solutions.ipynb\n",
      "\n",
      "\n",
      "circle done\n",
      "\n",
      "\n",
      "Currently looking at /Users/vazgenosipov/Desktop/Python/Complete-Python-3-Bootcamp-master/17-Advanced Python Objects and Data Structures/.ipynb_checkpoints\n",
      "\n",
      "\n",
      "The sub-folders are: \n",
      "\n",
      "\n",
      "The files are: \n",
      "\t File: 05-Advanced Lists-checkpoint.ipynb\n",
      "\t File: 01-Advanced Numbers-checkpoint.ipynb\n",
      "\t File: 03-Advanced Sets-checkpoint.ipynb\n",
      "\t File: 04-Advanced Dictionaries-checkpoint.ipynb\n",
      "\t File: 07-Advanced Python Objects Test - Solutions-checkpoint.ipynb\n",
      "\t File: 06-Advanced Python Objects Test-checkpoint.ipynb\n",
      "\t File: 02-Advanced Strings-checkpoint.ipynb\n",
      "\n",
      "\n",
      "circle done\n",
      "\n",
      "\n",
      "Currently looking at /Users/vazgenosipov/Desktop/Python/Complete-Python-3-Bootcamp-master/08-Milestone Project - 2\n",
      "\n",
      "\n",
      "The sub-folders are: \n",
      "\tSubfolder .ipynb_checkpoints\n",
      "\n",
      "\n",
      "The files are: \n",
      "\t File: 00-Milestone-2-Warmup-Project.ipynb\n",
      "\t File: 01-Milestone Project 2 - Assignment.ipynb\n",
      "\t File: 03-Milestone Project 2 - Complete Walkthrough Solution.ipynb\n",
      "\t File: 02-Milestone Project 2 - Walkthrough Steps Workbook.ipynb\n",
      "\n",
      "\n",
      "circle done\n",
      "\n",
      "\n",
      "Currently looking at /Users/vazgenosipov/Desktop/Python/Complete-Python-3-Bootcamp-master/08-Milestone Project - 2/.ipynb_checkpoints\n",
      "\n",
      "\n",
      "The sub-folders are: \n",
      "\n",
      "\n",
      "The files are: \n",
      "\t File: 03-Milestone Project 2 - Complete Walkthrough Solution-checkpoint.ipynb\n",
      "\t File: 02-Milestone Project 2 - Walkthrough Steps Workbook-checkpoint.ipynb\n",
      "\t File: 00-Milestone-2-Warmup-Project-checkpoint.ipynb\n",
      "\t File: 01-Milestone Project 2 - Assignment-checkpoint.ipynb\n",
      "\n",
      "\n",
      "circle done\n",
      "\n",
      "\n",
      "Currently looking at /Users/vazgenosipov/Desktop/Python/Complete-Python-3-Bootcamp-master/14-Working-with-Images\n",
      "\n",
      "\n",
      "The sub-folders are: \n",
      "\tSubfolder .ipynb_checkpoints\n",
      "\n",
      "\n",
      "The files are: \n",
      "\t File: word_matrix.png\n",
      "\t File: red_color.jpg\n",
      "\t File: 02-Image-Exercise-Solution.ipynb\n",
      "\t File: 00-Overview-of-Working-with-Images.ipynb\n",
      "\t File: blue_color.png\n",
      "\t File: pencils.jpg\n",
      "\t File: mask.png\n",
      "\t File: 01-Image-Exercise.ipynb\n",
      "\t File: purple.png\n",
      "\t File: example.jpg\n",
      "\n",
      "\n",
      "circle done\n",
      "\n",
      "\n",
      "Currently looking at /Users/vazgenosipov/Desktop/Python/Complete-Python-3-Bootcamp-master/14-Working-with-Images/.ipynb_checkpoints\n",
      "\n",
      "\n",
      "The sub-folders are: \n",
      "\n",
      "\n",
      "The files are: \n",
      "\t File: 02-Image-Exercise-Solution-checkpoint.ipynb\n",
      "\t File: 01-Image-Exercise-checkpoint.ipynb\n",
      "\t File: 00-Overview-of-Working-with-Images-checkpoint.ipynb\n",
      "\n",
      "\n",
      "circle done\n",
      "\n",
      "\n",
      "Currently looking at /Users/vazgenosipov/Desktop/Python/Complete-Python-3-Bootcamp-master/04-Milestone Project - 1\n",
      "\n",
      "\n",
      "The sub-folders are: \n",
      "\tSubfolder .ipynb_checkpoints\n",
      "\n",
      "\n",
      "The files are: \n",
      "\t File: 00-Warm-Up-Project-Exercises.ipynb\n",
      "\t File: 02-Milestone Project 1 - Walkthrough Steps Workbook.ipynb\n",
      "\t File: 01-Milestone Project 1 - Assignment.ipynb\n",
      "\t File: 03-Milestone Project 1 - Complete Walkthrough Solution.ipynb\n",
      "\n",
      "\n",
      "circle done\n",
      "\n",
      "\n",
      "Currently looking at /Users/vazgenosipov/Desktop/Python/Complete-Python-3-Bootcamp-master/04-Milestone Project - 1/.ipynb_checkpoints\n",
      "\n",
      "\n",
      "The sub-folders are: \n",
      "\n",
      "\n",
      "The files are: \n",
      "\t File: 02-Milestone Project 1 - Walkthrough Steps Workbook-checkpoint.ipynb\n",
      "\t File: 01-Milestone Project 1 - Assignment-checkpoint.ipynb\n",
      "\t File: 03-Milestone Project 1 - Complete Walkthrough Solution-checkpoint.ipynb\n",
      "\t File: 00-Warm-Up-Project-Exercises-checkpoint.ipynb\n",
      "\n",
      "\n",
      "circle done\n",
      "\n",
      "\n",
      "Currently looking at /Users/vazgenosipov/Desktop/Python/Complete-Python-3-Bootcamp-master/05-Object Oriented Programming\n",
      "\n",
      "\n",
      "The sub-folders are: \n",
      "\tSubfolder .ipynb_checkpoints\n",
      "\n",
      "\n",
      "The files are: \n",
      "\t File: 04-OOP Challenge.ipynb\n",
      "\t File: 05-OOP Challenge - Solution.ipynb\n",
      "\t File: 03-Object Oriented Programming Homework - Solution.ipynb\n",
      "\t File: 02-Object Oriented Programming Homework.ipynb\n",
      "\t File: 01-Object Oriented Programming.ipynb\n",
      "\n",
      "\n",
      "circle done\n",
      "\n",
      "\n",
      "Currently looking at /Users/vazgenosipov/Desktop/Python/Complete-Python-3-Bootcamp-master/05-Object Oriented Programming/.ipynb_checkpoints\n",
      "\n",
      "\n",
      "The sub-folders are: \n",
      "\n",
      "\n",
      "The files are: \n",
      "\t File: 04-OOP Challenge-checkpoint.ipynb\n",
      "\t File: 01-Object Oriented Programming-checkpoint.ipynb\n",
      "\t File: 05-OOP Challenge - Solution-checkpoint.ipynb\n",
      "\t File: 02-Object Oriented Programming Homework-checkpoint.ipynb\n",
      "\t File: 01-Object Oriented Programming-Copy1-checkpoint.ipynb\n",
      "\t File: 03-Object Oriented Programming Homework - Solution-checkpoint.ipynb\n",
      "\n",
      "\n",
      "circle done\n",
      "\n",
      "\n",
      "Currently looking at /Users/vazgenosipov/Desktop/Python/Complete-Python-3-Bootcamp-master/.ipynb_checkpoints\n",
      "\n",
      "\n",
      "The sub-folders are: \n",
      "\n",
      "\n",
      "The files are: \n",
      "\t File: Untitled-checkpoint.ipynb\n",
      "\n",
      "\n",
      "circle done\n",
      "\n",
      "\n",
      "Currently looking at /Users/vazgenosipov/Desktop/Python/Complete-Python-3-Bootcamp-master/00-Python Object and Data Structure Basics\n",
      "\n",
      "\n",
      "The sub-folders are: \n",
      "\tSubfolder .ipynb_checkpoints\n",
      "\n",
      "\n",
      "The files are: \n",
      "\t File: 08-Files.ipynb\n",
      "\t File: 06-Tuples.ipynb\n",
      "\t File: 01-Numbers.ipynb\n",
      "\t File: 10-Objects and Data Structures Assessment Test-Solution.ipynb\n",
      "\t File: 02-Strings.ipynb\n",
      "\t File: 01-Variable Assignment.ipynb\n",
      "\t File: 05-Dictionaries.ipynb\n",
      "\t File: test.txt\n",
      "\t File: 09-Objects and Data Structures Assessment Test.ipynb\n",
      "\t File: 07-Sets and Booleans.ipynb\n",
      "\t File: 04-Lists.ipynb\n",
      "\t File: 03-Print Formatting with Strings.ipynb\n",
      "\n",
      "\n",
      "circle done\n",
      "\n",
      "\n",
      "Currently looking at /Users/vazgenosipov/Desktop/Python/Complete-Python-3-Bootcamp-master/00-Python Object and Data Structure Basics/.ipynb_checkpoints\n",
      "\n",
      "\n",
      "The sub-folders are: \n",
      "\n",
      "\n",
      "The files are: \n",
      "\t File: 08-Files-checkpoint.ipynb\n",
      "\t File: 03-Print Formatting with Strings-checkpoint.ipynb\n",
      "\t File: 01-Numbers-checkpoint.ipynb\n",
      "\t File: 05-Dictionaries-checkpoint.ipynb\n",
      "\t File: 01-Variable Assignment-checkpoint.ipynb\n",
      "\t File: 09-Objects and Data Structures Assessment Test-checkpoint.ipynb\n",
      "\t File: 07-Sets and Booleans-checkpoint.ipynb\n",
      "\t File: 06-Tuples-checkpoint.ipynb\n",
      "\t File: 02-Strings-checkpoint.ipynb\n",
      "\t File: 04-Lists-checkpoint.ipynb\n",
      "\t File: 10-Objects and Data Structures Assessment Test-Solution-checkpoint.ipynb\n",
      "\n",
      "\n",
      "circle done\n",
      "\n",
      "\n",
      "Currently looking at /Users/vazgenosipov/Desktop/Python/Complete-Python-3-Bootcamp-master/15-PDFs-and-Spreadsheets\n",
      "\n",
      "\n",
      "The sub-folders are: \n",
      "\tSubfolder Exercise_Files\n",
      "\tSubfolder .ipynb_checkpoints\n",
      "\n",
      "\n",
      "The files are: \n",
      "\t File: example.csv\n",
      "\t File: 01-Working-with-PDFs.ipynb\n",
      "\t File: 02-PDFs-Spreadsheets-Puzzle.ipynb\n",
      "\t File: 03-PDFs-Spreadsheets-Puzzle-Solution.ipynb\n",
      "\t File: 00-Working-with-CSV-Files.ipynb\n",
      "\t File: Some_BrandNew_Doc.pdf\n",
      "\t File: Some_new_file.pdf\n",
      "\t File: Working_Business_Proposal.pdf\n",
      "\t File: makeup_new.csv\n",
      "\t File: to_save_file.csv\n",
      "\t File: Some_New_Doc.pdf\n",
      "\n",
      "\n",
      "circle done\n",
      "\n",
      "\n",
      "Currently looking at /Users/vazgenosipov/Desktop/Python/Complete-Python-3-Bootcamp-master/15-PDFs-and-Spreadsheets/Exercise_Files\n",
      "\n",
      "\n",
      "The sub-folders are: \n",
      "\n",
      "\n",
      "The files are: \n",
      "\t File: Find_the_Phone_Number.pdf\n",
      "\t File: find_the_link.csv\n",
      "\n",
      "\n",
      "circle done\n",
      "\n",
      "\n",
      "Currently looking at /Users/vazgenosipov/Desktop/Python/Complete-Python-3-Bootcamp-master/15-PDFs-and-Spreadsheets/.ipynb_checkpoints\n",
      "\n",
      "\n",
      "The sub-folders are: \n",
      "\n",
      "\n",
      "The files are: \n",
      "\t File: 01-Working-with-PDFs-checkpoint.ipynb\n",
      "\t File: 02-PDFs-Spreadsheets-Puzzle-checkpoint.ipynb\n",
      "\t File: 00-Working-with-CSV-Files-checkpoint.ipynb\n",
      "\t File: 03-PDFs-Spreadsheets-Puzzle-Solution-checkpoint.ipynb\n",
      "\n",
      "\n",
      "circle done\n",
      "\n",
      "\n",
      "Currently looking at /Users/vazgenosipov/Desktop/Python/Complete-Python-3-Bootcamp-master/10-Python Decorators\n",
      "\n",
      "\n",
      "The sub-folders are: \n",
      "\tSubfolder .ipynb_checkpoints\n",
      "\n",
      "\n",
      "The files are: \n",
      "\t File: 01-Decorators.ipynb\n",
      "\t File: 02-Decorators Homework.ipynb\n",
      "\n",
      "\n",
      "circle done\n",
      "\n",
      "\n",
      "Currently looking at /Users/vazgenosipov/Desktop/Python/Complete-Python-3-Bootcamp-master/10-Python Decorators/.ipynb_checkpoints\n",
      "\n",
      "\n",
      "The sub-folders are: \n",
      "\n",
      "\n",
      "The files are: \n",
      "\t File: 01-Decorators-checkpoint.ipynb\n",
      "\t File: 02-Decorators Homework-checkpoint.ipynb\n",
      "\n",
      "\n",
      "circle done\n",
      "\n",
      "\n",
      "Currently looking at /Users/vazgenosipov/Desktop/Python/Complete-Python-3-Bootcamp-master/02-Python Statements\n",
      "\n",
      "\n",
      "The sub-folders are: \n",
      "\tSubfolder .ipynb_checkpoints\n",
      "\n",
      "\n",
      "The files are: \n",
      "\t File: 08-Statements Assessment Test - Solutions.ipynb\n",
      "\t File: 04-while Loops.ipynb\n",
      "\t File: 07-Statements Assessment Test.ipynb\n",
      "\t File: 05-Useful-Operators.ipynb\n",
      "\t File: 06-List Comprehensions.ipynb\n",
      "\t File: 10-Guessing Game Challenge - Solution.ipynb\n",
      "\t File: 09-Guessing Game Challenge.ipynb\n",
      "\t File: 01-Introduction to Python Statements.ipynb\n",
      "\t File: 03-for Loops.ipynb\n",
      "\t File: 02-if, elif, and else Statements.ipynb\n",
      "\n",
      "\n",
      "circle done\n",
      "\n",
      "\n",
      "Currently looking at /Users/vazgenosipov/Desktop/Python/Complete-Python-3-Bootcamp-master/02-Python Statements/.ipynb_checkpoints\n",
      "\n",
      "\n",
      "The sub-folders are: \n",
      "\n",
      "\n",
      "The files are: \n",
      "\t File: 02-if, elif, and else Statements-checkpoint.ipynb\n",
      "\t File: 07-Statements Assessment Test-checkpoint.ipynb\n",
      "\t File: 01-Introduction to Python Statements-checkpoint.ipynb\n",
      "\t File: 06-List Comprehensions-checkpoint.ipynb\n",
      "\t File: 05-range()-checkpoint.ipynb\n",
      "\t File: 05-Useful-Operators-checkpoint.ipynb\n",
      "\t File: 08-Statements Assessment Test - Solutions-checkpoint.ipynb\n",
      "\t File: 04-while Loops-checkpoint.ipynb\n",
      "\t File: 03-for Loops-checkpoint.ipynb\n",
      "\t File: 09-Guessing Game Challenge-checkpoint.ipynb\n",
      "\t File: 10-Guessing Game Challenge - Solution-checkpoint.ipynb\n",
      "\n",
      "\n",
      "circle done\n",
      "\n",
      "\n",
      "Currently looking at /Users/vazgenosipov/Desktop/Python/Complete-Python-3-Bootcamp-master/13-Web-Scraping\n",
      "\n",
      "\n",
      "The sub-folders are: \n",
      "\tSubfolder .ipynb_checkpoints\n",
      "\n",
      "\n",
      "The files are: \n",
      "\t File: 02-Web-Scraping-Exercise-Solutions.ipynb\n",
      "\t File: 00-Guide-to-Web-Scraping.ipynb\n",
      "\t File: my_new_file_name.jpg\n",
      "\t File: 01-Web-Scraping-Exercises.ipynb\n",
      "\n",
      "\n",
      "circle done\n",
      "\n",
      "\n",
      "Currently looking at /Users/vazgenosipov/Desktop/Python/Complete-Python-3-Bootcamp-master/13-Web-Scraping/.ipynb_checkpoints\n",
      "\n",
      "\n",
      "The sub-folders are: \n",
      "\n",
      "\n",
      "The files are: \n",
      "\t File: 00-Guide-to-Web-Scraping-checkpoint.ipynb\n",
      "\t File: 01-Web-Scraping-Exercises-checkpoint.ipynb\n",
      "\t File: 02-Web-Scraping-Exercise-Solutions-checkpoint.ipynb\n",
      "\n",
      "\n",
      "circle done\n"
     ]
    }
   ],
   "source": [
    "# tuple unpacking for iterible placeholder\n",
    "# can look for files \n",
    "# may add in logic with if statments in names \n",
    "\n",
    "for folder, sub_folder, files in os.walk (file_path):\n",
    "    \n",
    "    # you start with the 1st tuple \"folder\"\n",
    "    print (\"\\n\")\n",
    "    print (f\"Currently looking at {folder}\")\n",
    "    print (\"\\n\")\n",
    "    \n",
    "    # 2nd tuple \"sub_folder\"\n",
    "    print (\"The sub-folders are: \")\n",
    "    for sub_fold in sub_folder:\n",
    "        print (f\"\\tSubfolder {sub_fold}\")\n",
    "    print (\"\\n\")\n",
    "    \n",
    "    # 3rd\n",
    "    print (\"The files are: \")\n",
    "    for f in files:\n",
    "        print (f\"\\t File: {f}\")\n",
    "    print (\"\\n\")\n",
    "    \n",
    "    print (\"circle done\")"
   ]
  },
  {
   "cell_type": "code",
   "execution_count": null,
   "id": "e958c354",
   "metadata": {},
   "outputs": [],
   "source": []
  }
 ],
 "metadata": {
  "kernelspec": {
   "display_name": "Python 3 (ipykernel)",
   "language": "python",
   "name": "python3"
  },
  "language_info": {
   "codemirror_mode": {
    "name": "ipython",
    "version": 3
   },
   "file_extension": ".py",
   "mimetype": "text/x-python",
   "name": "python",
   "nbconvert_exporter": "python",
   "pygments_lexer": "ipython3",
   "version": "3.9.12"
  }
 },
 "nbformat": 4,
 "nbformat_minor": 5
}
