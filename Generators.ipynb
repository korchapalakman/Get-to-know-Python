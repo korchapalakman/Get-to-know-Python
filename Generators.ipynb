{
 "cells": [
  {
   "cell_type": "markdown",
   "id": "24878a35",
   "metadata": {},
   "source": [
    "Generator function allow us to write a function that can  send back a value and then later resume to pick up where it left off\n",
    "\n",
    "Generators allow us to generate a sequence of values over time, instead of having to create a siqueence and hold it in memmnory\n",
    "\n",
    "insted of generating a giant list of data, creates data upon request"
   ]
  },
  {
   "cell_type": "markdown",
   "id": "3185cb81",
   "metadata": {},
   "source": [
    "### Example 1"
   ]
  },
  {
   "cell_type": "code",
   "execution_count": 1,
   "id": "90ab2691",
   "metadata": {},
   "outputs": [],
   "source": [
    "# create a list of qubes from 0 up to n\n",
    "\n",
    "def create_cubes(n):\n",
    "    result = []\n",
    "    for x in range(n):\n",
    "        result.append(x**3)\n",
    "    return result \n",
    "    "
   ]
  },
  {
   "cell_type": "code",
   "execution_count": 2,
   "id": "8c1da8ae",
   "metadata": {},
   "outputs": [
    {
     "data": {
      "text/plain": [
       "[0, 1, 8, 27, 64, 125, 216, 343, 512, 729]"
      ]
     },
     "execution_count": 2,
     "metadata": {},
     "output_type": "execute_result"
    }
   ],
   "source": [
    "create_cubes(10)\n",
    "\n",
    "# below we store all the values at once in a list"
   ]
  },
  {
   "cell_type": "code",
   "execution_count": 3,
   "id": "671b83d8",
   "metadata": {},
   "outputs": [
    {
     "name": "stdout",
     "output_type": "stream",
     "text": [
      "0\n",
      "1\n",
      "8\n",
      "27\n",
      "64\n",
      "125\n",
      "216\n",
      "343\n",
      "512\n",
      "729\n"
     ]
    }
   ],
   "source": [
    "# here we only need one value at a time \n",
    "# we need a previus value to formula be able to \n",
    "# switch to the next value we need\n",
    "# instead of generating a giant list in memmory\n",
    "# we yild it \n",
    "\n",
    "for x in create_cubes(10):\n",
    "    print (x)"
   ]
  },
  {
   "cell_type": "code",
   "execution_count": 9,
   "id": "59159d83",
   "metadata": {},
   "outputs": [],
   "source": [
    "def create_cubes(n):\n",
    "    \n",
    "    for x in range(n):\n",
    "        yield x**3\n",
    "        \n",
    "# now it will be way more memmory efficient   \n",
    "# we have not created an empty list to store the data \n",
    "# it will not hold the memmory \n",
    "# we yield the values as they come"
   ]
  },
  {
   "cell_type": "code",
   "execution_count": 12,
   "id": "6aacf31b",
   "metadata": {},
   "outputs": [
    {
     "data": {
      "text/plain": [
       "<generator object create_cubes at 0x7fe799f98580>"
      ]
     },
     "execution_count": 12,
     "metadata": {},
     "output_type": "execute_result"
    }
   ],
   "source": [
    "create_cubes(10)\n",
    "\n",
    "# you see we have a GENERATOR object in memmory\n",
    "# to see it we need to iterate through it "
   ]
  },
  {
   "cell_type": "code",
   "execution_count": 11,
   "id": "f1e523f3",
   "metadata": {},
   "outputs": [
    {
     "name": "stdout",
     "output_type": "stream",
     "text": [
      "0\n",
      "1\n",
      "8\n",
      "27\n",
      "64\n",
      "125\n",
      "216\n",
      "343\n",
      "512\n",
      "729\n"
     ]
    }
   ],
   "source": [
    "for x in create_cubes(10):\n",
    "    print (x)"
   ]
  },
  {
   "cell_type": "code",
   "execution_count": 13,
   "id": "4f207f74",
   "metadata": {},
   "outputs": [
    {
     "data": {
      "text/plain": [
       "[0, 1, 8, 27, 64, 125, 216, 343, 512, 729]"
      ]
     },
     "execution_count": 13,
     "metadata": {},
     "output_type": "execute_result"
    }
   ],
   "source": [
    "list(create_cubes(10))"
   ]
  },
  {
   "cell_type": "markdown",
   "id": "ca8406c6",
   "metadata": {},
   "source": [
    "### example 2"
   ]
  },
  {
   "cell_type": "code",
   "execution_count": 14,
   "id": "ce0702c5",
   "metadata": {},
   "outputs": [],
   "source": [
    "# create a fibonachi number \n",
    "\n",
    "def gen_fibon(n):\n",
    "   \n",
    "    # we have starting numbers \n",
    "    a = 1\n",
    "    b = 1\n",
    "    \n",
    "    # for i in range(n) we yield a\n",
    "    for i in range (n):\n",
    "        yield a\n",
    "        # tuple matching\n",
    "        # we recet a = b, b = a+b\n",
    "        a,b = b,a+b"
   ]
  },
  {
   "cell_type": "code",
   "execution_count": 15,
   "id": "199eacfc",
   "metadata": {},
   "outputs": [
    {
     "name": "stdout",
     "output_type": "stream",
     "text": [
      "1\n",
      "1\n",
      "2\n",
      "3\n",
      "5\n",
      "8\n",
      "13\n",
      "21\n",
      "34\n",
      "55\n"
     ]
    }
   ],
   "source": [
    "for number in gen_fibon(10):\n",
    "    print (number)"
   ]
  },
  {
   "cell_type": "code",
   "execution_count": 16,
   "id": "3e3198e4",
   "metadata": {},
   "outputs": [],
   "source": [
    "### old way of doing it was\n",
    "### we store every data in output list that loads the memmory \n",
    "### we are not yielding through them when we need it\n",
    "\n",
    "def gen_fibon(n):\n",
    "   \n",
    "    # we have starting numbers \n",
    "    a = 1\n",
    "    b = 1\n",
    "    # create a variable to store data\n",
    "    output = []\n",
    "    \n",
    "    for i in range (n):\n",
    "        output.append(a)\n",
    "        # tuple matching\n",
    "        # we recet a = b, b = a+b\n",
    "        a,b = b,a+b\n",
    "    return output"
   ]
  },
  {
   "cell_type": "code",
   "execution_count": 17,
   "id": "9023804b",
   "metadata": {},
   "outputs": [
    {
     "name": "stdout",
     "output_type": "stream",
     "text": [
      "1\n",
      "1\n",
      "2\n",
      "3\n",
      "5\n",
      "8\n",
      "13\n",
      "21\n",
      "34\n",
      "55\n"
     ]
    }
   ],
   "source": [
    "for number in gen_fibon(10):\n",
    "    print (number)"
   ]
  },
  {
   "cell_type": "markdown",
   "id": "46675df7",
   "metadata": {},
   "source": [
    "### NEXT FUNC / ITER FUNCTION"
   ]
  },
  {
   "cell_type": "code",
   "execution_count": 18,
   "id": "fcf6b59b",
   "metadata": {},
   "outputs": [],
   "source": [
    "# simple generator \n",
    "\n",
    "def simple_gen():\n",
    "    for x in range (3):\n",
    "        yield x"
   ]
  },
  {
   "cell_type": "code",
   "execution_count": 19,
   "id": "071d0e16",
   "metadata": {},
   "outputs": [
    {
     "name": "stdout",
     "output_type": "stream",
     "text": [
      "0\n",
      "1\n",
      "2\n"
     ]
    }
   ],
   "source": [
    "for number in simple_gen():\n",
    "    print (number)"
   ]
  },
  {
   "cell_type": "code",
   "execution_count": 26,
   "id": "d18889f9",
   "metadata": {},
   "outputs": [],
   "source": [
    "g = simple_gen()"
   ]
  },
  {
   "cell_type": "code",
   "execution_count": 27,
   "id": "65318330",
   "metadata": {},
   "outputs": [
    {
     "data": {
      "text/plain": [
       "<generator object simple_gen at 0x7fe788af3eb0>"
      ]
     },
     "execution_count": 27,
     "metadata": {},
     "output_type": "execute_result"
    }
   ],
   "source": [
    "g\n",
    "# generator object"
   ]
  },
  {
   "cell_type": "code",
   "execution_count": 28,
   "id": "730f2201",
   "metadata": {},
   "outputs": [
    {
     "name": "stdout",
     "output_type": "stream",
     "text": [
      "0\n"
     ]
    }
   ],
   "source": [
    "print (next(g))"
   ]
  },
  {
   "cell_type": "code",
   "execution_count": 29,
   "id": "a9046dcf",
   "metadata": {},
   "outputs": [
    {
     "name": "stdout",
     "output_type": "stream",
     "text": [
      "1\n"
     ]
    }
   ],
   "source": [
    "print (next(g))"
   ]
  },
  {
   "cell_type": "code",
   "execution_count": 30,
   "id": "03a5b5fa",
   "metadata": {},
   "outputs": [
    {
     "name": "stdout",
     "output_type": "stream",
     "text": [
      "2\n"
     ]
    }
   ],
   "source": [
    "print (next(g))"
   ]
  },
  {
   "cell_type": "code",
   "execution_count": 31,
   "id": "bb4dc98d",
   "metadata": {},
   "outputs": [
    {
     "ename": "StopIteration",
     "evalue": "",
     "output_type": "error",
     "traceback": [
      "\u001b[0;31m---------------------------------------------------------------------------\u001b[0m",
      "\u001b[0;31mStopIteration\u001b[0m                             Traceback (most recent call last)",
      "Input \u001b[0;32mIn [31]\u001b[0m, in \u001b[0;36m<cell line: 1>\u001b[0;34m()\u001b[0m\n\u001b[0;32m----> 1\u001b[0m \u001b[38;5;28mprint\u001b[39m (\u001b[38;5;28;43mnext\u001b[39;49m\u001b[43m(\u001b[49m\u001b[43mg\u001b[49m\u001b[43m)\u001b[49m)\n",
      "\u001b[0;31mStopIteration\u001b[0m: "
     ]
    }
   ],
   "source": [
    "print (next(g))\n",
    "\n",
    "# no value is above the privius, we will receive an error\n",
    "# we dont get this error in a for loop, \n",
    "# because it stops at the last value"
   ]
  },
  {
   "cell_type": "code",
   "execution_count": 32,
   "id": "0b80d899",
   "metadata": {},
   "outputs": [],
   "source": [
    "# basically that is what the generator does \n",
    "# it remembers what the prevous number was \n",
    "# and returns a new number by the formula it is calculating them\n",
    "# not holding everything in mammory"
   ]
  },
  {
   "cell_type": "code",
   "execution_count": 33,
   "id": "bd13b208",
   "metadata": {},
   "outputs": [],
   "source": [
    "s = \"hello\""
   ]
  },
  {
   "cell_type": "code",
   "execution_count": 34,
   "id": "25799817",
   "metadata": {},
   "outputs": [
    {
     "name": "stdout",
     "output_type": "stream",
     "text": [
      "h\n",
      "e\n",
      "l\n",
      "l\n",
      "o\n"
     ]
    }
   ],
   "source": [
    "for letter in s:\n",
    "    print (letter)"
   ]
  },
  {
   "cell_type": "code",
   "execution_count": 38,
   "id": "b5b56874",
   "metadata": {
    "scrolled": true
   },
   "outputs": [
    {
     "ename": "TypeError",
     "evalue": "'str' object is not an iterator",
     "output_type": "error",
     "traceback": [
      "\u001b[0;31m---------------------------------------------------------------------------\u001b[0m",
      "\u001b[0;31mTypeError\u001b[0m                                 Traceback (most recent call last)",
      "Input \u001b[0;32mIn [38]\u001b[0m, in \u001b[0;36m<cell line: 1>\u001b[0;34m()\u001b[0m\n\u001b[0;32m----> 1\u001b[0m \u001b[38;5;28;43mnext\u001b[39;49m\u001b[43m(\u001b[49m\u001b[43ms\u001b[49m\u001b[43m)\u001b[49m\n",
      "\u001b[0;31mTypeError\u001b[0m: 'str' object is not an iterator"
     ]
    }
   ],
   "source": [
    "next(s)\n",
    "\n",
    "# unable to generate through strings directry\n",
    "# to turn the string str in generator we need \"iter()\""
   ]
  },
  {
   "cell_type": "code",
   "execution_count": 39,
   "id": "97faa688",
   "metadata": {},
   "outputs": [],
   "source": [
    "s_iter = iter(s)"
   ]
  },
  {
   "cell_type": "code",
   "execution_count": 40,
   "id": "8506750a",
   "metadata": {},
   "outputs": [
    {
     "data": {
      "text/plain": [
       "'h'"
      ]
     },
     "execution_count": 40,
     "metadata": {},
     "output_type": "execute_result"
    }
   ],
   "source": [
    "next(s_iter)"
   ]
  },
  {
   "cell_type": "code",
   "execution_count": 41,
   "id": "766cb640",
   "metadata": {},
   "outputs": [
    {
     "data": {
      "text/plain": [
       "'e'"
      ]
     },
     "execution_count": 41,
     "metadata": {},
     "output_type": "execute_result"
    }
   ],
   "source": [
    "next(s_iter)"
   ]
  },
  {
   "cell_type": "code",
   "execution_count": 42,
   "id": "ef3432d3",
   "metadata": {},
   "outputs": [
    {
     "data": {
      "text/plain": [
       "'l'"
      ]
     },
     "execution_count": 42,
     "metadata": {},
     "output_type": "execute_result"
    }
   ],
   "source": [
    "next(s_iter)"
   ]
  },
  {
   "cell_type": "code",
   "execution_count": 43,
   "id": "37c8ab80",
   "metadata": {},
   "outputs": [
    {
     "data": {
      "text/plain": [
       "'l'"
      ]
     },
     "execution_count": 43,
     "metadata": {},
     "output_type": "execute_result"
    }
   ],
   "source": [
    "next(s_iter)"
   ]
  }
 ],
 "metadata": {
  "kernelspec": {
   "display_name": "Python 3 (ipykernel)",
   "language": "python",
   "name": "python3"
  },
  "language_info": {
   "codemirror_mode": {
    "name": "ipython",
    "version": 3
   },
   "file_extension": ".py",
   "mimetype": "text/x-python",
   "name": "python",
   "nbconvert_exporter": "python",
   "pygments_lexer": "ipython3",
   "version": "3.9.12"
  }
 },
 "nbformat": 4,
 "nbformat_minor": 5
}
