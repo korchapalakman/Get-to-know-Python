{
 "cells": [
  {
   "cell_type": "code",
   "execution_count": 1,
   "id": "82f5432e",
   "metadata": {},
   "outputs": [],
   "source": [
    "# methods below need full administration controll"
   ]
  },
  {
   "cell_type": "markdown",
   "id": "c865946c",
   "metadata": {},
   "source": [
    "# Sending Emails\n",
    "\n",
    "Steps:\n",
    "\n",
    "1-connect to email server\n",
    "\n",
    "2 - confirm connection \n",
    "\n",
    "3 - set a protocol\n",
    "\n",
    "4 - loggin on \n",
    "\n",
    "5 - sent a massage\n",
    "\n",
    "Use SMTP method\n",
    "\n",
    "SMTP - simple mail trasfer protocol, each major email provider has SMTP server"
   ]
  },
  {
   "cell_type": "code",
   "execution_count": 2,
   "id": "489906c1",
   "metadata": {},
   "outputs": [],
   "source": [
    "import smtplib"
   ]
  },
  {
   "cell_type": "code",
   "execution_count": 4,
   "id": "68a923a5",
   "metadata": {},
   "outputs": [],
   "source": [
    "# we will use gmail as our service\n",
    "\n",
    "# port number 587 not work use 465, if not work dont pass anything\n",
    "smtp_object = smtplib.SMTP(\"smtp.gmail.com\", 587)\n",
    "\n",
    "# 587 is tls encription \n",
    "# basicly only recepiet may read this file"
   ]
  },
  {
   "cell_type": "code",
   "execution_count": 5,
   "id": "5627ed1e",
   "metadata": {},
   "outputs": [
    {
     "data": {
      "text/plain": [
       "(250,\n",
       " b'smtp.gmail.com at your service, [2601:40d:8101:d840:a5cc:41f5:2f6a:a8b4]\\nSIZE 35882577\\n8BITMIME\\nSTARTTLS\\nENHANCEDSTATUSCODES\\nPIPELINING\\nCHUNKING\\nSMTPUTF8')"
      ]
     },
     "execution_count": 5,
     "metadata": {},
     "output_type": "execute_result"
    }
   ],
   "source": [
    "\n",
    "# this method greets the server \n",
    "# and establishes the connection\n",
    "\n",
    "smtp_object.ehlo()"
   ]
  },
  {
   "cell_type": "code",
   "execution_count": 6,
   "id": "8866ae81",
   "metadata": {},
   "outputs": [
    {
     "data": {
      "text/plain": [
       "(220, b'2.0.0 Ready to start TLS')"
      ]
     },
     "execution_count": 6,
     "metadata": {},
     "output_type": "execute_result"
    }
   ],
   "source": [
    "# we need to enamblt this encritpion\n",
    "\n",
    "smtp_object.starttls()"
   ]
  },
  {
   "cell_type": "code",
   "execution_count": 7,
   "id": "99505f37",
   "metadata": {},
   "outputs": [],
   "source": [
    "# set up an email and a password\n",
    "# use input function with getpass libriarry \n",
    "# to hide the password\n",
    "\n",
    "import getpass"
   ]
  },
  {
   "cell_type": "code",
   "execution_count": 8,
   "id": "dfcd2506",
   "metadata": {},
   "outputs": [
    {
     "name": "stdout",
     "output_type": "stream",
     "text": [
      "password please: ········\n"
     ]
    }
   ],
   "source": [
    "# with works like input but hids the actual result\n",
    "# a secure way of typing a password \n",
    "# no one will see \n",
    "\n",
    "password = getpass.getpass(\"password please: \")"
   ]
  },
  {
   "cell_type": "code",
   "execution_count": 9,
   "id": "9756f1e9",
   "metadata": {},
   "outputs": [],
   "source": [
    "\n",
    "# if you stay long enought and not sent any emails \n",
    "# may be disconnected\n",
    "# need number for it to log in my email\n",
    "\n",
    "#email = getpass.getpass(\"email: \")\n",
    "#password = getpass.getpass(\"password: \")\n",
    "#smtp_object.login(email, password)"
   ]
  },
  {
   "cell_type": "code",
   "execution_count": 11,
   "id": "a488a565",
   "metadata": {},
   "outputs": [],
   "source": [
    "# to sent an email\n",
    "\n",
    "# need an email from wich the information comes\n",
    "#from_address = email\n",
    "\n",
    "# need a receiving email\n",
    "#to_address = #type the mail\n",
    "\n",
    "# subjectline \n",
    "#subject = input(\"enter a subject line: \")\n",
    "\n",
    "# message itself\n",
    "#message = input(\"enter a massage: \")\n",
    "\n",
    "# the structure of the massage\n",
    "#msg = \"Subject: \" +subject+\"\\n\"+message\n",
    "\n",
    "# sending the massage\n",
    "#smtp_object.sendmail(from_adress, to_address, msg)\n",
    "\n",
    "\n",
    "# if you get an empty dictionarry \n",
    "# the massage is sent succsessfuly "
   ]
  },
  {
   "cell_type": "code",
   "execution_count": 13,
   "id": "6e89fc38",
   "metadata": {},
   "outputs": [],
   "source": [
    "# quit the connection \n",
    "\n",
    "#smtp_object.quit()"
   ]
  },
  {
   "cell_type": "markdown",
   "id": "c2427137",
   "metadata": {},
   "source": [
    "# Receiving Emails"
   ]
  },
  {
   "cell_type": "code",
   "execution_count": null,
   "id": "1d00475c",
   "metadata": {},
   "outputs": [],
   "source": []
  }
 ],
 "metadata": {
  "kernelspec": {
   "display_name": "Python 3 (ipykernel)",
   "language": "python",
   "name": "python3"
  },
  "language_info": {
   "codemirror_mode": {
    "name": "ipython",
    "version": 3
   },
   "file_extension": ".py",
   "mimetype": "text/x-python",
   "name": "python",
   "nbconvert_exporter": "python",
   "pygments_lexer": "ipython3",
   "version": "3.9.12"
  }
 },
 "nbformat": 4,
 "nbformat_minor": 5
}
