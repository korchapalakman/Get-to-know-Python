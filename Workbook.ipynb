{
 "cells": [
  {
   "cell_type": "code",
   "execution_count": 17,
   "id": "3d1a8b6b",
   "metadata": {},
   "outputs": [],
   "source": [
    "def myfunc(*args):\n",
    "    \n",
    "    even_args = []\n",
    "    \n",
    "    for x in args:\n",
    "        if x%2==0:\n",
    "            even_args.append(x)\n",
    "    return even_args"
   ]
  },
  {
   "cell_type": "code",
   "execution_count": 18,
   "id": "8205d2c6",
   "metadata": {},
   "outputs": [
    {
     "data": {
      "text/plain": [
       "[2, 4, 6, 8]"
      ]
     },
     "execution_count": 18,
     "metadata": {},
     "output_type": "execute_result"
    }
   ],
   "source": [
    "myfunc(1,2,4,6,7,8)"
   ]
  },
  {
   "cell_type": "code",
   "execution_count": 11,
   "id": "fa666170",
   "metadata": {},
   "outputs": [],
   "source": [
    "def myfunc(*args):\n",
    "    print (args)"
   ]
  },
  {
   "cell_type": "code",
   "execution_count": 12,
   "id": "b981e415",
   "metadata": {},
   "outputs": [
    {
     "name": "stdout",
     "output_type": "stream",
     "text": [
      "(2, 3, 4, 6)\n"
     ]
    }
   ],
   "source": [
    "myfunc(2,3,4,6)"
   ]
  },
  {
   "cell_type": "code",
   "execution_count": 13,
   "id": "d6241045",
   "metadata": {},
   "outputs": [],
   "source": [
    "def myass(*args):\n",
    "    \n",
    "    emp = []\n",
    "    \n",
    "    for x in args:\n",
    "        if x%2==0:\n",
    "            emp.append(x)\n",
    "    return emp"
   ]
  },
  {
   "cell_type": "code",
   "execution_count": 14,
   "id": "8b00a360",
   "metadata": {},
   "outputs": [
    {
     "data": {
      "text/plain": [
       "[2]"
      ]
     },
     "execution_count": 14,
     "metadata": {},
     "output_type": "execute_result"
    }
   ],
   "source": [
    "myass(2,3,5)"
   ]
  },
  {
   "cell_type": "code",
   "execution_count": 65,
   "id": "d9da6827",
   "metadata": {},
   "outputs": [],
   "source": [
    "name = \"vazgen\""
   ]
  },
  {
   "cell_type": "code",
   "execution_count": 80,
   "id": "07d2a6c6",
   "metadata": {},
   "outputs": [],
   "source": [
    "def mun (string):\n",
    "    emp_list = []\n",
    "    reverse_st = []\n",
    "\n",
    "    for x in string: \n",
    "        emp_list.append(x)\n",
    "        if len(emp_list)%2==0:\n",
    "            reverse_st.append(x.upper())\n",
    "        if len(emp_list)%2!=0:\n",
    "            reverse_st.append(x.lower())\n",
    "    return (\"\".join(reverse_st))\n",
    "\n",
    "\n",
    "\n"
   ]
  },
  {
   "cell_type": "code",
   "execution_count": 94,
   "id": "fc49e43a",
   "metadata": {},
   "outputs": [
    {
     "data": {
      "text/plain": [
       "'lErA'"
      ]
     },
     "execution_count": 94,
     "metadata": {},
     "output_type": "execute_result"
    }
   ],
   "source": [
    "mun (\"lera\")"
   ]
  },
  {
   "cell_type": "code",
   "execution_count": 32,
   "id": "42893dbc",
   "metadata": {},
   "outputs": [
    {
     "name": "stdout",
     "output_type": "stream",
     "text": [
      "['o']\n",
      "['o', 'L']\n",
      "['o', 'L', 'i']\n",
      "['o', 'L', 'i', 'V']\n",
      "['o', 'L', 'i', 'V', 'i']\n",
      "['o', 'L', 'i', 'V', 'i', 'A']\n"
     ]
    }
   ],
   "source": [
    "name = \"Olivia\"\n",
    "emp = []\n",
    "for x in range(len(name)):\n",
    "    if x%2!=0:\n",
    "        emp.append(name[x].upper())\n",
    "    else:\n",
    "        emp.append(name[x].lower())\n",
    "    print (emp)"
   ]
  },
  {
   "cell_type": "code",
   "execution_count": 7,
   "id": "89bdfca5",
   "metadata": {},
   "outputs": [],
   "source": [
    "def reverse_string(name):  \n",
    "    str1 = \"\"    \n",
    "    for x in name:  \n",
    "        str1 =x +   str1\n",
    "        print(str1)\n",
    "    return str1    "
   ]
  },
  {
   "cell_type": "code",
   "execution_count": 8,
   "id": "4b196b4e",
   "metadata": {},
   "outputs": [
    {
     "name": "stdout",
     "output_type": "stream",
     "text": [
      "V\n",
      "aV\n",
      "zaV\n",
      "gzaV\n",
      "egzaV\n",
      "negzaV\n"
     ]
    },
    {
     "data": {
      "text/plain": [
       "'negzaV'"
      ]
     },
     "execution_count": 8,
     "metadata": {},
     "output_type": "execute_result"
    }
   ],
   "source": [
    "reverse_string (\"Vazgen\")"
   ]
  },
  {
   "cell_type": "code",
   "execution_count": 11,
   "id": "dde803dc",
   "metadata": {},
   "outputs": [
    {
     "ename": "SyntaxError",
     "evalue": "invalid syntax (3352891265.py, line 1)",
     "output_type": "error",
     "traceback": [
      "\u001b[0;36m  Input \u001b[0;32mIn [11]\u001b[0;36m\u001b[0m\n\u001b[0;31m    [20:30:]\u001b[0m\n\u001b[0m       ^\u001b[0m\n\u001b[0;31mSyntaxError\u001b[0m\u001b[0;31m:\u001b[0m invalid syntax\n"
     ]
    }
   ],
   "source": [
    "[20:30:]"
   ]
  },
  {
   "cell_type": "code",
   "execution_count": 12,
   "id": "4516c6b5",
   "metadata": {},
   "outputs": [
    {
     "data": {
      "text/plain": [
       "'Va'"
      ]
     },
     "execution_count": 12,
     "metadata": {},
     "output_type": "execute_result"
    }
   ],
   "source": [
    "name = \"Vazgen\"\n",
    "name[:2]"
   ]
  },
  {
   "cell_type": "code",
   "execution_count": 16,
   "id": "6b61bfde",
   "metadata": {},
   "outputs": [],
   "source": [
    "num = [1,6,3,4,6,6]"
   ]
  },
  {
   "cell_type": "code",
   "execution_count": 17,
   "id": "15883fcc",
   "metadata": {},
   "outputs": [
    {
     "data": {
      "text/plain": [
       "6"
      ]
     },
     "execution_count": 17,
     "metadata": {},
     "output_type": "execute_result"
    }
   ],
   "source": [
    "len(num)"
   ]
  },
  {
   "cell_type": "code",
   "execution_count": 19,
   "id": "c8af1539",
   "metadata": {},
   "outputs": [],
   "source": [
    "def fu (num):\n",
    "    return len (num)"
   ]
  },
  {
   "cell_type": "code",
   "execution_count": 31,
   "id": "1b08457a",
   "metadata": {},
   "outputs": [],
   "source": [
    "nums = [1,6,3,4,6,6]"
   ]
  },
  {
   "cell_type": "code",
   "execution_count": 35,
   "id": "1bf2a7fa",
   "metadata": {},
   "outputs": [
    {
     "name": "stdout",
     "output_type": "stream",
     "text": [
      "not enugh\n",
      "not enugh\n",
      "not enugh\n",
      "not enugh\n",
      "good\n"
     ]
    }
   ],
   "source": [
    "for x in range(len(nums)-1):\n",
    "    if nums[x] == nums [x+1]:\n",
    "        print (\"good\")\n",
    "    else:\n",
    "        print (\"not enugh\")\n",
    "        "
   ]
  },
  {
   "cell_type": "code",
   "execution_count": 45,
   "id": "7fdf89bf",
   "metadata": {},
   "outputs": [],
   "source": [
    "text = \"abc\""
   ]
  },
  {
   "cell_type": "code",
   "execution_count": 47,
   "id": "9bfc3f8e",
   "metadata": {},
   "outputs": [
    {
     "name": "stdout",
     "output_type": "stream",
     "text": [
      "['aaa', 'bbb', 'ccc']\n"
     ]
    }
   ],
   "source": [
    "empt = []\n",
    "for x in range(len(text)):\n",
    "    empt.append(text[x]*3)\n",
    "print (empt)"
   ]
  },
  {
   "cell_type": "code",
   "execution_count": 49,
   "id": "58bff162",
   "metadata": {},
   "outputs": [
    {
     "name": "stdout",
     "output_type": "stream",
     "text": [
      "aaa\n",
      "aaabbb\n",
      "aaabbbccc\n"
     ]
    }
   ],
   "source": [
    "text = \"abc\"\n",
    "emp = ''\n",
    "for x in text:\n",
    "    emp = emp + x*3\n",
    "    print (emp)"
   ]
  },
  {
   "cell_type": "code",
   "execution_count": null,
   "id": "6a4bf1ea",
   "metadata": {},
   "outputs": [],
   "source": [
    "def summer_69(arr):\n",
    "    emp = []\n",
    "    for x in range(len(arr)):\n",
    "        if arr[x]==6:\n",
    "            while arr[x] == 9:\n",
    "                emp.append(arr[x])\n",
    "                print (emp)\n",
    "    return sum(arr)- sum((emp))"
   ]
  },
  {
   "cell_type": "code",
   "execution_count": 50,
   "id": "da0c0e88",
   "metadata": {},
   "outputs": [],
   "source": [
    "arr = 3,7,8,6,8,9"
   ]
  },
  {
   "cell_type": "code",
   "execution_count": 57,
   "id": "a71e9051",
   "metadata": {},
   "outputs": [],
   "source": [
    "emp=[]\n",
    "for x in range(len(arr)):\n",
    "    if arr[x]==6:\n",
    "        while arr[x] == 9:\n",
    "            emp = emp+arr[x]\n",
    "            print (emp)"
   ]
  },
  {
   "cell_type": "code",
   "execution_count": 56,
   "id": "c1b151c1",
   "metadata": {},
   "outputs": [
    {
     "data": {
      "text/plain": [
       "range(0, 6)"
      ]
     },
     "execution_count": 56,
     "metadata": {},
     "output_type": "execute_result"
    }
   ],
   "source": [
    "range(len(arr))"
   ]
  },
  {
   "cell_type": "code",
   "execution_count": 2,
   "id": "a6065e6b",
   "metadata": {},
   "outputs": [],
   "source": [
    "leg = 1,2,3,4,5,6,7,8"
   ]
  },
  {
   "cell_type": "code",
   "execution_count": 8,
   "id": "4c8d4175",
   "metadata": {},
   "outputs": [
    {
     "name": "stdout",
     "output_type": "stream",
     "text": [
      "[]\n"
     ]
    }
   ],
   "source": [
    "   "
   ]
  },
  {
   "cell_type": "code",
   "execution_count": 16,
   "id": "518494c4",
   "metadata": {},
   "outputs": [],
   "source": [
    "num = list(range (3, 100, 2))"
   ]
  },
  {
   "cell_type": "code",
   "execution_count": 29,
   "id": "9d2602bc",
   "metadata": {},
   "outputs": [],
   "source": [
    "st= 'Hello Mr. Rogers, how are you this fine Tuesday?'\n"
   ]
  },
  {
   "cell_type": "code",
   "execution_count": null,
   "id": "e5fac196",
   "metadata": {},
   "outputs": [],
   "source": []
  },
  {
   "cell_type": "code",
   "execution_count": 41,
   "id": "3333e983",
   "metadata": {},
   "outputs": [
    {
     "name": "stdout",
     "output_type": "stream",
     "text": [
      "0\n"
     ]
    }
   ],
   "source": [
    "\n",
    "for char in st: \n",
    "    up = 0\n",
    "    low = 0\n",
    "    if char.isupper():\n",
    "        up = up+1\n",
    "    elif char.islower():\n",
    "        low = low+1\n",
    "    else:\n",
    "        pass\n"
   ]
  },
  {
   "cell_type": "code",
   "execution_count": 45,
   "id": "13a04179",
   "metadata": {},
   "outputs": [],
   "source": [
    "lst = [1,1,1,1,2,2,3,3,3,3,4,5]"
   ]
  },
  {
   "cell_type": "code",
   "execution_count": 43,
   "id": "a2368305",
   "metadata": {},
   "outputs": [
    {
     "data": {
      "text/plain": [
       "{1, 2, 3, 4, 5}"
      ]
     },
     "execution_count": 43,
     "metadata": {},
     "output_type": "execute_result"
    }
   ],
   "source": [
    "set(lista)"
   ]
  },
  {
   "cell_type": "code",
   "execution_count": 46,
   "id": "de451d9b",
   "metadata": {},
   "outputs": [],
   "source": [
    "def unique_list(lst):\n",
    "    # Also possible to use list(set())\n",
    "    x = []\n",
    "    for a in lst:\n",
    "        if a not in x:\n",
    "            x.append(a)\n",
    "    return x"
   ]
  },
  {
   "cell_type": "code",
   "execution_count": 47,
   "id": "cd9a7382",
   "metadata": {},
   "outputs": [],
   "source": [
    "def unique_list(lst):\n",
    "    uniq = []\n",
    "    for x in set(lst):\n",
    "        uniq.append(x)\n",
    "    return uniq"
   ]
  },
  {
   "cell_type": "code",
   "execution_count": 49,
   "id": "4a5b8dcc",
   "metadata": {},
   "outputs": [],
   "source": [
    "import string\n",
    "alphabet=string.ascii_lowercase\n",
    "alpha = set(alphabet)\n",
    "    "
   ]
  },
  {
   "cell_type": "code",
   "execution_count": 50,
   "id": "08e22bd0",
   "metadata": {},
   "outputs": [
    {
     "data": {
      "text/plain": [
       "{'a',\n",
       " 'b',\n",
       " 'c',\n",
       " 'd',\n",
       " 'e',\n",
       " 'f',\n",
       " 'g',\n",
       " 'h',\n",
       " 'i',\n",
       " 'j',\n",
       " 'k',\n",
       " 'l',\n",
       " 'm',\n",
       " 'n',\n",
       " 'o',\n",
       " 'p',\n",
       " 'q',\n",
       " 'r',\n",
       " 's',\n",
       " 't',\n",
       " 'u',\n",
       " 'v',\n",
       " 'w',\n",
       " 'x',\n",
       " 'y',\n",
       " 'z'}"
      ]
     },
     "execution_count": 50,
     "metadata": {},
     "output_type": "execute_result"
    }
   ],
   "source": [
    "alpha"
   ]
  },
  {
   "cell_type": "code",
   "execution_count": 4,
   "id": "1a851b63",
   "metadata": {},
   "outputs": [],
   "source": [
    "input_range = list(range(1,10))"
   ]
  },
  {
   "cell_type": "code",
   "execution_count": 5,
   "id": "0246e4f4",
   "metadata": {},
   "outputs": [
    {
     "data": {
      "text/plain": [
       "[1, 2, 3, 4, 5, 6, 7, 8, 9]"
      ]
     },
     "execution_count": 5,
     "metadata": {},
     "output_type": "execute_result"
    }
   ],
   "source": [
    "input_range"
   ]
  },
  {
   "cell_type": "code",
   "execution_count": 6,
   "id": "d5294896",
   "metadata": {},
   "outputs": [
    {
     "data": {
      "text/plain": [
       "'[1, 2, 3, 4, 5, 6, 7, 8, 9]'"
      ]
     },
     "execution_count": 6,
     "metadata": {},
     "output_type": "execute_result"
    }
   ],
   "source": [
    "str(input_range)"
   ]
  },
  {
   "cell_type": "code",
   "execution_count": 8,
   "id": "33ce454e",
   "metadata": {},
   "outputs": [
    {
     "ename": "TypeError",
     "evalue": "str() argument 2 must be str, not int",
     "output_type": "error",
     "traceback": [
      "\u001b[0;31m---------------------------------------------------------------------------\u001b[0m",
      "\u001b[0;31mTypeError\u001b[0m                                 Traceback (most recent call last)",
      "Input \u001b[0;32mIn [8]\u001b[0m, in \u001b[0;36m<cell line: 1>\u001b[0;34m()\u001b[0m\n\u001b[0;32m----> 1\u001b[0m \u001b[38;5;28mrange\u001b[39m (\u001b[38;5;28;43mstr\u001b[39;49m\u001b[43m(\u001b[49m\u001b[38;5;241;43m1\u001b[39;49m\u001b[43m,\u001b[49m\u001b[38;5;241;43m10\u001b[39;49m\u001b[43m)\u001b[49m)\n",
      "\u001b[0;31mTypeError\u001b[0m: str() argument 2 must be str, not int"
     ]
    }
   ],
   "source": [
    "range (str(1,10))"
   ]
  },
  {
   "cell_type": "code",
   "execution_count": 15,
   "id": "e51ebdf1",
   "metadata": {},
   "outputs": [],
   "source": [
    "import random"
   ]
  },
  {
   "cell_type": "code",
   "execution_count": 19,
   "id": "16335f4f",
   "metadata": {},
   "outputs": [
    {
     "data": {
      "text/plain": [
       "False"
      ]
     },
     "execution_count": 19,
     "metadata": {},
     "output_type": "execute_result"
    }
   ],
   "source": [
    "\"\"==\" \""
   ]
  },
  {
   "cell_type": "code",
   "execution_count": 2,
   "id": "dab517a8",
   "metadata": {},
   "outputs": [],
   "source": [
    "x= list(range(1,10))"
   ]
  },
  {
   "cell_type": "code",
   "execution_count": 4,
   "id": "62e9fef2",
   "metadata": {},
   "outputs": [
    {
     "data": {
      "text/plain": [
       "int"
      ]
     },
     "execution_count": 4,
     "metadata": {},
     "output_type": "execute_result"
    }
   ],
   "source": [
    "type(x[1])"
   ]
  },
  {
   "cell_type": "code",
   "execution_count": null,
   "id": "f1394e4d",
   "metadata": {},
   "outputs": [],
   "source": []
  }
 ],
 "metadata": {
  "kernelspec": {
   "display_name": "Python 3 (ipykernel)",
   "language": "python",
   "name": "python3"
  },
  "language_info": {
   "codemirror_mode": {
    "name": "ipython",
    "version": 3
   },
   "file_extension": ".py",
   "mimetype": "text/x-python",
   "name": "python",
   "nbconvert_exporter": "python",
   "pygments_lexer": "ipython3",
   "version": "3.9.12"
  }
 },
 "nbformat": 4,
 "nbformat_minor": 5
}
