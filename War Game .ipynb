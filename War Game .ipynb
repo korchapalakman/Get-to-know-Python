{
 "cells": [
  {
   "cell_type": "markdown",
   "id": "d9011a7d",
   "metadata": {},
   "source": [
    "# WAR GAME"
   ]
  },
  {
   "cell_type": "markdown",
   "id": "795b1fd2",
   "metadata": {},
   "source": [
    "## Create a Class Card"
   ]
  },
  {
   "cell_type": "code",
   "execution_count": 1,
   "id": "a7b65d97",
   "metadata": {},
   "outputs": [],
   "source": [
    "# Suit , Rank , Value "
   ]
  },
  {
   "cell_type": "code",
   "execution_count": 2,
   "id": "906c3206",
   "metadata": {},
   "outputs": [],
   "source": [
    "# Global variable value \n",
    "\n",
    "import random \n",
    "\n",
    "suits = ('Hearts', 'Diamonds', 'Spades', 'Clubs')\n",
    "ranks = ('Two', 'Three', 'Four', 'Five', 'Six', 'Seven', 'Eight', 'Nine', 'Ten', 'Jack', 'Queen', 'King', 'Ace')\n",
    "values = {'Two':2, 'Three':3, 'Four':4, 'Five':5, 'Six':6, 'Seven':7, 'Eight':8, \n",
    "            'Nine':9, 'Ten':10, 'Jack':11, 'Queen':12, 'King':13, 'Ace':14}"
   ]
  },
  {
   "cell_type": "code",
   "execution_count": 3,
   "id": "8540b65b",
   "metadata": {},
   "outputs": [],
   "source": [
    "class Card():\n",
    "    \n",
    "    # attributes\n",
    "    def __init__(self, suit, rank):\n",
    "        self.suit = suit \n",
    "        self.rank = rank\n",
    "        self.value = values [rank]\n",
    "        \n",
    "    # stirng method for printitng \n",
    "    def __str__(self):\n",
    "        return self.rank + \" of \" + self.suit\n",
    "        "
   ]
  },
  {
   "cell_type": "code",
   "execution_count": 4,
   "id": "bf77905a",
   "metadata": {},
   "outputs": [],
   "source": [
    "# create an instance of that class\n",
    "\n",
    "two_hearts = Card(\"Hearts\", \"Two\")"
   ]
  },
  {
   "cell_type": "code",
   "execution_count": 5,
   "id": "75c241c4",
   "metadata": {},
   "outputs": [
    {
     "name": "stdout",
     "output_type": "stream",
     "text": [
      "Two of Hearts\n"
     ]
    }
   ],
   "source": [
    "# we are able to print values due to string method in code\n",
    "\n",
    "print (two_hearts)"
   ]
  },
  {
   "cell_type": "code",
   "execution_count": 6,
   "id": "e3393d26",
   "metadata": {},
   "outputs": [
    {
     "data": {
      "text/plain": [
       "'Hearts'"
      ]
     },
     "execution_count": 6,
     "metadata": {},
     "output_type": "execute_result"
    }
   ],
   "source": [
    "two_hearts.suit"
   ]
  },
  {
   "cell_type": "code",
   "execution_count": 7,
   "id": "bdc35a22",
   "metadata": {},
   "outputs": [
    {
     "data": {
      "text/plain": [
       "'Two'"
      ]
     },
     "execution_count": 7,
     "metadata": {},
     "output_type": "execute_result"
    }
   ],
   "source": [
    "# we have to translate \"two\" into intager two for compatison\n",
    "\n",
    "two_hearts.rank"
   ]
  },
  {
   "cell_type": "markdown",
   "id": "b9afd343",
   "metadata": {},
   "source": [
    "to do that we have to create a dictionary of values\n",
    "\n",
    "values = {'Two':2, 'Three':3, 'Four':4, 'Five':5, 'Six':6, 'Seven':7, 'Eight':8, \n",
    "            'Nine':9, 'Ten':10, 'Jack':11, 'Queen':12, 'King':13, 'Ace':14}"
   ]
  },
  {
   "cell_type": "code",
   "execution_count": 8,
   "id": "949fa06c",
   "metadata": {},
   "outputs": [
    {
     "data": {
      "text/plain": [
       "2"
      ]
     },
     "execution_count": 8,
     "metadata": {},
     "output_type": "execute_result"
    }
   ],
   "source": [
    "# now if we look for rank Two the dictionray will return a corresponding value\n",
    "# suppose to use to do that at a global level in a beggining \n",
    "\n",
    "\n",
    "values [two_hearts.rank]"
   ]
  },
  {
   "cell_type": "code",
   "execution_count": 9,
   "id": "4f57ddf0",
   "metadata": {},
   "outputs": [],
   "source": [
    "three_of_clubs = Card(\"Clubs\", \"Three\")"
   ]
  },
  {
   "cell_type": "code",
   "execution_count": 10,
   "id": "3207d780",
   "metadata": {},
   "outputs": [
    {
     "data": {
      "text/plain": [
       "'Three'"
      ]
     },
     "execution_count": 10,
     "metadata": {},
     "output_type": "execute_result"
    }
   ],
   "source": [
    "three_of_clubs.rank"
   ]
  },
  {
   "cell_type": "code",
   "execution_count": 11,
   "id": "5b86c1bf",
   "metadata": {},
   "outputs": [
    {
     "data": {
      "text/plain": [
       "'Clubs'"
      ]
     },
     "execution_count": 11,
     "metadata": {},
     "output_type": "execute_result"
    }
   ],
   "source": [
    "three_of_clubs.suit"
   ]
  },
  {
   "cell_type": "code",
   "execution_count": 12,
   "id": "bf2cfe3d",
   "metadata": {},
   "outputs": [
    {
     "data": {
      "text/plain": [
       "3"
      ]
     },
     "execution_count": 12,
     "metadata": {},
     "output_type": "execute_result"
    }
   ],
   "source": [
    "three_of_clubs.value"
   ]
  },
  {
   "cell_type": "code",
   "execution_count": 13,
   "id": "19d4681e",
   "metadata": {},
   "outputs": [
    {
     "data": {
      "text/plain": [
       "False"
      ]
     },
     "execution_count": 13,
     "metadata": {},
     "output_type": "execute_result"
    }
   ],
   "source": [
    "# may only compare classes after .value to compare integers \n",
    "# not clases themselfs\n",
    "\n",
    "two_hearts.value == three_of_clubs.value"
   ]
  },
  {
   "cell_type": "markdown",
   "id": "534b8c6e",
   "metadata": {},
   "source": [
    "## Deck class"
   ]
  },
  {
   "cell_type": "markdown",
   "id": "43874e15",
   "metadata": {},
   "source": [
    "here we will be using a deck will hold a list of car objects,\n",
    "\n",
    "class object using instances of another class as parts of its attrebutes\n",
    "\n"
   ]
  },
  {
   "cell_type": "code",
   "execution_count": 14,
   "id": "33d6615d",
   "metadata": {},
   "outputs": [],
   "source": [
    "class Deck():\n",
    "    def __init__(self):\n",
    "        \n",
    "        # no user intup requared\n",
    "        self.all_cards = []\n",
    "        \n",
    "        #for loop through ranks and suits \n",
    "        for suit in suits:\n",
    "            for rank in ranks:\n",
    "                \n",
    "                # create a card object\n",
    "                created_card = Card(suit, rank)\n",
    "                #append these card to empty list\n",
    "                self.all_cards.append(created_card)\n",
    "                \n",
    "    def shuffle(self):\n",
    "        # to shuffle all the cards\n",
    "        random.shuffle(self.all_cards)\n",
    "    \n",
    "    def deal_one(self):\n",
    "        return self.all_cards.pop()"
   ]
  },
  {
   "cell_type": "code",
   "execution_count": 15,
   "id": "dce8b95b",
   "metadata": {},
   "outputs": [],
   "source": [
    "# as soon as we create new Deck it will run through the code above\n",
    "new_deck = Deck()"
   ]
  },
  {
   "cell_type": "code",
   "execution_count": 16,
   "id": "000dc647",
   "metadata": {},
   "outputs": [],
   "source": [
    "first_card = new_deck.all_cards[0]"
   ]
  },
  {
   "cell_type": "code",
   "execution_count": 17,
   "id": "8d0fa73e",
   "metadata": {},
   "outputs": [
    {
     "name": "stdout",
     "output_type": "stream",
     "text": [
      "Two of Hearts\n"
     ]
    }
   ],
   "source": [
    "print (first_card)    "
   ]
  },
  {
   "cell_type": "code",
   "execution_count": 18,
   "id": "50189775",
   "metadata": {},
   "outputs": [],
   "source": [
    "last_card = new_deck.all_cards[-1]"
   ]
  },
  {
   "cell_type": "code",
   "execution_count": 19,
   "id": "360a7e55",
   "metadata": {},
   "outputs": [
    {
     "name": "stdout",
     "output_type": "stream",
     "text": [
      "Ace of Clubs\n"
     ]
    }
   ],
   "source": [
    "print (last_card)"
   ]
  },
  {
   "cell_type": "code",
   "execution_count": 20,
   "id": "1d73a631",
   "metadata": {},
   "outputs": [
    {
     "name": "stdout",
     "output_type": "stream",
     "text": [
      "Two of Hearts\n",
      "Three of Hearts\n",
      "Four of Hearts\n",
      "Five of Hearts\n",
      "Six of Hearts\n",
      "Seven of Hearts\n",
      "Eight of Hearts\n",
      "Nine of Hearts\n",
      "Ten of Hearts\n",
      "Jack of Hearts\n",
      "Queen of Hearts\n",
      "King of Hearts\n",
      "Ace of Hearts\n",
      "Two of Diamonds\n",
      "Three of Diamonds\n",
      "Four of Diamonds\n",
      "Five of Diamonds\n",
      "Six of Diamonds\n",
      "Seven of Diamonds\n",
      "Eight of Diamonds\n",
      "Nine of Diamonds\n",
      "Ten of Diamonds\n",
      "Jack of Diamonds\n",
      "Queen of Diamonds\n",
      "King of Diamonds\n",
      "Ace of Diamonds\n",
      "Two of Spades\n",
      "Three of Spades\n",
      "Four of Spades\n",
      "Five of Spades\n",
      "Six of Spades\n",
      "Seven of Spades\n",
      "Eight of Spades\n",
      "Nine of Spades\n",
      "Ten of Spades\n",
      "Jack of Spades\n",
      "Queen of Spades\n",
      "King of Spades\n",
      "Ace of Spades\n",
      "Two of Clubs\n",
      "Three of Clubs\n",
      "Four of Clubs\n",
      "Five of Clubs\n",
      "Six of Clubs\n",
      "Seven of Clubs\n",
      "Eight of Clubs\n",
      "Nine of Clubs\n",
      "Ten of Clubs\n",
      "Jack of Clubs\n",
      "Queen of Clubs\n",
      "King of Clubs\n",
      "Ace of Clubs\n"
     ]
    }
   ],
   "source": [
    "for car_object in new_deck.all_cards:\n",
    "    print (car_object)"
   ]
  },
  {
   "cell_type": "code",
   "execution_count": 21,
   "id": "43df1885",
   "metadata": {},
   "outputs": [],
   "source": [
    "new_deck.shuffle()"
   ]
  },
  {
   "cell_type": "code",
   "execution_count": 22,
   "id": "a886e605",
   "metadata": {},
   "outputs": [
    {
     "name": "stdout",
     "output_type": "stream",
     "text": [
      "Eight of Hearts\n",
      "Ten of Hearts\n",
      "Two of Hearts\n",
      "King of Diamonds\n",
      "Ace of Hearts\n",
      "Ace of Spades\n",
      "Five of Diamonds\n",
      "Eight of Diamonds\n",
      "King of Clubs\n",
      "Jack of Diamonds\n",
      "King of Spades\n",
      "Two of Diamonds\n",
      "Four of Diamonds\n",
      "Seven of Diamonds\n",
      "Nine of Diamonds\n",
      "King of Hearts\n",
      "Three of Clubs\n",
      "Nine of Hearts\n",
      "Four of Spades\n",
      "Queen of Spades\n",
      "Six of Hearts\n",
      "Jack of Spades\n",
      "Seven of Hearts\n",
      "Nine of Spades\n",
      "Six of Diamonds\n",
      "Two of Spades\n",
      "Seven of Clubs\n",
      "Six of Clubs\n",
      "Five of Spades\n",
      "Queen of Hearts\n",
      "Queen of Diamonds\n",
      "Ace of Clubs\n",
      "Six of Spades\n",
      "Seven of Spades\n",
      "Five of Clubs\n",
      "Two of Clubs\n",
      "Ten of Diamonds\n",
      "Ace of Diamonds\n",
      "Five of Hearts\n",
      "Ten of Clubs\n",
      "Four of Hearts\n",
      "Three of Spades\n",
      "Ten of Spades\n",
      "Queen of Clubs\n",
      "Jack of Hearts\n",
      "Nine of Clubs\n",
      "Eight of Clubs\n",
      "Eight of Spades\n",
      "Three of Hearts\n",
      "Three of Diamonds\n",
      "Jack of Clubs\n",
      "Four of Clubs\n"
     ]
    }
   ],
   "source": [
    "# see the difference\n",
    "\n",
    "for car_object in new_deck.all_cards:\n",
    "    print (car_object)"
   ]
  },
  {
   "cell_type": "code",
   "execution_count": 23,
   "id": "65f05a8c",
   "metadata": {},
   "outputs": [],
   "source": [
    "my_card = new_deck.deal_one()"
   ]
  },
  {
   "cell_type": "code",
   "execution_count": 24,
   "id": "dcda9915",
   "metadata": {},
   "outputs": [
    {
     "name": "stdout",
     "output_type": "stream",
     "text": [
      "Four of Clubs\n"
     ]
    }
   ],
   "source": [
    "print (my_card)"
   ]
  },
  {
   "cell_type": "code",
   "execution_count": 25,
   "id": "bc94c214",
   "metadata": {},
   "outputs": [
    {
     "data": {
      "text/plain": [
       "51"
      ]
     },
     "execution_count": 25,
     "metadata": {},
     "output_type": "execute_result"
    }
   ],
   "source": [
    "# we have removed one card from the list\n",
    "\n",
    "len (new_deck.all_cards)"
   ]
  },
  {
   "cell_type": "markdown",
   "id": "83baf4ec",
   "metadata": {},
   "source": [
    "## Player Calss"
   ]
  },
  {
   "cell_type": "code",
   "execution_count": 26,
   "id": "ea02c7f4",
   "metadata": {},
   "outputs": [],
   "source": [
    "class Player():\n",
    "    \n",
    "    # to distinguesh one plyer from another\n",
    "    def __init__(self, name):\n",
    "        \n",
    "        self.name = name \n",
    "        # we now create a current hand of cards\n",
    "        # to later remove and add cards to it\n",
    "        self.all_cards = []\n",
    "    \n",
    "    # to remove the first card in the list\n",
    "    def remove_one(self):\n",
    "        return self.all_cards.pop(0)\n",
    "    \n",
    "    # to remove a single or multiple cards\n",
    "    def add_cards(self, new_cards):\n",
    "        \n",
    "        # to find out if the type is a list (multiple objects)\n",
    "        # append both lists together\n",
    "        if type(new_cards) == type([]):\n",
    "            self.all_cards.extend(new_cards)\n",
    "            \n",
    "        # for a single card object\n",
    "        else:\n",
    "            self.all_cards.append(new_cards)\n",
    "    \n",
    "    def __str__(self):\n",
    "        return f'Player {self.name} has {len(self.all_cards)} cards'\n",
    "        "
   ]
  },
  {
   "cell_type": "code",
   "execution_count": 27,
   "id": "79c87435",
   "metadata": {},
   "outputs": [],
   "source": [
    "new_player = Player(\"Vazgen\")"
   ]
  },
  {
   "cell_type": "code",
   "execution_count": 28,
   "id": "5ca2a7ce",
   "metadata": {},
   "outputs": [
    {
     "name": "stdout",
     "output_type": "stream",
     "text": [
      "Player Vazgen has 0 cards\n"
     ]
    }
   ],
   "source": [
    "print (new_player)"
   ]
  },
  {
   "cell_type": "code",
   "execution_count": 29,
   "id": "5cea9c02",
   "metadata": {},
   "outputs": [],
   "source": [
    "my_card = new_deck.deal_one()"
   ]
  },
  {
   "cell_type": "code",
   "execution_count": 30,
   "id": "60f5e6aa",
   "metadata": {},
   "outputs": [
    {
     "name": "stdout",
     "output_type": "stream",
     "text": [
      "Jack of Clubs\n"
     ]
    }
   ],
   "source": [
    "print (my_card)"
   ]
  },
  {
   "cell_type": "code",
   "execution_count": 31,
   "id": "9a69e98b",
   "metadata": {},
   "outputs": [],
   "source": [
    "new_player.add_cards(my_card)"
   ]
  },
  {
   "cell_type": "code",
   "execution_count": 32,
   "id": "e25fa422",
   "metadata": {},
   "outputs": [
    {
     "name": "stdout",
     "output_type": "stream",
     "text": [
      "Player Vazgen has 1 cards\n"
     ]
    }
   ],
   "source": [
    "print (new_player)"
   ]
  },
  {
   "cell_type": "code",
   "execution_count": 33,
   "id": "1d1ffcf5",
   "metadata": {},
   "outputs": [],
   "source": [
    "new_player.add_cards([my_card, my_card, my_card])"
   ]
  },
  {
   "cell_type": "code",
   "execution_count": 34,
   "id": "03d8e4f1",
   "metadata": {},
   "outputs": [
    {
     "name": "stdout",
     "output_type": "stream",
     "text": [
      "Player Vazgen has 4 cards\n"
     ]
    }
   ],
   "source": [
    "print (new_player)"
   ]
  },
  {
   "cell_type": "code",
   "execution_count": 35,
   "id": "ec6f4f45",
   "metadata": {},
   "outputs": [
    {
     "data": {
      "text/plain": [
       "<__main__.Card at 0x7fd83a296580>"
      ]
     },
     "execution_count": 35,
     "metadata": {},
     "output_type": "execute_result"
    }
   ],
   "source": [
    "new_player.remove_one()"
   ]
  },
  {
   "cell_type": "code",
   "execution_count": 36,
   "id": "db604d29",
   "metadata": {},
   "outputs": [
    {
     "name": "stdout",
     "output_type": "stream",
     "text": [
      "Player Vazgen has 3 cards\n"
     ]
    }
   ],
   "source": [
    "print (new_player)"
   ]
  },
  {
   "cell_type": "markdown",
   "id": "d4ac8571",
   "metadata": {},
   "source": [
    "## Game logic"
   ]
  },
  {
   "cell_type": "code",
   "execution_count": 43,
   "id": "fc5d02b2",
   "metadata": {},
   "outputs": [],
   "source": [
    "# Game Setup\n",
    "player_one = Player (\"One\")\n",
    "player_two = Player (\"Two\")\n",
    "\n",
    "new_deck = Deck ()\n",
    "new_deck.shuffle()\n",
    "\n",
    "# 26 is half of the gaming deck\n",
    "# we will add new cards to the player by methods in deck\n",
    "for x in range (26):\n",
    "    player_one.add_cards(new_deck.deal_one())\n",
    "    player_two.add_cards(new_deck.deal_one())"
   ]
  },
  {
   "cell_type": "code",
   "execution_count": 44,
   "id": "92987853",
   "metadata": {},
   "outputs": [
    {
     "name": "stdout",
     "output_type": "stream",
     "text": [
      "26\n"
     ]
    }
   ],
   "source": [
    "# to check if it works\n",
    "print (len(player_one.all_cards))"
   ]
  },
  {
   "cell_type": "code",
   "execution_count": 45,
   "id": "64989937",
   "metadata": {},
   "outputs": [],
   "source": [
    "# to start the game logic correctly\n",
    "\n",
    "game_on = True"
   ]
  },
  {
   "cell_type": "code",
   "execution_count": 47,
   "id": "d3d0964e",
   "metadata": {},
   "outputs": [
    {
     "name": "stdout",
     "output_type": "stream",
     "text": [
      "Round 1\n",
      "Round 2\n",
      "WAR!\n",
      "Player Two unable to declare war \n",
      "Player One WINS\n"
     ]
    }
   ],
   "source": [
    "game_on = True\n",
    "round_num = 0\n",
    "\n",
    "while game_on:\n",
    "    \n",
    "    # to show the number of rounds \n",
    "    round_num = round_num + 1\n",
    "    print (f\"Round {round_num}\")\n",
    "    \n",
    "    \n",
    "    if len(player_one.all_cards) == 0:\n",
    "        print (\"Player One our of cards\\nPlayer Two wins!\")\n",
    "        game_on = False\n",
    "        # we dont need to specify break because we have the main while\n",
    "        # game_on condition being off \n",
    "        break\n",
    "        \n",
    "    if len(player_two.all_cards) == 0:\n",
    "        print (\"Player Two our of cards\\nPlayer One wins!\")\n",
    "        game_on = False\n",
    "        break\n",
    "        \n",
    "    # Start a new round if the game continius\n",
    "    # the variable below are the cards left of the table by each player\n",
    "    player_one_cards = []\n",
    "    player_one_cards.append(player_one.remove_one())\n",
    "    \n",
    "    player_two_cards = []\n",
    "    player_two_cards.append(player_two.remove_one())\n",
    "    \n",
    "\n",
    "\n",
    "    # if the both cards are equal = war\n",
    "    at_war = True\n",
    "    \n",
    "    while at_war:\n",
    "        # draw new cards from the list\n",
    "        # in order not to compare cards to the first drawn \n",
    "        # to the game play fair \n",
    "        \n",
    "        if player_one_cards[-1].value > player_two_cards[-1].value:\n",
    "            player_one.add_cards(player_one_cards)\n",
    "            player_one.add_cards(player_two_cards)\n",
    "            \n",
    "            at_war = False\n",
    "            \n",
    "        elif player_two_cards[-1].value > player_one_cards[-1].value:\n",
    "            player_two.add_cards(player_two_cards)\n",
    "            player_two.add_cards(player_one_cards)\n",
    "            \n",
    "            at_war = False\n",
    "            \n",
    "        else:\n",
    "            print (\"WAR!\")\n",
    "            \n",
    "            if len (player_one.all_cards) < 10:\n",
    "                print (\"Player One unable to declare war \\nPlayer Two WINS\")\n",
    "                game_on = False\n",
    "                break\n",
    "                \n",
    "            if len (player_two.all_cards) < 10:\n",
    "                print (\"Player Two unable to declare war \\nPlayer One WINS\")\n",
    "                game_on = False\n",
    "                break\n",
    "                \n",
    "            else:\n",
    "                for x in range (10):\n",
    "                    player_one_cards.append(player_one.remove_one())\n",
    "                    player_two_cards.append(player_two.remove_one())"
   ]
  },
  {
   "cell_type": "code",
   "execution_count": null,
   "id": "f533d96c",
   "metadata": {},
   "outputs": [],
   "source": []
  },
  {
   "cell_type": "code",
   "execution_count": null,
   "id": "cb1b743d",
   "metadata": {},
   "outputs": [],
   "source": []
  }
 ],
 "metadata": {
  "kernelspec": {
   "display_name": "Python 3 (ipykernel)",
   "language": "python",
   "name": "python3"
  },
  "language_info": {
   "codemirror_mode": {
    "name": "ipython",
    "version": 3
   },
   "file_extension": ".py",
   "mimetype": "text/x-python",
   "name": "python",
   "nbconvert_exporter": "python",
   "pygments_lexer": "ipython3",
   "version": "3.9.12"
  }
 },
 "nbformat": 4,
 "nbformat_minor": 5
}
