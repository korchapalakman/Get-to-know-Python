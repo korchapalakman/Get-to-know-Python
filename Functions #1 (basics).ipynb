{
 "cells": [
  {
   "cell_type": "markdown",
   "id": "29720122",
   "metadata": {},
   "source": [
    "## Methods that we have covered "
   ]
  },
  {
   "cell_type": "code",
   "execution_count": 1,
   "id": "ce749b56",
   "metadata": {},
   "outputs": [],
   "source": [
    "mylist = [1,2,3]"
   ]
  },
  {
   "cell_type": "code",
   "execution_count": 3,
   "id": "c001d4f1",
   "metadata": {},
   "outputs": [
    {
     "data": {
      "text/plain": [
       "[1, 2, 3, 4, 4]"
      ]
     },
     "execution_count": 3,
     "metadata": {},
     "output_type": "execute_result"
    }
   ],
   "source": [
    "mylist.append(4)\n",
    "mylist"
   ]
  },
  {
   "cell_type": "code",
   "execution_count": 4,
   "id": "5bb29009",
   "metadata": {},
   "outputs": [
    {
     "data": {
      "text/plain": [
       "4"
      ]
     },
     "execution_count": 4,
     "metadata": {},
     "output_type": "execute_result"
    }
   ],
   "source": [
    "mylist.pop()"
   ]
  },
  {
   "cell_type": "code",
   "execution_count": 5,
   "id": "fb918171",
   "metadata": {},
   "outputs": [
    {
     "data": {
      "text/plain": [
       "[1, 2, 3, 4]"
      ]
     },
     "execution_count": 5,
     "metadata": {},
     "output_type": "execute_result"
    }
   ],
   "source": [
    "mylist"
   ]
  },
  {
   "cell_type": "code",
   "execution_count": 6,
   "id": "40995735",
   "metadata": {},
   "outputs": [],
   "source": [
    "#to learn more abount variaty of methods use . + tab command  "
   ]
  },
  {
   "cell_type": "code",
   "execution_count": 7,
   "id": "c9936e08",
   "metadata": {},
   "outputs": [],
   "source": [
    "#use halp command "
   ]
  },
  {
   "cell_type": "code",
   "execution_count": 10,
   "id": "d1446b28",
   "metadata": {},
   "outputs": [
    {
     "name": "stdout",
     "output_type": "stream",
     "text": [
      "Help on built-in function insert:\n",
      "\n",
      "insert(index, object, /) method of builtins.list instance\n",
      "    Insert object before index.\n",
      "\n"
     ]
    }
   ],
   "source": [
    "help(mylist.insert) #(+shift + tab)\n",
    "#try shift +tab after the method to see the result or use help command\n"
   ]
  },
  {
   "cell_type": "code",
   "execution_count": 11,
   "id": "789d6e3b",
   "metadata": {},
   "outputs": [],
   "source": [
    "#https://docs.python.org/3/library/index.html visit for explanation"
   ]
  },
  {
   "cell_type": "markdown",
   "id": "d675cbb3",
   "metadata": {},
   "source": [
    "# Functions "
   ]
  },
  {
   "cell_type": "markdown",
   "id": "9ed60520",
   "metadata": {},
   "source": [
    "## def Keyword"
   ]
  },
  {
   "cell_type": "markdown",
   "id": "3195355a",
   "metadata": {},
   "source": [
    "how to structure a functions"
   ]
  },
  {
   "cell_type": "code",
   "execution_count": 12,
   "id": "24f518c2",
   "metadata": {},
   "outputs": [],
   "source": [
    "def name_of_function():\n",
    "    '''' \n",
    "    the function returns \"Hello\"\n",
    "    '''\n",
    "    print(\"Hello\")"
   ]
  },
  {
   "cell_type": "code",
   "execution_count": 13,
   "id": "12fd8bc0",
   "metadata": {},
   "outputs": [
    {
     "name": "stdout",
     "output_type": "stream",
     "text": [
      "Hello\n"
     ]
    }
   ],
   "source": [
    "#to call a function\n",
    "name_of_function()"
   ]
  },
  {
   "cell_type": "code",
   "execution_count": 32,
   "id": "d87d56c4",
   "metadata": {},
   "outputs": [],
   "source": [
    "#may include varibales \n",
    "def name_of_function(name):\n",
    "    '''' \n",
    "    the function returns \"Hello\" + name\n",
    "    '''\n",
    "    print(f\"Hello {name}\") #or print(\"hello \"+name)"
   ]
  },
  {
   "cell_type": "code",
   "execution_count": 31,
   "id": "afb4bea1",
   "metadata": {},
   "outputs": [
    {
     "name": "stdout",
     "output_type": "stream",
     "text": [
      "Hello Vazgen\n"
     ]
    }
   ],
   "source": [
    "name_of_function(\"Vazgen\")"
   ]
  },
  {
   "cell_type": "code",
   "execution_count": 27,
   "id": "01db8c08",
   "metadata": {},
   "outputs": [],
   "source": [
    "#other example \n",
    "def add_function(num1, num2):\n",
    "    return num1+num2"
   ]
  },
  {
   "cell_type": "code",
   "execution_count": 29,
   "id": "eda2e048",
   "metadata": {},
   "outputs": [
    {
     "name": "stdout",
     "output_type": "stream",
     "text": [
      "3\n"
     ]
    }
   ],
   "source": [
    "result = add_function(1,2)\n",
    "print (result)"
   ]
  },
  {
   "cell_type": "markdown",
   "id": "3254ab3c",
   "metadata": {},
   "source": [
    "## Basic functions "
   ]
  },
  {
   "cell_type": "code",
   "execution_count": 34,
   "id": "64119099",
   "metadata": {},
   "outputs": [],
   "source": [
    "def say_my_name():\n",
    "    print (\"Haisemberg\")"
   ]
  },
  {
   "cell_type": "code",
   "execution_count": 35,
   "id": "bf0f86d6",
   "metadata": {},
   "outputs": [
    {
     "name": "stdout",
     "output_type": "stream",
     "text": [
      "Haisemberg\n"
     ]
    }
   ],
   "source": [
    "say_my_name()"
   ]
  },
  {
   "cell_type": "markdown",
   "id": "184f20d7",
   "metadata": {},
   "source": [
    "### input arguments"
   ]
  },
  {
   "cell_type": "code",
   "execution_count": 38,
   "id": "96cf7085",
   "metadata": {},
   "outputs": [],
   "source": [
    "def name(name):\n",
    "    \"\"\"\"\n",
    "    the function that returns name with input parameter \"name\"\n",
    "    \"\"\"\n",
    "    print(f\"hello {name}\")"
   ]
  },
  {
   "cell_type": "code",
   "execution_count": 39,
   "id": "342a77f9",
   "metadata": {},
   "outputs": [
    {
     "name": "stdout",
     "output_type": "stream",
     "text": [
      "hello Vazgen\n"
     ]
    }
   ],
   "source": [
    "name(\"Vazgen\")"
   ]
  },
  {
   "cell_type": "markdown",
   "id": "3b2aa35a",
   "metadata": {},
   "source": [
    "if you wont insert a parameter \"name\" above \n",
    "a function will return a mistake\n",
    "\n",
    "to awoid id you defalt values"
   ]
  },
  {
   "cell_type": "code",
   "execution_count": 42,
   "id": "6e14f2e9",
   "metadata": {},
   "outputs": [],
   "source": [
    "def name(name=\"say your name\"): #place a defalt value in the parameter brakets using =\n",
    "    \"\"\"\"\n",
    "    the function that returns name with input parameter \"name\"\n",
    "    and defalt value in case you wont type in name\n",
    "    \"\"\"\n",
    "    print(f\"hello! {name}\")"
   ]
  },
  {
   "cell_type": "code",
   "execution_count": 43,
   "id": "18aedc36",
   "metadata": {},
   "outputs": [
    {
     "name": "stdout",
     "output_type": "stream",
     "text": [
      "hello! say your name\n"
     ]
    }
   ],
   "source": [
    "name()\n",
    "#you wont get a mistake but insted a function will work \n",
    "#with a predefined paramenters "
   ]
  },
  {
   "cell_type": "markdown",
   "id": "83cd248c",
   "metadata": {},
   "source": [
    "### return keyword"
   ]
  },
  {
   "cell_type": "markdown",
   "id": "00ddbfc7",
   "metadata": {},
   "source": [
    "return allows you to save results as a variable \n",
    "unlike print what only prints it\n",
    "\n",
    "(take a look at the result of the commad, it will show out[x])\n"
   ]
  },
  {
   "cell_type": "code",
   "execution_count": 44,
   "id": "a31292a1",
   "metadata": {},
   "outputs": [],
   "source": [
    "def add_num(n1, n2):\n",
    "    return n1+n2"
   ]
  },
  {
   "cell_type": "code",
   "execution_count": 47,
   "id": "2fc971f7",
   "metadata": {},
   "outputs": [
    {
     "data": {
      "text/plain": [
       "30"
      ]
     },
     "execution_count": 47,
     "metadata": {},
     "output_type": "execute_result"
    }
   ],
   "source": [
    "result = add_num(10,20)\n",
    "result"
   ]
  },
  {
   "cell_type": "markdown",
   "id": "7254f570",
   "metadata": {},
   "source": [
    "## Logic with Functions "
   ]
  },
  {
   "cell_type": "code",
   "execution_count": 66,
   "id": "798bce35",
   "metadata": {},
   "outputs": [],
   "source": [
    "def even_check(num):\n",
    "    \"\"\"\n",
    "    This function checks weather the number you inserted in even\n",
    "    by giving true or false as result\n",
    "    \"\"\"\n",
    "    return num%2 == 0"
   ]
  },
  {
   "cell_type": "code",
   "execution_count": 58,
   "id": "2b8a17e1",
   "metadata": {},
   "outputs": [
    {
     "data": {
      "text/plain": [
       "True"
      ]
     },
     "execution_count": 58,
     "metadata": {},
     "output_type": "execute_result"
    }
   ],
   "source": [
    "even_check(4)"
   ]
  },
  {
   "cell_type": "code",
   "execution_count": 59,
   "id": "4e380981",
   "metadata": {},
   "outputs": [
    {
     "data": {
      "text/plain": [
       "False"
      ]
     },
     "execution_count": 59,
     "metadata": {},
     "output_type": "execute_result"
    }
   ],
   "source": [
    "even_check(5)"
   ]
  },
  {
   "cell_type": "markdown",
   "id": "926fefc7",
   "metadata": {},
   "source": [
    "return true if any number is even inside the list"
   ]
  },
  {
   "cell_type": "code",
   "execution_count": 79,
   "id": "4a727960",
   "metadata": {},
   "outputs": [],
   "source": [
    "def check_list_even(num_list):\n",
    "    \"\"\"\"\n",
    "    checks wheather there are any even numbers in a list\"\"\"\n",
    "\n",
    "    for num in num_list:\n",
    "        if num%2==0:\n",
    "            return True\n",
    "        else:\n",
    "            pass #a placeholder in case you run into false in a loop\n",
    "    return False"
   ]
  },
  {
   "cell_type": "code",
   "execution_count": 82,
   "id": "34c22b7b",
   "metadata": {},
   "outputs": [
    {
     "data": {
      "text/plain": [
       "True"
      ]
     },
     "execution_count": 82,
     "metadata": {},
     "output_type": "execute_result"
    }
   ],
   "source": [
    "check_list_even([1,2,5])"
   ]
  },
  {
   "cell_type": "code",
   "execution_count": 81,
   "id": "c689f9c9",
   "metadata": {},
   "outputs": [
    {
     "data": {
      "text/plain": [
       "True"
      ]
     },
     "execution_count": 81,
     "metadata": {},
     "output_type": "execute_result"
    }
   ],
   "source": [
    "check_list_even([2,4,6])"
   ]
  },
  {
   "cell_type": "code",
   "execution_count": 83,
   "id": "24283ca5",
   "metadata": {},
   "outputs": [
    {
     "data": {
      "text/plain": [
       "False"
      ]
     },
     "execution_count": 83,
     "metadata": {},
     "output_type": "execute_result"
    }
   ],
   "source": [
    "check_list_even([1,3,5])"
   ]
  },
  {
   "cell_type": "code",
   "execution_count": 104,
   "id": "f7dc8418",
   "metadata": {},
   "outputs": [],
   "source": [
    "def check_list_even(num_list):\n",
    "    \"\"\"\"\n",
    "    checks wheather there are any even numbers in a list and returns it\"\"\"\n",
    "    \n",
    "    #placeholder variable \n",
    "    even_num = []\n",
    "    \n",
    "    for num in num_list:\n",
    "        if num%2==0:\n",
    "            even_num.append(num)\n",
    "        else:\n",
    "            pass \n",
    "    return even_num"
   ]
  },
  {
   "cell_type": "code",
   "execution_count": 105,
   "id": "f4a8f932",
   "metadata": {},
   "outputs": [
    {
     "data": {
      "text/plain": [
       "[2, 6, 8]"
      ]
     },
     "execution_count": 105,
     "metadata": {},
     "output_type": "execute_result"
    }
   ],
   "source": [
    "check_list_even([1,2,5,6,8])"
   ]
  },
  {
   "cell_type": "code",
   "execution_count": 107,
   "id": "6688f370",
   "metadata": {},
   "outputs": [
    {
     "data": {
      "text/plain": [
       "[]"
      ]
     },
     "execution_count": 107,
     "metadata": {},
     "output_type": "execute_result"
    }
   ],
   "source": [
    "check_list_even([1,7,5,9,11])"
   ]
  },
  {
   "cell_type": "markdown",
   "id": "56054323",
   "metadata": {},
   "source": [
    "### Tuple Unpacking "
   ]
  },
  {
   "cell_type": "code",
   "execution_count": 116,
   "id": "f00626b8",
   "metadata": {},
   "outputs": [],
   "source": [
    "#below is a remaider\n",
    "stock_price = [(\"appl\", 200), (\"goog\", 400), (\"msft\", 100) ]"
   ]
  },
  {
   "cell_type": "code",
   "execution_count": 109,
   "id": "97896618",
   "metadata": {},
   "outputs": [
    {
     "name": "stdout",
     "output_type": "stream",
     "text": [
      "('appl', 200)\n",
      "('goog', 400)\n",
      "('msft', 100)\n"
     ]
    }
   ],
   "source": [
    "for item in stock_price:\n",
    "    print (item)"
   ]
  },
  {
   "cell_type": "code",
   "execution_count": 115,
   "id": "ae3216af",
   "metadata": {},
   "outputs": [
    {
     "name": "stdout",
     "output_type": "stream",
     "text": [
      "200\n",
      "appl\n",
      "400\n",
      "goog\n",
      "100\n",
      "msft\n"
     ]
    }
   ],
   "source": [
    "for key, value in stock_price:\n",
    "    print (value)\n",
    "    print (key)\n",
    "    "
   ]
  },
  {
   "cell_type": "code",
   "execution_count": 120,
   "id": "6733f7a7",
   "metadata": {},
   "outputs": [
    {
     "name": "stdout",
     "output_type": "stream",
     "text": [
      "220.0\n",
      "440.0\n",
      "110.0\n"
     ]
    }
   ],
   "source": [
    "#may also operate as follows\n",
    "for key, value in stock_price:\n",
    "    print (value + (0.1*value))"
   ]
  },
  {
   "cell_type": "code",
   "execution_count": 130,
   "id": "8aff4477",
   "metadata": {},
   "outputs": [],
   "source": [
    "#example of a toople unpacking function\n",
    "\n",
    "work_hours_wk = [(\"vazgen\", 20), (\"vartan\", 150), (\"lera\", 17), (\"kosta\", 35)]"
   ]
  },
  {
   "cell_type": "code",
   "execution_count": 131,
   "id": "e8ae9d7c",
   "metadata": {},
   "outputs": [],
   "source": [
    "def best_work(work_hours_wk):\n",
    "    \"\"\"\n",
    "    defines the best employee by looking at work hours\n",
    "    \"\"\"\n",
    "    #placeholder variable\n",
    "    current_max = 0\n",
    "    employee_of_max = \"\"\n",
    "    \n",
    "    for emp,wh in work_hours_wk:\n",
    "        if wh > current_max:\n",
    "            current_max=wh\n",
    "            employee_of_max = emp\n",
    "        else:\n",
    "            pass\n",
    "    return (current_max, employee_of_max)\n",
    "    "
   ]
  },
  {
   "cell_type": "code",
   "execution_count": 133,
   "id": "884cfaa8",
   "metadata": {},
   "outputs": [
    {
     "data": {
      "text/plain": [
       "(150, 'vartan')"
      ]
     },
     "execution_count": 133,
     "metadata": {},
     "output_type": "execute_result"
    }
   ],
   "source": [
    "result = best_work(work_hours_wk)\n",
    "result"
   ]
  },
  {
   "cell_type": "code",
   "execution_count": 134,
   "id": "0a242b87",
   "metadata": {},
   "outputs": [],
   "source": [
    "#may also perform a tuple unpancking with the faunction \n",
    "hours, name = best_work(work_hours_wk)\n"
   ]
  },
  {
   "cell_type": "code",
   "execution_count": 135,
   "id": "11adde43",
   "metadata": {},
   "outputs": [
    {
     "data": {
      "text/plain": [
       "150"
      ]
     },
     "execution_count": 135,
     "metadata": {},
     "output_type": "execute_result"
    }
   ],
   "source": [
    "hours\n",
    "#will return the best employee working hours"
   ]
  },
  {
   "cell_type": "code",
   "execution_count": 137,
   "id": "d88292c1",
   "metadata": {},
   "outputs": [
    {
     "data": {
      "text/plain": [
       "'vartan'"
      ]
     },
     "execution_count": 137,
     "metadata": {},
     "output_type": "execute_result"
    }
   ],
   "source": [
    "name\n",
    "#will return the best employee name"
   ]
  },
  {
   "cell_type": "markdown",
   "id": "f5c581b3",
   "metadata": {},
   "source": [
    "### Interaction between functions "
   ]
  },
  {
   "cell_type": "markdown",
   "id": "8439f550",
   "metadata": {},
   "source": [
    "result of one function is an input in the another"
   ]
  },
  {
   "cell_type": "code",
   "execution_count": null,
   "id": "b1f9b86f",
   "metadata": {},
   "outputs": [],
   "source": []
  }
 ],
 "metadata": {
  "kernelspec": {
   "display_name": "Python 3 (ipykernel)",
   "language": "python",
   "name": "python3"
  },
  "language_info": {
   "codemirror_mode": {
    "name": "ipython",
    "version": 3
   },
   "file_extension": ".py",
   "mimetype": "text/x-python",
   "name": "python",
   "nbconvert_exporter": "python",
   "pygments_lexer": "ipython3",
   "version": "3.9.12"
  }
 },
 "nbformat": 4,
 "nbformat_minor": 5
}
