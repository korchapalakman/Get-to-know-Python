{
 "cells": [
  {
   "cell_type": "markdown",
   "id": "18f9e0de",
   "metadata": {},
   "source": [
    "# Math Module"
   ]
  },
  {
   "cell_type": "code",
   "execution_count": 32,
   "id": "a0046841",
   "metadata": {},
   "outputs": [],
   "source": [
    "import numpy\n",
    "\n",
    "# may use just math module for simple math"
   ]
  },
  {
   "cell_type": "code",
   "execution_count": 33,
   "id": "e0d09c4d",
   "metadata": {},
   "outputs": [],
   "source": [
    "# help(numpy)\n",
    "\n",
    "# uncomment above to see what the module has"
   ]
  },
  {
   "cell_type": "code",
   "execution_count": 34,
   "id": "27f53690",
   "metadata": {},
   "outputs": [],
   "source": [
    "value = 4.55"
   ]
  },
  {
   "cell_type": "code",
   "execution_count": 35,
   "id": "35a7b46c",
   "metadata": {},
   "outputs": [
    {
     "data": {
      "text/plain": [
       "4"
      ]
     },
     "execution_count": 35,
     "metadata": {},
     "output_type": "execute_result"
    }
   ],
   "source": [
    "math.floor(value)\n",
    "\n",
    "# rounds to floor value"
   ]
  },
  {
   "cell_type": "code",
   "execution_count": 36,
   "id": "b51c06dc",
   "metadata": {},
   "outputs": [
    {
     "data": {
      "text/plain": [
       "5"
      ]
     },
     "execution_count": 36,
     "metadata": {},
     "output_type": "execute_result"
    }
   ],
   "source": [
    "math.ceil(value)\n",
    "\n",
    "# rounds to ceil value"
   ]
  },
  {
   "cell_type": "code",
   "execution_count": 37,
   "id": "0938051c",
   "metadata": {},
   "outputs": [
    {
     "data": {
      "text/plain": [
       "5"
      ]
     },
     "execution_count": 37,
     "metadata": {},
     "output_type": "execute_result"
    }
   ],
   "source": [
    "# build in python function \n",
    "# not in a module \n",
    "\n",
    "round (value)\n",
    "\n",
    "# true rounding \n",
    "# save it later in a variable"
   ]
  },
  {
   "cell_type": "markdown",
   "id": "cd56ddc2",
   "metadata": {},
   "source": [
    "### Math constants "
   ]
  },
  {
   "cell_type": "code",
   "execution_count": 47,
   "id": "6febede0",
   "metadata": {},
   "outputs": [
    {
     "data": {
      "text/plain": [
       "3.141592653589793"
      ]
     },
     "execution_count": 47,
     "metadata": {},
     "output_type": "execute_result"
    }
   ],
   "source": [
    "numpy.pi"
   ]
  },
  {
   "cell_type": "code",
   "execution_count": 40,
   "id": "4fdbfc10",
   "metadata": {},
   "outputs": [],
   "source": [
    "from numpy import pi"
   ]
  },
  {
   "cell_type": "code",
   "execution_count": 41,
   "id": "b1a40d21",
   "metadata": {},
   "outputs": [
    {
     "data": {
      "text/plain": [
       "3.141592653589793"
      ]
     },
     "execution_count": 41,
     "metadata": {},
     "output_type": "execute_result"
    }
   ],
   "source": [
    "pi"
   ]
  },
  {
   "cell_type": "code",
   "execution_count": 48,
   "id": "1f8722fd",
   "metadata": {},
   "outputs": [
    {
     "data": {
      "text/plain": [
       "2.718281828459045"
      ]
     },
     "execution_count": 48,
     "metadata": {},
     "output_type": "execute_result"
    }
   ],
   "source": [
    "numpy.e"
   ]
  },
  {
   "cell_type": "code",
   "execution_count": 43,
   "id": "073189f6",
   "metadata": {},
   "outputs": [],
   "source": [
    "from numpy import e"
   ]
  },
  {
   "cell_type": "code",
   "execution_count": 49,
   "id": "a756a06d",
   "metadata": {},
   "outputs": [
    {
     "data": {
      "text/plain": [
       "2.718281828459045"
      ]
     },
     "execution_count": 49,
     "metadata": {},
     "output_type": "execute_result"
    }
   ],
   "source": [
    "e"
   ]
  },
  {
   "cell_type": "code",
   "execution_count": 50,
   "id": "a8a5be97",
   "metadata": {},
   "outputs": [
    {
     "data": {
      "text/plain": [
       "inf"
      ]
     },
     "execution_count": 50,
     "metadata": {},
     "output_type": "execute_result"
    }
   ],
   "source": [
    "# infinity number \n",
    "\n",
    "numpy.inf"
   ]
  },
  {
   "cell_type": "code",
   "execution_count": 51,
   "id": "40891c67",
   "metadata": {},
   "outputs": [
    {
     "data": {
      "text/plain": [
       "nan"
      ]
     },
     "execution_count": 51,
     "metadata": {},
     "output_type": "execute_result"
    }
   ],
   "source": [
    "# not a number\n",
    "\n",
    "numpy.nan"
   ]
  },
  {
   "cell_type": "code",
   "execution_count": 53,
   "id": "726ebf90",
   "metadata": {},
   "outputs": [
    {
     "data": {
      "text/plain": [
       "1.0"
      ]
     },
     "execution_count": 53,
     "metadata": {},
     "output_type": "execute_result"
    }
   ],
   "source": [
    "numpy.log(numpy.e)"
   ]
  },
  {
   "cell_type": "code",
   "execution_count": 57,
   "id": "c5aa25bd",
   "metadata": {},
   "outputs": [
    {
     "data": {
      "text/plain": [
       "2.0"
      ]
     },
     "execution_count": 57,
     "metadata": {},
     "output_type": "execute_result"
    }
   ],
   "source": [
    "numpy.log10(100)"
   ]
  },
  {
   "cell_type": "code",
   "execution_count": 105,
   "id": "c6ac0bc8",
   "metadata": {},
   "outputs": [
    {
     "data": {
      "text/plain": [
       "-0.5440211108893699"
      ]
     },
     "execution_count": 105,
     "metadata": {},
     "output_type": "execute_result"
    }
   ],
   "source": [
    "numpy.sin(10)\n",
    "\n",
    "# into ragians"
   ]
  },
  {
   "cell_type": "code",
   "execution_count": 106,
   "id": "b22fc473",
   "metadata": {},
   "outputs": [
    {
     "data": {
      "text/plain": [
       "3.141592653589793"
      ]
     },
     "execution_count": 106,
     "metadata": {},
     "output_type": "execute_result"
    }
   ],
   "source": [
    "numpy.radians(180)"
   ]
  },
  {
   "cell_type": "markdown",
   "id": "cb5b6126",
   "metadata": {},
   "source": [
    "## Random module"
   ]
  },
  {
   "cell_type": "code",
   "execution_count": 1,
   "id": "617685e4",
   "metadata": {},
   "outputs": [],
   "source": [
    "import random"
   ]
  },
  {
   "cell_type": "code",
   "execution_count": 5,
   "id": "1dc9be64",
   "metadata": {},
   "outputs": [
    {
     "data": {
      "text/plain": [
       "75"
      ]
     },
     "execution_count": 5,
     "metadata": {},
     "output_type": "execute_result"
    }
   ],
   "source": [
    "random.randint(0,100)\n",
    "\n",
    "# will return some randomd intager"
   ]
  },
  {
   "cell_type": "code",
   "execution_count": 40,
   "id": "b9bec533",
   "metadata": {},
   "outputs": [
    {
     "data": {
      "text/plain": [
       "81"
      ]
     },
     "execution_count": 40,
     "metadata": {},
     "output_type": "execute_result"
    }
   ],
   "source": [
    "# seed stards the same series of random intagers\n",
    "# the number insite is complitely arbitrary\n",
    "\n",
    "random.seed(42)\n",
    "\n",
    "# insert in the same sell\n",
    "random.randint(0,100)"
   ]
  },
  {
   "cell_type": "code",
   "execution_count": 41,
   "id": "c53b2b0a",
   "metadata": {},
   "outputs": [
    {
     "data": {
      "text/plain": [
       "14"
      ]
     },
     "execution_count": 41,
     "metadata": {},
     "output_type": "execute_result"
    }
   ],
   "source": [
    "random.randint(0,100)"
   ]
  },
  {
   "cell_type": "code",
   "execution_count": 42,
   "id": "a62416df",
   "metadata": {},
   "outputs": [
    {
     "data": {
      "text/plain": [
       "3"
      ]
     },
     "execution_count": 42,
     "metadata": {},
     "output_type": "execute_result"
    }
   ],
   "source": [
    "random.randint(0,100)"
   ]
  },
  {
   "cell_type": "code",
   "execution_count": 44,
   "id": "ef62f0a2",
   "metadata": {},
   "outputs": [
    {
     "data": {
      "text/plain": [
       "94"
      ]
     },
     "execution_count": 44,
     "metadata": {},
     "output_type": "execute_result"
    }
   ],
   "source": [
    "random.randint(0,100)"
   ]
  },
  {
   "cell_type": "code",
   "execution_count": 45,
   "id": "5a61f7aa",
   "metadata": {},
   "outputs": [],
   "source": [
    "# if i haven't planed the seed i will breack the stop\n",
    "# and will have the number randomly pop"
   ]
  },
  {
   "cell_type": "code",
   "execution_count": 47,
   "id": "65e2af50",
   "metadata": {},
   "outputs": [
    {
     "name": "stdout",
     "output_type": "stream",
     "text": [
      "81\n",
      "14\n",
      "3\n",
      "94\n",
      "35\n"
     ]
    }
   ],
   "source": [
    "random.seed(42)\n",
    "\n",
    "# will repeat all the seads after planted seed\n",
    "print (random.randint(0,100)) #81\n",
    "print (random.randint(0,100)) #14\n",
    "print (random.randint(0,100)) #3\n",
    "print (random.randint(0,100)) #94\n",
    "print (random.randint(0,100)) # random"
   ]
  },
  {
   "cell_type": "code",
   "execution_count": 48,
   "id": "1484782a",
   "metadata": {},
   "outputs": [],
   "source": [
    "mylist = list(range(0,20))"
   ]
  },
  {
   "cell_type": "code",
   "execution_count": 49,
   "id": "2c5cba38",
   "metadata": {},
   "outputs": [
    {
     "data": {
      "text/plain": [
       "[0, 1, 2, 3, 4, 5, 6, 7, 8, 9, 10, 11, 12, 13, 14, 15, 16, 17, 18, 19]"
      ]
     },
     "execution_count": 49,
     "metadata": {},
     "output_type": "execute_result"
    }
   ],
   "source": [
    "mylist"
   ]
  },
  {
   "cell_type": "code",
   "execution_count": 54,
   "id": "e75c4cad",
   "metadata": {},
   "outputs": [
    {
     "data": {
      "text/plain": [
       "3"
      ]
     },
     "execution_count": 54,
     "metadata": {},
     "output_type": "execute_result"
    }
   ],
   "source": [
    "random.choice(mylist)\n",
    "\n",
    "# to grab a random intager from the list above\n",
    "# the number is still in a list"
   ]
  },
  {
   "cell_type": "code",
   "execution_count": 57,
   "id": "49b1b8ea",
   "metadata": {},
   "outputs": [
    {
     "data": {
      "text/plain": [
       "[10, 4, 11, 16, 0, 16, 13, 6, 3, 19]"
      ]
     },
     "execution_count": 57,
     "metadata": {},
     "output_type": "execute_result"
    }
   ],
   "source": [
    "# SAMPLE WITH REPLACMENT (intager can be taken more that once)\n",
    "\n",
    "random.choices(population=mylist, k = 10)\n",
    "# some numbers will be duplicated"
   ]
  },
  {
   "cell_type": "code",
   "execution_count": 61,
   "id": "b8a91664",
   "metadata": {},
   "outputs": [
    {
     "data": {
      "text/plain": [
       "[11, 18, 6, 2, 1, 10, 3, 12, 4, 15]"
      ]
     },
     "execution_count": 61,
     "metadata": {},
     "output_type": "execute_result"
    }
   ],
   "source": [
    "# SAMPLE WITHOUT REPLACMENT (integer chocen once)\n",
    "\n",
    "random.sample(mylist, 10)\n",
    "# same parameters as above"
   ]
  },
  {
   "cell_type": "code",
   "execution_count": 62,
   "id": "f7e8c882",
   "metadata": {},
   "outputs": [],
   "source": [
    "# SUFFLE A LIST in place\n",
    "\n",
    "random.shuffle(mylist)"
   ]
  },
  {
   "cell_type": "code",
   "execution_count": 63,
   "id": "b914ead9",
   "metadata": {},
   "outputs": [
    {
     "data": {
      "text/plain": [
       "[16, 19, 11, 1, 0, 6, 9, 4, 18, 15, 17, 2, 5, 13, 10, 14, 8, 12, 3, 7]"
      ]
     },
     "execution_count": 63,
     "metadata": {},
     "output_type": "execute_result"
    }
   ],
   "source": [
    "mylist"
   ]
  },
  {
   "cell_type": "code",
   "execution_count": 64,
   "id": "f57dfa7a",
   "metadata": {},
   "outputs": [
    {
     "data": {
      "text/plain": [
       "16.34024937619284"
      ]
     },
     "execution_count": 64,
     "metadata": {},
     "output_type": "execute_result"
    }
   ],
   "source": [
    "random.uniform(a=0,b=100)"
   ]
  },
  {
   "cell_type": "code",
   "execution_count": 67,
   "id": "7ba9c840",
   "metadata": {},
   "outputs": [
    {
     "data": {
      "text/plain": [
       "-0.8133465366338695"
      ]
     },
     "execution_count": 67,
     "metadata": {},
     "output_type": "execute_result"
    }
   ],
   "source": [
    "# normal distribution \n",
    "\n",
    "random.gauss(mu=0, sigma=1)"
   ]
  }
 ],
 "metadata": {
  "kernelspec": {
   "display_name": "Python 3 (ipykernel)",
   "language": "python",
   "name": "python3"
  },
  "language_info": {
   "codemirror_mode": {
    "name": "ipython",
    "version": 3
   },
   "file_extension": ".py",
   "mimetype": "text/x-python",
   "name": "python",
   "nbconvert_exporter": "python",
   "pygments_lexer": "ipython3",
   "version": "3.9.12"
  }
 },
 "nbformat": 4,
 "nbformat_minor": 5
}
