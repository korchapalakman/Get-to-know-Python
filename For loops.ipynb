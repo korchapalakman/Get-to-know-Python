{
 "cells": [
  {
   "cell_type": "markdown",
   "id": "b812c7fb",
   "metadata": {},
   "source": [
    "## For LOOPS"
   ]
  },
  {
   "cell_type": "code",
   "execution_count": 4,
   "id": "ca3da274",
   "metadata": {},
   "outputs": [
    {
     "name": "stdout",
     "output_type": "stream",
     "text": [
      "1\n",
      "2\n",
      "3\n"
     ]
    }
   ],
   "source": [
    "my_iterable = [1, 2, 3]\n",
    "for item_name in my_iterable:\n",
    "#item_name is a placeholder for your iterable objects\n",
    "    print (item_name)"
   ]
  },
  {
   "cell_type": "code",
   "execution_count": 5,
   "id": "c6d0a59d",
   "metadata": {},
   "outputs": [],
   "source": [
    "#defined variable\n",
    "my_list = [1, 2, 3, 4, 5, 6, 7, 8, 9, 10]"
   ]
  },
  {
   "cell_type": "code",
   "execution_count": 6,
   "id": "7e3f0ba3",
   "metadata": {},
   "outputs": [
    {
     "name": "stdout",
     "output_type": "stream",
     "text": [
      "1\n",
      "2\n",
      "3\n",
      "4\n",
      "5\n",
      "6\n",
      "7\n",
      "8\n",
      "9\n",
      "10\n"
     ]
    }
   ],
   "source": [
    "#for loop\n",
    "#iter_num is a variable name you choose for placeholder\n",
    "for iter_num in my_list:\n",
    "    print (iter_num)"
   ]
  },
  {
   "cell_type": "code",
   "execution_count": 8,
   "id": "1ca1b5ff",
   "metadata": {},
   "outputs": [
    {
     "name": "stdout",
     "output_type": "stream",
     "text": [
      "Hello\n",
      "Hello\n",
      "Hello\n",
      "Hello\n",
      "Hello\n",
      "Hello\n",
      "Hello\n",
      "Hello\n",
      "Hello\n",
      "Hello\n"
     ]
    }
   ],
   "source": [
    "#hello would be placed in every cell of a list and printed\n",
    "for iter_num in my_list:\n",
    "    print (\"Hello\")"
   ]
  },
  {
   "cell_type": "markdown",
   "id": "1fd4b966",
   "metadata": {},
   "source": [
    "### Loops and control flow"
   ]
  },
  {
   "cell_type": "code",
   "execution_count": 9,
   "id": "417a4591",
   "metadata": {},
   "outputs": [
    {
     "name": "stdout",
     "output_type": "stream",
     "text": [
      "2\n",
      "4\n",
      "6\n",
      "8\n",
      "10\n"
     ]
    }
   ],
   "source": [
    "#print out only the even numbers in the list\n",
    "for num in my_list:\n",
    "    #Check for even\n",
    "    if num % 2 == 0:\n",
    "        print (num)"
   ]
  },
  {
   "cell_type": "code",
   "execution_count": 10,
   "id": "d778e340",
   "metadata": {},
   "outputs": [
    {
     "name": "stdout",
     "output_type": "stream",
     "text": [
      "1\n",
      "3\n",
      "5\n",
      "7\n",
      "9\n"
     ]
    }
   ],
   "source": [
    "#print out only the odd numbers in the list\n",
    "\n",
    "\n",
    "for num in my_list:\n",
    "    if num % 2 != 0:\n",
    "        print (num)"
   ]
  },
  {
   "cell_type": "code",
   "execution_count": 17,
   "id": "e1c43658",
   "metadata": {},
   "outputs": [
    {
     "name": "stdout",
     "output_type": "stream",
     "text": [
      "odd number: 1\n",
      "even number: 2\n",
      "odd number: 3\n",
      "even number: 4\n",
      "odd number: 5\n",
      "even number: 6\n",
      "lucky number ejje7\n",
      "even number: 8\n",
      "odd number: 9\n",
      "even number: 10\n"
     ]
    }
   ],
   "source": [
    "for num in my_list:\n",
    "    if num % 2 == 0:\n",
    "        print (\"even number: {}\".format(num))\n",
    "    elif num == 7:\n",
    "        print (f\"lucky number ejje{num}\")\n",
    "    else:\n",
    "        print (f\"odd number: {num}\")"
   ]
  },
  {
   "cell_type": "code",
   "execution_count": 19,
   "id": "cda72b19",
   "metadata": {},
   "outputs": [
    {
     "name": "stdout",
     "output_type": "stream",
     "text": [
      "1\n",
      "3\n",
      "6\n",
      "10\n",
      "15\n",
      "21\n",
      "28\n",
      "36\n",
      "45\n",
      "55\n",
      "55\n"
     ]
    }
   ],
   "source": [
    "list_sum = 0\n",
    "\n",
    "for num in my_list:\n",
    "    list_sum = list_sum + num\n",
    "    \n",
    "print (list_sum)"
   ]
  },
  {
   "cell_type": "code",
   "execution_count": 20,
   "id": "0932114e",
   "metadata": {},
   "outputs": [
    {
     "name": "stdout",
     "output_type": "stream",
     "text": [
      "1\n",
      "3\n",
      "6\n",
      "10\n",
      "15\n",
      "21\n",
      "28\n",
      "36\n",
      "45\n",
      "55\n"
     ]
    }
   ],
   "source": [
    "list_sum = 0\n",
    "\n",
    "for num in my_list:\n",
    "    list_sum = list_sum + num\n",
    "    print (list_sum)"
   ]
  },
  {
   "cell_type": "code",
   "execution_count": 21,
   "id": "449c47a6",
   "metadata": {},
   "outputs": [
    {
     "name": "stdout",
     "output_type": "stream",
     "text": [
      "H\n",
      "e\n",
      "l\n",
      "l\n",
      "o\n",
      " \n",
      "W\n",
      "o\n",
      "r\n",
      "l\n",
      "d\n"
     ]
    }
   ],
   "source": [
    "mystring = \"Hello World\"\n",
    "\n",
    "for letter in mystring:\n",
    "    print (letter)"
   ]
  },
  {
   "cell_type": "code",
   "execution_count": 23,
   "id": "3497613b",
   "metadata": {},
   "outputs": [
    {
     "name": "stdout",
     "output_type": "stream",
     "text": [
      "hello\n",
      "hello\n",
      "hello\n",
      "hello\n",
      "hello\n",
      "hello\n",
      "hello\n",
      "hello\n",
      "hello\n",
      "hello\n",
      "hello\n"
     ]
    }
   ],
   "source": [
    "#may miss the variable name \n",
    "#if you dont intend to use it \n",
    "\"\"\"\"for example you want to iterate 'hello'\n",
    "by the number of letters in 'hello world' or 11 characters \"\"\"\n",
    "\n",
    "for _ in \"hello world\":\n",
    "    print (\"hello\")\n"
   ]
  },
  {
   "cell_type": "code",
   "execution_count": 25,
   "id": "56e8f72b",
   "metadata": {},
   "outputs": [
    {
     "name": "stdout",
     "output_type": "stream",
     "text": [
      "2\n",
      "4\n",
      "6\n",
      "8\n"
     ]
    }
   ],
   "source": [
    "tup = (1, 2, 3, 4)\n",
    "\n",
    "for ite in tup:\n",
    "    multby2 = ite*2 \n",
    "    print (multby2)"
   ]
  },
  {
   "cell_type": "code",
   "execution_count": 26,
   "id": "75459ea9",
   "metadata": {},
   "outputs": [
    {
     "name": "stdout",
     "output_type": "stream",
     "text": [
      "1\n",
      "2\n",
      "3\n",
      "4\n"
     ]
    }
   ],
   "source": [
    "for item in tup:\n",
    "    print (item)"
   ]
  },
  {
   "cell_type": "markdown",
   "id": "e2457aeb",
   "metadata": {},
   "source": [
    "### Tuple unpacking "
   ]
  },
  {
   "cell_type": "code",
   "execution_count": 27,
   "id": "59f249e6",
   "metadata": {},
   "outputs": [],
   "source": [
    "#the list of paired tuples\n",
    "mylist = [(1,2), (3,4), (5,6), (7,8)]"
   ]
  },
  {
   "cell_type": "code",
   "execution_count": 29,
   "id": "040a1cd1",
   "metadata": {},
   "outputs": [
    {
     "data": {
      "text/plain": [
       "4"
      ]
     },
     "execution_count": 29,
     "metadata": {},
     "output_type": "execute_result"
    }
   ],
   "source": [
    "#4 pairs of tuples\n",
    "len (mylist)"
   ]
  },
  {
   "cell_type": "code",
   "execution_count": 32,
   "id": "a62c107d",
   "metadata": {},
   "outputs": [
    {
     "name": "stdout",
     "output_type": "stream",
     "text": [
      "(1, 2)\n",
      "(3, 4)\n",
      "(5, 6)\n",
      "(7, 8)\n"
     ]
    }
   ],
   "source": [
    "#to print out the items itself\n",
    "for item in mylist:\n",
    "    print (item)"
   ]
  },
  {
   "cell_type": "code",
   "execution_count": 31,
   "id": "8e492c6b",
   "metadata": {},
   "outputs": [
    {
     "name": "stdout",
     "output_type": "stream",
     "text": [
      "1\n",
      "2\n",
      "3\n",
      "4\n",
      "5\n",
      "6\n",
      "7\n",
      "8\n"
     ]
    }
   ],
   "source": [
    "#to print out the items itself\n",
    "for item in mylist:\n",
    "    for tuu in item:\n",
    "        print (tuu)"
   ]
  },
  {
   "cell_type": "code",
   "execution_count": 33,
   "id": "11d73098",
   "metadata": {},
   "outputs": [
    {
     "name": "stdout",
     "output_type": "stream",
     "text": [
      "1\n",
      "2\n",
      "3\n",
      "4\n",
      "5\n",
      "6\n",
      "7\n",
      "8\n"
     ]
    }
   ],
   "source": [
    "#or you may duplicate the structure of the tuple and use it\n",
    "\n",
    "for (a,b) in mylist:\n",
    "    print (a)\n",
    "    print (b)\n",
    "    "
   ]
  },
  {
   "cell_type": "code",
   "execution_count": 34,
   "id": "f32c664a",
   "metadata": {},
   "outputs": [
    {
     "name": "stdout",
     "output_type": "stream",
     "text": [
      "1\n",
      "3\n",
      "5\n",
      "7\n"
     ]
    }
   ],
   "source": [
    "for (a,b) in mylist:\n",
    "    print (a)"
   ]
  },
  {
   "cell_type": "code",
   "execution_count": 35,
   "id": "fda8ef06",
   "metadata": {},
   "outputs": [
    {
     "name": "stdout",
     "output_type": "stream",
     "text": [
      "2\n",
      "4\n",
      "6\n",
      "8\n"
     ]
    }
   ],
   "source": [
    "for (a,b) in mylist:\n",
    "    print (b)"
   ]
  },
  {
   "cell_type": "code",
   "execution_count": 36,
   "id": "e8adfa12",
   "metadata": {},
   "outputs": [],
   "source": [
    "anotherlist = [(1,2,3), (4,5,6), (7,8,9)]"
   ]
  },
  {
   "cell_type": "code",
   "execution_count": 37,
   "id": "4df503e2",
   "metadata": {},
   "outputs": [
    {
     "name": "stdout",
     "output_type": "stream",
     "text": [
      "3\n",
      "6\n",
      "9\n"
     ]
    }
   ],
   "source": [
    "for (a,b,c) in anotherlist:\n",
    "    print (c)"
   ]
  },
  {
   "cell_type": "code",
   "execution_count": 38,
   "id": "d4af0297",
   "metadata": {},
   "outputs": [
    {
     "name": "stdout",
     "output_type": "stream",
     "text": [
      "(1, 2, 3)\n",
      "(4, 5, 6)\n",
      "(7, 8, 9)\n"
     ]
    }
   ],
   "source": [
    "for item in anotherlist:\n",
    "    print (item)"
   ]
  },
  {
   "cell_type": "markdown",
   "id": "39afe1a7",
   "metadata": {},
   "source": [
    "### dictionary iteration"
   ]
  },
  {
   "cell_type": "code",
   "execution_count": 42,
   "id": "0447da1f",
   "metadata": {},
   "outputs": [
    {
     "name": "stdout",
     "output_type": "stream",
     "text": [
      "k1\n",
      "k2\n",
      "k3\n"
     ]
    }
   ],
   "source": [
    "#by defalt you will iterate through the keys\n",
    "\n",
    "d = {\"k1\":1, \"k2\":2, \"k3\":3}\n",
    "\n",
    "for item in d:\n",
    "    print (item)"
   ]
  },
  {
   "cell_type": "code",
   "execution_count": 49,
   "id": "2866d597",
   "metadata": {},
   "outputs": [
    {
     "name": "stdout",
     "output_type": "stream",
     "text": [
      "1\n",
      "2\n",
      "3\n"
     ]
    }
   ],
   "source": [
    "#if you need to get values \n",
    "\n",
    "for item in d.values():\n",
    "    print (item)"
   ]
  },
  {
   "cell_type": "code",
   "execution_count": 44,
   "id": "90a7ebc3",
   "metadata": {},
   "outputs": [
    {
     "name": "stdout",
     "output_type": "stream",
     "text": [
      "('k1', 1)\n",
      "('k2', 2)\n",
      "('k3', 3)\n"
     ]
    }
   ],
   "source": [
    "#if you need to iterate through items \n",
    "\n",
    "for item in d.items():\n",
    "    print (item)\n"
   ]
  },
  {
   "cell_type": "code",
   "execution_count": 45,
   "id": "376b3fc6",
   "metadata": {},
   "outputs": [
    {
     "name": "stdout",
     "output_type": "stream",
     "text": [
      "1\n",
      "2\n",
      "3\n"
     ]
    }
   ],
   "source": [
    "#as you see above we get tooples and may use toople  unpack method\n",
    "\n",
    "for key, item in d.items():\n",
    "    print (item)"
   ]
  },
  {
   "cell_type": "code",
   "execution_count": 46,
   "id": "27a2699a",
   "metadata": {},
   "outputs": [
    {
     "name": "stdout",
     "output_type": "stream",
     "text": [
      "1\n",
      "2\n",
      "3\n"
     ]
    }
   ],
   "source": [
    "for a,b in d.items():\n",
    "    print (b)"
   ]
  },
  {
   "cell_type": "code",
   "execution_count": 47,
   "id": "f6f1de52",
   "metadata": {},
   "outputs": [
    {
     "name": "stdout",
     "output_type": "stream",
     "text": [
      "k1\n",
      "k2\n",
      "k3\n"
     ]
    }
   ],
   "source": [
    "for (keys, items) in d.items():\n",
    "    print (keys)"
   ]
  },
  {
   "cell_type": "code",
   "execution_count": null,
   "id": "ca94c462",
   "metadata": {},
   "outputs": [],
   "source": [
    "#keep in maind that dictionaris are unordered \n",
    "\n",
    "\n"
   ]
  }
 ],
 "metadata": {
  "kernelspec": {
   "display_name": "Python 3 (ipykernel)",
   "language": "python",
   "name": "python3"
  },
  "language_info": {
   "codemirror_mode": {
    "name": "ipython",
    "version": 3
   },
   "file_extension": ".py",
   "mimetype": "text/x-python",
   "name": "python",
   "nbconvert_exporter": "python",
   "pygments_lexer": "ipython3",
   "version": "3.9.12"
  }
 },
 "nbformat": 4,
 "nbformat_minor": 5
}
